{
 "cells": [
  {
   "cell_type": "markdown",
   "id": "4642cced-b4b1-4318-8659-1ef65cf8e67a",
   "metadata": {},
   "source": [
    "## Import Relevant Files"
   ]
  },
  {
   "cell_type": "code",
   "execution_count": null,
   "id": "2d193f0f-6e7b-4cf5-bb44-72630cb856e3",
   "metadata": {},
   "outputs": [],
   "source": [
    "import torch\n",
    "import torch.nn as nn\n",
    "import torch.optim as optim\n",
    "from torcheval.metrics import R2Score\n",
    "\n",
    "from sklearn.model_selection import train_test_split\n",
    "from sklearn.metrics import mean_squared_error\n",
    "from sklearn.preprocessing import StandardScaler, MinMaxScaler\n",
    "import joblib\n",
    "\n",
    "import matplotlib.pyplot as plt\n",
    "import pandas as pd\n",
    "import numpy as np\n",
    "\n",
    "import math\n",
    "\n",
    "import json\n",
    "\n",
    "import sys\n",
    "sys.path.insert(1, '../utils')\n",
    "from paths import *\n",
    "\n",
    "sys.path.insert(1, '../models')\n",
    "from feedforward_nn_combined import NeuralNetworkCombined\n",
    "from pprint import pprint\n",
    "\n",
    "import chromadb"
   ]
  },
  {
   "cell_type": "markdown",
   "id": "d9d898de-a1b8-4496-ab43-52f0a7194b22",
   "metadata": {},
   "source": [
    "## Load Music Metadata"
   ]
  },
  {
   "cell_type": "code",
   "execution_count": null,
   "id": "a11bde7b-034e-4e87-bc14-c1ee26f61921",
   "metadata": {},
   "outputs": [],
   "source": [
    "# Skipped DEAM 2014 because metadata.csv is corrupted\n",
    "\n",
    "df_music_deam_2013 = pd.read_csv('../../data/DEAM/metadata/metadata_2013.csv')\n",
    "\n",
    "df_music_pmemo = pd.read_csv('../../data/PMEmo/PMEmo2019/metadata.csv')"
   ]
  },
  {
   "cell_type": "code",
   "execution_count": null,
   "id": "af87df5c",
   "metadata": {},
   "outputs": [],
   "source": [
    "def strip_values(value):\n",
    "    value = value.strip()\n",
    "    return value"
   ]
  },
  {
   "cell_type": "code",
   "execution_count": null,
   "metadata": {},
   "outputs": [],
   "source": [
    "df_music_deam_2013_copy = df_music_deam_2013.copy()\n",
    "df_music_deam_2013_copy['file_path'] = df_music_deam_2013_copy['song_id'].apply(lambda x: f'../../data/DEAM/MEMD_audio/{x}.mp3')\n",
    "df_music_deam_2013_copy['song_id'] = df_music_deam_2013_copy['song_id'].apply(lambda x: f'deam_{x}')\n",
    "df_music_deam_2013_copy = df_music_deam_2013_copy.drop(columns=[\"start of the segment (min.sec)\", \"end of the segment (min.sec)\", \"file_name\", \"Genre\"])\n",
    "\n",
    "df_music_deam_2013_copy.rename(columns={\"Artist\": \"artist\", \"Song title\": \"title\"}, inplace=True)\n",
    "\n",
    "cols = df_music_deam_2013_copy.columns.tolist()\n",
    "\n",
    "for col in cols:\n",
    "    df_music_deam_2013_copy[col] = df_music_deam_2013_copy[col].map(strip_values)\n",
    "\n",
    "display(df_music_deam_2013_copy)"
   ]
  },
  {
   "cell_type": "code",
   "execution_count": null,
   "metadata": {},
   "outputs": [],
   "source": [
    "df_pmemo_annotations = pd.read_csv('../../data/PMEmo/PMEmo2019/processed/annotations/pmemo_static_annotations.csv')\n",
    "pmemo_song_ids = df_pmemo_annotations['song_id'].tolist()\n",
    "print(pmemo_song_ids)"
   ]
  },
  {
   "cell_type": "code",
   "execution_count": null,
   "metadata": {},
   "outputs": [],
   "source": [
    "df_music_pmemo_copy = df_music_pmemo.copy()\n",
    "df_music_pmemo_copy = df_music_pmemo_copy[df_music_pmemo_copy['musicId'].isin(pmemo_song_ids)]\n",
    "df_music_pmemo_copy['file_path'] = df_music_pmemo_copy['musicId'].apply(lambda x: f'../../data/PMEmo/PMEmo2019/chorus/{x}.mp3')\n",
    "df_music_pmemo_copy['song_id'] = df_music_pmemo['musicId'].apply(lambda x: f'pmemo_{x}')\n",
    "df_music_pmemo_copy = df_music_pmemo_copy.drop(columns=[\"musicId\", \"fileName\", \"album\", \"duration\", \"chorus_start_time\", \"chorus_end_time\"])\n",
    "\n",
    "df_music_pmemo_copy = df_music_pmemo_copy[cols]\n",
    "display(df_music_pmemo_copy)"
   ]
  },
  {
   "cell_type": "code",
   "execution_count": null,
   "id": "41bb684b",
   "metadata": {},
   "outputs": [],
   "source": [
    "df_music = pd.concat([df_music_deam_2013_copy, df_music_pmemo_copy], axis=0)\n",
    "\n",
    "display(df_music)"
   ]
  },
  {
   "cell_type": "markdown",
   "id": "65997c03-bcf7-4868-b1e2-ad3ca7866640",
   "metadata": {},
   "source": [
    "## Load Opensmile Features"
   ]
  },
  {
   "cell_type": "code",
   "execution_count": null,
   "id": "a9e97ec5-6247-4eee-bed5-251b4b900e4f",
   "metadata": {},
   "outputs": [],
   "source": [
    "df_features = pd.read_csv(\"../../data/combined/features/scaled/normalised_opensmile_gemaps_features.csv\")\n",
    "display(df_features)"
   ]
  },
  {
   "cell_type": "code",
   "execution_count": null,
   "id": "66581124",
   "metadata": {},
   "outputs": [],
   "source": [
    "df_combined = df_music.merge(df_features, how=\"inner\", on=\"song_id\")\n",
    "display(df_combined)"
   ]
  },
  {
   "cell_type": "code",
   "execution_count": null,
   "id": "9c718e93",
   "metadata": {},
   "outputs": [],
   "source": [
    "with open(\"../models/opensmile_gemaps_normalised/config.json\") as file:\n",
    "    config = json.load(file)"
   ]
  },
  {
   "cell_type": "code",
   "execution_count": null,
   "metadata": {},
   "outputs": [],
   "source": [
    "pprint(config)"
   ]
  },
  {
   "cell_type": "code",
   "execution_count": null,
   "id": "4f7ed1f7",
   "metadata": {},
   "outputs": [],
   "source": [
    "feature_cols = config[\"columns\"]\n",
    "\n",
    "pprint(feature_cols)"
   ]
  },
  {
   "cell_type": "code",
   "execution_count": null,
   "id": "e9884239",
   "metadata": {},
   "outputs": [],
   "source": [
    "scaler_fpath = config[\"scaler\"]\n",
    "# print(scaler_fpath)\n",
    "scaler_fpath = scaler_fpath.replace(\".\", \"../..\", 1)\n",
    "scaler = joblib.load(scaler_fpath) #MinMaxScaler"
   ]
  },
  {
   "cell_type": "code",
   "execution_count": null,
   "id": "7a0271b9-2c55-483a-89cc-8a94d2e44558",
   "metadata": {},
   "outputs": [],
   "source": [
    "input_size = len(config[\"columns\"])\n",
    "print(input_size)\n",
    "weights_fpath = config[\"model_weights\"]\n",
    "weights_fpath = weights_fpath.replace(\".\", \"../..\", 1)\n",
    "\n",
    "model = NeuralNetworkCombined(input_size)\n",
    "model.load_state_dict(torch.load(weights_fpath))"
   ]
  },
  {
   "cell_type": "code",
   "execution_count": null,
   "id": "ee51aed8",
   "metadata": {},
   "outputs": [],
   "source": [
    "preds = model(inputs)\n",
    "print(preds)"
   ]
  },
  {
   "cell_type": "code",
   "execution_count": null,
   "id": "a2dce57d",
   "metadata": {},
   "outputs": [],
   "source": [
    "preds = torch.clamp(preds, min=-1, max=1)"
   ]
  },
  {
   "cell_type": "code",
   "execution_count": null,
   "id": "86479e5c-5ee0-478a-ab93-6354a678ba18",
   "metadata": {},
   "outputs": [],
   "source": [
    "# Pretend to keep only VA values - Used dummy variables instead\n",
    "df_combined[\"valence_pred\"] = preds[:, 0].detach().numpy()\n",
    "df_combined[\"arousal_pred\"] = preds[:, 1].detach().numpy()\n",
    "display(df_combined)"
   ]
  },
  {
   "cell_type": "code",
   "execution_count": null,
   "id": "63e3a42e",
   "metadata": {},
   "outputs": [],
   "source": [
    "plt.scatter(df_combined[\"valence_pred\"], df_combined[\"arousal_pred\"], c=\"green\")\n",
    "plt.grid(True)\n",
    "plt.show()"
   ]
  },
  {
   "cell_type": "code",
   "execution_count": null,
   "id": "cc7d16d7-072c-49a2-a019-f359776fb801",
   "metadata": {},
   "outputs": [],
   "source": [
    "metadata = df_combined.columns.tolist()[1:4]\n",
    "# print(metadata)\n",
    "metadata_dicts = df_combined[metadata].to_dict('records')\n",
    "# print(metadata_dicts)"
   ]
  },
  {
   "cell_type": "code",
   "execution_count": null,
   "id": "64e153b9-7c35-42ab-b865-22cd99c1e11e",
   "metadata": {},
   "outputs": [],
   "source": [
    "song_ids = df_combined[\"song_id\"].values.tolist()\n",
    "print(song_ids)"
   ]
  },
  {
   "cell_type": "markdown",
   "id": "b2b10cf3-02cf-414f-94da-fc231e3d6f7c",
   "metadata": {},
   "source": [
    "## Chroma Vector Database"
   ]
  },
  {
   "cell_type": "code",
   "execution_count": null,
   "id": "e5f4b27c-1bcc-4e39-adf7-1162e9841c58",
   "metadata": {},
   "outputs": [],
   "source": [
    "client = chromadb.Client()\n",
    "\n",
    "## Persistent store\n",
    "# client = chromadb.PersistentClient(path=\"./db/\")\n",
    "\n",
    "client.heartbeat()\n"
   ]
  },
  {
   "cell_type": "code",
   "execution_count": null,
   "id": "94fcbce6-f5ed-427d-badf-cf790254f619",
   "metadata": {},
   "outputs": [],
   "source": [
    "# https://docs.trychroma.com/usage-guide#changing-the-distance-function\n",
    "collection = client.create_collection(\n",
    "        name=\"SiTunes_dataset\",\n",
    "        metadata={\"hnsw:space\": \"l2\"} # \"l2\", \"ip\" or \"cosine\"\n",
    "    )"
   ]
  },
  {
   "cell_type": "code",
   "execution_count": null,
   "id": "1bfd953f",
   "metadata": {},
   "outputs": [],
   "source": [
    "# Set number of results to return\n",
    "k = 3"
   ]
  },
  {
   "cell_type": "code",
   "execution_count": null,
   "id": "c0ea67d1-9fee-485a-904f-b7401ff41363",
   "metadata": {},
   "outputs": [],
   "source": [
    "collection.query(\n",
    "    query_embeddings=[[1, 1]], # search by embeddings\n",
    "    n_results=k, # number of results\n",
    "    # where={\"metadata_field\": \"is_equal_to_this\"}, # filter on metadata, e.g. genre\n",
    "    # where_document={\"$contains\":\"search_string\"} # filter on file path???\n",
    "    # include=[\"distances\", \"metadatas\", \"embeddings\", \"documents\", \"uris\", \"data\"] # Need to include all relevant parameters to show\n",
    "    include=[\"distances\", \"metadatas\", \"embeddings\"]\n",
    ")"
   ]
  },
  {
   "cell_type": "code",
   "execution_count": null,
   "id": "8060e612-4fe4-45a9-804f-d5e82ad30705",
   "metadata": {},
   "outputs": [],
   "source": [
    "collection.query(\n",
    "    query_embeddings=[[-1, -1]], # search by embeddings\n",
    "    n_results=k, # number of results\n",
    "    include=[\"distances\", \"metadatas\", \"embeddings\"]\n",
    ")"
   ]
  },
  {
   "cell_type": "code",
   "execution_count": null,
   "id": "fd6408bc",
   "metadata": {},
   "outputs": [],
   "source": [
    "collection.query(\n",
    "    query_embeddings=[[-1, 1]], # search by embeddings\n",
    "    n_results=k, # number of results\n",
    "    include=[\"distances\", \"metadatas\", \"embeddings\"]\n",
    ")"
   ]
  },
  {
   "cell_type": "code",
   "execution_count": null,
   "id": "0ac3c677",
   "metadata": {},
   "outputs": [],
   "source": [
    "collection.query(\n",
    "    query_embeddings=[[0, 0]], # search by embeddings\n",
    "    n_results=k, # number of results\n",
    "    include=[\"distances\", \"metadatas\", \"embeddings\"]\n",
    ")"
   ]
  }
 ],
 "metadata": {
  "kernelspec": {
   "display_name": "Python 3 (ipykernel)",
   "language": "python",
   "name": "python3"
  },
  "language_info": {
   "codemirror_mode": {
    "name": "ipython",
    "version": 3
   },
   "file_extension": ".py",
   "mimetype": "text/x-python",
   "name": "python",
   "nbconvert_exporter": "python",
   "pygments_lexer": "ipython3",
   "version": "3.11.4"
  }
 },
 "nbformat": 4,
 "nbformat_minor": 5
}
