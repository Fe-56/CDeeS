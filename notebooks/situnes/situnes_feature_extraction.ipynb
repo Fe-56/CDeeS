{
 "cells": [
  {
   "cell_type": "markdown",
   "metadata": {},
   "source": [
    "# SiTunes Dataset - Feature Extraction"
   ]
  },
  {
   "cell_type": "markdown",
   "metadata": {},
   "source": [
    "# Done on local computer"
   ]
  },
  {
   "cell_type": "markdown",
   "metadata": {},
   "source": [
    "## openSMILE"
   ]
  },
  {
   "cell_type": "markdown",
   "metadata": {},
   "source": [
    "Import relevant libraries"
   ]
  },
  {
   "cell_type": "code",
   "execution_count": 2,
   "metadata": {},
   "outputs": [],
   "source": [
    "import pandas as pd"
   ]
  },
  {
   "cell_type": "code",
   "execution_count": 11,
   "metadata": {},
   "outputs": [],
   "source": [
    "import os\n",
    "from joblib import Parallel, delayed"
   ]
  },
  {
   "cell_type": "markdown",
   "metadata": {},
   "source": [
    "### ComParE 2016 feature set"
   ]
  },
  {
   "cell_type": "code",
   "execution_count": 3,
   "metadata": {},
   "outputs": [],
   "source": [
    "import opensmile\n",
    "smile = opensmile.Smile(\n",
    "    feature_set=opensmile.FeatureSet.ComParE_2016,\n",
    "    feature_level=opensmile.FeatureLevel.Functionals,\n",
    ")"
   ]
  },
  {
   "cell_type": "markdown",
   "metadata": {},
   "source": [
    "Prepare to extract features from all audio files"
   ]
  },
  {
   "cell_type": "code",
   "execution_count": 4,
   "metadata": {},
   "outputs": [],
   "source": [
    "audio_path = '../../data/SiTunes/songs'\n",
    "song_ids = []\n",
    "\n",
    "# Iterate through all files in the directory\n",
    "for filename in os.listdir(audio_path):\n",
    "    # Check if the path is a file (not a subdirectory)\n",
    "    if os.path.isfile(os.path.join(audio_path, filename)):\n",
    "        song_ids.append(int(filename[:-4]))\n",
    "\n",
    "song_ids.sort()\n",
    "\n",
    "# Define a function to extract features for a single song ID\n",
    "def extract_features(song_id):\n",
    "    print(f'Extracting features from song_id: {song_id}')\n",
    "    df_opensmile_temp = smile.process_file(f'{audio_path}/{song_id}.wav')\n",
    "    return df_opensmile_temp"
   ]
  },
  {
   "cell_type": "markdown",
   "metadata": {},
   "source": [
    "Extract openSMILE features using the ComParE_2016 feature set"
   ]
  },
  {
   "cell_type": "code",
   "execution_count": null,
   "metadata": {},
   "outputs": [],
   "source": [
    "# # Parallelize the feature extraction process for all song IDs\n",
    "# # dfs = Parallel(n_jobs=-1)(delayed(extract_features)(song_id) for song_id in song_ids)\n",
    "# dfs = Parallel(n_jobs=-1)(delayed(extract_features)(song_id) for song_id in song_ids)\n",
    "\n",
    "# # Concatenate the extracted DataFrames\n",
    "# df_opensmile_compare_2016 = pd.concat(dfs)\n",
    "# df_opensmile_compare_2016\n",
    "\n",
    "# # Add the 'song_id' column\n",
    "# df_opensmile_compare_2016.insert(0, column='song_id', value=song_ids)\n",
    "# df_opensmile_compare_2016.reset_index(drop=True, inplace=True)\n",
    "\n",
    "# # Display the resulting DataFrame\n",
    "# df_opensmile_compare_2016"
   ]
  },
  {
   "cell_type": "markdown",
   "metadata": {},
   "source": [
    "Save the openSmile-extracted features to .csv for ComParE 2016 feature set"
   ]
  },
  {
   "cell_type": "code",
   "execution_count": null,
   "metadata": {},
   "outputs": [],
   "source": [
    "# df_opensmile_compare_2016.to_csv('../../data/SiTunes/processed/features/opensmile_compare2016_features.csv')"
   ]
  },
  {
   "cell_type": "markdown",
   "metadata": {},
   "source": [
    "### emobase feature set"
   ]
  },
  {
   "cell_type": "code",
   "execution_count": 5,
   "metadata": {},
   "outputs": [],
   "source": [
    "smile = opensmile.Smile(\n",
    "    feature_set=opensmile.FeatureSet.emobase,\n",
    "    feature_level=opensmile.FeatureLevel.Functionals,\n",
    ")"
   ]
  },
  {
   "cell_type": "code",
   "execution_count": 6,
   "metadata": {},
   "outputs": [
    {
     "name": "stdout",
     "output_type": "stream",
     "text": [
      "Extracting features from song_id: 6\n",
      "Extracting features from song_id: 8\n",
      "Extracting features from song_id: 9\n",
      "Extracting features from song_id: 5\n",
      "Extracting features from song_id: 13\n",
      "Extracting features from song_id: 14\n",
      "Extracting features from song_id: 17\n",
      "Extracting features from song_id: 19\n",
      "Extracting features from song_id: 20\n",
      "Extracting features from song_id: 22\n",
      "Extracting features from song_id: 23\n",
      "Extracting features from song_id: 24\n",
      "Extracting features from song_id: 26\n",
      "Extracting features from song_id: 28\n",
      "Extracting features from song_id: 37\n",
      "Extracting features from song_id: 43\n",
      "Extracting features from song_id: 46\n",
      "Extracting features from song_id: 47\n",
      "Extracting features from song_id: 52\n",
      "Extracting features from song_id: 57\n",
      "Extracting features from song_id: 58\n",
      "Extracting features from song_id: 62\n",
      "Extracting features from song_id: 67\n",
      "Extracting features from song_id: 70\n",
      "Extracting features from song_id: 74\n",
      "Extracting features from song_id: 76\n",
      "Extracting features from song_id: 81\n",
      "Extracting features from song_id: 85\n",
      "Extracting features from song_id: 87\n",
      "Extracting features from song_id: 89\n",
      "Extracting features from song_id: 90\n",
      "Extracting features from song_id: 97\n",
      "Extracting features from song_id: 99\n",
      "Extracting features from song_id: 100\n",
      "Extracting features from song_id: 104\n",
      "Extracting features from song_id: 108\n",
      "Extracting features from song_id: 109\n",
      "Extracting features from song_id: 111\n",
      "Extracting features from song_id: 114\n",
      "Extracting features from song_id: 117\n",
      "Extracting features from song_id: 120\n",
      "Extracting features from song_id: 126\n",
      "Extracting features from song_id: 132\n",
      "Extracting features from song_id: 136\n",
      "Extracting features from song_id: 142\n",
      "Extracting features from song_id: 144\n",
      "Extracting features from song_id: 148\n",
      "Extracting features from song_id: 149\n",
      "Extracting features from song_id: 153\n",
      "Extracting features from song_id: 156\n",
      "Extracting features from song_id: 158\n",
      "Extracting features from song_id: 168\n",
      "Extracting features from song_id: 169\n",
      "Extracting features from song_id: 170\n",
      "Extracting features from song_id: 171\n",
      "Extracting features from song_id: 172\n",
      "Extracting features from song_id: 174\n",
      "Extracting features from song_id: 175\n",
      "Extracting features from song_id: 182\n",
      "Extracting features from song_id: 192\n",
      "Extracting features from song_id: 195\n",
      "Extracting features from song_id: 202\n",
      "Extracting features from song_id: 204\n",
      "Extracting features from song_id: 205\n",
      "Extracting features from song_id: 206\n",
      "Extracting features from song_id: 207\n",
      "Extracting features from song_id: 208\n",
      "Extracting features from song_id: 209\n",
      "Extracting features from song_id: 216\n",
      "Extracting features from song_id: 222\n",
      "Extracting features from song_id: 223\n",
      "Extracting features from song_id: 228\n",
      "Extracting features from song_id: 233\n",
      "Extracting features from song_id: 239\n",
      "Extracting features from song_id: 243\n",
      "Extracting features from song_id: 245\n",
      "Extracting features from song_id: 257\n",
      "Extracting features from song_id: 258\n",
      "Extracting features from song_id: 264\n",
      "Extracting features from song_id: 266\n",
      "Extracting features from song_id: 268\n",
      "Extracting features from song_id: 269\n",
      "Extracting features from song_id: 273\n",
      "Extracting features from song_id: 275\n",
      "Extracting features from song_id: 276\n",
      "Extracting features from song_id: 279\n"
     ]
    },
    {
     "name": "stderr",
     "output_type": "stream",
     "text": [
      "/Library/Frameworks/Python.framework/Versions/3.11/lib/python3.11/site-packages/joblib/externals/loky/process_executor.py:752: UserWarning: A worker stopped while some jobs were given to the executor. This can be caused by a too short worker timeout or by a memory leak.\n",
      "  warnings.warn(\n"
     ]
    },
    {
     "name": "stdout",
     "output_type": "stream",
     "text": [
      "Extracting features from song_id: 283\n",
      "Extracting features from song_id: 282\n",
      "Extracting features from song_id: 285\n",
      "Extracting features from song_id: 289\n",
      "Extracting features from song_id: 297\n",
      "Extracting features from song_id: 300\n",
      "Extracting features from song_id: 303\n",
      "Extracting features from song_id: 309\n",
      "Extracting features from song_id: 312\n",
      "Extracting features from song_id: 315\n",
      "Extracting features from song_id: 319\n",
      "Extracting features from song_id: 320\n",
      "Extracting features from song_id: 325\n",
      "Extracting features from song_id: 327\n",
      "Extracting features from song_id: 329\n",
      "Extracting features from song_id: 332\n",
      "Extracting features from song_id: 333\n",
      "Extracting features from song_id: 341\n",
      "Extracting features from song_id: 342\n",
      "Extracting features from song_id: 344\n",
      "Extracting features from song_id: 349\n",
      "Extracting features from song_id: 356\n",
      "Extracting features from song_id: 360\n",
      "Extracting features from song_id: 361\n",
      "Extracting features from song_id: 363\n",
      "Extracting features from song_id: 364\n",
      "Extracting features from song_id: 367\n",
      "Extracting features from song_id: 372\n",
      "Extracting features from song_id: 373\n",
      "Extracting features from song_id: 375\n",
      "Extracting features from song_id: 384\n",
      "Extracting features from song_id: 388\n",
      "Extracting features from song_id: 390\n",
      "Extracting features from song_id: 395\n",
      "Extracting features from song_id: 397\n",
      "Extracting features from song_id: 409\n",
      "Extracting features from song_id: 411\n",
      "Extracting features from song_id: 414\n",
      "Extracting features from song_id: 418\n",
      "Extracting features from song_id: 422\n",
      "Extracting features from song_id: 427\n",
      "Extracting features from song_id: 428\n",
      "Extracting features from song_id: 429\n",
      "Extracting features from song_id: 434\n",
      "Extracting features from song_id: 439\n",
      "Extracting features from song_id: 440\n",
      "Extracting features from song_id: 442\n",
      "Extracting features from song_id: 451\n",
      "Extracting features from song_id: 461\n",
      "Extracting features from song_id: 465\n",
      "Extracting features from song_id: 468\n",
      "Extracting features from song_id: 469\n",
      "Extracting features from song_id: 471\n",
      "Extracting features from song_id: 480\n",
      "Extracting features from song_id: 490\n",
      "Extracting features from song_id: 491\n",
      "Extracting features from song_id: 493\n",
      "Extracting features from song_id: 499\n",
      "Extracting features from song_id: 504\n",
      "Extracting features from song_id: 506\n",
      "Extracting features from song_id: 507\n",
      "Extracting features from song_id: 508\n",
      "Extracting features from song_id: 510\n",
      "Extracting features from song_id: 514\n",
      "Extracting features from song_id: 516\n",
      "Extracting features from song_id: 517\n",
      "Extracting features from song_id: 518\n",
      "Extracting features from song_id: 520\n",
      "Extracting features from song_id: 523\n",
      "Extracting features from song_id: 524\n",
      "Extracting features from song_id: 529\n",
      "Extracting features from song_id: 532\n",
      "Extracting features from song_id: 541\n",
      "Extracting features from song_id: 544\n",
      "Extracting features from song_id: 548\n",
      "Extracting features from song_id: 550\n",
      "Extracting features from song_id: 555\n",
      "Extracting features from song_id: 558\n",
      "Extracting features from song_id: 562\n",
      "Extracting features from song_id: 565\n",
      "Extracting features from song_id: 571\n",
      "Extracting features from song_id: 576\n",
      "Extracting features from song_id: 578\n",
      "Extracting features from song_id: 588\n",
      "Extracting features from song_id: 591\n",
      "Extracting features from song_id: 594\n",
      "Extracting features from song_id: 597\n",
      "Extracting features from song_id: 598\n",
      "Extracting features from song_id: 600\n",
      "Extracting features from song_id: 602\n",
      "Extracting features from song_id: 603\n",
      "Extracting features from song_id: 604\n",
      "Extracting features from song_id: 609\n",
      "Extracting features from song_id: 613\n",
      "Extracting features from song_id: 619\n",
      "Extracting features from song_id: 621\n",
      "Extracting features from song_id: 627\n",
      "Extracting features from song_id: 629\n",
      "Extracting features from song_id: 634\n",
      "Extracting features from song_id: 635\n",
      "Extracting features from song_id: 638\n",
      "Extracting features from song_id: 639\n",
      "Extracting features from song_id: 649\n",
      "Extracting features from song_id: 652\n",
      "Extracting features from song_id: 659\n",
      "Extracting features from song_id: 667\n",
      "Extracting features from song_id: 672\n",
      "Extracting features from song_id: 673\n",
      "Extracting features from song_id: 676\n",
      "Extracting features from song_id: 677\n",
      "Extracting features from song_id: 680\n",
      "Extracting features from song_id: 689\n",
      "Extracting features from song_id: 697\n",
      "Extracting features from song_id: 699\n",
      "Extracting features from song_id: 706\n",
      "Extracting features from song_id: 707\n",
      "Extracting features from song_id: 709\n",
      "Extracting features from song_id: 712\n",
      "Extracting features from song_id: 716\n",
      "Extracting features from song_id: 717\n",
      "Extracting features from song_id: 719\n",
      "Extracting features from song_id: 720\n",
      "Extracting features from song_id: 723\n",
      "Extracting features from song_id: 726\n",
      "Extracting features from song_id: 727\n",
      "Extracting features from song_id: 731\n",
      "Extracting features from song_id: 736\n",
      "Extracting features from song_id: 739\n",
      "Extracting features from song_id: 741\n",
      "Extracting features from song_id: 742\n",
      "Extracting features from song_id: 743\n",
      "Extracting features from song_id: 744\n",
      "Extracting features from song_id: 752\n",
      "Extracting features from song_id: 754\n",
      "Extracting features from song_id: 757\n",
      "Extracting features from song_id: 759\n",
      "Extracting features from song_id: 761\n",
      "Extracting features from song_id: 768\n",
      "Extracting features from song_id: 776\n",
      "Extracting features from song_id: 780\n",
      "Extracting features from song_id: 784\n",
      "Extracting features from song_id: 786\n",
      "Extracting features from song_id: 789\n",
      "Extracting features from song_id: 790\n",
      "Extracting features from song_id: 791\n",
      "Extracting features from song_id: 793\n",
      "Extracting features from song_id: 795\n",
      "Extracting features from song_id: 796\n",
      "Extracting features from song_id: 807\n",
      "Extracting features from song_id: 812\n",
      "Extracting features from song_id: 814\n",
      "Extracting features from song_id: 816\n",
      "Extracting features from song_id: 818\n",
      "Extracting features from song_id: 820\n",
      "Extracting features from song_id: 822\n",
      "Extracting features from song_id: 826\n",
      "Extracting features from song_id: 835\n",
      "Extracting features from song_id: 839\n",
      "Extracting features from song_id: 843\n",
      "Extracting features from song_id: 848\n",
      "Extracting features from song_id: 862\n",
      "Extracting features from song_id: 863\n",
      "Extracting features from song_id: 868\n",
      "Extracting features from song_id: 872\n",
      "Extracting features from song_id: 873\n",
      "Extracting features from song_id: 874\n",
      "Extracting features from song_id: 875\n",
      "Extracting features from song_id: 876\n",
      "Extracting features from song_id: 878\n",
      "Extracting features from song_id: 883\n",
      "Extracting features from song_id: 886\n",
      "Extracting features from song_id: 897\n",
      "Extracting features from song_id: 898\n",
      "Extracting features from song_id: 900\n",
      "Extracting features from song_id: 905\n",
      "Extracting features from song_id: 908\n",
      "Extracting features from song_id: 910\n",
      "Extracting features from song_id: 911\n",
      "Extracting features from song_id: 912\n",
      "Extracting features from song_id: 914\n",
      "Extracting features from song_id: 915\n",
      "Extracting features from song_id: 916\n",
      "Extracting features from song_id: 917\n",
      "Extracting features from song_id: 920\n",
      "Extracting features from song_id: 923\n",
      "Extracting features from song_id: 924\n",
      "Extracting features from song_id: 925\n",
      "Extracting features from song_id: 934\n",
      "Extracting features from song_id: 936\n",
      "Extracting features from song_id: 937\n",
      "Extracting features from song_id: 941\n",
      "Extracting features from song_id: 945\n",
      "Extracting features from song_id: 946\n",
      "Extracting features from song_id: 947\n",
      "Extracting features from song_id: 951\n",
      "Extracting features from song_id: 954\n",
      "Extracting features from song_id: 955\n",
      "Extracting features from song_id: 956\n",
      "Extracting features from song_id: 957\n",
      "Extracting features from song_id: 962\n",
      "Extracting features from song_id: 965\n",
      "Extracting features from song_id: 972\n",
      "Extracting features from song_id: 974\n",
      "Extracting features from song_id: 975\n",
      "Extracting features from song_id: 977\n",
      "Extracting features from song_id: 984\n",
      "Extracting features from song_id: 987\n",
      "Extracting features from song_id: 994\n",
      "Extracting features from song_id: 995\n",
      "Extracting features from song_id: 996\n"
     ]
    },
    {
     "data": {
      "text/html": [
       "<div>\n",
       "<style scoped>\n",
       "    .dataframe tbody tr th:only-of-type {\n",
       "        vertical-align: middle;\n",
       "    }\n",
       "\n",
       "    .dataframe tbody tr th {\n",
       "        vertical-align: top;\n",
       "    }\n",
       "\n",
       "    .dataframe thead th {\n",
       "        text-align: right;\n",
       "    }\n",
       "</style>\n",
       "<table border=\"1\" class=\"dataframe\">\n",
       "  <thead>\n",
       "    <tr style=\"text-align: right;\">\n",
       "      <th></th>\n",
       "      <th>song_id</th>\n",
       "      <th>pcm_intensity_sma_max</th>\n",
       "      <th>pcm_intensity_sma_min</th>\n",
       "      <th>pcm_intensity_sma_range</th>\n",
       "      <th>pcm_intensity_sma_maxPos</th>\n",
       "      <th>pcm_intensity_sma_minPos</th>\n",
       "      <th>pcm_intensity_sma_amean</th>\n",
       "      <th>pcm_intensity_sma_linregc1</th>\n",
       "      <th>pcm_intensity_sma_linregc2</th>\n",
       "      <th>pcm_intensity_sma_linregerrA</th>\n",
       "      <th>...</th>\n",
       "      <th>F0env_sma_de_linregerrQ</th>\n",
       "      <th>F0env_sma_de_stddev</th>\n",
       "      <th>F0env_sma_de_skewness</th>\n",
       "      <th>F0env_sma_de_kurtosis</th>\n",
       "      <th>F0env_sma_de_quartile1</th>\n",
       "      <th>F0env_sma_de_quartile2</th>\n",
       "      <th>F0env_sma_de_quartile3</th>\n",
       "      <th>F0env_sma_de_iqr1-2</th>\n",
       "      <th>F0env_sma_de_iqr2-3</th>\n",
       "      <th>F0env_sma_de_iqr1-3</th>\n",
       "    </tr>\n",
       "  </thead>\n",
       "  <tbody>\n",
       "    <tr>\n",
       "      <th>0</th>\n",
       "      <td>5</td>\n",
       "      <td>0.000091</td>\n",
       "      <td>0.000000e+00</td>\n",
       "      <td>0.000091</td>\n",
       "      <td>1444.0</td>\n",
       "      <td>0.0</td>\n",
       "      <td>0.000007</td>\n",
       "      <td>-3.810281e-11</td>\n",
       "      <td>0.000008</td>\n",
       "      <td>0.000005</td>\n",
       "      <td>...</td>\n",
       "      <td>2.028310</td>\n",
       "      <td>1.424470</td>\n",
       "      <td>12.282344</td>\n",
       "      <td>515.666809</td>\n",
       "      <td>0.000000</td>\n",
       "      <td>0.0</td>\n",
       "      <td>0.000000</td>\n",
       "      <td>0.000000</td>\n",
       "      <td>0.000000</td>\n",
       "      <td>0.000000</td>\n",
       "    </tr>\n",
       "    <tr>\n",
       "      <th>1</th>\n",
       "      <td>6</td>\n",
       "      <td>0.000046</td>\n",
       "      <td>0.000000e+00</td>\n",
       "      <td>0.000046</td>\n",
       "      <td>22283.0</td>\n",
       "      <td>0.0</td>\n",
       "      <td>0.000003</td>\n",
       "      <td>1.152012e-10</td>\n",
       "      <td>0.000002</td>\n",
       "      <td>0.000003</td>\n",
       "      <td>...</td>\n",
       "      <td>10.883658</td>\n",
       "      <td>3.299140</td>\n",
       "      <td>1.122368</td>\n",
       "      <td>33.313538</td>\n",
       "      <td>-0.596069</td>\n",
       "      <td>0.0</td>\n",
       "      <td>0.484895</td>\n",
       "      <td>0.596069</td>\n",
       "      <td>0.484895</td>\n",
       "      <td>1.080964</td>\n",
       "    </tr>\n",
       "    <tr>\n",
       "      <th>2</th>\n",
       "      <td>8</td>\n",
       "      <td>0.000052</td>\n",
       "      <td>0.000000e+00</td>\n",
       "      <td>0.000052</td>\n",
       "      <td>12843.0</td>\n",
       "      <td>0.0</td>\n",
       "      <td>0.000003</td>\n",
       "      <td>-6.472452e-11</td>\n",
       "      <td>0.000004</td>\n",
       "      <td>0.000003</td>\n",
       "      <td>...</td>\n",
       "      <td>20.163582</td>\n",
       "      <td>4.490460</td>\n",
       "      <td>-0.044275</td>\n",
       "      <td>10.689801</td>\n",
       "      <td>-1.082446</td>\n",
       "      <td>0.0</td>\n",
       "      <td>1.234226</td>\n",
       "      <td>1.082446</td>\n",
       "      <td>1.234226</td>\n",
       "      <td>2.316672</td>\n",
       "    </tr>\n",
       "    <tr>\n",
       "      <th>3</th>\n",
       "      <td>9</td>\n",
       "      <td>0.000100</td>\n",
       "      <td>0.000000e+00</td>\n",
       "      <td>0.000100</td>\n",
       "      <td>18789.0</td>\n",
       "      <td>0.0</td>\n",
       "      <td>0.000008</td>\n",
       "      <td>2.524826e-10</td>\n",
       "      <td>0.000005</td>\n",
       "      <td>0.000006</td>\n",
       "      <td>...</td>\n",
       "      <td>6.755215</td>\n",
       "      <td>2.599175</td>\n",
       "      <td>1.061831</td>\n",
       "      <td>38.259159</td>\n",
       "      <td>-0.020117</td>\n",
       "      <td>0.0</td>\n",
       "      <td>0.000000</td>\n",
       "      <td>0.020117</td>\n",
       "      <td>0.000000</td>\n",
       "      <td>0.020117</td>\n",
       "    </tr>\n",
       "    <tr>\n",
       "      <th>4</th>\n",
       "      <td>13</td>\n",
       "      <td>0.000114</td>\n",
       "      <td>0.000000e+00</td>\n",
       "      <td>0.000114</td>\n",
       "      <td>30089.0</td>\n",
       "      <td>0.0</td>\n",
       "      <td>0.000011</td>\n",
       "      <td>4.075973e-11</td>\n",
       "      <td>0.000010</td>\n",
       "      <td>0.000010</td>\n",
       "      <td>...</td>\n",
       "      <td>20.695255</td>\n",
       "      <td>4.549219</td>\n",
       "      <td>0.047873</td>\n",
       "      <td>7.833413</td>\n",
       "      <td>-0.899964</td>\n",
       "      <td>0.0</td>\n",
       "      <td>0.807979</td>\n",
       "      <td>0.899964</td>\n",
       "      <td>0.807979</td>\n",
       "      <td>1.707942</td>\n",
       "    </tr>\n",
       "    <tr>\n",
       "      <th>...</th>\n",
       "      <td>...</td>\n",
       "      <td>...</td>\n",
       "      <td>...</td>\n",
       "      <td>...</td>\n",
       "      <td>...</td>\n",
       "      <td>...</td>\n",
       "      <td>...</td>\n",
       "      <td>...</td>\n",
       "      <td>...</td>\n",
       "      <td>...</td>\n",
       "      <td>...</td>\n",
       "      <td>...</td>\n",
       "      <td>...</td>\n",
       "      <td>...</td>\n",
       "      <td>...</td>\n",
       "      <td>...</td>\n",
       "      <td>...</td>\n",
       "      <td>...</td>\n",
       "      <td>...</td>\n",
       "      <td>...</td>\n",
       "      <td>...</td>\n",
       "    </tr>\n",
       "    <tr>\n",
       "      <th>291</th>\n",
       "      <td>984</td>\n",
       "      <td>0.000205</td>\n",
       "      <td>7.671422e-14</td>\n",
       "      <td>0.000205</td>\n",
       "      <td>12354.0</td>\n",
       "      <td>0.0</td>\n",
       "      <td>0.000030</td>\n",
       "      <td>2.994782e-10</td>\n",
       "      <td>0.000028</td>\n",
       "      <td>0.000026</td>\n",
       "      <td>...</td>\n",
       "      <td>10.881562</td>\n",
       "      <td>3.299060</td>\n",
       "      <td>0.096416</td>\n",
       "      <td>8.068940</td>\n",
       "      <td>-0.710422</td>\n",
       "      <td>0.0</td>\n",
       "      <td>0.550822</td>\n",
       "      <td>0.710422</td>\n",
       "      <td>0.550822</td>\n",
       "      <td>1.261243</td>\n",
       "    </tr>\n",
       "    <tr>\n",
       "      <th>292</th>\n",
       "      <td>987</td>\n",
       "      <td>0.000078</td>\n",
       "      <td>0.000000e+00</td>\n",
       "      <td>0.000078</td>\n",
       "      <td>9931.0</td>\n",
       "      <td>0.0</td>\n",
       "      <td>0.000005</td>\n",
       "      <td>4.859398e-11</td>\n",
       "      <td>0.000005</td>\n",
       "      <td>0.000004</td>\n",
       "      <td>...</td>\n",
       "      <td>4.376823</td>\n",
       "      <td>2.092309</td>\n",
       "      <td>0.510573</td>\n",
       "      <td>33.388645</td>\n",
       "      <td>0.000000</td>\n",
       "      <td>0.0</td>\n",
       "      <td>0.000000</td>\n",
       "      <td>0.000000</td>\n",
       "      <td>0.000000</td>\n",
       "      <td>0.000000</td>\n",
       "    </tr>\n",
       "    <tr>\n",
       "      <th>293</th>\n",
       "      <td>994</td>\n",
       "      <td>0.000228</td>\n",
       "      <td>1.035656e-12</td>\n",
       "      <td>0.000228</td>\n",
       "      <td>17858.0</td>\n",
       "      <td>46058.0</td>\n",
       "      <td>0.000015</td>\n",
       "      <td>-1.635723e-10</td>\n",
       "      <td>0.000018</td>\n",
       "      <td>0.000011</td>\n",
       "      <td>...</td>\n",
       "      <td>4.232595</td>\n",
       "      <td>2.057365</td>\n",
       "      <td>1.849893</td>\n",
       "      <td>82.707939</td>\n",
       "      <td>0.000000</td>\n",
       "      <td>0.0</td>\n",
       "      <td>0.000000</td>\n",
       "      <td>0.000000</td>\n",
       "      <td>0.000000</td>\n",
       "      <td>0.000000</td>\n",
       "    </tr>\n",
       "    <tr>\n",
       "      <th>294</th>\n",
       "      <td>995</td>\n",
       "      <td>0.000154</td>\n",
       "      <td>0.000000e+00</td>\n",
       "      <td>0.000154</td>\n",
       "      <td>17052.0</td>\n",
       "      <td>0.0</td>\n",
       "      <td>0.000004</td>\n",
       "      <td>-9.673285e-11</td>\n",
       "      <td>0.000006</td>\n",
       "      <td>0.000005</td>\n",
       "      <td>...</td>\n",
       "      <td>9.168949</td>\n",
       "      <td>3.028062</td>\n",
       "      <td>0.430149</td>\n",
       "      <td>22.615187</td>\n",
       "      <td>-0.200396</td>\n",
       "      <td>0.0</td>\n",
       "      <td>0.583076</td>\n",
       "      <td>0.200396</td>\n",
       "      <td>0.583076</td>\n",
       "      <td>0.783472</td>\n",
       "    </tr>\n",
       "    <tr>\n",
       "      <th>295</th>\n",
       "      <td>996</td>\n",
       "      <td>0.000109</td>\n",
       "      <td>0.000000e+00</td>\n",
       "      <td>0.000109</td>\n",
       "      <td>10766.0</td>\n",
       "      <td>11643.0</td>\n",
       "      <td>0.000004</td>\n",
       "      <td>4.535569e-10</td>\n",
       "      <td>0.000002</td>\n",
       "      <td>0.000004</td>\n",
       "      <td>...</td>\n",
       "      <td>3.136904</td>\n",
       "      <td>1.772186</td>\n",
       "      <td>8.192019</td>\n",
       "      <td>239.119522</td>\n",
       "      <td>-0.002663</td>\n",
       "      <td>0.0</td>\n",
       "      <td>0.018515</td>\n",
       "      <td>0.002663</td>\n",
       "      <td>0.018515</td>\n",
       "      <td>0.021178</td>\n",
       "    </tr>\n",
       "  </tbody>\n",
       "</table>\n",
       "<p>296 rows × 989 columns</p>\n",
       "</div>"
      ],
      "text/plain": [
       "     song_id  pcm_intensity_sma_max  pcm_intensity_sma_min  \\\n",
       "0          5               0.000091           0.000000e+00   \n",
       "1          6               0.000046           0.000000e+00   \n",
       "2          8               0.000052           0.000000e+00   \n",
       "3          9               0.000100           0.000000e+00   \n",
       "4         13               0.000114           0.000000e+00   \n",
       "..       ...                    ...                    ...   \n",
       "291      984               0.000205           7.671422e-14   \n",
       "292      987               0.000078           0.000000e+00   \n",
       "293      994               0.000228           1.035656e-12   \n",
       "294      995               0.000154           0.000000e+00   \n",
       "295      996               0.000109           0.000000e+00   \n",
       "\n",
       "     pcm_intensity_sma_range  pcm_intensity_sma_maxPos  \\\n",
       "0                   0.000091                    1444.0   \n",
       "1                   0.000046                   22283.0   \n",
       "2                   0.000052                   12843.0   \n",
       "3                   0.000100                   18789.0   \n",
       "4                   0.000114                   30089.0   \n",
       "..                       ...                       ...   \n",
       "291                 0.000205                   12354.0   \n",
       "292                 0.000078                    9931.0   \n",
       "293                 0.000228                   17858.0   \n",
       "294                 0.000154                   17052.0   \n",
       "295                 0.000109                   10766.0   \n",
       "\n",
       "     pcm_intensity_sma_minPos  pcm_intensity_sma_amean  \\\n",
       "0                         0.0                 0.000007   \n",
       "1                         0.0                 0.000003   \n",
       "2                         0.0                 0.000003   \n",
       "3                         0.0                 0.000008   \n",
       "4                         0.0                 0.000011   \n",
       "..                        ...                      ...   \n",
       "291                       0.0                 0.000030   \n",
       "292                       0.0                 0.000005   \n",
       "293                   46058.0                 0.000015   \n",
       "294                       0.0                 0.000004   \n",
       "295                   11643.0                 0.000004   \n",
       "\n",
       "     pcm_intensity_sma_linregc1  pcm_intensity_sma_linregc2  \\\n",
       "0                 -3.810281e-11                    0.000008   \n",
       "1                  1.152012e-10                    0.000002   \n",
       "2                 -6.472452e-11                    0.000004   \n",
       "3                  2.524826e-10                    0.000005   \n",
       "4                  4.075973e-11                    0.000010   \n",
       "..                          ...                         ...   \n",
       "291                2.994782e-10                    0.000028   \n",
       "292                4.859398e-11                    0.000005   \n",
       "293               -1.635723e-10                    0.000018   \n",
       "294               -9.673285e-11                    0.000006   \n",
       "295                4.535569e-10                    0.000002   \n",
       "\n",
       "     pcm_intensity_sma_linregerrA  ...  F0env_sma_de_linregerrQ  \\\n",
       "0                        0.000005  ...                 2.028310   \n",
       "1                        0.000003  ...                10.883658   \n",
       "2                        0.000003  ...                20.163582   \n",
       "3                        0.000006  ...                 6.755215   \n",
       "4                        0.000010  ...                20.695255   \n",
       "..                            ...  ...                      ...   \n",
       "291                      0.000026  ...                10.881562   \n",
       "292                      0.000004  ...                 4.376823   \n",
       "293                      0.000011  ...                 4.232595   \n",
       "294                      0.000005  ...                 9.168949   \n",
       "295                      0.000004  ...                 3.136904   \n",
       "\n",
       "     F0env_sma_de_stddev  F0env_sma_de_skewness  F0env_sma_de_kurtosis  \\\n",
       "0               1.424470              12.282344             515.666809   \n",
       "1               3.299140               1.122368              33.313538   \n",
       "2               4.490460              -0.044275              10.689801   \n",
       "3               2.599175               1.061831              38.259159   \n",
       "4               4.549219               0.047873               7.833413   \n",
       "..                   ...                    ...                    ...   \n",
       "291             3.299060               0.096416               8.068940   \n",
       "292             2.092309               0.510573              33.388645   \n",
       "293             2.057365               1.849893              82.707939   \n",
       "294             3.028062               0.430149              22.615187   \n",
       "295             1.772186               8.192019             239.119522   \n",
       "\n",
       "     F0env_sma_de_quartile1  F0env_sma_de_quartile2  F0env_sma_de_quartile3  \\\n",
       "0                  0.000000                     0.0                0.000000   \n",
       "1                 -0.596069                     0.0                0.484895   \n",
       "2                 -1.082446                     0.0                1.234226   \n",
       "3                 -0.020117                     0.0                0.000000   \n",
       "4                 -0.899964                     0.0                0.807979   \n",
       "..                      ...                     ...                     ...   \n",
       "291               -0.710422                     0.0                0.550822   \n",
       "292                0.000000                     0.0                0.000000   \n",
       "293                0.000000                     0.0                0.000000   \n",
       "294               -0.200396                     0.0                0.583076   \n",
       "295               -0.002663                     0.0                0.018515   \n",
       "\n",
       "     F0env_sma_de_iqr1-2  F0env_sma_de_iqr2-3  F0env_sma_de_iqr1-3  \n",
       "0               0.000000             0.000000             0.000000  \n",
       "1               0.596069             0.484895             1.080964  \n",
       "2               1.082446             1.234226             2.316672  \n",
       "3               0.020117             0.000000             0.020117  \n",
       "4               0.899964             0.807979             1.707942  \n",
       "..                   ...                  ...                  ...  \n",
       "291             0.710422             0.550822             1.261243  \n",
       "292             0.000000             0.000000             0.000000  \n",
       "293             0.000000             0.000000             0.000000  \n",
       "294             0.200396             0.583076             0.783472  \n",
       "295             0.002663             0.018515             0.021178  \n",
       "\n",
       "[296 rows x 989 columns]"
      ]
     },
     "execution_count": 6,
     "metadata": {},
     "output_type": "execute_result"
    }
   ],
   "source": [
    "# Parallelize the feature extraction process for all song IDs\n",
    "dfs = Parallel(n_jobs=4)(delayed(extract_features)(song_id) for song_id in song_ids)\n",
    "\n",
    "# Concatenate the extracted DataFrames\n",
    "df_opensmile_emobase = pd.concat(dfs)\n",
    "\n",
    "# Add the 'song_id' column\n",
    "df_opensmile_emobase.insert(0, column='song_id', value=song_ids)\n",
    "df_opensmile_emobase.reset_index(drop=True, inplace=True)\n",
    "\n",
    "# Display the resulting DataFrame\n",
    "df_opensmile_emobase\n",
    "\n",
    "# df_opensmile_emobase = pd.DataFrame()\n",
    "\n",
    "# for song_id in song_ids:\n",
    "#   dfs = extract_features(song_id)\n",
    "#   df_opensmile_emobase = pd.concat([df_opensmile_emobase, dfs], ignore_index=True)\n",
    "\n",
    "# df_opensmile_emobase.insert(0, column='song_id', value=song_ids)\n",
    "# df_opensmile_emobase.reset_index(drop=True, inplace=True)\n",
    "# df_opensmile_emobase"
   ]
  },
  {
   "cell_type": "markdown",
   "metadata": {},
   "source": [
    "Save the openSmile-extracted features to .csv for emobase feature set"
   ]
  },
  {
   "cell_type": "code",
   "execution_count": 7,
   "metadata": {},
   "outputs": [],
   "source": [
    "df_opensmile_emobase.to_csv('../../data/SiTunes/processed/features/opensmile_emobase_features.csv')"
   ]
  },
  {
   "cell_type": "markdown",
   "metadata": {},
   "source": [
    "GeMAPS feature set"
   ]
  },
  {
   "cell_type": "code",
   "execution_count": 8,
   "metadata": {},
   "outputs": [
    {
     "name": "stderr",
     "output_type": "stream",
     "text": [
      "/Library/Frameworks/Python.framework/Versions/3.11/lib/python3.11/site-packages/opensmile/core/smile.py:251: UserWarning: Feature set 'FeatureSet.GeMAPS' is deprecated, consider switching to 'FeatureSet.GeMAPSv01b'.\n",
      "  warnings.warn(\n"
     ]
    }
   ],
   "source": [
    "smile = opensmile.Smile(\n",
    "    feature_set=opensmile.FeatureSet.GeMAPS,\n",
    "    feature_level=opensmile.FeatureLevel.Functionals,\n",
    ")"
   ]
  },
  {
   "cell_type": "code",
   "execution_count": null,
   "metadata": {},
   "outputs": [],
   "source": []
  },
  {
   "cell_type": "code",
   "execution_count": 9,
   "metadata": {},
   "outputs": [
    {
     "name": "stdout",
     "output_type": "stream",
     "text": [
      "Extracting features from song_id: 6\n",
      "Extracting features from song_id: 5\n",
      "Extracting features from song_id: 8\n",
      "Extracting features from song_id: 9\n",
      "Extracting features from song_id: 13\n",
      "Extracting features from song_id: 14\n",
      "Extracting features from song_id: 17\n",
      "Extracting features from song_id: 19\n",
      "Extracting features from song_id: 20\n",
      "Extracting features from song_id: 22\n",
      "Extracting features from song_id: 23\n",
      "Extracting features from song_id: 24\n",
      "Extracting features from song_id: 26\n",
      "Extracting features from song_id: 28\n",
      "Extracting features from song_id: 37\n",
      "Extracting features from song_id: 43\n",
      "Extracting features from song_id: 46\n",
      "Extracting features from song_id: 47\n",
      "Extracting features from song_id: 52\n",
      "Extracting features from song_id: 57\n",
      "Extracting features from song_id: 58\n",
      "Extracting features from song_id: 62\n",
      "Extracting features from song_id: 67\n",
      "Extracting features from song_id: 70\n",
      "Extracting features from song_id: 74\n",
      "Extracting features from song_id: 76\n",
      "Extracting features from song_id: 81\n",
      "Extracting features from song_id: 85\n",
      "Extracting features from song_id: 87\n",
      "Extracting features from song_id: 89\n",
      "Extracting features from song_id: 90\n",
      "Extracting features from song_id: 97\n",
      "Extracting features from song_id: 99\n",
      "Extracting features from song_id: 100\n",
      "Extracting features from song_id: 104\n",
      "Extracting features from song_id: 108\n",
      "Extracting features from song_id: 109\n",
      "Extracting features from song_id: 111\n",
      "Extracting features from song_id: 114\n",
      "Extracting features from song_id: 117\n",
      "Extracting features from song_id: 120\n",
      "Extracting features from song_id: 126\n",
      "Extracting features from song_id: 132\n",
      "Extracting features from song_id: 136\n",
      "Extracting features from song_id: 142\n",
      "Extracting features from song_id: 144\n",
      "Extracting features from song_id: 148\n",
      "Extracting features from song_id: 149\n",
      "Extracting features from song_id: 153\n",
      "Extracting features from song_id: 156\n",
      "Extracting features from song_id: 158\n",
      "Extracting features from song_id: 168\n",
      "Extracting features from song_id: 169\n",
      "Extracting features from song_id: 170\n",
      "Extracting features from song_id: 171\n",
      "Extracting features from song_id: 172\n",
      "Extracting features from song_id: 174\n",
      "Extracting features from song_id: 175\n",
      "Extracting features from song_id: 182\n",
      "Extracting features from song_id: 192\n",
      "Extracting features from song_id: 195\n",
      "Extracting features from song_id: 202\n",
      "Extracting features from song_id: 204\n",
      "Extracting features from song_id: 205\n",
      "Extracting features from song_id: 206\n",
      "Extracting features from song_id: 207\n",
      "Extracting features from song_id: 208\n",
      "Extracting features from song_id: 209\n",
      "Extracting features from song_id: 216\n",
      "Extracting features from song_id: 222\n",
      "Extracting features from song_id: 223\n",
      "Extracting features from song_id: 228\n",
      "Extracting features from song_id: 233\n",
      "Extracting features from song_id: 239\n",
      "Extracting features from song_id: 243\n",
      "Extracting features from song_id: 245\n",
      "Extracting features from song_id: 257\n",
      "Extracting features from song_id: 258\n",
      "Extracting features from song_id: 264\n",
      "Extracting features from song_id: 266\n",
      "Extracting features from song_id: 268\n",
      "Extracting features from song_id: 269\n",
      "Extracting features from song_id: 273\n",
      "Extracting features from song_id: 275\n",
      "Extracting features from song_id: 276\n",
      "Extracting features from song_id: 279\n",
      "Extracting features from song_id: 282\n",
      "Extracting features from song_id: 283\n",
      "Extracting features from song_id: 285\n",
      "Extracting features from song_id: 289\n",
      "Extracting features from song_id: 297\n",
      "Extracting features from song_id: 300\n",
      "Extracting features from song_id: 303\n",
      "Extracting features from song_id: 309\n",
      "Extracting features from song_id: 312\n",
      "Extracting features from song_id: 315\n",
      "Extracting features from song_id: 319\n",
      "Extracting features from song_id: 320\n",
      "Extracting features from song_id: 325\n",
      "Extracting features from song_id: 327\n",
      "Extracting features from song_id: 329\n",
      "Extracting features from song_id: 332\n",
      "Extracting features from song_id: 333\n",
      "Extracting features from song_id: 341\n",
      "Extracting features from song_id: 342\n",
      "Extracting features from song_id: 344\n",
      "Extracting features from song_id: 349\n",
      "Extracting features from song_id: 356\n",
      "Extracting features from song_id: 360\n",
      "Extracting features from song_id: 361\n",
      "Extracting features from song_id: 363\n",
      "Extracting features from song_id: 364\n",
      "Extracting features from song_id: 367\n",
      "Extracting features from song_id: 372\n",
      "Extracting features from song_id: 373\n",
      "Extracting features from song_id: 375\n",
      "Extracting features from song_id: 384\n",
      "Extracting features from song_id: 388\n",
      "Extracting features from song_id: 390\n",
      "Extracting features from song_id: 395\n",
      "Extracting features from song_id: 397\n",
      "Extracting features from song_id: 409\n",
      "Extracting features from song_id: 411\n",
      "Extracting features from song_id: 414\n",
      "Extracting features from song_id: 418\n",
      "Extracting features from song_id: 422\n",
      "Extracting features from song_id: 427\n",
      "Extracting features from song_id: 428\n",
      "Extracting features from song_id: 429\n",
      "Extracting features from song_id: 434\n",
      "Extracting features from song_id: 439\n",
      "Extracting features from song_id: 440\n",
      "Extracting features from song_id: 442\n",
      "Extracting features from song_id: 451\n",
      "Extracting features from song_id: 461\n",
      "Extracting features from song_id: 465\n",
      "Extracting features from song_id: 468\n",
      "Extracting features from song_id: 469\n",
      "Extracting features from song_id: 471\n",
      "Extracting features from song_id: 480\n",
      "Extracting features from song_id: 490\n",
      "Extracting features from song_id: 491\n",
      "Extracting features from song_id: 493\n",
      "Extracting features from song_id: 499\n",
      "Extracting features from song_id: 504\n",
      "Extracting features from song_id: 506\n",
      "Extracting features from song_id: 507\n",
      "Extracting features from song_id: 508\n",
      "Extracting features from song_id: 510\n",
      "Extracting features from song_id: 514\n",
      "Extracting features from song_id: 516\n",
      "Extracting features from song_id: 517\n",
      "Extracting features from song_id: 518\n",
      "Extracting features from song_id: 520\n",
      "Extracting features from song_id: 523\n",
      "Extracting features from song_id: 524\n",
      "Extracting features from song_id: 529\n",
      "Extracting features from song_id: 532\n",
      "Extracting features from song_id: 541\n",
      "Extracting features from song_id: 544\n",
      "Extracting features from song_id: 548\n",
      "Extracting features from song_id: 550\n",
      "Extracting features from song_id: 555\n",
      "Extracting features from song_id: 558\n",
      "Extracting features from song_id: 562\n",
      "Extracting features from song_id: 565\n",
      "Extracting features from song_id: 571\n",
      "Extracting features from song_id: 576\n",
      "Extracting features from song_id: 578\n",
      "Extracting features from song_id: 588\n",
      "Extracting features from song_id: 591\n",
      "Extracting features from song_id: 594\n",
      "Extracting features from song_id: 597\n",
      "Extracting features from song_id: 598\n",
      "Extracting features from song_id: 600\n",
      "Extracting features from song_id: 602\n",
      "Extracting features from song_id: 603\n",
      "Extracting features from song_id: 604\n",
      "Extracting features from song_id: 609\n",
      "Extracting features from song_id: 613\n",
      "Extracting features from song_id: 619\n",
      "Extracting features from song_id: 621\n",
      "Extracting features from song_id: 627\n",
      "Extracting features from song_id: 629\n",
      "Extracting features from song_id: 634\n",
      "Extracting features from song_id: 635\n",
      "Extracting features from song_id: 638\n",
      "Extracting features from song_id: 639\n",
      "Extracting features from song_id: 649\n",
      "Extracting features from song_id: 652\n",
      "Extracting features from song_id: 659\n",
      "Extracting features from song_id: 667\n",
      "Extracting features from song_id: 672\n",
      "Extracting features from song_id: 673\n",
      "Extracting features from song_id: 676\n",
      "Extracting features from song_id: 677\n",
      "Extracting features from song_id: 680\n",
      "Extracting features from song_id: 689\n",
      "Extracting features from song_id: 697\n",
      "Extracting features from song_id: 699\n",
      "Extracting features from song_id: 706\n",
      "Extracting features from song_id: 707\n",
      "Extracting features from song_id: 709\n",
      "Extracting features from song_id: 712\n",
      "Extracting features from song_id: 716\n",
      "Extracting features from song_id: 717\n",
      "Extracting features from song_id: 719\n",
      "Extracting features from song_id: 720\n",
      "Extracting features from song_id: 723\n",
      "Extracting features from song_id: 726\n",
      "Extracting features from song_id: 727\n",
      "Extracting features from song_id: 731\n",
      "Extracting features from song_id: 736\n",
      "Extracting features from song_id: 739\n",
      "Extracting features from song_id: 741\n",
      "Extracting features from song_id: 742\n",
      "Extracting features from song_id: 743\n",
      "Extracting features from song_id: 744\n",
      "Extracting features from song_id: 752\n",
      "Extracting features from song_id: 754\n",
      "Extracting features from song_id: 757\n",
      "Extracting features from song_id: 759\n",
      "Extracting features from song_id: 761\n",
      "Extracting features from song_id: 768\n",
      "Extracting features from song_id: 776\n",
      "Extracting features from song_id: 780\n",
      "Extracting features from song_id: 784\n",
      "Extracting features from song_id: 786\n",
      "Extracting features from song_id: 789\n",
      "Extracting features from song_id: 790\n",
      "Extracting features from song_id: 791\n",
      "Extracting features from song_id: 793\n",
      "Extracting features from song_id: 795\n",
      "Extracting features from song_id: 796\n",
      "Extracting features from song_id: 807\n",
      "Extracting features from song_id: 812\n",
      "Extracting features from song_id: 814\n",
      "Extracting features from song_id: 816\n",
      "Extracting features from song_id: 818\n",
      "Extracting features from song_id: 820\n",
      "Extracting features from song_id: 822\n",
      "Extracting features from song_id: 826\n",
      "Extracting features from song_id: 835\n",
      "Extracting features from song_id: 839\n",
      "Extracting features from song_id: 843\n",
      "Extracting features from song_id: 848\n",
      "Extracting features from song_id: 862\n",
      "Extracting features from song_id: 863\n",
      "Extracting features from song_id: 868\n",
      "Extracting features from song_id: 872\n",
      "Extracting features from song_id: 873\n",
      "Extracting features from song_id: 874\n",
      "Extracting features from song_id: 875\n",
      "Extracting features from song_id: 876\n",
      "Extracting features from song_id: 878\n",
      "Extracting features from song_id: 883\n",
      "Extracting features from song_id: 886\n",
      "Extracting features from song_id: 897\n",
      "Extracting features from song_id: 898\n",
      "Extracting features from song_id: 900\n",
      "Extracting features from song_id: 905\n",
      "Extracting features from song_id: 908\n",
      "Extracting features from song_id: 910\n",
      "Extracting features from song_id: 911\n",
      "Extracting features from song_id: 912\n",
      "Extracting features from song_id: 914\n",
      "Extracting features from song_id: 915\n",
      "Extracting features from song_id: 916\n",
      "Extracting features from song_id: 917\n",
      "Extracting features from song_id: 920\n",
      "Extracting features from song_id: 923\n",
      "Extracting features from song_id: 924\n",
      "Extracting features from song_id: 925\n",
      "Extracting features from song_id: 934\n",
      "Extracting features from song_id: 936\n",
      "Extracting features from song_id: 937\n",
      "Extracting features from song_id: 941\n",
      "Extracting features from song_id: 945\n",
      "Extracting features from song_id: 946\n",
      "Extracting features from song_id: 947\n",
      "Extracting features from song_id: 951\n",
      "Extracting features from song_id: 954\n",
      "Extracting features from song_id: 955\n",
      "Extracting features from song_id: 956\n",
      "Extracting features from song_id: 957\n",
      "Extracting features from song_id: 962\n",
      "Extracting features from song_id: 965\n"
     ]
    },
    {
     "name": "stderr",
     "output_type": "stream",
     "text": [
      "/Library/Frameworks/Python.framework/Versions/3.11/lib/python3.11/site-packages/joblib/externals/loky/process_executor.py:752: UserWarning: A worker stopped while some jobs were given to the executor. This can be caused by a too short worker timeout or by a memory leak.\n",
      "  warnings.warn(\n"
     ]
    },
    {
     "name": "stdout",
     "output_type": "stream",
     "text": [
      "Extracting features from song_id: 972\n",
      "Extracting features from song_id: 974\n",
      "Extracting features from song_id: 975\n",
      "Extracting features from song_id: 977\n",
      "Extracting features from song_id: 984\n",
      "Extracting features from song_id: 987\n",
      "Extracting features from song_id: 994\n",
      "Extracting features from song_id: 995\n",
      "Extracting features from song_id: 996\n"
     ]
    },
    {
     "data": {
      "text/html": [
       "<div>\n",
       "<style scoped>\n",
       "    .dataframe tbody tr th:only-of-type {\n",
       "        vertical-align: middle;\n",
       "    }\n",
       "\n",
       "    .dataframe tbody tr th {\n",
       "        vertical-align: top;\n",
       "    }\n",
       "\n",
       "    .dataframe thead th {\n",
       "        text-align: right;\n",
       "    }\n",
       "</style>\n",
       "<table border=\"1\" class=\"dataframe\">\n",
       "  <thead>\n",
       "    <tr style=\"text-align: right;\">\n",
       "      <th></th>\n",
       "      <th>song_id</th>\n",
       "      <th>F0semitoneFrom27.5Hz_sma3nz_amean</th>\n",
       "      <th>F0semitoneFrom27.5Hz_sma3nz_stddevNorm</th>\n",
       "      <th>F0semitoneFrom27.5Hz_sma3nz_percentile20.0</th>\n",
       "      <th>F0semitoneFrom27.5Hz_sma3nz_percentile50.0</th>\n",
       "      <th>F0semitoneFrom27.5Hz_sma3nz_percentile80.0</th>\n",
       "      <th>F0semitoneFrom27.5Hz_sma3nz_pctlrange0-2</th>\n",
       "      <th>F0semitoneFrom27.5Hz_sma3nz_meanRisingSlope</th>\n",
       "      <th>F0semitoneFrom27.5Hz_sma3nz_stddevRisingSlope</th>\n",
       "      <th>F0semitoneFrom27.5Hz_sma3nz_meanFallingSlope</th>\n",
       "      <th>...</th>\n",
       "      <th>alphaRatioUV_sma3nz_amean</th>\n",
       "      <th>hammarbergIndexUV_sma3nz_amean</th>\n",
       "      <th>slopeUV0-500_sma3nz_amean</th>\n",
       "      <th>slopeUV500-1500_sma3nz_amean</th>\n",
       "      <th>loudnessPeaksPerSec</th>\n",
       "      <th>VoicedSegmentsPerSec</th>\n",
       "      <th>MeanVoicedSegmentLengthSec</th>\n",
       "      <th>StddevVoicedSegmentLengthSec</th>\n",
       "      <th>MeanUnvoicedSegmentLength</th>\n",
       "      <th>StddevUnvoicedSegmentLength</th>\n",
       "    </tr>\n",
       "  </thead>\n",
       "  <tbody>\n",
       "    <tr>\n",
       "      <th>0</th>\n",
       "      <td>5</td>\n",
       "      <td>31.631935</td>\n",
       "      <td>0.434963</td>\n",
       "      <td>15.156862</td>\n",
       "      <td>33.399643</td>\n",
       "      <td>45.943863</td>\n",
       "      <td>30.787001</td>\n",
       "      <td>498.979980</td>\n",
       "      <td>653.866211</td>\n",
       "      <td>273.856079</td>\n",
       "      <td>...</td>\n",
       "      <td>-0.735458</td>\n",
       "      <td>7.341491</td>\n",
       "      <td>-0.020799</td>\n",
       "      <td>-0.007142</td>\n",
       "      <td>1.956022</td>\n",
       "      <td>3.244838</td>\n",
       "      <td>0.099840</td>\n",
       "      <td>0.128268</td>\n",
       "      <td>0.201914</td>\n",
       "      <td>0.309628</td>\n",
       "    </tr>\n",
       "    <tr>\n",
       "      <th>1</th>\n",
       "      <td>6</td>\n",
       "      <td>29.125586</td>\n",
       "      <td>0.298632</td>\n",
       "      <td>20.145454</td>\n",
       "      <td>27.247652</td>\n",
       "      <td>36.643261</td>\n",
       "      <td>16.497807</td>\n",
       "      <td>186.415665</td>\n",
       "      <td>271.884430</td>\n",
       "      <td>133.420929</td>\n",
       "      <td>...</td>\n",
       "      <td>-7.127956</td>\n",
       "      <td>13.244290</td>\n",
       "      <td>0.052442</td>\n",
       "      <td>-0.004767</td>\n",
       "      <td>2.016162</td>\n",
       "      <td>0.624566</td>\n",
       "      <td>1.481438</td>\n",
       "      <td>2.588996</td>\n",
       "      <td>0.118254</td>\n",
       "      <td>0.513290</td>\n",
       "    </tr>\n",
       "    <tr>\n",
       "      <th>2</th>\n",
       "      <td>8</td>\n",
       "      <td>23.060804</td>\n",
       "      <td>0.344318</td>\n",
       "      <td>16.906231</td>\n",
       "      <td>19.932571</td>\n",
       "      <td>31.065168</td>\n",
       "      <td>14.158937</td>\n",
       "      <td>214.280319</td>\n",
       "      <td>327.853699</td>\n",
       "      <td>146.277267</td>\n",
       "      <td>...</td>\n",
       "      <td>-5.142391</td>\n",
       "      <td>12.498090</td>\n",
       "      <td>-0.027237</td>\n",
       "      <td>-0.005838</td>\n",
       "      <td>3.261533</td>\n",
       "      <td>2.014916</td>\n",
       "      <td>0.423247</td>\n",
       "      <td>0.450914</td>\n",
       "      <td>0.067478</td>\n",
       "      <td>0.080230</td>\n",
       "    </tr>\n",
       "    <tr>\n",
       "      <th>3</th>\n",
       "      <td>9</td>\n",
       "      <td>31.228289</td>\n",
       "      <td>0.340361</td>\n",
       "      <td>20.977032</td>\n",
       "      <td>32.935673</td>\n",
       "      <td>40.165283</td>\n",
       "      <td>19.188251</td>\n",
       "      <td>298.723083</td>\n",
       "      <td>446.279022</td>\n",
       "      <td>178.564560</td>\n",
       "      <td>...</td>\n",
       "      <td>-5.766650</td>\n",
       "      <td>12.840945</td>\n",
       "      <td>0.029148</td>\n",
       "      <td>-0.011291</td>\n",
       "      <td>4.313234</td>\n",
       "      <td>2.438845</td>\n",
       "      <td>0.347583</td>\n",
       "      <td>0.406080</td>\n",
       "      <td>0.052332</td>\n",
       "      <td>0.059561</td>\n",
       "    </tr>\n",
       "    <tr>\n",
       "      <th>4</th>\n",
       "      <td>13</td>\n",
       "      <td>31.042364</td>\n",
       "      <td>0.379501</td>\n",
       "      <td>14.725781</td>\n",
       "      <td>36.538902</td>\n",
       "      <td>39.984123</td>\n",
       "      <td>25.258343</td>\n",
       "      <td>607.680786</td>\n",
       "      <td>797.872314</td>\n",
       "      <td>212.827896</td>\n",
       "      <td>...</td>\n",
       "      <td>-17.521904</td>\n",
       "      <td>25.957762</td>\n",
       "      <td>-0.082832</td>\n",
       "      <td>-0.018304</td>\n",
       "      <td>3.741378</td>\n",
       "      <td>2.499563</td>\n",
       "      <td>0.167800</td>\n",
       "      <td>0.177233</td>\n",
       "      <td>0.097170</td>\n",
       "      <td>0.093730</td>\n",
       "    </tr>\n",
       "    <tr>\n",
       "      <th>...</th>\n",
       "      <td>...</td>\n",
       "      <td>...</td>\n",
       "      <td>...</td>\n",
       "      <td>...</td>\n",
       "      <td>...</td>\n",
       "      <td>...</td>\n",
       "      <td>...</td>\n",
       "      <td>...</td>\n",
       "      <td>...</td>\n",
       "      <td>...</td>\n",
       "      <td>...</td>\n",
       "      <td>...</td>\n",
       "      <td>...</td>\n",
       "      <td>...</td>\n",
       "      <td>...</td>\n",
       "      <td>...</td>\n",
       "      <td>...</td>\n",
       "      <td>...</td>\n",
       "      <td>...</td>\n",
       "      <td>...</td>\n",
       "      <td>...</td>\n",
       "    </tr>\n",
       "    <tr>\n",
       "      <th>291</th>\n",
       "      <td>984</td>\n",
       "      <td>26.676291</td>\n",
       "      <td>0.345243</td>\n",
       "      <td>18.628330</td>\n",
       "      <td>23.537209</td>\n",
       "      <td>37.044197</td>\n",
       "      <td>18.415867</td>\n",
       "      <td>254.093170</td>\n",
       "      <td>289.997711</td>\n",
       "      <td>196.087204</td>\n",
       "      <td>...</td>\n",
       "      <td>-8.273197</td>\n",
       "      <td>14.886774</td>\n",
       "      <td>-0.037049</td>\n",
       "      <td>-0.012521</td>\n",
       "      <td>4.136631</td>\n",
       "      <td>3.145108</td>\n",
       "      <td>0.254674</td>\n",
       "      <td>0.326507</td>\n",
       "      <td>0.055204</td>\n",
       "      <td>0.053555</td>\n",
       "    </tr>\n",
       "    <tr>\n",
       "      <th>292</th>\n",
       "      <td>987</td>\n",
       "      <td>22.772997</td>\n",
       "      <td>0.474765</td>\n",
       "      <td>14.467970</td>\n",
       "      <td>19.492735</td>\n",
       "      <td>32.146774</td>\n",
       "      <td>17.678804</td>\n",
       "      <td>306.566284</td>\n",
       "      <td>464.384796</td>\n",
       "      <td>203.243439</td>\n",
       "      <td>...</td>\n",
       "      <td>-4.601069</td>\n",
       "      <td>10.934477</td>\n",
       "      <td>-0.020492</td>\n",
       "      <td>-0.010948</td>\n",
       "      <td>2.714263</td>\n",
       "      <td>3.166607</td>\n",
       "      <td>0.201225</td>\n",
       "      <td>0.253500</td>\n",
       "      <td>0.108326</td>\n",
       "      <td>0.160834</td>\n",
       "    </tr>\n",
       "    <tr>\n",
       "      <th>293</th>\n",
       "      <td>994</td>\n",
       "      <td>20.951778</td>\n",
       "      <td>0.376814</td>\n",
       "      <td>14.876099</td>\n",
       "      <td>16.901459</td>\n",
       "      <td>27.142853</td>\n",
       "      <td>12.266754</td>\n",
       "      <td>160.257767</td>\n",
       "      <td>197.101700</td>\n",
       "      <td>117.560425</td>\n",
       "      <td>...</td>\n",
       "      <td>-4.658591</td>\n",
       "      <td>9.458328</td>\n",
       "      <td>-0.019824</td>\n",
       "      <td>-0.008062</td>\n",
       "      <td>1.877894</td>\n",
       "      <td>1.490793</td>\n",
       "      <td>0.596909</td>\n",
       "      <td>1.277710</td>\n",
       "      <td>0.069546</td>\n",
       "      <td>0.198080</td>\n",
       "    </tr>\n",
       "    <tr>\n",
       "      <th>294</th>\n",
       "      <td>995</td>\n",
       "      <td>27.288588</td>\n",
       "      <td>0.388161</td>\n",
       "      <td>14.744168</td>\n",
       "      <td>26.429056</td>\n",
       "      <td>38.070980</td>\n",
       "      <td>23.326813</td>\n",
       "      <td>260.749756</td>\n",
       "      <td>368.000885</td>\n",
       "      <td>128.462646</td>\n",
       "      <td>...</td>\n",
       "      <td>-10.559863</td>\n",
       "      <td>19.369951</td>\n",
       "      <td>-0.051101</td>\n",
       "      <td>-0.012418</td>\n",
       "      <td>1.135837</td>\n",
       "      <td>0.911114</td>\n",
       "      <td>1.015471</td>\n",
       "      <td>2.950280</td>\n",
       "      <td>0.086642</td>\n",
       "      <td>0.150389</td>\n",
       "    </tr>\n",
       "    <tr>\n",
       "      <th>295</th>\n",
       "      <td>996</td>\n",
       "      <td>19.140018</td>\n",
       "      <td>0.192975</td>\n",
       "      <td>16.737202</td>\n",
       "      <td>18.545876</td>\n",
       "      <td>22.009905</td>\n",
       "      <td>5.272703</td>\n",
       "      <td>102.170502</td>\n",
       "      <td>81.478882</td>\n",
       "      <td>73.353653</td>\n",
       "      <td>...</td>\n",
       "      <td>-17.211086</td>\n",
       "      <td>25.365614</td>\n",
       "      <td>0.068651</td>\n",
       "      <td>0.003306</td>\n",
       "      <td>0.991538</td>\n",
       "      <td>0.025654</td>\n",
       "      <td>37.883331</td>\n",
       "      <td>28.873095</td>\n",
       "      <td>1.070000</td>\n",
       "      <td>1.386026</td>\n",
       "    </tr>\n",
       "  </tbody>\n",
       "</table>\n",
       "<p>296 rows × 63 columns</p>\n",
       "</div>"
      ],
      "text/plain": [
       "     song_id  F0semitoneFrom27.5Hz_sma3nz_amean  \\\n",
       "0          5                          31.631935   \n",
       "1          6                          29.125586   \n",
       "2          8                          23.060804   \n",
       "3          9                          31.228289   \n",
       "4         13                          31.042364   \n",
       "..       ...                                ...   \n",
       "291      984                          26.676291   \n",
       "292      987                          22.772997   \n",
       "293      994                          20.951778   \n",
       "294      995                          27.288588   \n",
       "295      996                          19.140018   \n",
       "\n",
       "     F0semitoneFrom27.5Hz_sma3nz_stddevNorm  \\\n",
       "0                                  0.434963   \n",
       "1                                  0.298632   \n",
       "2                                  0.344318   \n",
       "3                                  0.340361   \n",
       "4                                  0.379501   \n",
       "..                                      ...   \n",
       "291                                0.345243   \n",
       "292                                0.474765   \n",
       "293                                0.376814   \n",
       "294                                0.388161   \n",
       "295                                0.192975   \n",
       "\n",
       "     F0semitoneFrom27.5Hz_sma3nz_percentile20.0  \\\n",
       "0                                     15.156862   \n",
       "1                                     20.145454   \n",
       "2                                     16.906231   \n",
       "3                                     20.977032   \n",
       "4                                     14.725781   \n",
       "..                                          ...   \n",
       "291                                   18.628330   \n",
       "292                                   14.467970   \n",
       "293                                   14.876099   \n",
       "294                                   14.744168   \n",
       "295                                   16.737202   \n",
       "\n",
       "     F0semitoneFrom27.5Hz_sma3nz_percentile50.0  \\\n",
       "0                                     33.399643   \n",
       "1                                     27.247652   \n",
       "2                                     19.932571   \n",
       "3                                     32.935673   \n",
       "4                                     36.538902   \n",
       "..                                          ...   \n",
       "291                                   23.537209   \n",
       "292                                   19.492735   \n",
       "293                                   16.901459   \n",
       "294                                   26.429056   \n",
       "295                                   18.545876   \n",
       "\n",
       "     F0semitoneFrom27.5Hz_sma3nz_percentile80.0  \\\n",
       "0                                     45.943863   \n",
       "1                                     36.643261   \n",
       "2                                     31.065168   \n",
       "3                                     40.165283   \n",
       "4                                     39.984123   \n",
       "..                                          ...   \n",
       "291                                   37.044197   \n",
       "292                                   32.146774   \n",
       "293                                   27.142853   \n",
       "294                                   38.070980   \n",
       "295                                   22.009905   \n",
       "\n",
       "     F0semitoneFrom27.5Hz_sma3nz_pctlrange0-2  \\\n",
       "0                                   30.787001   \n",
       "1                                   16.497807   \n",
       "2                                   14.158937   \n",
       "3                                   19.188251   \n",
       "4                                   25.258343   \n",
       "..                                        ...   \n",
       "291                                 18.415867   \n",
       "292                                 17.678804   \n",
       "293                                 12.266754   \n",
       "294                                 23.326813   \n",
       "295                                  5.272703   \n",
       "\n",
       "     F0semitoneFrom27.5Hz_sma3nz_meanRisingSlope  \\\n",
       "0                                     498.979980   \n",
       "1                                     186.415665   \n",
       "2                                     214.280319   \n",
       "3                                     298.723083   \n",
       "4                                     607.680786   \n",
       "..                                           ...   \n",
       "291                                   254.093170   \n",
       "292                                   306.566284   \n",
       "293                                   160.257767   \n",
       "294                                   260.749756   \n",
       "295                                   102.170502   \n",
       "\n",
       "     F0semitoneFrom27.5Hz_sma3nz_stddevRisingSlope  \\\n",
       "0                                       653.866211   \n",
       "1                                       271.884430   \n",
       "2                                       327.853699   \n",
       "3                                       446.279022   \n",
       "4                                       797.872314   \n",
       "..                                             ...   \n",
       "291                                     289.997711   \n",
       "292                                     464.384796   \n",
       "293                                     197.101700   \n",
       "294                                     368.000885   \n",
       "295                                      81.478882   \n",
       "\n",
       "     F0semitoneFrom27.5Hz_sma3nz_meanFallingSlope  ...  \\\n",
       "0                                      273.856079  ...   \n",
       "1                                      133.420929  ...   \n",
       "2                                      146.277267  ...   \n",
       "3                                      178.564560  ...   \n",
       "4                                      212.827896  ...   \n",
       "..                                            ...  ...   \n",
       "291                                    196.087204  ...   \n",
       "292                                    203.243439  ...   \n",
       "293                                    117.560425  ...   \n",
       "294                                    128.462646  ...   \n",
       "295                                     73.353653  ...   \n",
       "\n",
       "     alphaRatioUV_sma3nz_amean  hammarbergIndexUV_sma3nz_amean  \\\n",
       "0                    -0.735458                        7.341491   \n",
       "1                    -7.127956                       13.244290   \n",
       "2                    -5.142391                       12.498090   \n",
       "3                    -5.766650                       12.840945   \n",
       "4                   -17.521904                       25.957762   \n",
       "..                         ...                             ...   \n",
       "291                  -8.273197                       14.886774   \n",
       "292                  -4.601069                       10.934477   \n",
       "293                  -4.658591                        9.458328   \n",
       "294                 -10.559863                       19.369951   \n",
       "295                 -17.211086                       25.365614   \n",
       "\n",
       "     slopeUV0-500_sma3nz_amean  slopeUV500-1500_sma3nz_amean  \\\n",
       "0                    -0.020799                     -0.007142   \n",
       "1                     0.052442                     -0.004767   \n",
       "2                    -0.027237                     -0.005838   \n",
       "3                     0.029148                     -0.011291   \n",
       "4                    -0.082832                     -0.018304   \n",
       "..                         ...                           ...   \n",
       "291                  -0.037049                     -0.012521   \n",
       "292                  -0.020492                     -0.010948   \n",
       "293                  -0.019824                     -0.008062   \n",
       "294                  -0.051101                     -0.012418   \n",
       "295                   0.068651                      0.003306   \n",
       "\n",
       "     loudnessPeaksPerSec  VoicedSegmentsPerSec  MeanVoicedSegmentLengthSec  \\\n",
       "0               1.956022              3.244838                    0.099840   \n",
       "1               2.016162              0.624566                    1.481438   \n",
       "2               3.261533              2.014916                    0.423247   \n",
       "3               4.313234              2.438845                    0.347583   \n",
       "4               3.741378              2.499563                    0.167800   \n",
       "..                   ...                   ...                         ...   \n",
       "291             4.136631              3.145108                    0.254674   \n",
       "292             2.714263              3.166607                    0.201225   \n",
       "293             1.877894              1.490793                    0.596909   \n",
       "294             1.135837              0.911114                    1.015471   \n",
       "295             0.991538              0.025654                   37.883331   \n",
       "\n",
       "     StddevVoicedSegmentLengthSec  MeanUnvoicedSegmentLength  \\\n",
       "0                        0.128268                   0.201914   \n",
       "1                        2.588996                   0.118254   \n",
       "2                        0.450914                   0.067478   \n",
       "3                        0.406080                   0.052332   \n",
       "4                        0.177233                   0.097170   \n",
       "..                            ...                        ...   \n",
       "291                      0.326507                   0.055204   \n",
       "292                      0.253500                   0.108326   \n",
       "293                      1.277710                   0.069546   \n",
       "294                      2.950280                   0.086642   \n",
       "295                     28.873095                   1.070000   \n",
       "\n",
       "     StddevUnvoicedSegmentLength  \n",
       "0                       0.309628  \n",
       "1                       0.513290  \n",
       "2                       0.080230  \n",
       "3                       0.059561  \n",
       "4                       0.093730  \n",
       "..                           ...  \n",
       "291                     0.053555  \n",
       "292                     0.160834  \n",
       "293                     0.198080  \n",
       "294                     0.150389  \n",
       "295                     1.386026  \n",
       "\n",
       "[296 rows x 63 columns]"
      ]
     },
     "execution_count": 9,
     "metadata": {},
     "output_type": "execute_result"
    }
   ],
   "source": [
    "# Parallelize the feature extraction process for all song IDs\n",
    "dfs = Parallel(n_jobs=4)(delayed(extract_features)(song_id) for song_id in song_ids)\n",
    "\n",
    "# Concatenate the extracted DataFrames\n",
    "df_opensmile_gemaps = pd.concat(dfs)\n",
    "\n",
    "# Add the 'song_id' column\n",
    "df_opensmile_gemaps.insert(0, column='song_id', value=song_ids)\n",
    "df_opensmile_gemaps.reset_index(drop=True, inplace=True)\n",
    "\n",
    "# Display the resulting DataFrame\n",
    "df_opensmile_gemaps\n",
    "\n",
    "# df_opensmile_gemaps = pd.DataFrame()\n",
    "\n",
    "# for song_id in song_ids:\n",
    "#   dfs = extract_features(song_id)\n",
    "#   df_opensmile_gemaps = pd.concat([df_opensmile_gemaps, dfs], ignore_index=True)\n",
    "\n",
    "# df_opensmile_gemaps.insert(0, column='song_id', value=song_ids)\n",
    "# df_opensmile_gemaps.reset_index(drop=True, inplace=True)\n",
    "# df_opensmile_gemaps"
   ]
  },
  {
   "cell_type": "markdown",
   "metadata": {},
   "source": [
    "Save the openSMILE-extracted features to .csv for GeMAPS feature set"
   ]
  },
  {
   "cell_type": "code",
   "execution_count": 10,
   "metadata": {},
   "outputs": [],
   "source": [
    "df_opensmile_gemaps.to_csv('../../data/SiTunes/processed/features/opensmile_gemaps_features.csv')"
   ]
  },
  {
   "cell_type": "markdown",
   "metadata": {},
   "source": [
    "eGeMAPS feature set"
   ]
  },
  {
   "cell_type": "code",
   "execution_count": 11,
   "metadata": {},
   "outputs": [
    {
     "name": "stderr",
     "output_type": "stream",
     "text": [
      "/Library/Frameworks/Python.framework/Versions/3.11/lib/python3.11/site-packages/opensmile/core/smile.py:251: UserWarning: Feature set 'FeatureSet.eGeMAPS' is deprecated, consider switching to 'FeatureSet.eGeMAPSv02'.\n",
      "  warnings.warn(\n"
     ]
    }
   ],
   "source": [
    "smile = opensmile.Smile(\n",
    "    feature_set=opensmile.FeatureSet.eGeMAPS,\n",
    "    feature_level=opensmile.FeatureLevel.Functionals,\n",
    ")"
   ]
  },
  {
   "cell_type": "code",
   "execution_count": 12,
   "metadata": {},
   "outputs": [
    {
     "name": "stdout",
     "output_type": "stream",
     "text": [
      "Extracting features from song_id: 5\n",
      "Extracting features from song_id: 6\n",
      "Extracting features from song_id: 8\n",
      "Extracting features from song_id: 9\n",
      "Extracting features from song_id: 13\n",
      "Extracting features from song_id: 14\n",
      "Extracting features from song_id: 17\n",
      "Extracting features from song_id: 19\n"
     ]
    },
    {
     "name": "stderr",
     "output_type": "stream",
     "text": [
      "/Library/Frameworks/Python.framework/Versions/3.11/lib/python3.11/site-packages/joblib/externals/loky/process_executor.py:752: UserWarning: A worker stopped while some jobs were given to the executor. This can be caused by a too short worker timeout or by a memory leak.\n",
      "  warnings.warn(\n"
     ]
    },
    {
     "name": "stdout",
     "output_type": "stream",
     "text": [
      "Extracting features from song_id: 20\n",
      "Extracting features from song_id: 22\n",
      "Extracting features from song_id: 23\n",
      "Extracting features from song_id: 24\n",
      "Extracting features from song_id: 26\n",
      "Extracting features from song_id: 28\n",
      "Extracting features from song_id: 37\n",
      "Extracting features from song_id: 43\n"
     ]
    },
    {
     "name": "stderr",
     "output_type": "stream",
     "text": [
      "/Library/Frameworks/Python.framework/Versions/3.11/lib/python3.11/site-packages/joblib/externals/loky/process_executor.py:752: UserWarning: A worker stopped while some jobs were given to the executor. This can be caused by a too short worker timeout or by a memory leak.\n",
      "  warnings.warn(\n"
     ]
    },
    {
     "name": "stdout",
     "output_type": "stream",
     "text": [
      "Extracting features from song_id: 46\n",
      "Extracting features from song_id: 47\n",
      "Extracting features from song_id: 52\n",
      "Extracting features from song_id: 57\n",
      "Extracting features from song_id: 58\n",
      "Extracting features from song_id: 62\n",
      "Extracting features from song_id: 67\n",
      "Extracting features from song_id: 70\n",
      "Extracting features from song_id: 74\n",
      "Extracting features from song_id: 76\n",
      "Extracting features from song_id: 81\n"
     ]
    },
    {
     "name": "stderr",
     "output_type": "stream",
     "text": [
      "/Library/Frameworks/Python.framework/Versions/3.11/lib/python3.11/site-packages/joblib/externals/loky/process_executor.py:752: UserWarning: A worker stopped while some jobs were given to the executor. This can be caused by a too short worker timeout or by a memory leak.\n",
      "  warnings.warn(\n"
     ]
    },
    {
     "name": "stdout",
     "output_type": "stream",
     "text": [
      "Extracting features from song_id: 87\n",
      "Extracting features from song_id: 85\n",
      "Extracting features from song_id: 89\n",
      "Extracting features from song_id: 90\n",
      "Extracting features from song_id: 97\n",
      "Extracting features from song_id: 99\n"
     ]
    },
    {
     "name": "stderr",
     "output_type": "stream",
     "text": [
      "/Library/Frameworks/Python.framework/Versions/3.11/lib/python3.11/site-packages/joblib/externals/loky/process_executor.py:752: UserWarning: A worker stopped while some jobs were given to the executor. This can be caused by a too short worker timeout or by a memory leak.\n",
      "  warnings.warn(\n"
     ]
    },
    {
     "name": "stdout",
     "output_type": "stream",
     "text": [
      "Extracting features from song_id: 100\n",
      "Extracting features from song_id: 104\n",
      "Extracting features from song_id: 108\n",
      "Extracting features from song_id: 109\n",
      "Extracting features from song_id: 111\n",
      "Extracting features from song_id: 114\n",
      "Extracting features from song_id: 117\n",
      "Extracting features from song_id: 120\n",
      "Extracting features from song_id: 126\n",
      "Extracting features from song_id: 132\n",
      "Extracting features from song_id: 136\n",
      "Extracting features from song_id: 142\n",
      "Extracting features from song_id: 144\n",
      "Extracting features from song_id: 148\n",
      "Extracting features from song_id: 149\n",
      "Extracting features from song_id: 153\n",
      "Extracting features from song_id: 156\n",
      "Extracting features from song_id: 158\n",
      "Extracting features from song_id: 168\n",
      "Extracting features from song_id: 169\n",
      "Extracting features from song_id: 170\n",
      "Extracting features from song_id: 171\n",
      "Extracting features from song_id: 172\n",
      "Extracting features from song_id: 174\n",
      "Extracting features from song_id: 175\n"
     ]
    },
    {
     "name": "stderr",
     "output_type": "stream",
     "text": [
      "/Library/Frameworks/Python.framework/Versions/3.11/lib/python3.11/site-packages/joblib/externals/loky/process_executor.py:752: UserWarning: A worker stopped while some jobs were given to the executor. This can be caused by a too short worker timeout or by a memory leak.\n",
      "  warnings.warn(\n"
     ]
    },
    {
     "name": "stdout",
     "output_type": "stream",
     "text": [
      "Extracting features from song_id: 182\n",
      "Extracting features from song_id: 192\n",
      "Extracting features from song_id: 195\n",
      "Extracting features from song_id: 202\n",
      "Extracting features from song_id: 204\n",
      "Extracting features from song_id: 205\n",
      "Extracting features from song_id: 206\n",
      "Extracting features from song_id: 207\n",
      "Extracting features from song_id: 208\n",
      "Extracting features from song_id: 209\n",
      "Extracting features from song_id: 216\n"
     ]
    },
    {
     "name": "stderr",
     "output_type": "stream",
     "text": [
      "/Library/Frameworks/Python.framework/Versions/3.11/lib/python3.11/site-packages/joblib/externals/loky/process_executor.py:752: UserWarning: A worker stopped while some jobs were given to the executor. This can be caused by a too short worker timeout or by a memory leak.\n",
      "  warnings.warn(\n"
     ]
    },
    {
     "name": "stdout",
     "output_type": "stream",
     "text": [
      "Extracting features from song_id: 222\n",
      "Extracting features from song_id: 223\n",
      "Extracting features from song_id: 228\n",
      "Extracting features from song_id: 233\n",
      "Extracting features from song_id: 239\n",
      "Extracting features from song_id: 243\n",
      "Extracting features from song_id: 245\n",
      "Extracting features from song_id: 257\n",
      "Extracting features from song_id: 258\n"
     ]
    },
    {
     "name": "stderr",
     "output_type": "stream",
     "text": [
      "/Library/Frameworks/Python.framework/Versions/3.11/lib/python3.11/site-packages/joblib/externals/loky/process_executor.py:752: UserWarning: A worker stopped while some jobs were given to the executor. This can be caused by a too short worker timeout or by a memory leak.\n",
      "  warnings.warn(\n"
     ]
    },
    {
     "name": "stdout",
     "output_type": "stream",
     "text": [
      "Extracting features from song_id: 264\n",
      "Extracting features from song_id: 266\n"
     ]
    },
    {
     "name": "stderr",
     "output_type": "stream",
     "text": [
      "/Library/Frameworks/Python.framework/Versions/3.11/lib/python3.11/site-packages/joblib/externals/loky/process_executor.py:752: UserWarning: A worker stopped while some jobs were given to the executor. This can be caused by a too short worker timeout or by a memory leak.\n",
      "  warnings.warn(\n"
     ]
    },
    {
     "name": "stdout",
     "output_type": "stream",
     "text": [
      "Extracting features from song_id: 268\n",
      "Extracting features from song_id: 269\n",
      "Extracting features from song_id: 273\n",
      "Extracting features from song_id: 275\n",
      "Extracting features from song_id: 276\n",
      "Extracting features from song_id: 279\n",
      "Extracting features from song_id: 282\n",
      "Extracting features from song_id: 283\n",
      "Extracting features from song_id: 285\n",
      "Extracting features from song_id: 289\n",
      "Extracting features from song_id: 297\n"
     ]
    },
    {
     "name": "stderr",
     "output_type": "stream",
     "text": [
      "/Library/Frameworks/Python.framework/Versions/3.11/lib/python3.11/site-packages/joblib/externals/loky/process_executor.py:752: UserWarning: A worker stopped while some jobs were given to the executor. This can be caused by a too short worker timeout or by a memory leak.\n",
      "  warnings.warn(\n"
     ]
    },
    {
     "name": "stdout",
     "output_type": "stream",
     "text": [
      "Extracting features from song_id: 300\n",
      "Extracting features from song_id: 303\n"
     ]
    },
    {
     "name": "stderr",
     "output_type": "stream",
     "text": [
      "/Library/Frameworks/Python.framework/Versions/3.11/lib/python3.11/site-packages/joblib/externals/loky/process_executor.py:752: UserWarning: A worker stopped while some jobs were given to the executor. This can be caused by a too short worker timeout or by a memory leak.\n",
      "  warnings.warn(\n"
     ]
    },
    {
     "name": "stdout",
     "output_type": "stream",
     "text": [
      "Extracting features from song_id: 309\n",
      "Extracting features from song_id: 312\n",
      "Extracting features from song_id: 315\n",
      "Extracting features from song_id: 319\n",
      "Extracting features from song_id: 320\n"
     ]
    },
    {
     "name": "stderr",
     "output_type": "stream",
     "text": [
      "/Library/Frameworks/Python.framework/Versions/3.11/lib/python3.11/site-packages/joblib/externals/loky/process_executor.py:752: UserWarning: A worker stopped while some jobs were given to the executor. This can be caused by a too short worker timeout or by a memory leak.\n",
      "  warnings.warn(\n"
     ]
    },
    {
     "name": "stdout",
     "output_type": "stream",
     "text": [
      "Extracting features from song_id: 325\n",
      "Extracting features from song_id: 327\n",
      "Extracting features from song_id: 329\n",
      "Extracting features from song_id: 332\n"
     ]
    },
    {
     "name": "stderr",
     "output_type": "stream",
     "text": [
      "/Library/Frameworks/Python.framework/Versions/3.11/lib/python3.11/site-packages/joblib/externals/loky/process_executor.py:752: UserWarning: A worker stopped while some jobs were given to the executor. This can be caused by a too short worker timeout or by a memory leak.\n",
      "  warnings.warn(\n"
     ]
    },
    {
     "name": "stdout",
     "output_type": "stream",
     "text": [
      "Extracting features from song_id: 333\n",
      "Extracting features from song_id: 341\n",
      "Extracting features from song_id: 342\n",
      "Extracting features from song_id: 344\n",
      "Extracting features from song_id: 349\n"
     ]
    },
    {
     "name": "stderr",
     "output_type": "stream",
     "text": [
      "/Library/Frameworks/Python.framework/Versions/3.11/lib/python3.11/site-packages/joblib/externals/loky/process_executor.py:752: UserWarning: A worker stopped while some jobs were given to the executor. This can be caused by a too short worker timeout or by a memory leak.\n",
      "  warnings.warn(\n"
     ]
    },
    {
     "name": "stdout",
     "output_type": "stream",
     "text": [
      "Extracting features from song_id: 356\n",
      "Extracting features from song_id: 360\n",
      "Extracting features from song_id: 361\n",
      "Extracting features from song_id: 363\n",
      "Extracting features from song_id: 364\n",
      "Extracting features from song_id: 367\n",
      "Extracting features from song_id: 372\n",
      "Extracting features from song_id: 373\n",
      "Extracting features from song_id: 375\n"
     ]
    },
    {
     "name": "stderr",
     "output_type": "stream",
     "text": [
      "/Library/Frameworks/Python.framework/Versions/3.11/lib/python3.11/site-packages/joblib/externals/loky/process_executor.py:752: UserWarning: A worker stopped while some jobs were given to the executor. This can be caused by a too short worker timeout or by a memory leak.\n",
      "  warnings.warn(\n"
     ]
    },
    {
     "name": "stdout",
     "output_type": "stream",
     "text": [
      "Extracting features from song_id: 384\n"
     ]
    },
    {
     "name": "stderr",
     "output_type": "stream",
     "text": [
      "/Library/Frameworks/Python.framework/Versions/3.11/lib/python3.11/site-packages/joblib/externals/loky/process_executor.py:752: UserWarning: A worker stopped while some jobs were given to the executor. This can be caused by a too short worker timeout or by a memory leak.\n",
      "  warnings.warn(\n"
     ]
    },
    {
     "name": "stdout",
     "output_type": "stream",
     "text": [
      "Extracting features from song_id: 388\n",
      "Extracting features from song_id: 390\n",
      "Extracting features from song_id: 395\n",
      "Extracting features from song_id: 397\n",
      "Extracting features from song_id: 409\n",
      "Extracting features from song_id: 411\n",
      "Extracting features from song_id: 414\n"
     ]
    },
    {
     "name": "stderr",
     "output_type": "stream",
     "text": [
      "/Library/Frameworks/Python.framework/Versions/3.11/lib/python3.11/site-packages/joblib/externals/loky/process_executor.py:752: UserWarning: A worker stopped while some jobs were given to the executor. This can be caused by a too short worker timeout or by a memory leak.\n",
      "  warnings.warn(\n"
     ]
    },
    {
     "name": "stdout",
     "output_type": "stream",
     "text": [
      "Extracting features from song_id: 418\n",
      "Extracting features from song_id: 422\n",
      "Extracting features from song_id: 427\n",
      "Extracting features from song_id: 428\n"
     ]
    },
    {
     "name": "stderr",
     "output_type": "stream",
     "text": [
      "/Library/Frameworks/Python.framework/Versions/3.11/lib/python3.11/site-packages/joblib/externals/loky/process_executor.py:752: UserWarning: A worker stopped while some jobs were given to the executor. This can be caused by a too short worker timeout or by a memory leak.\n",
      "  warnings.warn(\n"
     ]
    },
    {
     "name": "stdout",
     "output_type": "stream",
     "text": [
      "Extracting features from song_id: 429\n",
      "Extracting features from song_id: 434\n",
      "Extracting features from song_id: 439\n",
      "Extracting features from song_id: 440\n",
      "Extracting features from song_id: 442\n",
      "Extracting features from song_id: 451\n",
      "Extracting features from song_id: 461\n",
      "Extracting features from song_id: 465\n"
     ]
    },
    {
     "name": "stderr",
     "output_type": "stream",
     "text": [
      "/Library/Frameworks/Python.framework/Versions/3.11/lib/python3.11/site-packages/joblib/externals/loky/process_executor.py:752: UserWarning: A worker stopped while some jobs were given to the executor. This can be caused by a too short worker timeout or by a memory leak.\n",
      "  warnings.warn(\n"
     ]
    },
    {
     "name": "stdout",
     "output_type": "stream",
     "text": [
      "Extracting features from song_id: 468\n",
      "Extracting features from song_id: 469\n"
     ]
    },
    {
     "name": "stderr",
     "output_type": "stream",
     "text": [
      "/Library/Frameworks/Python.framework/Versions/3.11/lib/python3.11/site-packages/joblib/externals/loky/process_executor.py:752: UserWarning: A worker stopped while some jobs were given to the executor. This can be caused by a too short worker timeout or by a memory leak.\n",
      "  warnings.warn(\n"
     ]
    },
    {
     "name": "stdout",
     "output_type": "stream",
     "text": [
      "Extracting features from song_id: 471\n",
      "Extracting features from song_id: 480\n",
      "Extracting features from song_id: 490\n",
      "Extracting features from song_id: 491\n",
      "Extracting features from song_id: 493\n",
      "Extracting features from song_id: 499\n",
      "Extracting features from song_id: 504\n",
      "Extracting features from song_id: 506\n",
      "Extracting features from song_id: 507\n",
      "Extracting features from song_id: 508\n",
      "Extracting features from song_id: 510\n",
      "Extracting features from song_id: 514\n",
      "Extracting features from song_id: 516\n"
     ]
    },
    {
     "name": "stderr",
     "output_type": "stream",
     "text": [
      "/Library/Frameworks/Python.framework/Versions/3.11/lib/python3.11/site-packages/joblib/externals/loky/process_executor.py:752: UserWarning: A worker stopped while some jobs were given to the executor. This can be caused by a too short worker timeout or by a memory leak.\n",
      "  warnings.warn(\n"
     ]
    },
    {
     "name": "stdout",
     "output_type": "stream",
     "text": [
      "Extracting features from song_id: 517\n"
     ]
    },
    {
     "name": "stderr",
     "output_type": "stream",
     "text": [
      "/Library/Frameworks/Python.framework/Versions/3.11/lib/python3.11/site-packages/joblib/externals/loky/process_executor.py:752: UserWarning: A worker stopped while some jobs were given to the executor. This can be caused by a too short worker timeout or by a memory leak.\n",
      "  warnings.warn(\n"
     ]
    },
    {
     "name": "stdout",
     "output_type": "stream",
     "text": [
      "Extracting features from song_id: 518\n",
      "Extracting features from song_id: 520\n",
      "Extracting features from song_id: 523\n",
      "Extracting features from song_id: 524\n",
      "Extracting features from song_id: 529\n",
      "Extracting features from song_id: 532\n",
      "Extracting features from song_id: 541\n"
     ]
    },
    {
     "name": "stderr",
     "output_type": "stream",
     "text": [
      "/Library/Frameworks/Python.framework/Versions/3.11/lib/python3.11/site-packages/joblib/externals/loky/process_executor.py:752: UserWarning: A worker stopped while some jobs were given to the executor. This can be caused by a too short worker timeout or by a memory leak.\n",
      "  warnings.warn(\n"
     ]
    },
    {
     "name": "stdout",
     "output_type": "stream",
     "text": [
      "Extracting features from song_id: 544\n",
      "Extracting features from song_id: 548\n",
      "Extracting features from song_id: 550\n",
      "Extracting features from song_id: 555\n",
      "Extracting features from song_id: 558\n",
      "Extracting features from song_id: 562\n",
      "Extracting features from song_id: 565\n",
      "Extracting features from song_id: 571\n"
     ]
    },
    {
     "name": "stderr",
     "output_type": "stream",
     "text": [
      "/Library/Frameworks/Python.framework/Versions/3.11/lib/python3.11/site-packages/joblib/externals/loky/process_executor.py:752: UserWarning: A worker stopped while some jobs were given to the executor. This can be caused by a too short worker timeout or by a memory leak.\n",
      "  warnings.warn(\n"
     ]
    },
    {
     "name": "stdout",
     "output_type": "stream",
     "text": [
      "Extracting features from song_id: 576\n",
      "Extracting features from song_id: 578\n"
     ]
    },
    {
     "name": "stderr",
     "output_type": "stream",
     "text": [
      "/Library/Frameworks/Python.framework/Versions/3.11/lib/python3.11/site-packages/joblib/externals/loky/process_executor.py:752: UserWarning: A worker stopped while some jobs were given to the executor. This can be caused by a too short worker timeout or by a memory leak.\n",
      "  warnings.warn(\n"
     ]
    },
    {
     "name": "stdout",
     "output_type": "stream",
     "text": [
      "Extracting features from song_id: 588\n",
      "Extracting features from song_id: 591\n"
     ]
    },
    {
     "name": "stderr",
     "output_type": "stream",
     "text": [
      "/Library/Frameworks/Python.framework/Versions/3.11/lib/python3.11/site-packages/joblib/externals/loky/process_executor.py:752: UserWarning: A worker stopped while some jobs were given to the executor. This can be caused by a too short worker timeout or by a memory leak.\n",
      "  warnings.warn(\n"
     ]
    },
    {
     "name": "stdout",
     "output_type": "stream",
     "text": [
      "Extracting features from song_id: 594\n",
      "Extracting features from song_id: 597\n",
      "Extracting features from song_id: 598\n",
      "Extracting features from song_id: 600\n",
      "Extracting features from song_id: 602\n",
      "Extracting features from song_id: 603\n",
      "Extracting features from song_id: 604\n",
      "Extracting features from song_id: 609\n"
     ]
    },
    {
     "name": "stderr",
     "output_type": "stream",
     "text": [
      "/Library/Frameworks/Python.framework/Versions/3.11/lib/python3.11/site-packages/joblib/externals/loky/process_executor.py:752: UserWarning: A worker stopped while some jobs were given to the executor. This can be caused by a too short worker timeout or by a memory leak.\n",
      "  warnings.warn(\n"
     ]
    },
    {
     "name": "stdout",
     "output_type": "stream",
     "text": [
      "Extracting features from song_id: 619\n",
      "Extracting features from song_id: 613\n",
      "Extracting features from song_id: 621\n"
     ]
    },
    {
     "name": "stderr",
     "output_type": "stream",
     "text": [
      "/Library/Frameworks/Python.framework/Versions/3.11/lib/python3.11/site-packages/joblib/externals/loky/process_executor.py:752: UserWarning: A worker stopped while some jobs were given to the executor. This can be caused by a too short worker timeout or by a memory leak.\n",
      "  warnings.warn(\n"
     ]
    },
    {
     "name": "stdout",
     "output_type": "stream",
     "text": [
      "Extracting features from song_id: 627\n",
      "Extracting features from song_id: 629\n"
     ]
    },
    {
     "name": "stderr",
     "output_type": "stream",
     "text": [
      "/Library/Frameworks/Python.framework/Versions/3.11/lib/python3.11/site-packages/joblib/externals/loky/process_executor.py:752: UserWarning: A worker stopped while some jobs were given to the executor. This can be caused by a too short worker timeout or by a memory leak.\n",
      "  warnings.warn(\n"
     ]
    },
    {
     "name": "stdout",
     "output_type": "stream",
     "text": [
      "Extracting features from song_id: 634\n",
      "Extracting features from song_id: 635\n",
      "Extracting features from song_id: 638\n",
      "Extracting features from song_id: 639\n",
      "Extracting features from song_id: 649\n",
      "Extracting features from song_id: 652\n",
      "Extracting features from song_id: 659\n",
      "Extracting features from song_id: 667\n",
      "Extracting features from song_id: 672\n",
      "Extracting features from song_id: 673\n",
      "Extracting features from song_id: 676\n",
      "Extracting features from song_id: 677\n",
      "Extracting features from song_id: 680\n",
      "Extracting features from song_id: 689\n",
      "Extracting features from song_id: 697\n",
      "Extracting features from song_id: 699\n",
      "Extracting features from song_id: 706\n"
     ]
    },
    {
     "name": "stderr",
     "output_type": "stream",
     "text": [
      "/Library/Frameworks/Python.framework/Versions/3.11/lib/python3.11/site-packages/joblib/externals/loky/process_executor.py:752: UserWarning: A worker stopped while some jobs were given to the executor. This can be caused by a too short worker timeout or by a memory leak.\n",
      "  warnings.warn(\n"
     ]
    },
    {
     "name": "stdout",
     "output_type": "stream",
     "text": [
      "Extracting features from song_id: 707\n"
     ]
    },
    {
     "name": "stderr",
     "output_type": "stream",
     "text": [
      "/Library/Frameworks/Python.framework/Versions/3.11/lib/python3.11/site-packages/joblib/externals/loky/process_executor.py:752: UserWarning: A worker stopped while some jobs were given to the executor. This can be caused by a too short worker timeout or by a memory leak.\n",
      "  warnings.warn(\n"
     ]
    },
    {
     "name": "stdout",
     "output_type": "stream",
     "text": [
      "Extracting features from song_id: 709\n",
      "Extracting features from song_id: 712\n",
      "Extracting features from song_id: 716\n",
      "Extracting features from song_id: 717\n",
      "Extracting features from song_id: 719\n",
      "Extracting features from song_id: 720\n",
      "Extracting features from song_id: 723\n",
      "Extracting features from song_id: 726\n",
      "Extracting features from song_id: 727\n",
      "Extracting features from song_id: 731\n"
     ]
    },
    {
     "name": "stderr",
     "output_type": "stream",
     "text": [
      "/Library/Frameworks/Python.framework/Versions/3.11/lib/python3.11/site-packages/joblib/externals/loky/process_executor.py:752: UserWarning: A worker stopped while some jobs were given to the executor. This can be caused by a too short worker timeout or by a memory leak.\n",
      "  warnings.warn(\n"
     ]
    },
    {
     "name": "stdout",
     "output_type": "stream",
     "text": [
      "Extracting features from song_id: 736\n"
     ]
    },
    {
     "name": "stderr",
     "output_type": "stream",
     "text": [
      "/Library/Frameworks/Python.framework/Versions/3.11/lib/python3.11/site-packages/joblib/externals/loky/process_executor.py:752: UserWarning: A worker stopped while some jobs were given to the executor. This can be caused by a too short worker timeout or by a memory leak.\n",
      "  warnings.warn(\n"
     ]
    },
    {
     "name": "stdout",
     "output_type": "stream",
     "text": [
      "Extracting features from song_id: 739\n",
      "Extracting features from song_id: 741\n",
      "Extracting features from song_id: 742\n"
     ]
    },
    {
     "name": "stderr",
     "output_type": "stream",
     "text": [
      "/Library/Frameworks/Python.framework/Versions/3.11/lib/python3.11/site-packages/joblib/externals/loky/process_executor.py:752: UserWarning: A worker stopped while some jobs were given to the executor. This can be caused by a too short worker timeout or by a memory leak.\n",
      "  warnings.warn(\n"
     ]
    },
    {
     "name": "stdout",
     "output_type": "stream",
     "text": [
      "Extracting features from song_id: 743\n",
      "Extracting features from song_id: 744\n",
      "Extracting features from song_id: 752\n",
      "Extracting features from song_id: 754\n",
      "Extracting features from song_id: 757\n",
      "Extracting features from song_id: 759\n",
      "Extracting features from song_id: 761\n"
     ]
    },
    {
     "name": "stderr",
     "output_type": "stream",
     "text": [
      "/Library/Frameworks/Python.framework/Versions/3.11/lib/python3.11/site-packages/joblib/externals/loky/process_executor.py:752: UserWarning: A worker stopped while some jobs were given to the executor. This can be caused by a too short worker timeout or by a memory leak.\n",
      "  warnings.warn(\n"
     ]
    },
    {
     "name": "stdout",
     "output_type": "stream",
     "text": [
      "Extracting features from song_id: 768\n",
      "Extracting features from song_id: 776\n"
     ]
    },
    {
     "name": "stderr",
     "output_type": "stream",
     "text": [
      "/Library/Frameworks/Python.framework/Versions/3.11/lib/python3.11/site-packages/joblib/externals/loky/process_executor.py:752: UserWarning: A worker stopped while some jobs were given to the executor. This can be caused by a too short worker timeout or by a memory leak.\n",
      "  warnings.warn(\n"
     ]
    },
    {
     "name": "stdout",
     "output_type": "stream",
     "text": [
      "Extracting features from song_id: 780\n",
      "Extracting features from song_id: 784\n",
      "Extracting features from song_id: 786\n",
      "Extracting features from song_id: 789\n"
     ]
    },
    {
     "name": "stderr",
     "output_type": "stream",
     "text": [
      "/Library/Frameworks/Python.framework/Versions/3.11/lib/python3.11/site-packages/joblib/externals/loky/process_executor.py:752: UserWarning: A worker stopped while some jobs were given to the executor. This can be caused by a too short worker timeout or by a memory leak.\n",
      "  warnings.warn(\n"
     ]
    },
    {
     "name": "stdout",
     "output_type": "stream",
     "text": [
      "Extracting features from song_id: 790\n",
      "Extracting features from song_id: 791\n",
      "Extracting features from song_id: 793\n",
      "Extracting features from song_id: 795\n",
      "Extracting features from song_id: 796\n",
      "Extracting features from song_id: 807\n",
      "Extracting features from song_id: 812\n"
     ]
    },
    {
     "name": "stderr",
     "output_type": "stream",
     "text": [
      "/Library/Frameworks/Python.framework/Versions/3.11/lib/python3.11/site-packages/joblib/externals/loky/process_executor.py:752: UserWarning: A worker stopped while some jobs were given to the executor. This can be caused by a too short worker timeout or by a memory leak.\n",
      "  warnings.warn(\n"
     ]
    },
    {
     "name": "stdout",
     "output_type": "stream",
     "text": [
      "Extracting features from song_id: 814\n"
     ]
    },
    {
     "name": "stderr",
     "output_type": "stream",
     "text": [
      "/Library/Frameworks/Python.framework/Versions/3.11/lib/python3.11/site-packages/joblib/externals/loky/process_executor.py:752: UserWarning: A worker stopped while some jobs were given to the executor. This can be caused by a too short worker timeout or by a memory leak.\n",
      "  warnings.warn(\n"
     ]
    },
    {
     "name": "stdout",
     "output_type": "stream",
     "text": [
      "Extracting features from song_id: 816\n",
      "Extracting features from song_id: 818\n",
      "Extracting features from song_id: 820\n",
      "Extracting features from song_id: 822\n",
      "Extracting features from song_id: 826\n",
      "Extracting features from song_id: 835\n",
      "Extracting features from song_id: 839\n",
      "Extracting features from song_id: 843\n",
      "Extracting features from song_id: 848\n",
      "Extracting features from song_id: 862\n"
     ]
    },
    {
     "name": "stderr",
     "output_type": "stream",
     "text": [
      "/Library/Frameworks/Python.framework/Versions/3.11/lib/python3.11/site-packages/joblib/externals/loky/process_executor.py:752: UserWarning: A worker stopped while some jobs were given to the executor. This can be caused by a too short worker timeout or by a memory leak.\n",
      "  warnings.warn(\n"
     ]
    },
    {
     "name": "stdout",
     "output_type": "stream",
     "text": [
      "Extracting features from song_id: 863\n"
     ]
    },
    {
     "name": "stderr",
     "output_type": "stream",
     "text": [
      "/Library/Frameworks/Python.framework/Versions/3.11/lib/python3.11/site-packages/joblib/externals/loky/process_executor.py:752: UserWarning: A worker stopped while some jobs were given to the executor. This can be caused by a too short worker timeout or by a memory leak.\n",
      "  warnings.warn(\n"
     ]
    },
    {
     "name": "stdout",
     "output_type": "stream",
     "text": [
      "Extracting features from song_id: 868\n",
      "Extracting features from song_id: 872\n",
      "Extracting features from song_id: 873\n",
      "Extracting features from song_id: 874\n",
      "Extracting features from song_id: 875\n",
      "Extracting features from song_id: 876\n",
      "Extracting features from song_id: 878\n",
      "Extracting features from song_id: 883\n",
      "Extracting features from song_id: 886\n",
      "Extracting features from song_id: 897\n",
      "Extracting features from song_id: 898\n"
     ]
    },
    {
     "name": "stderr",
     "output_type": "stream",
     "text": [
      "/Library/Frameworks/Python.framework/Versions/3.11/lib/python3.11/site-packages/joblib/externals/loky/process_executor.py:752: UserWarning: A worker stopped while some jobs were given to the executor. This can be caused by a too short worker timeout or by a memory leak.\n",
      "  warnings.warn(\n"
     ]
    },
    {
     "name": "stdout",
     "output_type": "stream",
     "text": [
      "Extracting features from song_id: 900\n",
      "Extracting features from song_id: 905\n",
      "Extracting features from song_id: 908\n",
      "Extracting features from song_id: 910\n"
     ]
    },
    {
     "name": "stderr",
     "output_type": "stream",
     "text": [
      "/Library/Frameworks/Python.framework/Versions/3.11/lib/python3.11/site-packages/joblib/externals/loky/process_executor.py:752: UserWarning: A worker stopped while some jobs were given to the executor. This can be caused by a too short worker timeout or by a memory leak.\n",
      "  warnings.warn(\n"
     ]
    },
    {
     "name": "stdout",
     "output_type": "stream",
     "text": [
      "Extracting features from song_id: 911\n",
      "Extracting features from song_id: 912\n",
      "Extracting features from song_id: 914\n",
      "Extracting features from song_id: 915\n",
      "Extracting features from song_id: 916\n",
      "Extracting features from song_id: 917\n",
      "Extracting features from song_id: 920\n",
      "Extracting features from song_id: 923\n",
      "Extracting features from song_id: 924\n"
     ]
    },
    {
     "name": "stderr",
     "output_type": "stream",
     "text": [
      "/Library/Frameworks/Python.framework/Versions/3.11/lib/python3.11/site-packages/joblib/externals/loky/process_executor.py:752: UserWarning: A worker stopped while some jobs were given to the executor. This can be caused by a too short worker timeout or by a memory leak.\n",
      "  warnings.warn(\n"
     ]
    },
    {
     "name": "stdout",
     "output_type": "stream",
     "text": [
      "Extracting features from song_id: 925\n"
     ]
    },
    {
     "name": "stderr",
     "output_type": "stream",
     "text": [
      "/Library/Frameworks/Python.framework/Versions/3.11/lib/python3.11/site-packages/joblib/externals/loky/process_executor.py:752: UserWarning: A worker stopped while some jobs were given to the executor. This can be caused by a too short worker timeout or by a memory leak.\n",
      "  warnings.warn(\n"
     ]
    },
    {
     "name": "stdout",
     "output_type": "stream",
     "text": [
      "Extracting features from song_id: 934\n"
     ]
    },
    {
     "name": "stderr",
     "output_type": "stream",
     "text": [
      "/Library/Frameworks/Python.framework/Versions/3.11/lib/python3.11/site-packages/joblib/externals/loky/process_executor.py:752: UserWarning: A worker stopped while some jobs were given to the executor. This can be caused by a too short worker timeout or by a memory leak.\n",
      "  warnings.warn(\n"
     ]
    },
    {
     "name": "stdout",
     "output_type": "stream",
     "text": [
      "Extracting features from song_id: 936\n",
      "Extracting features from song_id: 937\n",
      "Extracting features from song_id: 941\n",
      "Extracting features from song_id: 945\n",
      "Extracting features from song_id: 946\n",
      "Extracting features from song_id: 947\n",
      "Extracting features from song_id: 951\n",
      "Extracting features from song_id: 954\n"
     ]
    },
    {
     "name": "stderr",
     "output_type": "stream",
     "text": [
      "/Library/Frameworks/Python.framework/Versions/3.11/lib/python3.11/site-packages/joblib/externals/loky/process_executor.py:752: UserWarning: A worker stopped while some jobs were given to the executor. This can be caused by a too short worker timeout or by a memory leak.\n",
      "  warnings.warn(\n"
     ]
    },
    {
     "name": "stdout",
     "output_type": "stream",
     "text": [
      "Extracting features from song_id: 955\n",
      "Extracting features from song_id: 956\n",
      "Extracting features from song_id: 957\n",
      "Extracting features from song_id: 962\n"
     ]
    },
    {
     "name": "stderr",
     "output_type": "stream",
     "text": [
      "/Library/Frameworks/Python.framework/Versions/3.11/lib/python3.11/site-packages/joblib/externals/loky/process_executor.py:752: UserWarning: A worker stopped while some jobs were given to the executor. This can be caused by a too short worker timeout or by a memory leak.\n",
      "  warnings.warn(\n"
     ]
    },
    {
     "name": "stdout",
     "output_type": "stream",
     "text": [
      "Extracting features from song_id: 965\n"
     ]
    },
    {
     "name": "stderr",
     "output_type": "stream",
     "text": [
      "/Library/Frameworks/Python.framework/Versions/3.11/lib/python3.11/site-packages/joblib/externals/loky/process_executor.py:752: UserWarning: A worker stopped while some jobs were given to the executor. This can be caused by a too short worker timeout or by a memory leak.\n",
      "  warnings.warn(\n"
     ]
    },
    {
     "name": "stdout",
     "output_type": "stream",
     "text": [
      "Extracting features from song_id: 974\n",
      "Extracting features from song_id: 972\n",
      "Extracting features from song_id: 975\n",
      "Extracting features from song_id: 977\n",
      "Extracting features from song_id: 984\n"
     ]
    },
    {
     "name": "stderr",
     "output_type": "stream",
     "text": [
      "/Library/Frameworks/Python.framework/Versions/3.11/lib/python3.11/site-packages/joblib/externals/loky/process_executor.py:752: UserWarning: A worker stopped while some jobs were given to the executor. This can be caused by a too short worker timeout or by a memory leak.\n",
      "  warnings.warn(\n"
     ]
    },
    {
     "name": "stdout",
     "output_type": "stream",
     "text": [
      "Extracting features from song_id: 987\n",
      "Extracting features from song_id: 994\n",
      "Extracting features from song_id: 995\n",
      "Extracting features from song_id: 996\n"
     ]
    },
    {
     "data": {
      "text/html": [
       "<div>\n",
       "<style scoped>\n",
       "    .dataframe tbody tr th:only-of-type {\n",
       "        vertical-align: middle;\n",
       "    }\n",
       "\n",
       "    .dataframe tbody tr th {\n",
       "        vertical-align: top;\n",
       "    }\n",
       "\n",
       "    .dataframe thead th {\n",
       "        text-align: right;\n",
       "    }\n",
       "</style>\n",
       "<table border=\"1\" class=\"dataframe\">\n",
       "  <thead>\n",
       "    <tr style=\"text-align: right;\">\n",
       "      <th></th>\n",
       "      <th>song_id</th>\n",
       "      <th>F0semitoneFrom27.5Hz_sma3nz_amean</th>\n",
       "      <th>F0semitoneFrom27.5Hz_sma3nz_stddevNorm</th>\n",
       "      <th>F0semitoneFrom27.5Hz_sma3nz_percentile20.0</th>\n",
       "      <th>F0semitoneFrom27.5Hz_sma3nz_percentile50.0</th>\n",
       "      <th>F0semitoneFrom27.5Hz_sma3nz_percentile80.0</th>\n",
       "      <th>F0semitoneFrom27.5Hz_sma3nz_pctlrange0-2</th>\n",
       "      <th>F0semitoneFrom27.5Hz_sma3nz_meanRisingSlope</th>\n",
       "      <th>F0semitoneFrom27.5Hz_sma3nz_stddevRisingSlope</th>\n",
       "      <th>F0semitoneFrom27.5Hz_sma3nz_meanFallingSlope</th>\n",
       "      <th>...</th>\n",
       "      <th>slopeUV0-500_sma3nz_amean</th>\n",
       "      <th>slopeUV500-1500_sma3nz_amean</th>\n",
       "      <th>spectralFluxUV_sma3nz_amean</th>\n",
       "      <th>loudnessPeaksPerSec</th>\n",
       "      <th>VoicedSegmentsPerSec</th>\n",
       "      <th>MeanVoicedSegmentLengthSec</th>\n",
       "      <th>StddevVoicedSegmentLengthSec</th>\n",
       "      <th>MeanUnvoicedSegmentLength</th>\n",
       "      <th>StddevUnvoicedSegmentLength</th>\n",
       "      <th>equivalentSoundLevel_dBp</th>\n",
       "    </tr>\n",
       "  </thead>\n",
       "  <tbody>\n",
       "    <tr>\n",
       "      <th>0</th>\n",
       "      <td>5</td>\n",
       "      <td>31.631935</td>\n",
       "      <td>0.434963</td>\n",
       "      <td>15.156862</td>\n",
       "      <td>33.399643</td>\n",
       "      <td>45.943863</td>\n",
       "      <td>30.787001</td>\n",
       "      <td>498.979980</td>\n",
       "      <td>653.866211</td>\n",
       "      <td>273.856079</td>\n",
       "      <td>...</td>\n",
       "      <td>-0.020799</td>\n",
       "      <td>-0.007142</td>\n",
       "      <td>3.825121</td>\n",
       "      <td>1.956022</td>\n",
       "      <td>3.244838</td>\n",
       "      <td>0.099840</td>\n",
       "      <td>0.128268</td>\n",
       "      <td>0.201914</td>\n",
       "      <td>0.309628</td>\n",
       "      <td>-15.400094</td>\n",
       "    </tr>\n",
       "    <tr>\n",
       "      <th>1</th>\n",
       "      <td>6</td>\n",
       "      <td>29.125586</td>\n",
       "      <td>0.298632</td>\n",
       "      <td>20.145454</td>\n",
       "      <td>27.247652</td>\n",
       "      <td>36.643261</td>\n",
       "      <td>16.497807</td>\n",
       "      <td>186.415665</td>\n",
       "      <td>271.884430</td>\n",
       "      <td>133.420929</td>\n",
       "      <td>...</td>\n",
       "      <td>0.052442</td>\n",
       "      <td>-0.004767</td>\n",
       "      <td>1.831974</td>\n",
       "      <td>2.016162</td>\n",
       "      <td>0.624566</td>\n",
       "      <td>1.481438</td>\n",
       "      <td>2.588996</td>\n",
       "      <td>0.118254</td>\n",
       "      <td>0.513290</td>\n",
       "      <td>-19.109070</td>\n",
       "    </tr>\n",
       "    <tr>\n",
       "      <th>2</th>\n",
       "      <td>8</td>\n",
       "      <td>23.060804</td>\n",
       "      <td>0.344318</td>\n",
       "      <td>16.906231</td>\n",
       "      <td>19.932571</td>\n",
       "      <td>31.065168</td>\n",
       "      <td>14.158937</td>\n",
       "      <td>214.280319</td>\n",
       "      <td>327.853699</td>\n",
       "      <td>146.277267</td>\n",
       "      <td>...</td>\n",
       "      <td>-0.027237</td>\n",
       "      <td>-0.005838</td>\n",
       "      <td>1.583399</td>\n",
       "      <td>3.261533</td>\n",
       "      <td>2.014916</td>\n",
       "      <td>0.423247</td>\n",
       "      <td>0.450914</td>\n",
       "      <td>0.067478</td>\n",
       "      <td>0.080230</td>\n",
       "      <td>-18.705963</td>\n",
       "    </tr>\n",
       "    <tr>\n",
       "      <th>3</th>\n",
       "      <td>9</td>\n",
       "      <td>31.228289</td>\n",
       "      <td>0.340361</td>\n",
       "      <td>20.977032</td>\n",
       "      <td>32.935673</td>\n",
       "      <td>40.165283</td>\n",
       "      <td>19.188251</td>\n",
       "      <td>298.723083</td>\n",
       "      <td>446.279022</td>\n",
       "      <td>178.564560</td>\n",
       "      <td>...</td>\n",
       "      <td>0.029148</td>\n",
       "      <td>-0.011291</td>\n",
       "      <td>3.927372</td>\n",
       "      <td>4.313234</td>\n",
       "      <td>2.438845</td>\n",
       "      <td>0.347583</td>\n",
       "      <td>0.406080</td>\n",
       "      <td>0.052332</td>\n",
       "      <td>0.059561</td>\n",
       "      <td>-14.848560</td>\n",
       "    </tr>\n",
       "    <tr>\n",
       "      <th>4</th>\n",
       "      <td>13</td>\n",
       "      <td>31.042364</td>\n",
       "      <td>0.379501</td>\n",
       "      <td>14.725781</td>\n",
       "      <td>36.538902</td>\n",
       "      <td>39.984123</td>\n",
       "      <td>25.258343</td>\n",
       "      <td>607.680786</td>\n",
       "      <td>797.872314</td>\n",
       "      <td>212.827896</td>\n",
       "      <td>...</td>\n",
       "      <td>-0.082832</td>\n",
       "      <td>-0.018304</td>\n",
       "      <td>4.100258</td>\n",
       "      <td>3.741378</td>\n",
       "      <td>2.499563</td>\n",
       "      <td>0.167800</td>\n",
       "      <td>0.177233</td>\n",
       "      <td>0.097170</td>\n",
       "      <td>0.093730</td>\n",
       "      <td>-13.559912</td>\n",
       "    </tr>\n",
       "    <tr>\n",
       "      <th>...</th>\n",
       "      <td>...</td>\n",
       "      <td>...</td>\n",
       "      <td>...</td>\n",
       "      <td>...</td>\n",
       "      <td>...</td>\n",
       "      <td>...</td>\n",
       "      <td>...</td>\n",
       "      <td>...</td>\n",
       "      <td>...</td>\n",
       "      <td>...</td>\n",
       "      <td>...</td>\n",
       "      <td>...</td>\n",
       "      <td>...</td>\n",
       "      <td>...</td>\n",
       "      <td>...</td>\n",
       "      <td>...</td>\n",
       "      <td>...</td>\n",
       "      <td>...</td>\n",
       "      <td>...</td>\n",
       "      <td>...</td>\n",
       "      <td>...</td>\n",
       "    </tr>\n",
       "    <tr>\n",
       "      <th>291</th>\n",
       "      <td>984</td>\n",
       "      <td>26.676291</td>\n",
       "      <td>0.345243</td>\n",
       "      <td>18.628330</td>\n",
       "      <td>23.537209</td>\n",
       "      <td>37.044197</td>\n",
       "      <td>18.415867</td>\n",
       "      <td>254.093170</td>\n",
       "      <td>289.997711</td>\n",
       "      <td>196.087204</td>\n",
       "      <td>...</td>\n",
       "      <td>-0.037049</td>\n",
       "      <td>-0.012521</td>\n",
       "      <td>4.701047</td>\n",
       "      <td>4.136631</td>\n",
       "      <td>3.145108</td>\n",
       "      <td>0.254674</td>\n",
       "      <td>0.326507</td>\n",
       "      <td>0.055204</td>\n",
       "      <td>0.053555</td>\n",
       "      <td>-9.115022</td>\n",
       "    </tr>\n",
       "    <tr>\n",
       "      <th>292</th>\n",
       "      <td>987</td>\n",
       "      <td>22.772997</td>\n",
       "      <td>0.474765</td>\n",
       "      <td>14.467970</td>\n",
       "      <td>19.492735</td>\n",
       "      <td>32.146774</td>\n",
       "      <td>17.678804</td>\n",
       "      <td>306.566284</td>\n",
       "      <td>464.384796</td>\n",
       "      <td>203.243439</td>\n",
       "      <td>...</td>\n",
       "      <td>-0.020492</td>\n",
       "      <td>-0.010948</td>\n",
       "      <td>3.111682</td>\n",
       "      <td>2.714263</td>\n",
       "      <td>3.166607</td>\n",
       "      <td>0.201225</td>\n",
       "      <td>0.253500</td>\n",
       "      <td>0.108326</td>\n",
       "      <td>0.160834</td>\n",
       "      <td>-16.757652</td>\n",
       "    </tr>\n",
       "    <tr>\n",
       "      <th>293</th>\n",
       "      <td>994</td>\n",
       "      <td>20.951778</td>\n",
       "      <td>0.376814</td>\n",
       "      <td>14.876099</td>\n",
       "      <td>16.901459</td>\n",
       "      <td>27.142853</td>\n",
       "      <td>12.266754</td>\n",
       "      <td>160.257767</td>\n",
       "      <td>197.101700</td>\n",
       "      <td>117.560425</td>\n",
       "      <td>...</td>\n",
       "      <td>-0.019824</td>\n",
       "      <td>-0.008062</td>\n",
       "      <td>4.860633</td>\n",
       "      <td>1.877894</td>\n",
       "      <td>1.490793</td>\n",
       "      <td>0.596909</td>\n",
       "      <td>1.277710</td>\n",
       "      <td>0.069546</td>\n",
       "      <td>0.198080</td>\n",
       "      <td>-12.248509</td>\n",
       "    </tr>\n",
       "    <tr>\n",
       "      <th>294</th>\n",
       "      <td>995</td>\n",
       "      <td>27.288588</td>\n",
       "      <td>0.388161</td>\n",
       "      <td>14.744168</td>\n",
       "      <td>26.429056</td>\n",
       "      <td>38.070980</td>\n",
       "      <td>23.326813</td>\n",
       "      <td>260.749756</td>\n",
       "      <td>368.000885</td>\n",
       "      <td>128.462646</td>\n",
       "      <td>...</td>\n",
       "      <td>-0.051101</td>\n",
       "      <td>-0.012418</td>\n",
       "      <td>2.186395</td>\n",
       "      <td>1.135837</td>\n",
       "      <td>0.911114</td>\n",
       "      <td>1.015471</td>\n",
       "      <td>2.950280</td>\n",
       "      <td>0.086642</td>\n",
       "      <td>0.150389</td>\n",
       "      <td>-17.433088</td>\n",
       "    </tr>\n",
       "    <tr>\n",
       "      <th>295</th>\n",
       "      <td>996</td>\n",
       "      <td>19.140018</td>\n",
       "      <td>0.192975</td>\n",
       "      <td>16.737202</td>\n",
       "      <td>18.545876</td>\n",
       "      <td>22.009905</td>\n",
       "      <td>5.272703</td>\n",
       "      <td>102.170502</td>\n",
       "      <td>81.478882</td>\n",
       "      <td>73.353653</td>\n",
       "      <td>...</td>\n",
       "      <td>0.068651</td>\n",
       "      <td>0.003306</td>\n",
       "      <td>0.289129</td>\n",
       "      <td>0.991538</td>\n",
       "      <td>0.025654</td>\n",
       "      <td>37.883331</td>\n",
       "      <td>28.873095</td>\n",
       "      <td>1.070000</td>\n",
       "      <td>1.386026</td>\n",
       "      <td>-17.674793</td>\n",
       "    </tr>\n",
       "  </tbody>\n",
       "</table>\n",
       "<p>296 rows × 89 columns</p>\n",
       "</div>"
      ],
      "text/plain": [
       "     song_id  F0semitoneFrom27.5Hz_sma3nz_amean  \\\n",
       "0          5                          31.631935   \n",
       "1          6                          29.125586   \n",
       "2          8                          23.060804   \n",
       "3          9                          31.228289   \n",
       "4         13                          31.042364   \n",
       "..       ...                                ...   \n",
       "291      984                          26.676291   \n",
       "292      987                          22.772997   \n",
       "293      994                          20.951778   \n",
       "294      995                          27.288588   \n",
       "295      996                          19.140018   \n",
       "\n",
       "     F0semitoneFrom27.5Hz_sma3nz_stddevNorm  \\\n",
       "0                                  0.434963   \n",
       "1                                  0.298632   \n",
       "2                                  0.344318   \n",
       "3                                  0.340361   \n",
       "4                                  0.379501   \n",
       "..                                      ...   \n",
       "291                                0.345243   \n",
       "292                                0.474765   \n",
       "293                                0.376814   \n",
       "294                                0.388161   \n",
       "295                                0.192975   \n",
       "\n",
       "     F0semitoneFrom27.5Hz_sma3nz_percentile20.0  \\\n",
       "0                                     15.156862   \n",
       "1                                     20.145454   \n",
       "2                                     16.906231   \n",
       "3                                     20.977032   \n",
       "4                                     14.725781   \n",
       "..                                          ...   \n",
       "291                                   18.628330   \n",
       "292                                   14.467970   \n",
       "293                                   14.876099   \n",
       "294                                   14.744168   \n",
       "295                                   16.737202   \n",
       "\n",
       "     F0semitoneFrom27.5Hz_sma3nz_percentile50.0  \\\n",
       "0                                     33.399643   \n",
       "1                                     27.247652   \n",
       "2                                     19.932571   \n",
       "3                                     32.935673   \n",
       "4                                     36.538902   \n",
       "..                                          ...   \n",
       "291                                   23.537209   \n",
       "292                                   19.492735   \n",
       "293                                   16.901459   \n",
       "294                                   26.429056   \n",
       "295                                   18.545876   \n",
       "\n",
       "     F0semitoneFrom27.5Hz_sma3nz_percentile80.0  \\\n",
       "0                                     45.943863   \n",
       "1                                     36.643261   \n",
       "2                                     31.065168   \n",
       "3                                     40.165283   \n",
       "4                                     39.984123   \n",
       "..                                          ...   \n",
       "291                                   37.044197   \n",
       "292                                   32.146774   \n",
       "293                                   27.142853   \n",
       "294                                   38.070980   \n",
       "295                                   22.009905   \n",
       "\n",
       "     F0semitoneFrom27.5Hz_sma3nz_pctlrange0-2  \\\n",
       "0                                   30.787001   \n",
       "1                                   16.497807   \n",
       "2                                   14.158937   \n",
       "3                                   19.188251   \n",
       "4                                   25.258343   \n",
       "..                                        ...   \n",
       "291                                 18.415867   \n",
       "292                                 17.678804   \n",
       "293                                 12.266754   \n",
       "294                                 23.326813   \n",
       "295                                  5.272703   \n",
       "\n",
       "     F0semitoneFrom27.5Hz_sma3nz_meanRisingSlope  \\\n",
       "0                                     498.979980   \n",
       "1                                     186.415665   \n",
       "2                                     214.280319   \n",
       "3                                     298.723083   \n",
       "4                                     607.680786   \n",
       "..                                           ...   \n",
       "291                                   254.093170   \n",
       "292                                   306.566284   \n",
       "293                                   160.257767   \n",
       "294                                   260.749756   \n",
       "295                                   102.170502   \n",
       "\n",
       "     F0semitoneFrom27.5Hz_sma3nz_stddevRisingSlope  \\\n",
       "0                                       653.866211   \n",
       "1                                       271.884430   \n",
       "2                                       327.853699   \n",
       "3                                       446.279022   \n",
       "4                                       797.872314   \n",
       "..                                             ...   \n",
       "291                                     289.997711   \n",
       "292                                     464.384796   \n",
       "293                                     197.101700   \n",
       "294                                     368.000885   \n",
       "295                                      81.478882   \n",
       "\n",
       "     F0semitoneFrom27.5Hz_sma3nz_meanFallingSlope  ...  \\\n",
       "0                                      273.856079  ...   \n",
       "1                                      133.420929  ...   \n",
       "2                                      146.277267  ...   \n",
       "3                                      178.564560  ...   \n",
       "4                                      212.827896  ...   \n",
       "..                                            ...  ...   \n",
       "291                                    196.087204  ...   \n",
       "292                                    203.243439  ...   \n",
       "293                                    117.560425  ...   \n",
       "294                                    128.462646  ...   \n",
       "295                                     73.353653  ...   \n",
       "\n",
       "     slopeUV0-500_sma3nz_amean  slopeUV500-1500_sma3nz_amean  \\\n",
       "0                    -0.020799                     -0.007142   \n",
       "1                     0.052442                     -0.004767   \n",
       "2                    -0.027237                     -0.005838   \n",
       "3                     0.029148                     -0.011291   \n",
       "4                    -0.082832                     -0.018304   \n",
       "..                         ...                           ...   \n",
       "291                  -0.037049                     -0.012521   \n",
       "292                  -0.020492                     -0.010948   \n",
       "293                  -0.019824                     -0.008062   \n",
       "294                  -0.051101                     -0.012418   \n",
       "295                   0.068651                      0.003306   \n",
       "\n",
       "     spectralFluxUV_sma3nz_amean  loudnessPeaksPerSec  VoicedSegmentsPerSec  \\\n",
       "0                       3.825121             1.956022              3.244838   \n",
       "1                       1.831974             2.016162              0.624566   \n",
       "2                       1.583399             3.261533              2.014916   \n",
       "3                       3.927372             4.313234              2.438845   \n",
       "4                       4.100258             3.741378              2.499563   \n",
       "..                           ...                  ...                   ...   \n",
       "291                     4.701047             4.136631              3.145108   \n",
       "292                     3.111682             2.714263              3.166607   \n",
       "293                     4.860633             1.877894              1.490793   \n",
       "294                     2.186395             1.135837              0.911114   \n",
       "295                     0.289129             0.991538              0.025654   \n",
       "\n",
       "     MeanVoicedSegmentLengthSec  StddevVoicedSegmentLengthSec  \\\n",
       "0                      0.099840                      0.128268   \n",
       "1                      1.481438                      2.588996   \n",
       "2                      0.423247                      0.450914   \n",
       "3                      0.347583                      0.406080   \n",
       "4                      0.167800                      0.177233   \n",
       "..                          ...                           ...   \n",
       "291                    0.254674                      0.326507   \n",
       "292                    0.201225                      0.253500   \n",
       "293                    0.596909                      1.277710   \n",
       "294                    1.015471                      2.950280   \n",
       "295                   37.883331                     28.873095   \n",
       "\n",
       "     MeanUnvoicedSegmentLength  StddevUnvoicedSegmentLength  \\\n",
       "0                     0.201914                     0.309628   \n",
       "1                     0.118254                     0.513290   \n",
       "2                     0.067478                     0.080230   \n",
       "3                     0.052332                     0.059561   \n",
       "4                     0.097170                     0.093730   \n",
       "..                         ...                          ...   \n",
       "291                   0.055204                     0.053555   \n",
       "292                   0.108326                     0.160834   \n",
       "293                   0.069546                     0.198080   \n",
       "294                   0.086642                     0.150389   \n",
       "295                   1.070000                     1.386026   \n",
       "\n",
       "     equivalentSoundLevel_dBp  \n",
       "0                  -15.400094  \n",
       "1                  -19.109070  \n",
       "2                  -18.705963  \n",
       "3                  -14.848560  \n",
       "4                  -13.559912  \n",
       "..                        ...  \n",
       "291                 -9.115022  \n",
       "292                -16.757652  \n",
       "293                -12.248509  \n",
       "294                -17.433088  \n",
       "295                -17.674793  \n",
       "\n",
       "[296 rows x 89 columns]"
      ]
     },
     "execution_count": 12,
     "metadata": {},
     "output_type": "execute_result"
    }
   ],
   "source": [
    "# Parallelize the feature extraction process for all song IDs\n",
    "dfs = Parallel(n_jobs=4)(delayed(extract_features)(song_id) for song_id in song_ids)\n",
    "\n",
    "# Concatenate the extracted DataFrames\n",
    "df_opensmile_egemaps = pd.concat(dfs)\n",
    "\n",
    "# Add the 'song_id' column\n",
    "df_opensmile_egemaps.insert(0, column='song_id', value=song_ids)\n",
    "df_opensmile_egemaps.reset_index(drop=True, inplace=True)\n",
    "\n",
    "# Display the resulting DataFrame\n",
    "df_opensmile_egemaps\n",
    "\n",
    "# df_opensmile_egemaps = pd.DataFrame()\n",
    "\n",
    "# for song_id in song_ids:\n",
    "#   dfs = extract_features(song_id)\n",
    "#   df_opensmile_egemaps = pd.concat([df_opensmile_egemaps, dfs], ignore_index=True)\n",
    "\n",
    "# df_opensmile_egemaps.insert(0, column='song_id', value=song_ids)\n",
    "# df_opensmile_egemaps.reset_index(drop=True, inplace=True)\n",
    "# df_opensmile_egemaps"
   ]
  },
  {
   "cell_type": "markdown",
   "metadata": {},
   "source": [
    "Save the openSMILE-extracted features to .csv for eGeMAPS feature set"
   ]
  },
  {
   "cell_type": "code",
   "execution_count": 13,
   "metadata": {},
   "outputs": [],
   "source": [
    "df_opensmile_egemaps.to_csv('../../data/SiTunes/processed/features/opensmile_egemaps_features.csv')"
   ]
  },
  {
   "cell_type": "markdown",
   "metadata": {},
   "source": [
    "### Import feature .csv files"
   ]
  },
  {
   "cell_type": "code",
   "execution_count": 14,
   "metadata": {},
   "outputs": [
    {
     "data": {
      "text/html": [
       "<div>\n",
       "<style scoped>\n",
       "    .dataframe tbody tr th:only-of-type {\n",
       "        vertical-align: middle;\n",
       "    }\n",
       "\n",
       "    .dataframe tbody tr th {\n",
       "        vertical-align: top;\n",
       "    }\n",
       "\n",
       "    .dataframe thead th {\n",
       "        text-align: right;\n",
       "    }\n",
       "</style>\n",
       "<table border=\"1\" class=\"dataframe\">\n",
       "  <thead>\n",
       "    <tr style=\"text-align: right;\">\n",
       "      <th></th>\n",
       "      <th>song_id</th>\n",
       "      <th>audspec_lengthL1norm_sma_range</th>\n",
       "      <th>audspec_lengthL1norm_sma_maxPos</th>\n",
       "      <th>audspec_lengthL1norm_sma_minPos</th>\n",
       "      <th>audspec_lengthL1norm_sma_quartile1</th>\n",
       "      <th>audspec_lengthL1norm_sma_quartile2</th>\n",
       "      <th>audspec_lengthL1norm_sma_quartile3</th>\n",
       "      <th>audspec_lengthL1norm_sma_iqr1-2</th>\n",
       "      <th>audspec_lengthL1norm_sma_iqr2-3</th>\n",
       "      <th>audspec_lengthL1norm_sma_iqr1-3</th>\n",
       "      <th>...</th>\n",
       "      <th>mfcc_sma_de[14]_peakRangeAbs</th>\n",
       "      <th>mfcc_sma_de[14]_peakRangeRel</th>\n",
       "      <th>mfcc_sma_de[14]_peakMeanAbs</th>\n",
       "      <th>mfcc_sma_de[14]_peakMeanMeanDist</th>\n",
       "      <th>mfcc_sma_de[14]_peakMeanRel</th>\n",
       "      <th>mfcc_sma_de[14]_minRangeRel</th>\n",
       "      <th>mfcc_sma_de[14]_meanRisingSlope</th>\n",
       "      <th>mfcc_sma_de[14]_stddevRisingSlope</th>\n",
       "      <th>mfcc_sma_de[14]_meanFallingSlope</th>\n",
       "      <th>mfcc_sma_de[14]_stddevFallingSlope</th>\n",
       "    </tr>\n",
       "  </thead>\n",
       "  <tbody>\n",
       "    <tr>\n",
       "      <th>0</th>\n",
       "      <td>5</td>\n",
       "      <td>7.564762</td>\n",
       "      <td>0.749208</td>\n",
       "      <td>0.000000</td>\n",
       "      <td>4.261663</td>\n",
       "      <td>4.969752</td>\n",
       "      <td>5.435592</td>\n",
       "      <td>0.708088</td>\n",
       "      <td>0.465840</td>\n",
       "      <td>1.173929</td>\n",
       "      <td>...</td>\n",
       "      <td>7.327448</td>\n",
       "      <td>0.509193</td>\n",
       "      <td>1.983427</td>\n",
       "      <td>1.983427</td>\n",
       "      <td>20.0</td>\n",
       "      <td>0.601675</td>\n",
       "      <td>98.423485</td>\n",
       "      <td>49.029030</td>\n",
       "      <td>96.136350</td>\n",
       "      <td>46.679016</td>\n",
       "    </tr>\n",
       "    <tr>\n",
       "      <th>1</th>\n",
       "      <td>6</td>\n",
       "      <td>6.646670</td>\n",
       "      <td>0.564337</td>\n",
       "      <td>0.000000</td>\n",
       "      <td>1.612657</td>\n",
       "      <td>2.437211</td>\n",
       "      <td>3.413136</td>\n",
       "      <td>0.824554</td>\n",
       "      <td>0.975925</td>\n",
       "      <td>1.800479</td>\n",
       "      <td>...</td>\n",
       "      <td>9.714886</td>\n",
       "      <td>0.527537</td>\n",
       "      <td>2.124181</td>\n",
       "      <td>2.124131</td>\n",
       "      <td>20.0</td>\n",
       "      <td>0.609025</td>\n",
       "      <td>86.747856</td>\n",
       "      <td>46.261950</td>\n",
       "      <td>88.607056</td>\n",
       "      <td>49.056767</td>\n",
       "    </tr>\n",
       "    <tr>\n",
       "      <th>2</th>\n",
       "      <td>8</td>\n",
       "      <td>6.899619</td>\n",
       "      <td>0.992498</td>\n",
       "      <td>0.000000</td>\n",
       "      <td>1.343179</td>\n",
       "      <td>2.047999</td>\n",
       "      <td>2.802980</td>\n",
       "      <td>0.704820</td>\n",
       "      <td>0.754980</td>\n",
       "      <td>1.459800</td>\n",
       "      <td>...</td>\n",
       "      <td>10.409162</td>\n",
       "      <td>0.487747</td>\n",
       "      <td>2.610707</td>\n",
       "      <td>2.610589</td>\n",
       "      <td>20.0</td>\n",
       "      <td>0.613364</td>\n",
       "      <td>106.891510</td>\n",
       "      <td>59.453835</td>\n",
       "      <td>103.908104</td>\n",
       "      <td>57.349210</td>\n",
       "    </tr>\n",
       "    <tr>\n",
       "      <th>3</th>\n",
       "      <td>9</td>\n",
       "      <td>7.193029</td>\n",
       "      <td>0.903622</td>\n",
       "      <td>0.000000</td>\n",
       "      <td>2.958448</td>\n",
       "      <td>3.605402</td>\n",
       "      <td>4.263618</td>\n",
       "      <td>0.646953</td>\n",
       "      <td>0.658217</td>\n",
       "      <td>1.305170</td>\n",
       "      <td>...</td>\n",
       "      <td>15.571753</td>\n",
       "      <td>0.709860</td>\n",
       "      <td>2.426280</td>\n",
       "      <td>2.426275</td>\n",
       "      <td>20.0</td>\n",
       "      <td>0.422640</td>\n",
       "      <td>101.694595</td>\n",
       "      <td>52.935932</td>\n",
       "      <td>102.159490</td>\n",
       "      <td>53.912685</td>\n",
       "    </tr>\n",
       "    <tr>\n",
       "      <th>4</th>\n",
       "      <td>13</td>\n",
       "      <td>9.413311</td>\n",
       "      <td>0.853747</td>\n",
       "      <td>0.000000</td>\n",
       "      <td>1.428093</td>\n",
       "      <td>2.653294</td>\n",
       "      <td>4.210803</td>\n",
       "      <td>1.225202</td>\n",
       "      <td>1.557509</td>\n",
       "      <td>2.782711</td>\n",
       "      <td>...</td>\n",
       "      <td>13.520849</td>\n",
       "      <td>0.520785</td>\n",
       "      <td>2.864006</td>\n",
       "      <td>2.864006</td>\n",
       "      <td>20.0</td>\n",
       "      <td>0.597521</td>\n",
       "      <td>107.728530</td>\n",
       "      <td>63.004940</td>\n",
       "      <td>104.758064</td>\n",
       "      <td>64.316376</td>\n",
       "    </tr>\n",
       "    <tr>\n",
       "      <th>...</th>\n",
       "      <td>...</td>\n",
       "      <td>...</td>\n",
       "      <td>...</td>\n",
       "      <td>...</td>\n",
       "      <td>...</td>\n",
       "      <td>...</td>\n",
       "      <td>...</td>\n",
       "      <td>...</td>\n",
       "      <td>...</td>\n",
       "      <td>...</td>\n",
       "      <td>...</td>\n",
       "      <td>...</td>\n",
       "      <td>...</td>\n",
       "      <td>...</td>\n",
       "      <td>...</td>\n",
       "      <td>...</td>\n",
       "      <td>...</td>\n",
       "      <td>...</td>\n",
       "      <td>...</td>\n",
       "      <td>...</td>\n",
       "      <td>...</td>\n",
       "    </tr>\n",
       "    <tr>\n",
       "      <th>291</th>\n",
       "      <td>984</td>\n",
       "      <td>9.162393</td>\n",
       "      <td>0.003938</td>\n",
       "      <td>0.000000</td>\n",
       "      <td>2.920564</td>\n",
       "      <td>4.434406</td>\n",
       "      <td>5.840294</td>\n",
       "      <td>1.513842</td>\n",
       "      <td>1.405888</td>\n",
       "      <td>2.919730</td>\n",
       "      <td>...</td>\n",
       "      <td>9.158691</td>\n",
       "      <td>0.521738</td>\n",
       "      <td>2.504234</td>\n",
       "      <td>2.504201</td>\n",
       "      <td>20.0</td>\n",
       "      <td>0.670649</td>\n",
       "      <td>107.475830</td>\n",
       "      <td>51.346622</td>\n",
       "      <td>104.158380</td>\n",
       "      <td>52.759354</td>\n",
       "    </tr>\n",
       "    <tr>\n",
       "      <th>292</th>\n",
       "      <td>987</td>\n",
       "      <td>7.321315</td>\n",
       "      <td>0.749100</td>\n",
       "      <td>0.000000</td>\n",
       "      <td>2.416573</td>\n",
       "      <td>3.484543</td>\n",
       "      <td>4.345420</td>\n",
       "      <td>1.067970</td>\n",
       "      <td>0.860877</td>\n",
       "      <td>1.928847</td>\n",
       "      <td>...</td>\n",
       "      <td>10.194919</td>\n",
       "      <td>0.621623</td>\n",
       "      <td>2.078208</td>\n",
       "      <td>2.078421</td>\n",
       "      <td>-20.0</td>\n",
       "      <td>0.517438</td>\n",
       "      <td>94.267070</td>\n",
       "      <td>47.437020</td>\n",
       "      <td>95.109740</td>\n",
       "      <td>47.140274</td>\n",
       "    </tr>\n",
       "    <tr>\n",
       "      <th>293</th>\n",
       "      <td>994</td>\n",
       "      <td>8.443146</td>\n",
       "      <td>0.923122</td>\n",
       "      <td>0.998334</td>\n",
       "      <td>3.897514</td>\n",
       "      <td>4.572613</td>\n",
       "      <td>5.230573</td>\n",
       "      <td>0.675099</td>\n",
       "      <td>0.657960</td>\n",
       "      <td>1.333059</td>\n",
       "      <td>...</td>\n",
       "      <td>8.650101</td>\n",
       "      <td>0.597145</td>\n",
       "      <td>1.930112</td>\n",
       "      <td>1.930222</td>\n",
       "      <td>-20.0</td>\n",
       "      <td>0.605472</td>\n",
       "      <td>88.678990</td>\n",
       "      <td>43.483925</td>\n",
       "      <td>88.294550</td>\n",
       "      <td>44.465690</td>\n",
       "    </tr>\n",
       "    <tr>\n",
       "      <th>294</th>\n",
       "      <td>995</td>\n",
       "      <td>5.300718</td>\n",
       "      <td>0.327584</td>\n",
       "      <td>0.000000</td>\n",
       "      <td>1.204361</td>\n",
       "      <td>1.583846</td>\n",
       "      <td>1.970763</td>\n",
       "      <td>0.379485</td>\n",
       "      <td>0.386917</td>\n",
       "      <td>0.766403</td>\n",
       "      <td>...</td>\n",
       "      <td>8.875333</td>\n",
       "      <td>0.538339</td>\n",
       "      <td>2.105123</td>\n",
       "      <td>2.105801</td>\n",
       "      <td>-20.0</td>\n",
       "      <td>0.633541</td>\n",
       "      <td>94.083824</td>\n",
       "      <td>51.528366</td>\n",
       "      <td>95.529360</td>\n",
       "      <td>52.700750</td>\n",
       "    </tr>\n",
       "    <tr>\n",
       "      <th>295</th>\n",
       "      <td>996</td>\n",
       "      <td>2.878038</td>\n",
       "      <td>0.721115</td>\n",
       "      <td>0.995724</td>\n",
       "      <td>0.809385</td>\n",
       "      <td>1.087503</td>\n",
       "      <td>1.309141</td>\n",
       "      <td>0.278118</td>\n",
       "      <td>0.221638</td>\n",
       "      <td>0.499756</td>\n",
       "      <td>...</td>\n",
       "      <td>6.723031</td>\n",
       "      <td>0.563358</td>\n",
       "      <td>1.897663</td>\n",
       "      <td>1.897587</td>\n",
       "      <td>20.0</td>\n",
       "      <td>0.613931</td>\n",
       "      <td>94.766160</td>\n",
       "      <td>46.453728</td>\n",
       "      <td>95.034360</td>\n",
       "      <td>47.311325</td>\n",
       "    </tr>\n",
       "  </tbody>\n",
       "</table>\n",
       "<p>296 rows × 6374 columns</p>\n",
       "</div>"
      ],
      "text/plain": [
       "     song_id  audspec_lengthL1norm_sma_range  audspec_lengthL1norm_sma_maxPos  \\\n",
       "0          5                        7.564762                         0.749208   \n",
       "1          6                        6.646670                         0.564337   \n",
       "2          8                        6.899619                         0.992498   \n",
       "3          9                        7.193029                         0.903622   \n",
       "4         13                        9.413311                         0.853747   \n",
       "..       ...                             ...                              ...   \n",
       "291      984                        9.162393                         0.003938   \n",
       "292      987                        7.321315                         0.749100   \n",
       "293      994                        8.443146                         0.923122   \n",
       "294      995                        5.300718                         0.327584   \n",
       "295      996                        2.878038                         0.721115   \n",
       "\n",
       "     audspec_lengthL1norm_sma_minPos  audspec_lengthL1norm_sma_quartile1  \\\n",
       "0                           0.000000                            4.261663   \n",
       "1                           0.000000                            1.612657   \n",
       "2                           0.000000                            1.343179   \n",
       "3                           0.000000                            2.958448   \n",
       "4                           0.000000                            1.428093   \n",
       "..                               ...                                 ...   \n",
       "291                         0.000000                            2.920564   \n",
       "292                         0.000000                            2.416573   \n",
       "293                         0.998334                            3.897514   \n",
       "294                         0.000000                            1.204361   \n",
       "295                         0.995724                            0.809385   \n",
       "\n",
       "     audspec_lengthL1norm_sma_quartile2  audspec_lengthL1norm_sma_quartile3  \\\n",
       "0                              4.969752                            5.435592   \n",
       "1                              2.437211                            3.413136   \n",
       "2                              2.047999                            2.802980   \n",
       "3                              3.605402                            4.263618   \n",
       "4                              2.653294                            4.210803   \n",
       "..                                  ...                                 ...   \n",
       "291                            4.434406                            5.840294   \n",
       "292                            3.484543                            4.345420   \n",
       "293                            4.572613                            5.230573   \n",
       "294                            1.583846                            1.970763   \n",
       "295                            1.087503                            1.309141   \n",
       "\n",
       "     audspec_lengthL1norm_sma_iqr1-2  audspec_lengthL1norm_sma_iqr2-3  \\\n",
       "0                           0.708088                         0.465840   \n",
       "1                           0.824554                         0.975925   \n",
       "2                           0.704820                         0.754980   \n",
       "3                           0.646953                         0.658217   \n",
       "4                           1.225202                         1.557509   \n",
       "..                               ...                              ...   \n",
       "291                         1.513842                         1.405888   \n",
       "292                         1.067970                         0.860877   \n",
       "293                         0.675099                         0.657960   \n",
       "294                         0.379485                         0.386917   \n",
       "295                         0.278118                         0.221638   \n",
       "\n",
       "     audspec_lengthL1norm_sma_iqr1-3  ...  mfcc_sma_de[14]_peakRangeAbs  \\\n",
       "0                           1.173929  ...                      7.327448   \n",
       "1                           1.800479  ...                      9.714886   \n",
       "2                           1.459800  ...                     10.409162   \n",
       "3                           1.305170  ...                     15.571753   \n",
       "4                           2.782711  ...                     13.520849   \n",
       "..                               ...  ...                           ...   \n",
       "291                         2.919730  ...                      9.158691   \n",
       "292                         1.928847  ...                     10.194919   \n",
       "293                         1.333059  ...                      8.650101   \n",
       "294                         0.766403  ...                      8.875333   \n",
       "295                         0.499756  ...                      6.723031   \n",
       "\n",
       "     mfcc_sma_de[14]_peakRangeRel  mfcc_sma_de[14]_peakMeanAbs  \\\n",
       "0                        0.509193                     1.983427   \n",
       "1                        0.527537                     2.124181   \n",
       "2                        0.487747                     2.610707   \n",
       "3                        0.709860                     2.426280   \n",
       "4                        0.520785                     2.864006   \n",
       "..                            ...                          ...   \n",
       "291                      0.521738                     2.504234   \n",
       "292                      0.621623                     2.078208   \n",
       "293                      0.597145                     1.930112   \n",
       "294                      0.538339                     2.105123   \n",
       "295                      0.563358                     1.897663   \n",
       "\n",
       "     mfcc_sma_de[14]_peakMeanMeanDist  mfcc_sma_de[14]_peakMeanRel  \\\n",
       "0                            1.983427                         20.0   \n",
       "1                            2.124131                         20.0   \n",
       "2                            2.610589                         20.0   \n",
       "3                            2.426275                         20.0   \n",
       "4                            2.864006                         20.0   \n",
       "..                                ...                          ...   \n",
       "291                          2.504201                         20.0   \n",
       "292                          2.078421                        -20.0   \n",
       "293                          1.930222                        -20.0   \n",
       "294                          2.105801                        -20.0   \n",
       "295                          1.897587                         20.0   \n",
       "\n",
       "     mfcc_sma_de[14]_minRangeRel  mfcc_sma_de[14]_meanRisingSlope  \\\n",
       "0                       0.601675                        98.423485   \n",
       "1                       0.609025                        86.747856   \n",
       "2                       0.613364                       106.891510   \n",
       "3                       0.422640                       101.694595   \n",
       "4                       0.597521                       107.728530   \n",
       "..                           ...                              ...   \n",
       "291                     0.670649                       107.475830   \n",
       "292                     0.517438                        94.267070   \n",
       "293                     0.605472                        88.678990   \n",
       "294                     0.633541                        94.083824   \n",
       "295                     0.613931                        94.766160   \n",
       "\n",
       "     mfcc_sma_de[14]_stddevRisingSlope  mfcc_sma_de[14]_meanFallingSlope  \\\n",
       "0                            49.029030                         96.136350   \n",
       "1                            46.261950                         88.607056   \n",
       "2                            59.453835                        103.908104   \n",
       "3                            52.935932                        102.159490   \n",
       "4                            63.004940                        104.758064   \n",
       "..                                 ...                               ...   \n",
       "291                          51.346622                        104.158380   \n",
       "292                          47.437020                         95.109740   \n",
       "293                          43.483925                         88.294550   \n",
       "294                          51.528366                         95.529360   \n",
       "295                          46.453728                         95.034360   \n",
       "\n",
       "     mfcc_sma_de[14]_stddevFallingSlope  \n",
       "0                             46.679016  \n",
       "1                             49.056767  \n",
       "2                             57.349210  \n",
       "3                             53.912685  \n",
       "4                             64.316376  \n",
       "..                                  ...  \n",
       "291                           52.759354  \n",
       "292                           47.140274  \n",
       "293                           44.465690  \n",
       "294                           52.700750  \n",
       "295                           47.311325  \n",
       "\n",
       "[296 rows x 6374 columns]"
      ]
     },
     "metadata": {},
     "output_type": "display_data"
    },
    {
     "name": "stdout",
     "output_type": "stream",
     "text": [
      "(296, 6374)\n"
     ]
    }
   ],
   "source": [
    "df_opensmile_compare_2016 = pd.read_csv('../../data/SiTunes/processed/features/opensmile_compare2016_features.csv')\n",
    "df_opensmile_emobase = pd.read_csv('../../data/SiTunes/processed/features/opensmile_emobase_features.csv')\n",
    "df_opensmile_gemaps = pd.read_csv('../../data/SiTunes/processed/features/opensmile_gemaps_features.csv')\n",
    "df_opensmile_egemaps = pd.read_csv('../../data/SiTunes/processed/features/opensmile_egemaps_features.csv')\n",
    "\n",
    "# drop Unnamed:0 column\n",
    "df_opensmile_compare_2016 = df_opensmile_compare_2016[df_opensmile_compare_2016.columns[1:]]\n",
    "df_opensmile_emobase = df_opensmile_emobase[df_opensmile_emobase.columns[1:]]\n",
    "df_opensmile_gemaps = df_opensmile_gemaps[df_opensmile_gemaps.columns[1:]]\n",
    "df_opensmile_egemaps = df_opensmile_egemaps[df_opensmile_egemaps.columns[1:]]\n",
    "\n",
    "display(df_opensmile_compare_2016)\n",
    "print(df_opensmile_compare_2016.shape)"
   ]
  },
  {
   "cell_type": "code",
   "execution_count": 15,
   "metadata": {},
   "outputs": [
    {
     "data": {
      "text/html": [
       "<div>\n",
       "<style scoped>\n",
       "    .dataframe tbody tr th:only-of-type {\n",
       "        vertical-align: middle;\n",
       "    }\n",
       "\n",
       "    .dataframe tbody tr th {\n",
       "        vertical-align: top;\n",
       "    }\n",
       "\n",
       "    .dataframe thead th {\n",
       "        text-align: right;\n",
       "    }\n",
       "</style>\n",
       "<table border=\"1\" class=\"dataframe\">\n",
       "  <thead>\n",
       "    <tr style=\"text-align: right;\">\n",
       "      <th></th>\n",
       "      <th>song_id</th>\n",
       "      <th>pcm_intensity_sma_max</th>\n",
       "      <th>pcm_intensity_sma_min</th>\n",
       "      <th>pcm_intensity_sma_range</th>\n",
       "      <th>pcm_intensity_sma_maxPos</th>\n",
       "      <th>pcm_intensity_sma_minPos</th>\n",
       "      <th>pcm_intensity_sma_amean</th>\n",
       "      <th>pcm_intensity_sma_linregc1</th>\n",
       "      <th>pcm_intensity_sma_linregc2</th>\n",
       "      <th>pcm_intensity_sma_linregerrA</th>\n",
       "      <th>...</th>\n",
       "      <th>F0env_sma_de_linregerrQ</th>\n",
       "      <th>F0env_sma_de_stddev</th>\n",
       "      <th>F0env_sma_de_skewness</th>\n",
       "      <th>F0env_sma_de_kurtosis</th>\n",
       "      <th>F0env_sma_de_quartile1</th>\n",
       "      <th>F0env_sma_de_quartile2</th>\n",
       "      <th>F0env_sma_de_quartile3</th>\n",
       "      <th>F0env_sma_de_iqr1-2</th>\n",
       "      <th>F0env_sma_de_iqr2-3</th>\n",
       "      <th>F0env_sma_de_iqr1-3</th>\n",
       "    </tr>\n",
       "  </thead>\n",
       "  <tbody>\n",
       "    <tr>\n",
       "      <th>0</th>\n",
       "      <td>5</td>\n",
       "      <td>0.000091</td>\n",
       "      <td>0.000000e+00</td>\n",
       "      <td>0.000091</td>\n",
       "      <td>1444.0</td>\n",
       "      <td>0.0</td>\n",
       "      <td>0.000007</td>\n",
       "      <td>-3.810281e-11</td>\n",
       "      <td>0.000008</td>\n",
       "      <td>0.000005</td>\n",
       "      <td>...</td>\n",
       "      <td>2.028310</td>\n",
       "      <td>1.424470</td>\n",
       "      <td>12.282344</td>\n",
       "      <td>515.666800</td>\n",
       "      <td>0.000000</td>\n",
       "      <td>0.0</td>\n",
       "      <td>0.000000</td>\n",
       "      <td>0.000000</td>\n",
       "      <td>0.000000</td>\n",
       "      <td>0.000000</td>\n",
       "    </tr>\n",
       "    <tr>\n",
       "      <th>1</th>\n",
       "      <td>6</td>\n",
       "      <td>0.000046</td>\n",
       "      <td>0.000000e+00</td>\n",
       "      <td>0.000046</td>\n",
       "      <td>22283.0</td>\n",
       "      <td>0.0</td>\n",
       "      <td>0.000003</td>\n",
       "      <td>1.152012e-10</td>\n",
       "      <td>0.000002</td>\n",
       "      <td>0.000003</td>\n",
       "      <td>...</td>\n",
       "      <td>10.883658</td>\n",
       "      <td>3.299140</td>\n",
       "      <td>1.122368</td>\n",
       "      <td>33.313538</td>\n",
       "      <td>-0.596069</td>\n",
       "      <td>0.0</td>\n",
       "      <td>0.484895</td>\n",
       "      <td>0.596069</td>\n",
       "      <td>0.484895</td>\n",
       "      <td>1.080964</td>\n",
       "    </tr>\n",
       "    <tr>\n",
       "      <th>2</th>\n",
       "      <td>8</td>\n",
       "      <td>0.000052</td>\n",
       "      <td>0.000000e+00</td>\n",
       "      <td>0.000052</td>\n",
       "      <td>12843.0</td>\n",
       "      <td>0.0</td>\n",
       "      <td>0.000003</td>\n",
       "      <td>-6.472452e-11</td>\n",
       "      <td>0.000004</td>\n",
       "      <td>0.000003</td>\n",
       "      <td>...</td>\n",
       "      <td>20.163582</td>\n",
       "      <td>4.490460</td>\n",
       "      <td>-0.044275</td>\n",
       "      <td>10.689801</td>\n",
       "      <td>-1.082446</td>\n",
       "      <td>0.0</td>\n",
       "      <td>1.234225</td>\n",
       "      <td>1.082446</td>\n",
       "      <td>1.234225</td>\n",
       "      <td>2.316672</td>\n",
       "    </tr>\n",
       "    <tr>\n",
       "      <th>3</th>\n",
       "      <td>9</td>\n",
       "      <td>0.000100</td>\n",
       "      <td>0.000000e+00</td>\n",
       "      <td>0.000100</td>\n",
       "      <td>18789.0</td>\n",
       "      <td>0.0</td>\n",
       "      <td>0.000008</td>\n",
       "      <td>2.524826e-10</td>\n",
       "      <td>0.000005</td>\n",
       "      <td>0.000006</td>\n",
       "      <td>...</td>\n",
       "      <td>6.755215</td>\n",
       "      <td>2.599175</td>\n",
       "      <td>1.061831</td>\n",
       "      <td>38.259160</td>\n",
       "      <td>-0.020117</td>\n",
       "      <td>0.0</td>\n",
       "      <td>0.000000</td>\n",
       "      <td>0.020117</td>\n",
       "      <td>0.000000</td>\n",
       "      <td>0.020117</td>\n",
       "    </tr>\n",
       "    <tr>\n",
       "      <th>4</th>\n",
       "      <td>13</td>\n",
       "      <td>0.000114</td>\n",
       "      <td>0.000000e+00</td>\n",
       "      <td>0.000114</td>\n",
       "      <td>30089.0</td>\n",
       "      <td>0.0</td>\n",
       "      <td>0.000011</td>\n",
       "      <td>4.075972e-11</td>\n",
       "      <td>0.000010</td>\n",
       "      <td>0.000010</td>\n",
       "      <td>...</td>\n",
       "      <td>20.695255</td>\n",
       "      <td>4.549219</td>\n",
       "      <td>0.047873</td>\n",
       "      <td>7.833413</td>\n",
       "      <td>-0.899964</td>\n",
       "      <td>0.0</td>\n",
       "      <td>0.807979</td>\n",
       "      <td>0.899964</td>\n",
       "      <td>0.807979</td>\n",
       "      <td>1.707942</td>\n",
       "    </tr>\n",
       "    <tr>\n",
       "      <th>...</th>\n",
       "      <td>...</td>\n",
       "      <td>...</td>\n",
       "      <td>...</td>\n",
       "      <td>...</td>\n",
       "      <td>...</td>\n",
       "      <td>...</td>\n",
       "      <td>...</td>\n",
       "      <td>...</td>\n",
       "      <td>...</td>\n",
       "      <td>...</td>\n",
       "      <td>...</td>\n",
       "      <td>...</td>\n",
       "      <td>...</td>\n",
       "      <td>...</td>\n",
       "      <td>...</td>\n",
       "      <td>...</td>\n",
       "      <td>...</td>\n",
       "      <td>...</td>\n",
       "      <td>...</td>\n",
       "      <td>...</td>\n",
       "      <td>...</td>\n",
       "    </tr>\n",
       "    <tr>\n",
       "      <th>291</th>\n",
       "      <td>984</td>\n",
       "      <td>0.000205</td>\n",
       "      <td>7.671422e-14</td>\n",
       "      <td>0.000205</td>\n",
       "      <td>12354.0</td>\n",
       "      <td>0.0</td>\n",
       "      <td>0.000030</td>\n",
       "      <td>2.994782e-10</td>\n",
       "      <td>0.000028</td>\n",
       "      <td>0.000026</td>\n",
       "      <td>...</td>\n",
       "      <td>10.881562</td>\n",
       "      <td>3.299060</td>\n",
       "      <td>0.096416</td>\n",
       "      <td>8.068940</td>\n",
       "      <td>-0.710422</td>\n",
       "      <td>0.0</td>\n",
       "      <td>0.550822</td>\n",
       "      <td>0.710422</td>\n",
       "      <td>0.550822</td>\n",
       "      <td>1.261243</td>\n",
       "    </tr>\n",
       "    <tr>\n",
       "      <th>292</th>\n",
       "      <td>987</td>\n",
       "      <td>0.000078</td>\n",
       "      <td>0.000000e+00</td>\n",
       "      <td>0.000078</td>\n",
       "      <td>9931.0</td>\n",
       "      <td>0.0</td>\n",
       "      <td>0.000005</td>\n",
       "      <td>4.859398e-11</td>\n",
       "      <td>0.000005</td>\n",
       "      <td>0.000004</td>\n",
       "      <td>...</td>\n",
       "      <td>4.376823</td>\n",
       "      <td>2.092309</td>\n",
       "      <td>0.510573</td>\n",
       "      <td>33.388645</td>\n",
       "      <td>0.000000</td>\n",
       "      <td>0.0</td>\n",
       "      <td>0.000000</td>\n",
       "      <td>0.000000</td>\n",
       "      <td>0.000000</td>\n",
       "      <td>0.000000</td>\n",
       "    </tr>\n",
       "    <tr>\n",
       "      <th>293</th>\n",
       "      <td>994</td>\n",
       "      <td>0.000228</td>\n",
       "      <td>1.035656e-12</td>\n",
       "      <td>0.000228</td>\n",
       "      <td>17858.0</td>\n",
       "      <td>46058.0</td>\n",
       "      <td>0.000015</td>\n",
       "      <td>-1.635723e-10</td>\n",
       "      <td>0.000018</td>\n",
       "      <td>0.000011</td>\n",
       "      <td>...</td>\n",
       "      <td>4.232595</td>\n",
       "      <td>2.057365</td>\n",
       "      <td>1.849893</td>\n",
       "      <td>82.707940</td>\n",
       "      <td>0.000000</td>\n",
       "      <td>0.0</td>\n",
       "      <td>0.000000</td>\n",
       "      <td>0.000000</td>\n",
       "      <td>0.000000</td>\n",
       "      <td>0.000000</td>\n",
       "    </tr>\n",
       "    <tr>\n",
       "      <th>294</th>\n",
       "      <td>995</td>\n",
       "      <td>0.000154</td>\n",
       "      <td>0.000000e+00</td>\n",
       "      <td>0.000154</td>\n",
       "      <td>17052.0</td>\n",
       "      <td>0.0</td>\n",
       "      <td>0.000004</td>\n",
       "      <td>-9.673285e-11</td>\n",
       "      <td>0.000006</td>\n",
       "      <td>0.000005</td>\n",
       "      <td>...</td>\n",
       "      <td>9.168949</td>\n",
       "      <td>3.028062</td>\n",
       "      <td>0.430149</td>\n",
       "      <td>22.615187</td>\n",
       "      <td>-0.200396</td>\n",
       "      <td>0.0</td>\n",
       "      <td>0.583076</td>\n",
       "      <td>0.200396</td>\n",
       "      <td>0.583076</td>\n",
       "      <td>0.783472</td>\n",
       "    </tr>\n",
       "    <tr>\n",
       "      <th>295</th>\n",
       "      <td>996</td>\n",
       "      <td>0.000109</td>\n",
       "      <td>0.000000e+00</td>\n",
       "      <td>0.000109</td>\n",
       "      <td>10766.0</td>\n",
       "      <td>11643.0</td>\n",
       "      <td>0.000004</td>\n",
       "      <td>4.535569e-10</td>\n",
       "      <td>0.000002</td>\n",
       "      <td>0.000004</td>\n",
       "      <td>...</td>\n",
       "      <td>3.136904</td>\n",
       "      <td>1.772186</td>\n",
       "      <td>8.192018</td>\n",
       "      <td>239.119520</td>\n",
       "      <td>-0.002663</td>\n",
       "      <td>0.0</td>\n",
       "      <td>0.018515</td>\n",
       "      <td>0.002663</td>\n",
       "      <td>0.018515</td>\n",
       "      <td>0.021178</td>\n",
       "    </tr>\n",
       "  </tbody>\n",
       "</table>\n",
       "<p>296 rows × 989 columns</p>\n",
       "</div>"
      ],
      "text/plain": [
       "     song_id  pcm_intensity_sma_max  pcm_intensity_sma_min  \\\n",
       "0          5               0.000091           0.000000e+00   \n",
       "1          6               0.000046           0.000000e+00   \n",
       "2          8               0.000052           0.000000e+00   \n",
       "3          9               0.000100           0.000000e+00   \n",
       "4         13               0.000114           0.000000e+00   \n",
       "..       ...                    ...                    ...   \n",
       "291      984               0.000205           7.671422e-14   \n",
       "292      987               0.000078           0.000000e+00   \n",
       "293      994               0.000228           1.035656e-12   \n",
       "294      995               0.000154           0.000000e+00   \n",
       "295      996               0.000109           0.000000e+00   \n",
       "\n",
       "     pcm_intensity_sma_range  pcm_intensity_sma_maxPos  \\\n",
       "0                   0.000091                    1444.0   \n",
       "1                   0.000046                   22283.0   \n",
       "2                   0.000052                   12843.0   \n",
       "3                   0.000100                   18789.0   \n",
       "4                   0.000114                   30089.0   \n",
       "..                       ...                       ...   \n",
       "291                 0.000205                   12354.0   \n",
       "292                 0.000078                    9931.0   \n",
       "293                 0.000228                   17858.0   \n",
       "294                 0.000154                   17052.0   \n",
       "295                 0.000109                   10766.0   \n",
       "\n",
       "     pcm_intensity_sma_minPos  pcm_intensity_sma_amean  \\\n",
       "0                         0.0                 0.000007   \n",
       "1                         0.0                 0.000003   \n",
       "2                         0.0                 0.000003   \n",
       "3                         0.0                 0.000008   \n",
       "4                         0.0                 0.000011   \n",
       "..                        ...                      ...   \n",
       "291                       0.0                 0.000030   \n",
       "292                       0.0                 0.000005   \n",
       "293                   46058.0                 0.000015   \n",
       "294                       0.0                 0.000004   \n",
       "295                   11643.0                 0.000004   \n",
       "\n",
       "     pcm_intensity_sma_linregc1  pcm_intensity_sma_linregc2  \\\n",
       "0                 -3.810281e-11                    0.000008   \n",
       "1                  1.152012e-10                    0.000002   \n",
       "2                 -6.472452e-11                    0.000004   \n",
       "3                  2.524826e-10                    0.000005   \n",
       "4                  4.075972e-11                    0.000010   \n",
       "..                          ...                         ...   \n",
       "291                2.994782e-10                    0.000028   \n",
       "292                4.859398e-11                    0.000005   \n",
       "293               -1.635723e-10                    0.000018   \n",
       "294               -9.673285e-11                    0.000006   \n",
       "295                4.535569e-10                    0.000002   \n",
       "\n",
       "     pcm_intensity_sma_linregerrA  ...  F0env_sma_de_linregerrQ  \\\n",
       "0                        0.000005  ...                 2.028310   \n",
       "1                        0.000003  ...                10.883658   \n",
       "2                        0.000003  ...                20.163582   \n",
       "3                        0.000006  ...                 6.755215   \n",
       "4                        0.000010  ...                20.695255   \n",
       "..                            ...  ...                      ...   \n",
       "291                      0.000026  ...                10.881562   \n",
       "292                      0.000004  ...                 4.376823   \n",
       "293                      0.000011  ...                 4.232595   \n",
       "294                      0.000005  ...                 9.168949   \n",
       "295                      0.000004  ...                 3.136904   \n",
       "\n",
       "     F0env_sma_de_stddev  F0env_sma_de_skewness  F0env_sma_de_kurtosis  \\\n",
       "0               1.424470              12.282344             515.666800   \n",
       "1               3.299140               1.122368              33.313538   \n",
       "2               4.490460              -0.044275              10.689801   \n",
       "3               2.599175               1.061831              38.259160   \n",
       "4               4.549219               0.047873               7.833413   \n",
       "..                   ...                    ...                    ...   \n",
       "291             3.299060               0.096416               8.068940   \n",
       "292             2.092309               0.510573              33.388645   \n",
       "293             2.057365               1.849893              82.707940   \n",
       "294             3.028062               0.430149              22.615187   \n",
       "295             1.772186               8.192018             239.119520   \n",
       "\n",
       "     F0env_sma_de_quartile1  F0env_sma_de_quartile2  F0env_sma_de_quartile3  \\\n",
       "0                  0.000000                     0.0                0.000000   \n",
       "1                 -0.596069                     0.0                0.484895   \n",
       "2                 -1.082446                     0.0                1.234225   \n",
       "3                 -0.020117                     0.0                0.000000   \n",
       "4                 -0.899964                     0.0                0.807979   \n",
       "..                      ...                     ...                     ...   \n",
       "291               -0.710422                     0.0                0.550822   \n",
       "292                0.000000                     0.0                0.000000   \n",
       "293                0.000000                     0.0                0.000000   \n",
       "294               -0.200396                     0.0                0.583076   \n",
       "295               -0.002663                     0.0                0.018515   \n",
       "\n",
       "     F0env_sma_de_iqr1-2  F0env_sma_de_iqr2-3  F0env_sma_de_iqr1-3  \n",
       "0               0.000000             0.000000             0.000000  \n",
       "1               0.596069             0.484895             1.080964  \n",
       "2               1.082446             1.234225             2.316672  \n",
       "3               0.020117             0.000000             0.020117  \n",
       "4               0.899964             0.807979             1.707942  \n",
       "..                   ...                  ...                  ...  \n",
       "291             0.710422             0.550822             1.261243  \n",
       "292             0.000000             0.000000             0.000000  \n",
       "293             0.000000             0.000000             0.000000  \n",
       "294             0.200396             0.583076             0.783472  \n",
       "295             0.002663             0.018515             0.021178  \n",
       "\n",
       "[296 rows x 989 columns]"
      ]
     },
     "metadata": {},
     "output_type": "display_data"
    },
    {
     "name": "stdout",
     "output_type": "stream",
     "text": [
      "(296, 989)\n"
     ]
    }
   ],
   "source": [
    "display(df_opensmile_emobase)\n",
    "print(df_opensmile_emobase.shape)"
   ]
  },
  {
   "cell_type": "code",
   "execution_count": 16,
   "metadata": {},
   "outputs": [
    {
     "data": {
      "text/html": [
       "<div>\n",
       "<style scoped>\n",
       "    .dataframe tbody tr th:only-of-type {\n",
       "        vertical-align: middle;\n",
       "    }\n",
       "\n",
       "    .dataframe tbody tr th {\n",
       "        vertical-align: top;\n",
       "    }\n",
       "\n",
       "    .dataframe thead th {\n",
       "        text-align: right;\n",
       "    }\n",
       "</style>\n",
       "<table border=\"1\" class=\"dataframe\">\n",
       "  <thead>\n",
       "    <tr style=\"text-align: right;\">\n",
       "      <th></th>\n",
       "      <th>song_id</th>\n",
       "      <th>F0semitoneFrom27.5Hz_sma3nz_amean</th>\n",
       "      <th>F0semitoneFrom27.5Hz_sma3nz_stddevNorm</th>\n",
       "      <th>F0semitoneFrom27.5Hz_sma3nz_percentile20.0</th>\n",
       "      <th>F0semitoneFrom27.5Hz_sma3nz_percentile50.0</th>\n",
       "      <th>F0semitoneFrom27.5Hz_sma3nz_percentile80.0</th>\n",
       "      <th>F0semitoneFrom27.5Hz_sma3nz_pctlrange0-2</th>\n",
       "      <th>F0semitoneFrom27.5Hz_sma3nz_meanRisingSlope</th>\n",
       "      <th>F0semitoneFrom27.5Hz_sma3nz_stddevRisingSlope</th>\n",
       "      <th>F0semitoneFrom27.5Hz_sma3nz_meanFallingSlope</th>\n",
       "      <th>...</th>\n",
       "      <th>alphaRatioUV_sma3nz_amean</th>\n",
       "      <th>hammarbergIndexUV_sma3nz_amean</th>\n",
       "      <th>slopeUV0-500_sma3nz_amean</th>\n",
       "      <th>slopeUV500-1500_sma3nz_amean</th>\n",
       "      <th>loudnessPeaksPerSec</th>\n",
       "      <th>VoicedSegmentsPerSec</th>\n",
       "      <th>MeanVoicedSegmentLengthSec</th>\n",
       "      <th>StddevVoicedSegmentLengthSec</th>\n",
       "      <th>MeanUnvoicedSegmentLength</th>\n",
       "      <th>StddevUnvoicedSegmentLength</th>\n",
       "    </tr>\n",
       "  </thead>\n",
       "  <tbody>\n",
       "    <tr>\n",
       "      <th>0</th>\n",
       "      <td>5</td>\n",
       "      <td>31.631935</td>\n",
       "      <td>0.434963</td>\n",
       "      <td>15.156862</td>\n",
       "      <td>33.399643</td>\n",
       "      <td>45.943863</td>\n",
       "      <td>30.787000</td>\n",
       "      <td>498.97998</td>\n",
       "      <td>653.86620</td>\n",
       "      <td>273.856080</td>\n",
       "      <td>...</td>\n",
       "      <td>-0.735458</td>\n",
       "      <td>7.341491</td>\n",
       "      <td>-0.020799</td>\n",
       "      <td>-0.007142</td>\n",
       "      <td>1.956022</td>\n",
       "      <td>3.244838</td>\n",
       "      <td>0.099840</td>\n",
       "      <td>0.128268</td>\n",
       "      <td>0.201914</td>\n",
       "      <td>0.309628</td>\n",
       "    </tr>\n",
       "    <tr>\n",
       "      <th>1</th>\n",
       "      <td>6</td>\n",
       "      <td>29.125586</td>\n",
       "      <td>0.298632</td>\n",
       "      <td>20.145454</td>\n",
       "      <td>27.247652</td>\n",
       "      <td>36.643260</td>\n",
       "      <td>16.497807</td>\n",
       "      <td>186.41566</td>\n",
       "      <td>271.88443</td>\n",
       "      <td>133.420930</td>\n",
       "      <td>...</td>\n",
       "      <td>-7.127956</td>\n",
       "      <td>13.244290</td>\n",
       "      <td>0.052442</td>\n",
       "      <td>-0.004767</td>\n",
       "      <td>2.016162</td>\n",
       "      <td>0.624566</td>\n",
       "      <td>1.481438</td>\n",
       "      <td>2.588996</td>\n",
       "      <td>0.118254</td>\n",
       "      <td>0.513290</td>\n",
       "    </tr>\n",
       "    <tr>\n",
       "      <th>2</th>\n",
       "      <td>8</td>\n",
       "      <td>23.060804</td>\n",
       "      <td>0.344318</td>\n",
       "      <td>16.906230</td>\n",
       "      <td>19.932571</td>\n",
       "      <td>31.065168</td>\n",
       "      <td>14.158937</td>\n",
       "      <td>214.28032</td>\n",
       "      <td>327.85370</td>\n",
       "      <td>146.277270</td>\n",
       "      <td>...</td>\n",
       "      <td>-5.142391</td>\n",
       "      <td>12.498090</td>\n",
       "      <td>-0.027237</td>\n",
       "      <td>-0.005838</td>\n",
       "      <td>3.261533</td>\n",
       "      <td>2.014916</td>\n",
       "      <td>0.423247</td>\n",
       "      <td>0.450914</td>\n",
       "      <td>0.067478</td>\n",
       "      <td>0.080230</td>\n",
       "    </tr>\n",
       "    <tr>\n",
       "      <th>3</th>\n",
       "      <td>9</td>\n",
       "      <td>31.228289</td>\n",
       "      <td>0.340361</td>\n",
       "      <td>20.977032</td>\n",
       "      <td>32.935673</td>\n",
       "      <td>40.165283</td>\n",
       "      <td>19.188251</td>\n",
       "      <td>298.72308</td>\n",
       "      <td>446.27902</td>\n",
       "      <td>178.564560</td>\n",
       "      <td>...</td>\n",
       "      <td>-5.766650</td>\n",
       "      <td>12.840945</td>\n",
       "      <td>0.029148</td>\n",
       "      <td>-0.011291</td>\n",
       "      <td>4.313234</td>\n",
       "      <td>2.438845</td>\n",
       "      <td>0.347583</td>\n",
       "      <td>0.406080</td>\n",
       "      <td>0.052332</td>\n",
       "      <td>0.059561</td>\n",
       "    </tr>\n",
       "    <tr>\n",
       "      <th>4</th>\n",
       "      <td>13</td>\n",
       "      <td>31.042364</td>\n",
       "      <td>0.379501</td>\n",
       "      <td>14.725781</td>\n",
       "      <td>36.538902</td>\n",
       "      <td>39.984123</td>\n",
       "      <td>25.258343</td>\n",
       "      <td>607.68080</td>\n",
       "      <td>797.87230</td>\n",
       "      <td>212.827900</td>\n",
       "      <td>...</td>\n",
       "      <td>-17.521904</td>\n",
       "      <td>25.957762</td>\n",
       "      <td>-0.082832</td>\n",
       "      <td>-0.018304</td>\n",
       "      <td>3.741378</td>\n",
       "      <td>2.499563</td>\n",
       "      <td>0.167800</td>\n",
       "      <td>0.177233</td>\n",
       "      <td>0.097170</td>\n",
       "      <td>0.093730</td>\n",
       "    </tr>\n",
       "    <tr>\n",
       "      <th>...</th>\n",
       "      <td>...</td>\n",
       "      <td>...</td>\n",
       "      <td>...</td>\n",
       "      <td>...</td>\n",
       "      <td>...</td>\n",
       "      <td>...</td>\n",
       "      <td>...</td>\n",
       "      <td>...</td>\n",
       "      <td>...</td>\n",
       "      <td>...</td>\n",
       "      <td>...</td>\n",
       "      <td>...</td>\n",
       "      <td>...</td>\n",
       "      <td>...</td>\n",
       "      <td>...</td>\n",
       "      <td>...</td>\n",
       "      <td>...</td>\n",
       "      <td>...</td>\n",
       "      <td>...</td>\n",
       "      <td>...</td>\n",
       "      <td>...</td>\n",
       "    </tr>\n",
       "    <tr>\n",
       "      <th>291</th>\n",
       "      <td>984</td>\n",
       "      <td>26.676290</td>\n",
       "      <td>0.345243</td>\n",
       "      <td>18.628330</td>\n",
       "      <td>23.537209</td>\n",
       "      <td>37.044197</td>\n",
       "      <td>18.415867</td>\n",
       "      <td>254.09317</td>\n",
       "      <td>289.99770</td>\n",
       "      <td>196.087200</td>\n",
       "      <td>...</td>\n",
       "      <td>-8.273197</td>\n",
       "      <td>14.886774</td>\n",
       "      <td>-0.037049</td>\n",
       "      <td>-0.012521</td>\n",
       "      <td>4.136631</td>\n",
       "      <td>3.145108</td>\n",
       "      <td>0.254674</td>\n",
       "      <td>0.326507</td>\n",
       "      <td>0.055204</td>\n",
       "      <td>0.053555</td>\n",
       "    </tr>\n",
       "    <tr>\n",
       "      <th>292</th>\n",
       "      <td>987</td>\n",
       "      <td>22.772997</td>\n",
       "      <td>0.474765</td>\n",
       "      <td>14.467970</td>\n",
       "      <td>19.492735</td>\n",
       "      <td>32.146774</td>\n",
       "      <td>17.678804</td>\n",
       "      <td>306.56628</td>\n",
       "      <td>464.38480</td>\n",
       "      <td>203.243440</td>\n",
       "      <td>...</td>\n",
       "      <td>-4.601069</td>\n",
       "      <td>10.934477</td>\n",
       "      <td>-0.020492</td>\n",
       "      <td>-0.010948</td>\n",
       "      <td>2.714263</td>\n",
       "      <td>3.166607</td>\n",
       "      <td>0.201225</td>\n",
       "      <td>0.253500</td>\n",
       "      <td>0.108326</td>\n",
       "      <td>0.160834</td>\n",
       "    </tr>\n",
       "    <tr>\n",
       "      <th>293</th>\n",
       "      <td>994</td>\n",
       "      <td>20.951778</td>\n",
       "      <td>0.376814</td>\n",
       "      <td>14.876099</td>\n",
       "      <td>16.901459</td>\n",
       "      <td>27.142853</td>\n",
       "      <td>12.266754</td>\n",
       "      <td>160.25777</td>\n",
       "      <td>197.10170</td>\n",
       "      <td>117.560425</td>\n",
       "      <td>...</td>\n",
       "      <td>-4.658591</td>\n",
       "      <td>9.458328</td>\n",
       "      <td>-0.019824</td>\n",
       "      <td>-0.008062</td>\n",
       "      <td>1.877894</td>\n",
       "      <td>1.490794</td>\n",
       "      <td>0.596909</td>\n",
       "      <td>1.277710</td>\n",
       "      <td>0.069546</td>\n",
       "      <td>0.198080</td>\n",
       "    </tr>\n",
       "    <tr>\n",
       "      <th>294</th>\n",
       "      <td>995</td>\n",
       "      <td>27.288588</td>\n",
       "      <td>0.388161</td>\n",
       "      <td>14.744168</td>\n",
       "      <td>26.429056</td>\n",
       "      <td>38.070980</td>\n",
       "      <td>23.326813</td>\n",
       "      <td>260.74976</td>\n",
       "      <td>368.00090</td>\n",
       "      <td>128.462650</td>\n",
       "      <td>...</td>\n",
       "      <td>-10.559863</td>\n",
       "      <td>19.369951</td>\n",
       "      <td>-0.051101</td>\n",
       "      <td>-0.012418</td>\n",
       "      <td>1.135837</td>\n",
       "      <td>0.911114</td>\n",
       "      <td>1.015471</td>\n",
       "      <td>2.950280</td>\n",
       "      <td>0.086642</td>\n",
       "      <td>0.150389</td>\n",
       "    </tr>\n",
       "    <tr>\n",
       "      <th>295</th>\n",
       "      <td>996</td>\n",
       "      <td>19.140018</td>\n",
       "      <td>0.192975</td>\n",
       "      <td>16.737202</td>\n",
       "      <td>18.545876</td>\n",
       "      <td>22.009905</td>\n",
       "      <td>5.272703</td>\n",
       "      <td>102.17050</td>\n",
       "      <td>81.47888</td>\n",
       "      <td>73.353650</td>\n",
       "      <td>...</td>\n",
       "      <td>-17.211086</td>\n",
       "      <td>25.365614</td>\n",
       "      <td>0.068651</td>\n",
       "      <td>0.003306</td>\n",
       "      <td>0.991538</td>\n",
       "      <td>0.025654</td>\n",
       "      <td>37.883330</td>\n",
       "      <td>28.873095</td>\n",
       "      <td>1.070000</td>\n",
       "      <td>1.386025</td>\n",
       "    </tr>\n",
       "  </tbody>\n",
       "</table>\n",
       "<p>296 rows × 63 columns</p>\n",
       "</div>"
      ],
      "text/plain": [
       "     song_id  F0semitoneFrom27.5Hz_sma3nz_amean  \\\n",
       "0          5                          31.631935   \n",
       "1          6                          29.125586   \n",
       "2          8                          23.060804   \n",
       "3          9                          31.228289   \n",
       "4         13                          31.042364   \n",
       "..       ...                                ...   \n",
       "291      984                          26.676290   \n",
       "292      987                          22.772997   \n",
       "293      994                          20.951778   \n",
       "294      995                          27.288588   \n",
       "295      996                          19.140018   \n",
       "\n",
       "     F0semitoneFrom27.5Hz_sma3nz_stddevNorm  \\\n",
       "0                                  0.434963   \n",
       "1                                  0.298632   \n",
       "2                                  0.344318   \n",
       "3                                  0.340361   \n",
       "4                                  0.379501   \n",
       "..                                      ...   \n",
       "291                                0.345243   \n",
       "292                                0.474765   \n",
       "293                                0.376814   \n",
       "294                                0.388161   \n",
       "295                                0.192975   \n",
       "\n",
       "     F0semitoneFrom27.5Hz_sma3nz_percentile20.0  \\\n",
       "0                                     15.156862   \n",
       "1                                     20.145454   \n",
       "2                                     16.906230   \n",
       "3                                     20.977032   \n",
       "4                                     14.725781   \n",
       "..                                          ...   \n",
       "291                                   18.628330   \n",
       "292                                   14.467970   \n",
       "293                                   14.876099   \n",
       "294                                   14.744168   \n",
       "295                                   16.737202   \n",
       "\n",
       "     F0semitoneFrom27.5Hz_sma3nz_percentile50.0  \\\n",
       "0                                     33.399643   \n",
       "1                                     27.247652   \n",
       "2                                     19.932571   \n",
       "3                                     32.935673   \n",
       "4                                     36.538902   \n",
       "..                                          ...   \n",
       "291                                   23.537209   \n",
       "292                                   19.492735   \n",
       "293                                   16.901459   \n",
       "294                                   26.429056   \n",
       "295                                   18.545876   \n",
       "\n",
       "     F0semitoneFrom27.5Hz_sma3nz_percentile80.0  \\\n",
       "0                                     45.943863   \n",
       "1                                     36.643260   \n",
       "2                                     31.065168   \n",
       "3                                     40.165283   \n",
       "4                                     39.984123   \n",
       "..                                          ...   \n",
       "291                                   37.044197   \n",
       "292                                   32.146774   \n",
       "293                                   27.142853   \n",
       "294                                   38.070980   \n",
       "295                                   22.009905   \n",
       "\n",
       "     F0semitoneFrom27.5Hz_sma3nz_pctlrange0-2  \\\n",
       "0                                   30.787000   \n",
       "1                                   16.497807   \n",
       "2                                   14.158937   \n",
       "3                                   19.188251   \n",
       "4                                   25.258343   \n",
       "..                                        ...   \n",
       "291                                 18.415867   \n",
       "292                                 17.678804   \n",
       "293                                 12.266754   \n",
       "294                                 23.326813   \n",
       "295                                  5.272703   \n",
       "\n",
       "     F0semitoneFrom27.5Hz_sma3nz_meanRisingSlope  \\\n",
       "0                                      498.97998   \n",
       "1                                      186.41566   \n",
       "2                                      214.28032   \n",
       "3                                      298.72308   \n",
       "4                                      607.68080   \n",
       "..                                           ...   \n",
       "291                                    254.09317   \n",
       "292                                    306.56628   \n",
       "293                                    160.25777   \n",
       "294                                    260.74976   \n",
       "295                                    102.17050   \n",
       "\n",
       "     F0semitoneFrom27.5Hz_sma3nz_stddevRisingSlope  \\\n",
       "0                                        653.86620   \n",
       "1                                        271.88443   \n",
       "2                                        327.85370   \n",
       "3                                        446.27902   \n",
       "4                                        797.87230   \n",
       "..                                             ...   \n",
       "291                                      289.99770   \n",
       "292                                      464.38480   \n",
       "293                                      197.10170   \n",
       "294                                      368.00090   \n",
       "295                                       81.47888   \n",
       "\n",
       "     F0semitoneFrom27.5Hz_sma3nz_meanFallingSlope  ...  \\\n",
       "0                                      273.856080  ...   \n",
       "1                                      133.420930  ...   \n",
       "2                                      146.277270  ...   \n",
       "3                                      178.564560  ...   \n",
       "4                                      212.827900  ...   \n",
       "..                                            ...  ...   \n",
       "291                                    196.087200  ...   \n",
       "292                                    203.243440  ...   \n",
       "293                                    117.560425  ...   \n",
       "294                                    128.462650  ...   \n",
       "295                                     73.353650  ...   \n",
       "\n",
       "     alphaRatioUV_sma3nz_amean  hammarbergIndexUV_sma3nz_amean  \\\n",
       "0                    -0.735458                        7.341491   \n",
       "1                    -7.127956                       13.244290   \n",
       "2                    -5.142391                       12.498090   \n",
       "3                    -5.766650                       12.840945   \n",
       "4                   -17.521904                       25.957762   \n",
       "..                         ...                             ...   \n",
       "291                  -8.273197                       14.886774   \n",
       "292                  -4.601069                       10.934477   \n",
       "293                  -4.658591                        9.458328   \n",
       "294                 -10.559863                       19.369951   \n",
       "295                 -17.211086                       25.365614   \n",
       "\n",
       "     slopeUV0-500_sma3nz_amean  slopeUV500-1500_sma3nz_amean  \\\n",
       "0                    -0.020799                     -0.007142   \n",
       "1                     0.052442                     -0.004767   \n",
       "2                    -0.027237                     -0.005838   \n",
       "3                     0.029148                     -0.011291   \n",
       "4                    -0.082832                     -0.018304   \n",
       "..                         ...                           ...   \n",
       "291                  -0.037049                     -0.012521   \n",
       "292                  -0.020492                     -0.010948   \n",
       "293                  -0.019824                     -0.008062   \n",
       "294                  -0.051101                     -0.012418   \n",
       "295                   0.068651                      0.003306   \n",
       "\n",
       "     loudnessPeaksPerSec  VoicedSegmentsPerSec  MeanVoicedSegmentLengthSec  \\\n",
       "0               1.956022              3.244838                    0.099840   \n",
       "1               2.016162              0.624566                    1.481438   \n",
       "2               3.261533              2.014916                    0.423247   \n",
       "3               4.313234              2.438845                    0.347583   \n",
       "4               3.741378              2.499563                    0.167800   \n",
       "..                   ...                   ...                         ...   \n",
       "291             4.136631              3.145108                    0.254674   \n",
       "292             2.714263              3.166607                    0.201225   \n",
       "293             1.877894              1.490794                    0.596909   \n",
       "294             1.135837              0.911114                    1.015471   \n",
       "295             0.991538              0.025654                   37.883330   \n",
       "\n",
       "     StddevVoicedSegmentLengthSec  MeanUnvoicedSegmentLength  \\\n",
       "0                        0.128268                   0.201914   \n",
       "1                        2.588996                   0.118254   \n",
       "2                        0.450914                   0.067478   \n",
       "3                        0.406080                   0.052332   \n",
       "4                        0.177233                   0.097170   \n",
       "..                            ...                        ...   \n",
       "291                      0.326507                   0.055204   \n",
       "292                      0.253500                   0.108326   \n",
       "293                      1.277710                   0.069546   \n",
       "294                      2.950280                   0.086642   \n",
       "295                     28.873095                   1.070000   \n",
       "\n",
       "     StddevUnvoicedSegmentLength  \n",
       "0                       0.309628  \n",
       "1                       0.513290  \n",
       "2                       0.080230  \n",
       "3                       0.059561  \n",
       "4                       0.093730  \n",
       "..                           ...  \n",
       "291                     0.053555  \n",
       "292                     0.160834  \n",
       "293                     0.198080  \n",
       "294                     0.150389  \n",
       "295                     1.386025  \n",
       "\n",
       "[296 rows x 63 columns]"
      ]
     },
     "metadata": {},
     "output_type": "display_data"
    },
    {
     "name": "stdout",
     "output_type": "stream",
     "text": [
      "(296, 63)\n"
     ]
    }
   ],
   "source": [
    "display(df_opensmile_gemaps)\n",
    "print(df_opensmile_gemaps.shape)"
   ]
  },
  {
   "cell_type": "code",
   "execution_count": 17,
   "metadata": {},
   "outputs": [
    {
     "data": {
      "text/html": [
       "<div>\n",
       "<style scoped>\n",
       "    .dataframe tbody tr th:only-of-type {\n",
       "        vertical-align: middle;\n",
       "    }\n",
       "\n",
       "    .dataframe tbody tr th {\n",
       "        vertical-align: top;\n",
       "    }\n",
       "\n",
       "    .dataframe thead th {\n",
       "        text-align: right;\n",
       "    }\n",
       "</style>\n",
       "<table border=\"1\" class=\"dataframe\">\n",
       "  <thead>\n",
       "    <tr style=\"text-align: right;\">\n",
       "      <th></th>\n",
       "      <th>song_id</th>\n",
       "      <th>F0semitoneFrom27.5Hz_sma3nz_amean</th>\n",
       "      <th>F0semitoneFrom27.5Hz_sma3nz_stddevNorm</th>\n",
       "      <th>F0semitoneFrom27.5Hz_sma3nz_percentile20.0</th>\n",
       "      <th>F0semitoneFrom27.5Hz_sma3nz_percentile50.0</th>\n",
       "      <th>F0semitoneFrom27.5Hz_sma3nz_percentile80.0</th>\n",
       "      <th>F0semitoneFrom27.5Hz_sma3nz_pctlrange0-2</th>\n",
       "      <th>F0semitoneFrom27.5Hz_sma3nz_meanRisingSlope</th>\n",
       "      <th>F0semitoneFrom27.5Hz_sma3nz_stddevRisingSlope</th>\n",
       "      <th>F0semitoneFrom27.5Hz_sma3nz_meanFallingSlope</th>\n",
       "      <th>...</th>\n",
       "      <th>slopeUV0-500_sma3nz_amean</th>\n",
       "      <th>slopeUV500-1500_sma3nz_amean</th>\n",
       "      <th>spectralFluxUV_sma3nz_amean</th>\n",
       "      <th>loudnessPeaksPerSec</th>\n",
       "      <th>VoicedSegmentsPerSec</th>\n",
       "      <th>MeanVoicedSegmentLengthSec</th>\n",
       "      <th>StddevVoicedSegmentLengthSec</th>\n",
       "      <th>MeanUnvoicedSegmentLength</th>\n",
       "      <th>StddevUnvoicedSegmentLength</th>\n",
       "      <th>equivalentSoundLevel_dBp</th>\n",
       "    </tr>\n",
       "  </thead>\n",
       "  <tbody>\n",
       "    <tr>\n",
       "      <th>0</th>\n",
       "      <td>5</td>\n",
       "      <td>31.631935</td>\n",
       "      <td>0.434963</td>\n",
       "      <td>15.156862</td>\n",
       "      <td>33.399643</td>\n",
       "      <td>45.943863</td>\n",
       "      <td>30.787000</td>\n",
       "      <td>498.97998</td>\n",
       "      <td>653.86620</td>\n",
       "      <td>273.856080</td>\n",
       "      <td>...</td>\n",
       "      <td>-0.020799</td>\n",
       "      <td>-0.007142</td>\n",
       "      <td>3.825121</td>\n",
       "      <td>1.956022</td>\n",
       "      <td>3.244838</td>\n",
       "      <td>0.099840</td>\n",
       "      <td>0.128268</td>\n",
       "      <td>0.201914</td>\n",
       "      <td>0.309628</td>\n",
       "      <td>-15.400094</td>\n",
       "    </tr>\n",
       "    <tr>\n",
       "      <th>1</th>\n",
       "      <td>6</td>\n",
       "      <td>29.125586</td>\n",
       "      <td>0.298632</td>\n",
       "      <td>20.145454</td>\n",
       "      <td>27.247652</td>\n",
       "      <td>36.643260</td>\n",
       "      <td>16.497807</td>\n",
       "      <td>186.41566</td>\n",
       "      <td>271.88443</td>\n",
       "      <td>133.420930</td>\n",
       "      <td>...</td>\n",
       "      <td>0.052442</td>\n",
       "      <td>-0.004767</td>\n",
       "      <td>1.831974</td>\n",
       "      <td>2.016162</td>\n",
       "      <td>0.624566</td>\n",
       "      <td>1.481438</td>\n",
       "      <td>2.588996</td>\n",
       "      <td>0.118254</td>\n",
       "      <td>0.513290</td>\n",
       "      <td>-19.109070</td>\n",
       "    </tr>\n",
       "    <tr>\n",
       "      <th>2</th>\n",
       "      <td>8</td>\n",
       "      <td>23.060804</td>\n",
       "      <td>0.344318</td>\n",
       "      <td>16.906230</td>\n",
       "      <td>19.932571</td>\n",
       "      <td>31.065168</td>\n",
       "      <td>14.158937</td>\n",
       "      <td>214.28032</td>\n",
       "      <td>327.85370</td>\n",
       "      <td>146.277270</td>\n",
       "      <td>...</td>\n",
       "      <td>-0.027237</td>\n",
       "      <td>-0.005838</td>\n",
       "      <td>1.583399</td>\n",
       "      <td>3.261533</td>\n",
       "      <td>2.014916</td>\n",
       "      <td>0.423247</td>\n",
       "      <td>0.450914</td>\n",
       "      <td>0.067478</td>\n",
       "      <td>0.080230</td>\n",
       "      <td>-18.705963</td>\n",
       "    </tr>\n",
       "    <tr>\n",
       "      <th>3</th>\n",
       "      <td>9</td>\n",
       "      <td>31.228289</td>\n",
       "      <td>0.340361</td>\n",
       "      <td>20.977032</td>\n",
       "      <td>32.935673</td>\n",
       "      <td>40.165283</td>\n",
       "      <td>19.188251</td>\n",
       "      <td>298.72308</td>\n",
       "      <td>446.27902</td>\n",
       "      <td>178.564560</td>\n",
       "      <td>...</td>\n",
       "      <td>0.029148</td>\n",
       "      <td>-0.011291</td>\n",
       "      <td>3.927372</td>\n",
       "      <td>4.313234</td>\n",
       "      <td>2.438845</td>\n",
       "      <td>0.347583</td>\n",
       "      <td>0.406080</td>\n",
       "      <td>0.052332</td>\n",
       "      <td>0.059561</td>\n",
       "      <td>-14.848560</td>\n",
       "    </tr>\n",
       "    <tr>\n",
       "      <th>4</th>\n",
       "      <td>13</td>\n",
       "      <td>31.042364</td>\n",
       "      <td>0.379501</td>\n",
       "      <td>14.725781</td>\n",
       "      <td>36.538902</td>\n",
       "      <td>39.984123</td>\n",
       "      <td>25.258343</td>\n",
       "      <td>607.68080</td>\n",
       "      <td>797.87230</td>\n",
       "      <td>212.827900</td>\n",
       "      <td>...</td>\n",
       "      <td>-0.082832</td>\n",
       "      <td>-0.018304</td>\n",
       "      <td>4.100258</td>\n",
       "      <td>3.741378</td>\n",
       "      <td>2.499563</td>\n",
       "      <td>0.167800</td>\n",
       "      <td>0.177233</td>\n",
       "      <td>0.097170</td>\n",
       "      <td>0.093730</td>\n",
       "      <td>-13.559912</td>\n",
       "    </tr>\n",
       "    <tr>\n",
       "      <th>...</th>\n",
       "      <td>...</td>\n",
       "      <td>...</td>\n",
       "      <td>...</td>\n",
       "      <td>...</td>\n",
       "      <td>...</td>\n",
       "      <td>...</td>\n",
       "      <td>...</td>\n",
       "      <td>...</td>\n",
       "      <td>...</td>\n",
       "      <td>...</td>\n",
       "      <td>...</td>\n",
       "      <td>...</td>\n",
       "      <td>...</td>\n",
       "      <td>...</td>\n",
       "      <td>...</td>\n",
       "      <td>...</td>\n",
       "      <td>...</td>\n",
       "      <td>...</td>\n",
       "      <td>...</td>\n",
       "      <td>...</td>\n",
       "      <td>...</td>\n",
       "    </tr>\n",
       "    <tr>\n",
       "      <th>291</th>\n",
       "      <td>984</td>\n",
       "      <td>26.676290</td>\n",
       "      <td>0.345243</td>\n",
       "      <td>18.628330</td>\n",
       "      <td>23.537209</td>\n",
       "      <td>37.044197</td>\n",
       "      <td>18.415867</td>\n",
       "      <td>254.09317</td>\n",
       "      <td>289.99770</td>\n",
       "      <td>196.087200</td>\n",
       "      <td>...</td>\n",
       "      <td>-0.037049</td>\n",
       "      <td>-0.012521</td>\n",
       "      <td>4.701047</td>\n",
       "      <td>4.136631</td>\n",
       "      <td>3.145108</td>\n",
       "      <td>0.254674</td>\n",
       "      <td>0.326507</td>\n",
       "      <td>0.055204</td>\n",
       "      <td>0.053555</td>\n",
       "      <td>-9.115022</td>\n",
       "    </tr>\n",
       "    <tr>\n",
       "      <th>292</th>\n",
       "      <td>987</td>\n",
       "      <td>22.772997</td>\n",
       "      <td>0.474765</td>\n",
       "      <td>14.467970</td>\n",
       "      <td>19.492735</td>\n",
       "      <td>32.146774</td>\n",
       "      <td>17.678804</td>\n",
       "      <td>306.56628</td>\n",
       "      <td>464.38480</td>\n",
       "      <td>203.243440</td>\n",
       "      <td>...</td>\n",
       "      <td>-0.020492</td>\n",
       "      <td>-0.010948</td>\n",
       "      <td>3.111682</td>\n",
       "      <td>2.714263</td>\n",
       "      <td>3.166607</td>\n",
       "      <td>0.201225</td>\n",
       "      <td>0.253500</td>\n",
       "      <td>0.108326</td>\n",
       "      <td>0.160834</td>\n",
       "      <td>-16.757652</td>\n",
       "    </tr>\n",
       "    <tr>\n",
       "      <th>293</th>\n",
       "      <td>994</td>\n",
       "      <td>20.951778</td>\n",
       "      <td>0.376814</td>\n",
       "      <td>14.876099</td>\n",
       "      <td>16.901459</td>\n",
       "      <td>27.142853</td>\n",
       "      <td>12.266754</td>\n",
       "      <td>160.25777</td>\n",
       "      <td>197.10170</td>\n",
       "      <td>117.560425</td>\n",
       "      <td>...</td>\n",
       "      <td>-0.019824</td>\n",
       "      <td>-0.008062</td>\n",
       "      <td>4.860633</td>\n",
       "      <td>1.877894</td>\n",
       "      <td>1.490794</td>\n",
       "      <td>0.596909</td>\n",
       "      <td>1.277710</td>\n",
       "      <td>0.069546</td>\n",
       "      <td>0.198080</td>\n",
       "      <td>-12.248509</td>\n",
       "    </tr>\n",
       "    <tr>\n",
       "      <th>294</th>\n",
       "      <td>995</td>\n",
       "      <td>27.288588</td>\n",
       "      <td>0.388161</td>\n",
       "      <td>14.744168</td>\n",
       "      <td>26.429056</td>\n",
       "      <td>38.070980</td>\n",
       "      <td>23.326813</td>\n",
       "      <td>260.74976</td>\n",
       "      <td>368.00090</td>\n",
       "      <td>128.462650</td>\n",
       "      <td>...</td>\n",
       "      <td>-0.051101</td>\n",
       "      <td>-0.012418</td>\n",
       "      <td>2.186395</td>\n",
       "      <td>1.135837</td>\n",
       "      <td>0.911114</td>\n",
       "      <td>1.015471</td>\n",
       "      <td>2.950280</td>\n",
       "      <td>0.086642</td>\n",
       "      <td>0.150389</td>\n",
       "      <td>-17.433088</td>\n",
       "    </tr>\n",
       "    <tr>\n",
       "      <th>295</th>\n",
       "      <td>996</td>\n",
       "      <td>19.140018</td>\n",
       "      <td>0.192975</td>\n",
       "      <td>16.737202</td>\n",
       "      <td>18.545876</td>\n",
       "      <td>22.009905</td>\n",
       "      <td>5.272703</td>\n",
       "      <td>102.17050</td>\n",
       "      <td>81.47888</td>\n",
       "      <td>73.353650</td>\n",
       "      <td>...</td>\n",
       "      <td>0.068651</td>\n",
       "      <td>0.003306</td>\n",
       "      <td>0.289129</td>\n",
       "      <td>0.991538</td>\n",
       "      <td>0.025654</td>\n",
       "      <td>37.883330</td>\n",
       "      <td>28.873095</td>\n",
       "      <td>1.070000</td>\n",
       "      <td>1.386025</td>\n",
       "      <td>-17.674793</td>\n",
       "    </tr>\n",
       "  </tbody>\n",
       "</table>\n",
       "<p>296 rows × 89 columns</p>\n",
       "</div>"
      ],
      "text/plain": [
       "     song_id  F0semitoneFrom27.5Hz_sma3nz_amean  \\\n",
       "0          5                          31.631935   \n",
       "1          6                          29.125586   \n",
       "2          8                          23.060804   \n",
       "3          9                          31.228289   \n",
       "4         13                          31.042364   \n",
       "..       ...                                ...   \n",
       "291      984                          26.676290   \n",
       "292      987                          22.772997   \n",
       "293      994                          20.951778   \n",
       "294      995                          27.288588   \n",
       "295      996                          19.140018   \n",
       "\n",
       "     F0semitoneFrom27.5Hz_sma3nz_stddevNorm  \\\n",
       "0                                  0.434963   \n",
       "1                                  0.298632   \n",
       "2                                  0.344318   \n",
       "3                                  0.340361   \n",
       "4                                  0.379501   \n",
       "..                                      ...   \n",
       "291                                0.345243   \n",
       "292                                0.474765   \n",
       "293                                0.376814   \n",
       "294                                0.388161   \n",
       "295                                0.192975   \n",
       "\n",
       "     F0semitoneFrom27.5Hz_sma3nz_percentile20.0  \\\n",
       "0                                     15.156862   \n",
       "1                                     20.145454   \n",
       "2                                     16.906230   \n",
       "3                                     20.977032   \n",
       "4                                     14.725781   \n",
       "..                                          ...   \n",
       "291                                   18.628330   \n",
       "292                                   14.467970   \n",
       "293                                   14.876099   \n",
       "294                                   14.744168   \n",
       "295                                   16.737202   \n",
       "\n",
       "     F0semitoneFrom27.5Hz_sma3nz_percentile50.0  \\\n",
       "0                                     33.399643   \n",
       "1                                     27.247652   \n",
       "2                                     19.932571   \n",
       "3                                     32.935673   \n",
       "4                                     36.538902   \n",
       "..                                          ...   \n",
       "291                                   23.537209   \n",
       "292                                   19.492735   \n",
       "293                                   16.901459   \n",
       "294                                   26.429056   \n",
       "295                                   18.545876   \n",
       "\n",
       "     F0semitoneFrom27.5Hz_sma3nz_percentile80.0  \\\n",
       "0                                     45.943863   \n",
       "1                                     36.643260   \n",
       "2                                     31.065168   \n",
       "3                                     40.165283   \n",
       "4                                     39.984123   \n",
       "..                                          ...   \n",
       "291                                   37.044197   \n",
       "292                                   32.146774   \n",
       "293                                   27.142853   \n",
       "294                                   38.070980   \n",
       "295                                   22.009905   \n",
       "\n",
       "     F0semitoneFrom27.5Hz_sma3nz_pctlrange0-2  \\\n",
       "0                                   30.787000   \n",
       "1                                   16.497807   \n",
       "2                                   14.158937   \n",
       "3                                   19.188251   \n",
       "4                                   25.258343   \n",
       "..                                        ...   \n",
       "291                                 18.415867   \n",
       "292                                 17.678804   \n",
       "293                                 12.266754   \n",
       "294                                 23.326813   \n",
       "295                                  5.272703   \n",
       "\n",
       "     F0semitoneFrom27.5Hz_sma3nz_meanRisingSlope  \\\n",
       "0                                      498.97998   \n",
       "1                                      186.41566   \n",
       "2                                      214.28032   \n",
       "3                                      298.72308   \n",
       "4                                      607.68080   \n",
       "..                                           ...   \n",
       "291                                    254.09317   \n",
       "292                                    306.56628   \n",
       "293                                    160.25777   \n",
       "294                                    260.74976   \n",
       "295                                    102.17050   \n",
       "\n",
       "     F0semitoneFrom27.5Hz_sma3nz_stddevRisingSlope  \\\n",
       "0                                        653.86620   \n",
       "1                                        271.88443   \n",
       "2                                        327.85370   \n",
       "3                                        446.27902   \n",
       "4                                        797.87230   \n",
       "..                                             ...   \n",
       "291                                      289.99770   \n",
       "292                                      464.38480   \n",
       "293                                      197.10170   \n",
       "294                                      368.00090   \n",
       "295                                       81.47888   \n",
       "\n",
       "     F0semitoneFrom27.5Hz_sma3nz_meanFallingSlope  ...  \\\n",
       "0                                      273.856080  ...   \n",
       "1                                      133.420930  ...   \n",
       "2                                      146.277270  ...   \n",
       "3                                      178.564560  ...   \n",
       "4                                      212.827900  ...   \n",
       "..                                            ...  ...   \n",
       "291                                    196.087200  ...   \n",
       "292                                    203.243440  ...   \n",
       "293                                    117.560425  ...   \n",
       "294                                    128.462650  ...   \n",
       "295                                     73.353650  ...   \n",
       "\n",
       "     slopeUV0-500_sma3nz_amean  slopeUV500-1500_sma3nz_amean  \\\n",
       "0                    -0.020799                     -0.007142   \n",
       "1                     0.052442                     -0.004767   \n",
       "2                    -0.027237                     -0.005838   \n",
       "3                     0.029148                     -0.011291   \n",
       "4                    -0.082832                     -0.018304   \n",
       "..                         ...                           ...   \n",
       "291                  -0.037049                     -0.012521   \n",
       "292                  -0.020492                     -0.010948   \n",
       "293                  -0.019824                     -0.008062   \n",
       "294                  -0.051101                     -0.012418   \n",
       "295                   0.068651                      0.003306   \n",
       "\n",
       "     spectralFluxUV_sma3nz_amean  loudnessPeaksPerSec  VoicedSegmentsPerSec  \\\n",
       "0                       3.825121             1.956022              3.244838   \n",
       "1                       1.831974             2.016162              0.624566   \n",
       "2                       1.583399             3.261533              2.014916   \n",
       "3                       3.927372             4.313234              2.438845   \n",
       "4                       4.100258             3.741378              2.499563   \n",
       "..                           ...                  ...                   ...   \n",
       "291                     4.701047             4.136631              3.145108   \n",
       "292                     3.111682             2.714263              3.166607   \n",
       "293                     4.860633             1.877894              1.490794   \n",
       "294                     2.186395             1.135837              0.911114   \n",
       "295                     0.289129             0.991538              0.025654   \n",
       "\n",
       "     MeanVoicedSegmentLengthSec  StddevVoicedSegmentLengthSec  \\\n",
       "0                      0.099840                      0.128268   \n",
       "1                      1.481438                      2.588996   \n",
       "2                      0.423247                      0.450914   \n",
       "3                      0.347583                      0.406080   \n",
       "4                      0.167800                      0.177233   \n",
       "..                          ...                           ...   \n",
       "291                    0.254674                      0.326507   \n",
       "292                    0.201225                      0.253500   \n",
       "293                    0.596909                      1.277710   \n",
       "294                    1.015471                      2.950280   \n",
       "295                   37.883330                     28.873095   \n",
       "\n",
       "     MeanUnvoicedSegmentLength  StddevUnvoicedSegmentLength  \\\n",
       "0                     0.201914                     0.309628   \n",
       "1                     0.118254                     0.513290   \n",
       "2                     0.067478                     0.080230   \n",
       "3                     0.052332                     0.059561   \n",
       "4                     0.097170                     0.093730   \n",
       "..                         ...                          ...   \n",
       "291                   0.055204                     0.053555   \n",
       "292                   0.108326                     0.160834   \n",
       "293                   0.069546                     0.198080   \n",
       "294                   0.086642                     0.150389   \n",
       "295                   1.070000                     1.386025   \n",
       "\n",
       "     equivalentSoundLevel_dBp  \n",
       "0                  -15.400094  \n",
       "1                  -19.109070  \n",
       "2                  -18.705963  \n",
       "3                  -14.848560  \n",
       "4                  -13.559912  \n",
       "..                        ...  \n",
       "291                 -9.115022  \n",
       "292                -16.757652  \n",
       "293                -12.248509  \n",
       "294                -17.433088  \n",
       "295                -17.674793  \n",
       "\n",
       "[296 rows x 89 columns]"
      ]
     },
     "metadata": {},
     "output_type": "display_data"
    },
    {
     "name": "stdout",
     "output_type": "stream",
     "text": [
      "(296, 89)\n"
     ]
    }
   ],
   "source": [
    "display(df_opensmile_egemaps)\n",
    "print(df_opensmile_egemaps.shape)"
   ]
  },
  {
   "cell_type": "markdown",
   "metadata": {},
   "source": [
    "## Essentia"
   ]
  },
  {
   "cell_type": "markdown",
   "metadata": {},
   "source": [
    "Import Essentia and other relevant libraries"
   ]
  },
  {
   "cell_type": "code",
   "execution_count": 3,
   "metadata": {},
   "outputs": [],
   "source": [
    "import essentia\n",
    "import essentia.standard as es\n",
    "from essentia.standard import *\n",
    "\n",
    "import json\n",
    "import numpy as np"
   ]
  },
  {
   "cell_type": "markdown",
   "metadata": {},
   "source": [
    "Extract the features from one .mp3 file and see the features"
   ]
  },
  {
   "cell_type": "code",
   "execution_count": 13,
   "metadata": {},
   "outputs": [
    {
     "name": "stderr",
     "output_type": "stream",
     "text": [
      "[   INFO   ] MusicExtractor: Read metadata\n",
      "[   INFO   ] MusicExtractor: Compute md5 audio hash, codec, length, and EBU 128 loudness\n",
      "[   INFO   ] MusicExtractor: Replay gain\n",
      "[   INFO   ] MusicExtractor: Compute audio features\n",
      "[   INFO   ] MusicExtractor: Compute aggregation\n",
      "[   INFO   ] All done\n"
     ]
    },
    {
     "data": {
      "text/html": [
       "<div>\n",
       "<style scoped>\n",
       "    .dataframe tbody tr th:only-of-type {\n",
       "        vertical-align: middle;\n",
       "    }\n",
       "\n",
       "    .dataframe tbody tr th {\n",
       "        vertical-align: top;\n",
       "    }\n",
       "\n",
       "    .dataframe thead th {\n",
       "        text-align: right;\n",
       "    }\n",
       "</style>\n",
       "<table border=\"1\" class=\"dataframe\">\n",
       "  <thead>\n",
       "    <tr style=\"text-align: right;\">\n",
       "      <th></th>\n",
       "      <th>lowlevel.average_loudness</th>\n",
       "      <th>lowlevel.barkbands_crest.dmean</th>\n",
       "      <th>lowlevel.barkbands_crest.dmean2</th>\n",
       "      <th>lowlevel.barkbands_crest.dvar</th>\n",
       "      <th>lowlevel.barkbands_crest.dvar2</th>\n",
       "      <th>lowlevel.barkbands_crest.max</th>\n",
       "      <th>lowlevel.barkbands_crest.mean</th>\n",
       "      <th>lowlevel.barkbands_crest.median</th>\n",
       "      <th>lowlevel.barkbands_crest.min</th>\n",
       "      <th>lowlevel.barkbands_crest.stdev</th>\n",
       "      <th>...</th>\n",
       "      <th>metadata.version.essentia_git_sha</th>\n",
       "      <th>metadata.version.extractor</th>\n",
       "      <th>tonal.chords_key</th>\n",
       "      <th>tonal.chords_scale</th>\n",
       "      <th>tonal.key_edma.key</th>\n",
       "      <th>tonal.key_edma.scale</th>\n",
       "      <th>tonal.key_krumhansl.key</th>\n",
       "      <th>tonal.key_krumhansl.scale</th>\n",
       "      <th>tonal.key_temperley.key</th>\n",
       "      <th>tonal.key_temperley.scale</th>\n",
       "    </tr>\n",
       "  </thead>\n",
       "  <tbody>\n",
       "    <tr>\n",
       "      <th>0</th>\n",
       "      <td>0.866742</td>\n",
       "      <td>2.048575</td>\n",
       "      <td>3.433287</td>\n",
       "      <td>3.736002</td>\n",
       "      <td>9.706467</td>\n",
       "      <td>24.862337</td>\n",
       "      <td>6.305223</td>\n",
       "      <td>5.535047</td>\n",
       "      <td>1.7901</td>\n",
       "      <td>2.910486</td>\n",
       "      <td>...</td>\n",
       "      <td>v2.1_beta5-1110-g77a6a954-dirty</td>\n",
       "      <td>music 2.0</td>\n",
       "      <td>C</td>\n",
       "      <td>minor</td>\n",
       "      <td>C</td>\n",
       "      <td>minor</td>\n",
       "      <td>C</td>\n",
       "      <td>minor</td>\n",
       "      <td>C</td>\n",
       "      <td>minor</td>\n",
       "    </tr>\n",
       "  </tbody>\n",
       "</table>\n",
       "<p>1 rows × 577 columns</p>\n",
       "</div>"
      ],
      "text/plain": [
       "   lowlevel.average_loudness  lowlevel.barkbands_crest.dmean  \\\n",
       "0                   0.866742                        2.048575   \n",
       "\n",
       "   lowlevel.barkbands_crest.dmean2  lowlevel.barkbands_crest.dvar  \\\n",
       "0                         3.433287                       3.736002   \n",
       "\n",
       "   lowlevel.barkbands_crest.dvar2  lowlevel.barkbands_crest.max  \\\n",
       "0                        9.706467                     24.862337   \n",
       "\n",
       "   lowlevel.barkbands_crest.mean  lowlevel.barkbands_crest.median  \\\n",
       "0                       6.305223                         5.535047   \n",
       "\n",
       "   lowlevel.barkbands_crest.min  lowlevel.barkbands_crest.stdev  ...  \\\n",
       "0                        1.7901                        2.910486  ...   \n",
       "\n",
       "   metadata.version.essentia_git_sha  metadata.version.extractor  \\\n",
       "0    v2.1_beta5-1110-g77a6a954-dirty                   music 2.0   \n",
       "\n",
       "   tonal.chords_key  tonal.chords_scale  tonal.key_edma.key  \\\n",
       "0                 C               minor                   C   \n",
       "\n",
       "   tonal.key_edma.scale  tonal.key_krumhansl.key  tonal.key_krumhansl.scale  \\\n",
       "0                 minor                        C                      minor   \n",
       "\n",
       "   tonal.key_temperley.key  tonal.key_temperley.scale  \n",
       "0                        C                      minor  \n",
       "\n",
       "[1 rows x 577 columns]"
      ]
     },
     "execution_count": 13,
     "metadata": {},
     "output_type": "execute_result"
    }
   ],
   "source": [
    "audio_file = '../../data/SiTunes/songs/5.wav'\n",
    "\n",
    "features, features_frames = es.MusicExtractor()(audio_file)\n",
    "\n",
    "feature_names = features.descriptorNames()\n",
    "feature_values = [features[name] for name in feature_names]\n",
    "\n",
    "# Create a dictionary with feature names and values\n",
    "features_dict = {name: value for name, value in zip(feature_names, feature_values)}\n",
    "df_essentia_all_sample = pd.json_normalize(features_dict)\n",
    "\n",
    "df_essentia_all_sample"
   ]
  },
  {
   "cell_type": "markdown",
   "metadata": {},
   "source": [
    "Lets drop the last 4 metadata columns"
   ]
  },
  {
   "cell_type": "code",
   "execution_count": null,
   "metadata": {},
   "outputs": [],
   "source": [
    "# feature_names = features.descriptorNames()[:-4]\n",
    "# feature_values = [features[name] for name in feature_names]\n",
    "\n",
    "# # Create a dictionary with feature names and values\n",
    "# features_dict = {name: value for name, value in zip(feature_names, feature_values)}\n",
    "# df_essentia_all_sample = pd.json_normalize(features_dict)\n",
    "\n",
    "# df_essentia_all_sample"
   ]
  },
  {
   "cell_type": "markdown",
   "metadata": {},
   "source": [
    "Extract all 577 features from all songs"
   ]
  },
  {
   "cell_type": "markdown",
   "metadata": {},
   "source": [
    "Prepare to extract features from all audio files"
   ]
  },
  {
   "cell_type": "code",
   "execution_count": 21,
   "metadata": {},
   "outputs": [],
   "source": [
    "# Function to extract features for a song ID\n",
    "def extract_features(song_id):\n",
    "    print(f'Extracting features from song_id: {song_id}')\n",
    "    audio_file = f'../../data/SiTunes/songs/{song_id}.wav'\n",
    "    features, _ = es.MusicExtractor()(audio_file)\n",
    "    feature_values = [features[name] for name in feature_names]\n",
    "    features_dict = {name: value for name, value in zip(feature_names, feature_values)}\n",
    "    return pd.json_normalize(features_dict)\n"
   ]
  },
  {
   "cell_type": "markdown",
   "metadata": {},
   "source": [
    "Extract all features from all audio files using Essentia"
   ]
  },
  {
   "cell_type": "code",
   "execution_count": 22,
   "metadata": {},
   "outputs": [
    {
     "name": "stdout",
     "output_type": "stream",
     "text": [
      "Extracting features from song_id: 5\n",
      "Extracting features from song_id: 8\n",
      "Extracting features from song_id: 6\n",
      "Extracting features from song_id: 9\n"
     ]
    },
    {
     "name": "stderr",
     "output_type": "stream",
     "text": [
      "[   INFO   ] MusicExtractor: Read metadata\n",
      "[   INFO   ] MusicExtractor: Compute md5 audio hash, codec, length, and EBU 128 loudness\n",
      "[   INFO   ] MusicExtractor: Read metadata\n",
      "[   INFO   ] MusicExtractor: Compute md5 audio hash, codec, length, and EBU 128 loudness\n",
      "[   INFO   ] MusicExtractor: Read metadata\n",
      "[   INFO   ] MusicExtractor: Compute md5 audio hash, codec, length, and EBU 128 loudness\n",
      "[   INFO   ] MusicExtractor: Read metadata\n",
      "[   INFO   ] MusicExtractor: Compute md5 audio hash, codec, length, and EBU 128 loudness\n",
      "[   INFO   ] MusicExtractor: Replay gain\n",
      "[   INFO   ] MusicExtractor: Replay gain\n",
      "[   INFO   ] MusicExtractor: Replay gain\n",
      "[   INFO   ] MusicExtractor: Replay gain\n",
      "[   INFO   ] MusicExtractor: Compute audio features\n",
      "[   INFO   ] MusicExtractor: Compute audio features\n",
      "[   INFO   ] MusicExtractor: Compute audio features\n",
      "[   INFO   ] MusicExtractor: Compute audio features\n",
      "[   INFO   ] MusicExtractor: Compute aggregation\n",
      "[   INFO   ] MusicExtractor: Compute aggregation\n",
      "[   INFO   ] All done\n",
      "[   INFO   ] MusicExtractor: Read metadata\n",
      "[   INFO   ] MusicExtractor: Compute md5 audio hash, codec, length, and EBU 128 loudness\n",
      "[   INFO   ] All done\n",
      "[   INFO   ] MusicExtractor: Read metadata\n",
      "[   INFO   ] MusicExtractor: Compute md5 audio hash, codec, length, and EBU 128 loudness\n"
     ]
    },
    {
     "name": "stdout",
     "output_type": "stream",
     "text": [
      "Extracting features from song_id: 13\n",
      "Extracting features from song_id: 14\n"
     ]
    },
    {
     "name": "stderr",
     "output_type": "stream",
     "text": [
      "[   INFO   ] MusicExtractor: Compute aggregation\n",
      "[   INFO   ] All done\n",
      "[   INFO   ] MusicExtractor: Read metadata\n",
      "[   INFO   ] MusicExtractor: Compute md5 audio hash, codec, length, and EBU 128 loudness\n"
     ]
    },
    {
     "name": "stdout",
     "output_type": "stream",
     "text": [
      "Extracting features from song_id: 17\n"
     ]
    },
    {
     "name": "stderr",
     "output_type": "stream",
     "text": [
      "[   INFO   ] MusicExtractor: Compute aggregation\n",
      "[   INFO   ] All done\n",
      "[   INFO   ] MusicExtractor: Read metadata\n",
      "[   INFO   ] MusicExtractor: Compute md5 audio hash, codec, length, and EBU 128 loudness\n",
      "[   INFO   ] MusicExtractor: Replay gain\n"
     ]
    },
    {
     "name": "stdout",
     "output_type": "stream",
     "text": [
      "Extracting features from song_id: 19\n"
     ]
    },
    {
     "name": "stderr",
     "output_type": "stream",
     "text": [
      "[   INFO   ] MusicExtractor: Compute audio features\n",
      "[   INFO   ] MusicExtractor: Replay gain\n",
      "[   INFO   ] MusicExtractor: Replay gain\n",
      "[   INFO   ] MusicExtractor: Compute audio features\n",
      "[   INFO   ] MusicExtractor: Replay gain\n",
      "[   INFO   ] MusicExtractor: Compute audio features\n",
      "[   INFO   ] MusicExtractor: Compute aggregation\n",
      "[   INFO   ] All done\n",
      "[   INFO   ] MusicExtractor: Read metadata\n",
      "[   INFO   ] MusicExtractor: Compute md5 audio hash, codec, length, and EBU 128 loudness\n"
     ]
    },
    {
     "name": "stdout",
     "output_type": "stream",
     "text": [
      "Extracting features from song_id: 20\n"
     ]
    },
    {
     "name": "stderr",
     "output_type": "stream",
     "text": [
      "[   INFO   ] MusicExtractor: Compute audio features\n",
      "[   INFO   ] MusicExtractor: Compute aggregation\n",
      "[   INFO   ] All done\n",
      "[   INFO   ] MusicExtractor: Read metadata\n",
      "[   INFO   ] MusicExtractor: Compute md5 audio hash, codec, length, and EBU 128 loudness\n"
     ]
    },
    {
     "name": "stdout",
     "output_type": "stream",
     "text": [
      "Extracting features from song_id: 22\n"
     ]
    },
    {
     "name": "stderr",
     "output_type": "stream",
     "text": [
      "[   INFO   ] MusicExtractor: Replay gain\n",
      "[   INFO   ] MusicExtractor: Compute audio features\n",
      "[   INFO   ] MusicExtractor: Compute aggregation\n",
      "[   INFO   ] All done\n",
      "[   INFO   ] MusicExtractor: Read metadata\n",
      "[   INFO   ] MusicExtractor: Compute md5 audio hash, codec, length, and EBU 128 loudness\n"
     ]
    },
    {
     "name": "stdout",
     "output_type": "stream",
     "text": [
      "Extracting features from song_id: 23\n"
     ]
    },
    {
     "name": "stderr",
     "output_type": "stream",
     "text": [
      "[   INFO   ] MusicExtractor: Replay gain\n",
      "[   INFO   ] MusicExtractor: Compute audio features\n",
      "[   INFO   ] MusicExtractor: Replay gain\n",
      "[   INFO   ] MusicExtractor: Compute aggregation\n",
      "[   INFO   ] MusicExtractor: Compute audio features\n",
      "[   INFO   ] All done\n"
     ]
    },
    {
     "name": "stdout",
     "output_type": "stream",
     "text": [
      "Extracting features from song_id: 24\n"
     ]
    },
    {
     "name": "stderr",
     "output_type": "stream",
     "text": [
      "[   INFO   ] MusicExtractor: Read metadata\n",
      "[   INFO   ] MusicExtractor: Compute md5 audio hash, codec, length, and EBU 128 loudness\n",
      "[   INFO   ] MusicExtractor: Compute aggregation\n",
      "[   INFO   ] All done\n",
      "[   INFO   ] MusicExtractor: Read metadata\n",
      "[   INFO   ] MusicExtractor: Compute md5 audio hash, codec, length, and EBU 128 loudness\n"
     ]
    },
    {
     "name": "stdout",
     "output_type": "stream",
     "text": [
      "Extracting features from song_id: 26\n"
     ]
    },
    {
     "name": "stderr",
     "output_type": "stream",
     "text": [
      "[   INFO   ] MusicExtractor: Compute aggregation\n",
      "[   INFO   ] MusicExtractor: Replay gain\n",
      "[   INFO   ] All done\n",
      "[   INFO   ] MusicExtractor: Read metadata\n",
      "[   INFO   ] MusicExtractor: Compute md5 audio hash, codec, length, and EBU 128 loudness\n"
     ]
    },
    {
     "name": "stdout",
     "output_type": "stream",
     "text": [
      "Extracting features from song_id: 28\n"
     ]
    },
    {
     "name": "stderr",
     "output_type": "stream",
     "text": [
      "[   INFO   ] MusicExtractor: Compute audio features\n",
      "[   INFO   ] MusicExtractor: Compute aggregation\n",
      "[   INFO   ] MusicExtractor: Replay gain\n",
      "[   INFO   ] All done\n",
      "[   INFO   ] MusicExtractor: Read metadata\n",
      "[   INFO   ] MusicExtractor: Compute md5 audio hash, codec, length, and EBU 128 loudness\n"
     ]
    },
    {
     "name": "stdout",
     "output_type": "stream",
     "text": [
      "Extracting features from song_id: 37\n"
     ]
    },
    {
     "name": "stderr",
     "output_type": "stream",
     "text": [
      "[   INFO   ] MusicExtractor: Replay gain\n",
      "[   INFO   ] MusicExtractor: Compute audio features\n",
      "[   INFO   ] MusicExtractor: Compute audio features\n",
      "[   INFO   ] MusicExtractor: Replay gain\n",
      "[   INFO   ] MusicExtractor: Compute aggregation\n",
      "[   INFO   ] All done\n",
      "[   INFO   ] MusicExtractor: Read metadata\n",
      "[   INFO   ] MusicExtractor: Compute md5 audio hash, codec, length, and EBU 128 loudness\n"
     ]
    },
    {
     "name": "stdout",
     "output_type": "stream",
     "text": [
      "Extracting features from song_id: 43\n"
     ]
    },
    {
     "name": "stderr",
     "output_type": "stream",
     "text": [
      "[   INFO   ] MusicExtractor: Compute audio features\n",
      "[   INFO   ] MusicExtractor: Compute aggregation\n",
      "[   INFO   ] All done\n",
      "[   INFO   ] MusicExtractor: Read metadata\n",
      "[   INFO   ] MusicExtractor: Compute md5 audio hash, codec, length, and EBU 128 loudness\n"
     ]
    },
    {
     "name": "stdout",
     "output_type": "stream",
     "text": [
      "Extracting features from song_id: 46\n"
     ]
    },
    {
     "name": "stderr",
     "output_type": "stream",
     "text": [
      "[   INFO   ] MusicExtractor: Compute aggregation\n",
      "[   INFO   ] All done\n",
      "[   INFO   ] MusicExtractor: Read metadata\n",
      "[   INFO   ] MusicExtractor: Compute md5 audio hash, codec, length, and EBU 128 loudness\n"
     ]
    },
    {
     "name": "stdout",
     "output_type": "stream",
     "text": [
      "Extracting features from song_id: 47\n"
     ]
    },
    {
     "name": "stderr",
     "output_type": "stream",
     "text": [
      "[   INFO   ] MusicExtractor: Replay gain\n",
      "[   INFO   ] MusicExtractor: Replay gain\n",
      "[   INFO   ] MusicExtractor: Compute audio features\n",
      "[   INFO   ] MusicExtractor: Compute audio features\n",
      "[   INFO   ] MusicExtractor: Replay gain\n",
      "[   INFO   ] MusicExtractor: Compute audio features\n",
      "[   INFO   ] MusicExtractor: Compute aggregation\n",
      "[   INFO   ] All done\n",
      "[   INFO   ] MusicExtractor: Read metadata\n",
      "[   INFO   ] MusicExtractor: Compute md5 audio hash, codec, length, and EBU 128 loudness\n"
     ]
    },
    {
     "name": "stdout",
     "output_type": "stream",
     "text": [
      "Extracting features from song_id: 52\n"
     ]
    },
    {
     "name": "stderr",
     "output_type": "stream",
     "text": [
      "[   INFO   ] MusicExtractor: Compute aggregation\n",
      "[   INFO   ] MusicExtractor: Replay gain\n",
      "[   INFO   ] All done\n",
      "[   INFO   ] MusicExtractor: Read metadata\n",
      "[   INFO   ] MusicExtractor: Compute md5 audio hash, codec, length, and EBU 128 loudness\n"
     ]
    },
    {
     "name": "stdout",
     "output_type": "stream",
     "text": [
      "Extracting features from song_id: 57\n"
     ]
    },
    {
     "name": "stderr",
     "output_type": "stream",
     "text": [
      "[   INFO   ] MusicExtractor: Compute audio features\n",
      "[   INFO   ] MusicExtractor: Compute aggregation\n",
      "[   INFO   ] All done\n",
      "[   INFO   ] MusicExtractor: Read metadata\n",
      "[   INFO   ] MusicExtractor: Compute md5 audio hash, codec, length, and EBU 128 loudness\n"
     ]
    },
    {
     "name": "stdout",
     "output_type": "stream",
     "text": [
      "Extracting features from song_id: 58\n"
     ]
    },
    {
     "name": "stderr",
     "output_type": "stream",
     "text": [
      "[   INFO   ] MusicExtractor: Replay gain\n",
      "[   INFO   ] MusicExtractor: Compute aggregation\n",
      "[   INFO   ] All done\n",
      "[   INFO   ] MusicExtractor: Read metadata\n",
      "[   INFO   ] MusicExtractor: Compute md5 audio hash, codec, length, and EBU 128 loudness\n"
     ]
    },
    {
     "name": "stdout",
     "output_type": "stream",
     "text": [
      "Extracting features from song_id: 62\n"
     ]
    },
    {
     "name": "stderr",
     "output_type": "stream",
     "text": [
      "[   INFO   ] MusicExtractor: Compute audio features\n",
      "[   INFO   ] MusicExtractor: Compute aggregation\n",
      "[   INFO   ] All done\n"
     ]
    },
    {
     "name": "stdout",
     "output_type": "stream",
     "text": [
      "Extracting features from song_id: 67\n"
     ]
    },
    {
     "name": "stderr",
     "output_type": "stream",
     "text": [
      "[   INFO   ] MusicExtractor: Read metadata\n",
      "[   INFO   ] MusicExtractor: Compute md5 audio hash, codec, length, and EBU 128 loudness\n",
      "[   INFO   ] MusicExtractor: Replay gain\n",
      "[   INFO   ] MusicExtractor: Replay gain\n",
      "[   INFO   ] MusicExtractor: Compute audio features\n",
      "[   INFO   ] MusicExtractor: Compute audio features\n",
      "[   INFO   ] MusicExtractor: Compute aggregation\n",
      "[   INFO   ] All done\n"
     ]
    },
    {
     "name": "stdout",
     "output_type": "stream",
     "text": [
      "Extracting features from song_id: 70\n"
     ]
    },
    {
     "name": "stderr",
     "output_type": "stream",
     "text": [
      "[   INFO   ] MusicExtractor: Read metadata\n",
      "[   INFO   ] MusicExtractor: Compute md5 audio hash, codec, length, and EBU 128 loudness\n",
      "[   INFO   ] MusicExtractor: Replay gain\n",
      "[   INFO   ] MusicExtractor: Compute audio features\n",
      "[   INFO   ] MusicExtractor: Replay gain\n",
      "[   INFO   ] MusicExtractor: Compute audio features\n",
      "[   INFO   ] MusicExtractor: Compute aggregation\n",
      "[   INFO   ] All done\n",
      "[   INFO   ] MusicExtractor: Read metadata\n",
      "[   INFO   ] MusicExtractor: Compute md5 audio hash, codec, length, and EBU 128 loudness\n"
     ]
    },
    {
     "name": "stdout",
     "output_type": "stream",
     "text": [
      "Extracting features from song_id: 74\n"
     ]
    },
    {
     "name": "stderr",
     "output_type": "stream",
     "text": [
      "[   INFO   ] MusicExtractor: Compute aggregation\n",
      "[   INFO   ] All done\n",
      "[   INFO   ] MusicExtractor: Read metadata\n",
      "[   INFO   ] MusicExtractor: Compute md5 audio hash, codec, length, and EBU 128 loudness\n"
     ]
    },
    {
     "name": "stdout",
     "output_type": "stream",
     "text": [
      "Extracting features from song_id: 76\n"
     ]
    },
    {
     "name": "stderr",
     "output_type": "stream",
     "text": [
      "[   INFO   ] MusicExtractor: Replay gain\n",
      "[   INFO   ] MusicExtractor: Compute aggregation\n",
      "[   INFO   ] All done\n",
      "[   INFO   ] MusicExtractor: Read metadata\n",
      "[   INFO   ] MusicExtractor: Compute md5 audio hash, codec, length, and EBU 128 loudness\n"
     ]
    },
    {
     "name": "stdout",
     "output_type": "stream",
     "text": [
      "Extracting features from song_id: 81\n"
     ]
    },
    {
     "name": "stderr",
     "output_type": "stream",
     "text": [
      "[   INFO   ] MusicExtractor: Compute audio features\n",
      "[   INFO   ] MusicExtractor: Replay gain\n",
      "[   INFO   ] MusicExtractor: Compute audio features\n",
      "[   INFO   ] MusicExtractor: Compute aggregation\n",
      "[   INFO   ] All done\n",
      "[   INFO   ] MusicExtractor: Read metadata\n",
      "[   INFO   ] MusicExtractor: Compute md5 audio hash, codec, length, and EBU 128 loudness\n",
      "[   INFO   ] MusicExtractor: Replay gain\n"
     ]
    },
    {
     "name": "stdout",
     "output_type": "stream",
     "text": [
      "Extracting features from song_id: 85\n"
     ]
    },
    {
     "name": "stderr",
     "output_type": "stream",
     "text": [
      "[   INFO   ] MusicExtractor: Replay gain\n",
      "[   INFO   ] MusicExtractor: Compute audio features\n",
      "[   INFO   ] MusicExtractor: Compute audio features\n",
      "[   INFO   ] MusicExtractor: Compute aggregation\n",
      "[   INFO   ] All done\n",
      "[   INFO   ] MusicExtractor: Read metadata\n",
      "[   INFO   ] MusicExtractor: Compute md5 audio hash, codec, length, and EBU 128 loudness\n"
     ]
    },
    {
     "name": "stdout",
     "output_type": "stream",
     "text": [
      "Extracting features from song_id: 87\n"
     ]
    },
    {
     "name": "stderr",
     "output_type": "stream",
     "text": [
      "[   INFO   ] MusicExtractor: Compute aggregation\n",
      "[   INFO   ] All done\n",
      "[   INFO   ] MusicExtractor: Read metadata\n",
      "[   INFO   ] MusicExtractor: Compute md5 audio hash, codec, length, and EBU 128 loudness\n"
     ]
    },
    {
     "name": "stdout",
     "output_type": "stream",
     "text": [
      "Extracting features from song_id: 89\n"
     ]
    },
    {
     "name": "stderr",
     "output_type": "stream",
     "text": [
      "[   INFO   ] MusicExtractor: Compute aggregation\n",
      "[   INFO   ] All done\n",
      "[   INFO   ] MusicExtractor: Read metadata\n",
      "[   INFO   ] MusicExtractor: Compute md5 audio hash, codec, length, and EBU 128 loudness\n"
     ]
    },
    {
     "name": "stdout",
     "output_type": "stream",
     "text": [
      "Extracting features from song_id: 90\n"
     ]
    },
    {
     "name": "stderr",
     "output_type": "stream",
     "text": [
      "[   INFO   ] MusicExtractor: Replay gain\n",
      "[   INFO   ] MusicExtractor: Compute audio features\n",
      "[   INFO   ] MusicExtractor: Compute aggregation\n",
      "[   INFO   ] All done\n",
      "[   INFO   ] MusicExtractor: Read metadata\n",
      "[   INFO   ] MusicExtractor: Compute md5 audio hash, codec, length, and EBU 128 loudness\n"
     ]
    },
    {
     "name": "stdout",
     "output_type": "stream",
     "text": [
      "Extracting features from song_id: 97\n"
     ]
    },
    {
     "name": "stderr",
     "output_type": "stream",
     "text": [
      "[   INFO   ] MusicExtractor: Replay gain\n",
      "[   INFO   ] MusicExtractor: Replay gain\n",
      "[   INFO   ] MusicExtractor: Compute audio features\n",
      "[   INFO   ] MusicExtractor: Compute audio features\n",
      "[   INFO   ] MusicExtractor: Replay gain\n",
      "[   INFO   ] MusicExtractor: Compute aggregation\n",
      "[   INFO   ] All done\n"
     ]
    },
    {
     "name": "stdout",
     "output_type": "stream",
     "text": [
      "Extracting features from song_id: 99\n"
     ]
    },
    {
     "name": "stderr",
     "output_type": "stream",
     "text": [
      "[   INFO   ] MusicExtractor: Read metadata\n",
      "[   INFO   ] MusicExtractor: Compute md5 audio hash, codec, length, and EBU 128 loudness\n",
      "[   INFO   ] MusicExtractor: Compute audio features\n",
      "[   INFO   ] MusicExtractor: Replay gain\n",
      "[   INFO   ] MusicExtractor: Compute aggregation\n",
      "[   INFO   ] All done\n",
      "[   INFO   ] MusicExtractor: Read metadata\n",
      "[   INFO   ] MusicExtractor: Compute md5 audio hash, codec, length, and EBU 128 loudness\n"
     ]
    },
    {
     "name": "stdout",
     "output_type": "stream",
     "text": [
      "Extracting features from song_id: 100\n"
     ]
    },
    {
     "name": "stderr",
     "output_type": "stream",
     "text": [
      "[   INFO   ] MusicExtractor: Compute aggregation\n",
      "[   INFO   ] All done\n",
      "[   INFO   ] MusicExtractor: Read metadata\n",
      "[   INFO   ] MusicExtractor: Compute md5 audio hash, codec, length, and EBU 128 loudness\n"
     ]
    },
    {
     "name": "stdout",
     "output_type": "stream",
     "text": [
      "Extracting features from song_id: 104\n"
     ]
    },
    {
     "name": "stderr",
     "output_type": "stream",
     "text": [
      "[   INFO   ] MusicExtractor: Compute audio features\n",
      "[   INFO   ] MusicExtractor: Compute aggregation\n",
      "[   INFO   ] All done\n",
      "[   INFO   ] MusicExtractor: Read metadata\n",
      "[   INFO   ] MusicExtractor: Compute md5 audio hash, codec, length, and EBU 128 loudness\n"
     ]
    },
    {
     "name": "stdout",
     "output_type": "stream",
     "text": [
      "Extracting features from song_id: 108\n"
     ]
    },
    {
     "name": "stderr",
     "output_type": "stream",
     "text": [
      "[   INFO   ] MusicExtractor: Replay gain\n",
      "[   INFO   ] MusicExtractor: Replay gain\n",
      "[   INFO   ] MusicExtractor: Compute audio features\n",
      "[   INFO   ] MusicExtractor: Compute audio features\n",
      "[   INFO   ] MusicExtractor: Replay gain\n",
      "[   INFO   ] MusicExtractor: Compute audio features\n",
      "[   INFO   ] MusicExtractor: Compute aggregation\n",
      "[   INFO   ] All done\n",
      "[   INFO   ] MusicExtractor: Read metadata\n",
      "[   INFO   ] MusicExtractor: Compute md5 audio hash, codec, length, and EBU 128 loudness\n"
     ]
    },
    {
     "name": "stdout",
     "output_type": "stream",
     "text": [
      "Extracting features from song_id: 109\n"
     ]
    },
    {
     "name": "stderr",
     "output_type": "stream",
     "text": [
      "[   INFO   ] MusicExtractor: Compute aggregation\n",
      "[   INFO   ] MusicExtractor: Compute aggregation\n",
      "[   INFO   ] All done\n"
     ]
    },
    {
     "name": "stdout",
     "output_type": "stream",
     "text": [
      "Extracting features from song_id: 111\n",
      "Extracting features from song_id: 114\n"
     ]
    },
    {
     "name": "stderr",
     "output_type": "stream",
     "text": [
      "[   INFO   ] MusicExtractor: Read metadata\n",
      "[   INFO   ] MusicExtractor: Compute md5 audio hash, codec, length, and EBU 128 loudness\n",
      "[   INFO   ] All done\n",
      "[   INFO   ] MusicExtractor: Read metadata\n",
      "[   INFO   ] MusicExtractor: Compute md5 audio hash, codec, length, and EBU 128 loudness\n",
      "[   INFO   ] MusicExtractor: Replay gain\n",
      "[   INFO   ] MusicExtractor: Compute audio features\n",
      "[   INFO   ] MusicExtractor: Replay gain\n",
      "[   INFO   ] MusicExtractor: Compute aggregation\n",
      "[   INFO   ] MusicExtractor: Replay gain\n",
      "[   INFO   ] All done\n",
      "[   INFO   ] MusicExtractor: Read metadata\n",
      "[   INFO   ] MusicExtractor: Compute md5 audio hash, codec, length, and EBU 128 loudness\n"
     ]
    },
    {
     "name": "stdout",
     "output_type": "stream",
     "text": [
      "Extracting features from song_id: 117\n"
     ]
    },
    {
     "name": "stderr",
     "output_type": "stream",
     "text": [
      "[   INFO   ] MusicExtractor: Compute audio features\n",
      "[   INFO   ] MusicExtractor: Compute audio features\n",
      "[   INFO   ] MusicExtractor: Compute aggregation\n",
      "[   INFO   ] MusicExtractor: Replay gain\n",
      "[   INFO   ] All done\n",
      "[   INFO   ] MusicExtractor: Read metadata\n",
      "[   INFO   ] MusicExtractor: Compute md5 audio hash, codec, length, and EBU 128 loudness\n"
     ]
    },
    {
     "name": "stdout",
     "output_type": "stream",
     "text": [
      "Extracting features from song_id: 120\n"
     ]
    },
    {
     "name": "stderr",
     "output_type": "stream",
     "text": [
      "[   INFO   ] MusicExtractor: Compute audio features\n",
      "[   INFO   ] MusicExtractor: Compute aggregation\n",
      "[   INFO   ] MusicExtractor: Replay gain\n",
      "[   INFO   ] All done\n",
      "[   INFO   ] MusicExtractor: Read metadata\n",
      "[   INFO   ] MusicExtractor: Compute md5 audio hash, codec, length, and EBU 128 loudness\n"
     ]
    },
    {
     "name": "stdout",
     "output_type": "stream",
     "text": [
      "Extracting features from song_id: 126\n"
     ]
    },
    {
     "name": "stderr",
     "output_type": "stream",
     "text": [
      "[   INFO   ] MusicExtractor: Compute audio features\n",
      "[   INFO   ] MusicExtractor: Compute aggregation\n",
      "[   INFO   ] All done\n",
      "[   INFO   ] MusicExtractor: Read metadata\n",
      "[   INFO   ] MusicExtractor: Compute md5 audio hash, codec, length, and EBU 128 loudness\n"
     ]
    },
    {
     "name": "stdout",
     "output_type": "stream",
     "text": [
      "Extracting features from song_id: 132\n"
     ]
    },
    {
     "name": "stderr",
     "output_type": "stream",
     "text": [
      "[   INFO   ] MusicExtractor: Replay gain\n",
      "[   INFO   ] MusicExtractor: Compute aggregation\n",
      "[   INFO   ] MusicExtractor: Compute aggregation\n",
      "[   INFO   ] All done\n",
      "[   INFO   ] MusicExtractor: Read metadata\n",
      "[   INFO   ] MusicExtractor: Compute md5 audio hash, codec, length, and EBU 128 loudness\n"
     ]
    },
    {
     "name": "stdout",
     "output_type": "stream",
     "text": [
      "Extracting features from song_id: 136\n",
      "Extracting features from song_id: 142\n"
     ]
    },
    {
     "name": "stderr",
     "output_type": "stream",
     "text": [
      "[   INFO   ] All done\n",
      "[   INFO   ] MusicExtractor: Read metadata\n",
      "[   INFO   ] MusicExtractor: Compute md5 audio hash, codec, length, and EBU 128 loudness\n",
      "[   INFO   ] MusicExtractor: Compute audio features\n",
      "[   INFO   ] MusicExtractor: Replay gain\n",
      "[   INFO   ] MusicExtractor: Replay gain\n",
      "[   INFO   ] MusicExtractor: Replay gain\n",
      "[   INFO   ] MusicExtractor: Compute audio features\n",
      "[   INFO   ] MusicExtractor: Compute audio features\n",
      "[   INFO   ] MusicExtractor: Compute audio features\n",
      "[   INFO   ] MusicExtractor: Compute aggregation\n",
      "[   INFO   ] All done\n",
      "[   INFO   ] MusicExtractor: Read metadata\n",
      "[   INFO   ] MusicExtractor: Compute md5 audio hash, codec, length, and EBU 128 loudness\n"
     ]
    },
    {
     "name": "stdout",
     "output_type": "stream",
     "text": [
      "Extracting features from song_id: 144\n"
     ]
    },
    {
     "name": "stderr",
     "output_type": "stream",
     "text": [
      "[   INFO   ] MusicExtractor: Compute aggregation\n",
      "[   INFO   ] All done\n",
      "[   INFO   ] MusicExtractor: Read metadata\n",
      "[   INFO   ] MusicExtractor: Compute md5 audio hash, codec, length, and EBU 128 loudness\n"
     ]
    },
    {
     "name": "stdout",
     "output_type": "stream",
     "text": [
      "Extracting features from song_id: 148\n"
     ]
    },
    {
     "name": "stderr",
     "output_type": "stream",
     "text": [
      "[   INFO   ] MusicExtractor: Compute aggregation\n",
      "[   INFO   ] All done\n"
     ]
    },
    {
     "name": "stdout",
     "output_type": "stream",
     "text": [
      "Extracting features from song_id: 149\n"
     ]
    },
    {
     "name": "stderr",
     "output_type": "stream",
     "text": [
      "[   INFO   ] MusicExtractor: Read metadata\n",
      "[   INFO   ] MusicExtractor: Compute md5 audio hash, codec, length, and EBU 128 loudness\n",
      "[   INFO   ] MusicExtractor: Replay gain\n",
      "[   INFO   ] MusicExtractor: Replay gain\n",
      "[   INFO   ] MusicExtractor: Replay gain\n",
      "[   INFO   ] MusicExtractor: Compute audio features\n",
      "[   INFO   ] MusicExtractor: Compute audio features\n",
      "[   INFO   ] MusicExtractor: Compute aggregation\n",
      "[   INFO   ] All done\n",
      "[   INFO   ] MusicExtractor: Read metadata\n",
      "[   INFO   ] MusicExtractor: Compute md5 audio hash, codec, length, and EBU 128 loudness\n"
     ]
    },
    {
     "name": "stdout",
     "output_type": "stream",
     "text": [
      "Extracting features from song_id: 153\n"
     ]
    },
    {
     "name": "stderr",
     "output_type": "stream",
     "text": [
      "[   INFO   ] MusicExtractor: Compute audio features\n",
      "[   INFO   ] MusicExtractor: Replay gain\n",
      "[   INFO   ] MusicExtractor: Compute aggregation\n",
      "[   INFO   ] All done\n",
      "[   INFO   ] MusicExtractor: Read metadata\n",
      "[   INFO   ] MusicExtractor: Compute md5 audio hash, codec, length, and EBU 128 loudness\n"
     ]
    },
    {
     "name": "stdout",
     "output_type": "stream",
     "text": [
      "Extracting features from song_id: 156\n"
     ]
    },
    {
     "name": "stderr",
     "output_type": "stream",
     "text": [
      "[   INFO   ] MusicExtractor: Compute audio features\n",
      "[   INFO   ] MusicExtractor: Compute aggregation\n",
      "[   INFO   ] All done\n",
      "[   INFO   ] MusicExtractor: Read metadata\n",
      "[   INFO   ] MusicExtractor: Compute md5 audio hash, codec, length, and EBU 128 loudness\n"
     ]
    },
    {
     "name": "stdout",
     "output_type": "stream",
     "text": [
      "Extracting features from song_id: 158\n"
     ]
    },
    {
     "name": "stderr",
     "output_type": "stream",
     "text": [
      "[   INFO   ] MusicExtractor: Compute aggregation\n",
      "[   INFO   ] MusicExtractor: Replay gain\n",
      "[   INFO   ] All done\n",
      "[   INFO   ] MusicExtractor: Read metadata\n",
      "[   INFO   ] MusicExtractor: Compute md5 audio hash, codec, length, and EBU 128 loudness\n"
     ]
    },
    {
     "name": "stdout",
     "output_type": "stream",
     "text": [
      "Extracting features from song_id: 168\n"
     ]
    },
    {
     "name": "stderr",
     "output_type": "stream",
     "text": [
      "[   INFO   ] MusicExtractor: Compute audio features\n",
      "[   INFO   ] MusicExtractor: Replay gain\n",
      "[   INFO   ] MusicExtractor: Replay gain\n",
      "[   INFO   ] MusicExtractor: Compute aggregation\n",
      "[   INFO   ] All done\n",
      "[   INFO   ] MusicExtractor: Read metadata\n",
      "[   INFO   ] MusicExtractor: Compute md5 audio hash, codec, length, and EBU 128 loudness\n",
      "[   INFO   ] MusicExtractor: Compute audio features\n"
     ]
    },
    {
     "name": "stdout",
     "output_type": "stream",
     "text": [
      "Extracting features from song_id: 169\n"
     ]
    },
    {
     "name": "stderr",
     "output_type": "stream",
     "text": [
      "[   INFO   ] MusicExtractor: Compute audio features\n",
      "[   INFO   ] MusicExtractor: Compute aggregation\n",
      "[   INFO   ] All done\n"
     ]
    },
    {
     "name": "stdout",
     "output_type": "stream",
     "text": [
      "Extracting features from song_id: 170\n"
     ]
    },
    {
     "name": "stderr",
     "output_type": "stream",
     "text": [
      "[   INFO   ] MusicExtractor: Read metadata\n",
      "[   INFO   ] MusicExtractor: Compute md5 audio hash, codec, length, and EBU 128 loudness\n",
      "[   INFO   ] MusicExtractor: Replay gain\n",
      "[   INFO   ] MusicExtractor: Compute audio features\n",
      "[   INFO   ] MusicExtractor: Compute aggregation\n",
      "[   INFO   ] All done\n",
      "[   INFO   ] MusicExtractor: Read metadata\n",
      "[   INFO   ] MusicExtractor: Compute md5 audio hash, codec, length, and EBU 128 loudness\n"
     ]
    },
    {
     "name": "stdout",
     "output_type": "stream",
     "text": [
      "Extracting features from song_id: 171\n"
     ]
    },
    {
     "name": "stderr",
     "output_type": "stream",
     "text": [
      "[   INFO   ] MusicExtractor: Compute aggregation\n",
      "[   INFO   ] All done\n",
      "[   INFO   ] MusicExtractor: Read metadata\n",
      "[   INFO   ] MusicExtractor: Compute md5 audio hash, codec, length, and EBU 128 loudness\n"
     ]
    },
    {
     "name": "stdout",
     "output_type": "stream",
     "text": [
      "Extracting features from song_id: 172\n"
     ]
    },
    {
     "name": "stderr",
     "output_type": "stream",
     "text": [
      "[   INFO   ] MusicExtractor: Replay gain\n",
      "[   INFO   ] MusicExtractor: Compute aggregation\n",
      "[   INFO   ] All done\n"
     ]
    },
    {
     "name": "stdout",
     "output_type": "stream",
     "text": [
      "Extracting features from song_id: 174\n"
     ]
    },
    {
     "name": "stderr",
     "output_type": "stream",
     "text": [
      "[   INFO   ] MusicExtractor: Read metadata\n",
      "[   INFO   ] MusicExtractor: Compute md5 audio hash, codec, length, and EBU 128 loudness\n",
      "[   INFO   ] MusicExtractor: Replay gain\n",
      "[   INFO   ] MusicExtractor: Replay gain\n",
      "[   INFO   ] MusicExtractor: Compute audio features\n",
      "[   INFO   ] MusicExtractor: Compute audio features\n",
      "[   INFO   ] MusicExtractor: Compute audio features\n",
      "[   INFO   ] MusicExtractor: Replay gain\n",
      "[   INFO   ] MusicExtractor: Compute audio features\n",
      "[   INFO   ] MusicExtractor: Compute aggregation\n",
      "[   INFO   ] All done\n",
      "[   INFO   ] MusicExtractor: Read metadata\n",
      "[   INFO   ] MusicExtractor: Compute md5 audio hash, codec, length, and EBU 128 loudness\n"
     ]
    },
    {
     "name": "stdout",
     "output_type": "stream",
     "text": [
      "Extracting features from song_id: 175\n"
     ]
    },
    {
     "name": "stderr",
     "output_type": "stream",
     "text": [
      "[   INFO   ] MusicExtractor: Compute aggregation\n",
      "[   INFO   ] All done\n",
      "[   INFO   ] MusicExtractor: Read metadata\n",
      "[   INFO   ] MusicExtractor: Compute md5 audio hash, codec, length, and EBU 128 loudness\n"
     ]
    },
    {
     "name": "stdout",
     "output_type": "stream",
     "text": [
      "Extracting features from song_id: 182\n"
     ]
    },
    {
     "name": "stderr",
     "output_type": "stream",
     "text": [
      "[   INFO   ] MusicExtractor: Replay gain\n",
      "[   INFO   ] MusicExtractor: Replay gain\n",
      "[   INFO   ] MusicExtractor: Compute aggregation\n",
      "[   INFO   ] MusicExtractor: Compute audio features\n",
      "[   INFO   ] All done\n",
      "[   INFO   ] MusicExtractor: Read metadata\n",
      "[   INFO   ] MusicExtractor: Compute md5 audio hash, codec, length, and EBU 128 loudness\n"
     ]
    },
    {
     "name": "stdout",
     "output_type": "stream",
     "text": [
      "Extracting features from song_id: 192\n"
     ]
    },
    {
     "name": "stderr",
     "output_type": "stream",
     "text": [
      "[   INFO   ] MusicExtractor: Compute audio features\n",
      "[   INFO   ] MusicExtractor: Compute aggregation\n",
      "[   INFO   ] MusicExtractor: Replay gain\n",
      "[   INFO   ] All done\n",
      "[   INFO   ] MusicExtractor: Read metadata\n",
      "[   INFO   ] MusicExtractor: Compute md5 audio hash, codec, length, and EBU 128 loudness\n"
     ]
    },
    {
     "name": "stdout",
     "output_type": "stream",
     "text": [
      "Extracting features from song_id: 195\n"
     ]
    },
    {
     "name": "stderr",
     "output_type": "stream",
     "text": [
      "[   INFO   ] MusicExtractor: Compute audio features\n",
      "[   INFO   ] MusicExtractor: Replay gain\n",
      "[   INFO   ] MusicExtractor: Compute aggregation\n",
      "[   INFO   ] All done\n",
      "[   INFO   ] MusicExtractor: Read metadata\n",
      "[   INFO   ] MusicExtractor: Compute md5 audio hash, codec, length, and EBU 128 loudness\n"
     ]
    },
    {
     "name": "stdout",
     "output_type": "stream",
     "text": [
      "Extracting features from song_id: 202\n"
     ]
    },
    {
     "name": "stderr",
     "output_type": "stream",
     "text": [
      "[   INFO   ] MusicExtractor: Compute audio features\n",
      "[   INFO   ] MusicExtractor: Compute aggregation\n",
      "[   INFO   ] All done\n",
      "[   INFO   ] MusicExtractor: Read metadata\n",
      "[   INFO   ] MusicExtractor: Compute md5 audio hash, codec, length, and EBU 128 loudness\n"
     ]
    },
    {
     "name": "stdout",
     "output_type": "stream",
     "text": [
      "Extracting features from song_id: 204\n"
     ]
    },
    {
     "name": "stderr",
     "output_type": "stream",
     "text": [
      "[   INFO   ] MusicExtractor: Compute aggregation\n",
      "[   INFO   ] All done\n",
      "[   INFO   ] MusicExtractor: Read metadata\n",
      "[   INFO   ] MusicExtractor: Compute md5 audio hash, codec, length, and EBU 128 loudness\n"
     ]
    },
    {
     "name": "stdout",
     "output_type": "stream",
     "text": [
      "Extracting features from song_id: 205\n"
     ]
    },
    {
     "name": "stderr",
     "output_type": "stream",
     "text": [
      "[   INFO   ] MusicExtractor: Replay gain\n",
      "[   INFO   ] MusicExtractor: Replay gain\n",
      "[   INFO   ] MusicExtractor: Compute aggregation\n",
      "[   INFO   ] MusicExtractor: Compute audio features\n",
      "[   INFO   ] All done\n"
     ]
    },
    {
     "name": "stdout",
     "output_type": "stream",
     "text": [
      "Extracting features from song_id: 206\n"
     ]
    },
    {
     "name": "stderr",
     "output_type": "stream",
     "text": [
      "[   INFO   ] MusicExtractor: Read metadata\n",
      "[   INFO   ] MusicExtractor: Compute md5 audio hash, codec, length, and EBU 128 loudness\n",
      "[   INFO   ] MusicExtractor: Compute audio features\n",
      "[   INFO   ] MusicExtractor: Replay gain\n",
      "[   INFO   ] MusicExtractor: Replay gain\n",
      "[   INFO   ] MusicExtractor: Compute audio features\n",
      "[   INFO   ] MusicExtractor: Compute audio features\n",
      "[   INFO   ] MusicExtractor: Compute aggregation\n",
      "[   INFO   ] All done\n"
     ]
    },
    {
     "name": "stdout",
     "output_type": "stream",
     "text": [
      "Extracting features from song_id: 207\n"
     ]
    },
    {
     "name": "stderr",
     "output_type": "stream",
     "text": [
      "[   INFO   ] MusicExtractor: Read metadata\n",
      "[   INFO   ] MusicExtractor: Compute md5 audio hash, codec, length, and EBU 128 loudness\n",
      "[   INFO   ] MusicExtractor: Compute aggregation\n",
      "[   INFO   ] All done\n",
      "[   INFO   ] MusicExtractor: Read metadata\n",
      "[   INFO   ] MusicExtractor: Compute md5 audio hash, codec, length, and EBU 128 loudness\n"
     ]
    },
    {
     "name": "stdout",
     "output_type": "stream",
     "text": [
      "Extracting features from song_id: 208\n"
     ]
    },
    {
     "name": "stderr",
     "output_type": "stream",
     "text": [
      "[   INFO   ] MusicExtractor: Replay gain\n",
      "[   INFO   ] MusicExtractor: Compute audio features\n",
      "[   INFO   ] MusicExtractor: Compute aggregation\n",
      "[   INFO   ] All done\n"
     ]
    },
    {
     "name": "stdout",
     "output_type": "stream",
     "text": [
      "Extracting features from song_id: 209\n"
     ]
    },
    {
     "name": "stderr",
     "output_type": "stream",
     "text": [
      "[   INFO   ] MusicExtractor: Read metadata\n",
      "[   INFO   ] MusicExtractor: Compute md5 audio hash, codec, length, and EBU 128 loudness\n",
      "[   INFO   ] MusicExtractor: Replay gain\n",
      "[   INFO   ] MusicExtractor: Compute audio features\n",
      "[   INFO   ] MusicExtractor: Compute aggregation\n",
      "[   INFO   ] All done\n",
      "[   INFO   ] MusicExtractor: Read metadata\n",
      "[   INFO   ] MusicExtractor: Compute md5 audio hash, codec, length, and EBU 128 loudness\n"
     ]
    },
    {
     "name": "stdout",
     "output_type": "stream",
     "text": [
      "Extracting features from song_id: 216\n"
     ]
    },
    {
     "name": "stderr",
     "output_type": "stream",
     "text": [
      "[   INFO   ] MusicExtractor: Replay gain\n",
      "[   INFO   ] MusicExtractor: Compute aggregation\n",
      "[   INFO   ] All done\n"
     ]
    },
    {
     "name": "stdout",
     "output_type": "stream",
     "text": [
      "Extracting features from song_id: 222\n"
     ]
    },
    {
     "name": "stderr",
     "output_type": "stream",
     "text": [
      "[   INFO   ] MusicExtractor: Read metadata\n",
      "[   INFO   ] MusicExtractor: Compute md5 audio hash, codec, length, and EBU 128 loudness\n",
      "[   INFO   ] MusicExtractor: Compute aggregation\n",
      "[   INFO   ] All done\n",
      "[   INFO   ] MusicExtractor: Read metadata\n",
      "[   INFO   ] MusicExtractor: Compute md5 audio hash, codec, length, and EBU 128 loudness\n"
     ]
    },
    {
     "name": "stdout",
     "output_type": "stream",
     "text": [
      "Extracting features from song_id: 223\n"
     ]
    },
    {
     "name": "stderr",
     "output_type": "stream",
     "text": [
      "[   INFO   ] MusicExtractor: Compute audio features\n",
      "[   INFO   ] MusicExtractor: Replay gain\n",
      "[   INFO   ] MusicExtractor: Replay gain\n",
      "[   INFO   ] MusicExtractor: Replay gain\n",
      "[   INFO   ] MusicExtractor: Compute audio features\n",
      "[   INFO   ] MusicExtractor: Compute audio features\n",
      "[   INFO   ] MusicExtractor: Compute audio features\n",
      "[   INFO   ] MusicExtractor: Compute aggregation\n",
      "[   INFO   ] MusicExtractor: Compute aggregation\n",
      "[   INFO   ] All done\n",
      "[   INFO   ] All done\n",
      "[   INFO   ] MusicExtractor: Compute aggregation\n",
      "[   INFO   ] MusicExtractor: Read metadata\n",
      "[   INFO   ] MusicExtractor: Compute md5 audio hash, codec, length, and EBU 128 loudness\n",
      "[   INFO   ] MusicExtractor: Read metadata\n",
      "[   INFO   ] MusicExtractor: Compute md5 audio hash, codec, length, and EBU 128 loudness\n",
      "[   INFO   ] All done\n"
     ]
    },
    {
     "name": "stdout",
     "output_type": "stream",
     "text": [
      "Extracting features from song_id: 228\n",
      "Extracting features from song_id: 233\n",
      "Extracting features from song_id: 239\n"
     ]
    },
    {
     "name": "stderr",
     "output_type": "stream",
     "text": [
      "[   INFO   ] MusicExtractor: Read metadata\n",
      "[   INFO   ] MusicExtractor: Compute md5 audio hash, codec, length, and EBU 128 loudness\n",
      "[   INFO   ] MusicExtractor: Replay gain\n",
      "[   INFO   ] MusicExtractor: Compute audio features\n",
      "[   INFO   ] MusicExtractor: Replay gain\n",
      "[   INFO   ] MusicExtractor: Replay gain\n",
      "[   INFO   ] MusicExtractor: Compute audio features\n",
      "[   INFO   ] MusicExtractor: Compute aggregation\n",
      "[   INFO   ] All done\n",
      "[   INFO   ] MusicExtractor: Read metadata\n",
      "[   INFO   ] MusicExtractor: Compute md5 audio hash, codec, length, and EBU 128 loudness\n"
     ]
    },
    {
     "name": "stdout",
     "output_type": "stream",
     "text": [
      "Extracting features from song_id: 243\n"
     ]
    },
    {
     "name": "stderr",
     "output_type": "stream",
     "text": [
      "[   INFO   ] MusicExtractor: Compute audio features\n",
      "[   INFO   ] MusicExtractor: Compute aggregation\n",
      "[   INFO   ] All done\n",
      "[   INFO   ] MusicExtractor: Read metadata\n",
      "[   INFO   ] MusicExtractor: Compute md5 audio hash, codec, length, and EBU 128 loudness\n"
     ]
    },
    {
     "name": "stdout",
     "output_type": "stream",
     "text": [
      "Extracting features from song_id: 245\n"
     ]
    },
    {
     "name": "stderr",
     "output_type": "stream",
     "text": [
      "[   INFO   ] MusicExtractor: Replay gain\n",
      "[   INFO   ] MusicExtractor: Compute aggregation\n",
      "[   INFO   ] MusicExtractor: Compute audio features\n",
      "[   INFO   ] All done\n",
      "[   INFO   ] MusicExtractor: Read metadata\n",
      "[   INFO   ] MusicExtractor: Compute md5 audio hash, codec, length, and EBU 128 loudness\n"
     ]
    },
    {
     "name": "stdout",
     "output_type": "stream",
     "text": [
      "Extracting features from song_id: 257\n"
     ]
    },
    {
     "name": "stderr",
     "output_type": "stream",
     "text": [
      "[   INFO   ] MusicExtractor: Replay gain\n",
      "[   INFO   ] MusicExtractor: Compute aggregation\n",
      "[   INFO   ] All done\n",
      "[   INFO   ] MusicExtractor: Read metadata\n",
      "[   INFO   ] MusicExtractor: Compute md5 audio hash, codec, length, and EBU 128 loudness\n"
     ]
    },
    {
     "name": "stdout",
     "output_type": "stream",
     "text": [
      "Extracting features from song_id: 258\n"
     ]
    },
    {
     "name": "stderr",
     "output_type": "stream",
     "text": [
      "[   INFO   ] MusicExtractor: Replay gain\n",
      "[   INFO   ] MusicExtractor: Compute audio features\n",
      "[   INFO   ] MusicExtractor: Compute audio features\n",
      "[   INFO   ] MusicExtractor: Replay gain\n",
      "[   INFO   ] MusicExtractor: Compute aggregation\n",
      "[   INFO   ] All done\n",
      "[   INFO   ] MusicExtractor: Read metadata\n",
      "[   INFO   ] MusicExtractor: Compute md5 audio hash, codec, length, and EBU 128 loudness\n"
     ]
    },
    {
     "name": "stdout",
     "output_type": "stream",
     "text": [
      "Extracting features from song_id: 264\n"
     ]
    },
    {
     "name": "stderr",
     "output_type": "stream",
     "text": [
      "[   INFO   ] MusicExtractor: Compute audio features\n",
      "[   INFO   ] MusicExtractor: Replay gain\n",
      "[   INFO   ] MusicExtractor: Compute aggregation\n",
      "[   INFO   ] MusicExtractor: Compute audio features\n",
      "[   INFO   ] All done\n"
     ]
    },
    {
     "name": "stdout",
     "output_type": "stream",
     "text": [
      "Extracting features from song_id: 266\n"
     ]
    },
    {
     "name": "stderr",
     "output_type": "stream",
     "text": [
      "[   INFO   ] MusicExtractor: Read metadata\n",
      "[   INFO   ] MusicExtractor: Compute md5 audio hash, codec, length, and EBU 128 loudness\n",
      "[   INFO   ] MusicExtractor: Compute aggregation\n",
      "[   INFO   ] All done\n",
      "/Library/Frameworks/Python.framework/Versions/3.11/lib/python3.11/site-packages/joblib/externals/loky/process_executor.py:752: UserWarning: A worker stopped while some jobs were given to the executor. This can be caused by a too short worker timeout or by a memory leak.\n",
      "  warnings.warn(\n",
      "[   INFO   ] MusicExtractor: Compute aggregation\n",
      "[   INFO   ] All done\n",
      "[   INFO   ] MusicExtractor: Read metadata\n",
      "[   INFO   ] MusicExtractor: Compute md5 audio hash, codec, length, and EBU 128 loudness\n"
     ]
    },
    {
     "name": "stdout",
     "output_type": "stream",
     "text": [
      "Extracting features from song_id: 269\n",
      "Extracting features from song_id: 268\n"
     ]
    },
    {
     "name": "stderr",
     "output_type": "stream",
     "text": [
      "[   INFO   ] MusicExtractor: Read metadata\n",
      "[   INFO   ] MusicExtractor: Compute md5 audio hash, codec, length, and EBU 128 loudness\n",
      "[   INFO   ] MusicExtractor: Replay gain\n",
      "[   INFO   ] MusicExtractor: Compute audio features\n",
      "[   INFO   ] MusicExtractor: Compute aggregation\n",
      "[   INFO   ] All done\n",
      "[   INFO   ] MusicExtractor: Read metadata\n",
      "[   INFO   ] MusicExtractor: Compute md5 audio hash, codec, length, and EBU 128 loudness\n"
     ]
    },
    {
     "name": "stdout",
     "output_type": "stream",
     "text": [
      "Extracting features from song_id: 273\n"
     ]
    },
    {
     "name": "stderr",
     "output_type": "stream",
     "text": [
      "[   INFO   ] MusicExtractor: Replay gain\n",
      "[   INFO   ] MusicExtractor: Compute audio features\n",
      "[   INFO   ] MusicExtractor: Replay gain\n",
      "[   INFO   ] MusicExtractor: Replay gain\n",
      "[   INFO   ] MusicExtractor: Compute audio features\n",
      "[   INFO   ] MusicExtractor: Compute audio features\n",
      "[   INFO   ] MusicExtractor: Compute aggregation\n",
      "[   INFO   ] All done\n",
      "[   INFO   ] MusicExtractor: Read metadata\n",
      "[   INFO   ] MusicExtractor: Compute md5 audio hash, codec, length, and EBU 128 loudness\n"
     ]
    },
    {
     "name": "stdout",
     "output_type": "stream",
     "text": [
      "Extracting features from song_id: 275\n"
     ]
    },
    {
     "name": "stderr",
     "output_type": "stream",
     "text": [
      "[   INFO   ] MusicExtractor: Compute aggregation\n",
      "[   INFO   ] All done\n"
     ]
    },
    {
     "name": "stdout",
     "output_type": "stream",
     "text": [
      "Extracting features from song_id: 276\n"
     ]
    },
    {
     "name": "stderr",
     "output_type": "stream",
     "text": [
      "[   INFO   ] MusicExtractor: Read metadata\n",
      "[   INFO   ] MusicExtractor: Compute md5 audio hash, codec, length, and EBU 128 loudness\n",
      "[   INFO   ] MusicExtractor: Replay gain\n",
      "[   INFO   ] MusicExtractor: Replay gain\n",
      "[   INFO   ] MusicExtractor: Compute aggregation\n",
      "[   INFO   ] MusicExtractor: Compute audio features\n",
      "[   INFO   ] All done\n",
      "[   INFO   ] MusicExtractor: Read metadata\n",
      "[   INFO   ] MusicExtractor: Compute md5 audio hash, codec, length, and EBU 128 loudness\n"
     ]
    },
    {
     "name": "stdout",
     "output_type": "stream",
     "text": [
      "Extracting features from song_id: 279\n"
     ]
    },
    {
     "name": "stderr",
     "output_type": "stream",
     "text": [
      "[   INFO   ] MusicExtractor: Compute audio features\n",
      "[   INFO   ] MusicExtractor: Compute aggregation\n",
      "[   INFO   ] All done\n",
      "[   INFO   ] MusicExtractor: Read metadata\n",
      "[   INFO   ] MusicExtractor: Compute md5 audio hash, codec, length, and EBU 128 loudness\n"
     ]
    },
    {
     "name": "stdout",
     "output_type": "stream",
     "text": [
      "Extracting features from song_id: 282\n"
     ]
    },
    {
     "name": "stderr",
     "output_type": "stream",
     "text": [
      "[   INFO   ] MusicExtractor: Replay gain\n",
      "[   INFO   ] MusicExtractor: Compute audio features\n",
      "[   INFO   ] MusicExtractor: Replay gain\n",
      "[   INFO   ] MusicExtractor: Compute aggregation\n",
      "[   INFO   ] MusicExtractor: Compute aggregation\n",
      "[   INFO   ] MusicExtractor: Compute audio features\n",
      "[   INFO   ] All done\n",
      "[   INFO   ] All done\n",
      "[   INFO   ] MusicExtractor: Read metadata\n",
      "[   INFO   ] MusicExtractor: Compute md5 audio hash, codec, length, and EBU 128 loudness\n",
      "[   INFO   ] MusicExtractor: Read metadata\n",
      "[   INFO   ] MusicExtractor: Compute md5 audio hash, codec, length, and EBU 128 loudness\n"
     ]
    },
    {
     "name": "stdout",
     "output_type": "stream",
     "text": [
      "Extracting features from song_id: 283\n",
      "Extracting features from song_id: 285\n"
     ]
    },
    {
     "name": "stderr",
     "output_type": "stream",
     "text": [
      "[   INFO   ] MusicExtractor: Compute aggregation\n",
      "[   INFO   ] All done\n"
     ]
    },
    {
     "name": "stdout",
     "output_type": "stream",
     "text": [
      "Extracting features from song_id: 289\n"
     ]
    },
    {
     "name": "stderr",
     "output_type": "stream",
     "text": [
      "[   INFO   ] MusicExtractor: Read metadata\n",
      "[   INFO   ] MusicExtractor: Compute md5 audio hash, codec, length, and EBU 128 loudness\n",
      "[   INFO   ] MusicExtractor: Replay gain\n",
      "[   INFO   ] MusicExtractor: Replay gain\n",
      "[   INFO   ] MusicExtractor: Compute aggregation\n",
      "[   INFO   ] All done\n",
      "[   INFO   ] MusicExtractor: Read metadata\n",
      "[   INFO   ] MusicExtractor: Compute md5 audio hash, codec, length, and EBU 128 loudness\n"
     ]
    },
    {
     "name": "stdout",
     "output_type": "stream",
     "text": [
      "Extracting features from song_id: 297\n"
     ]
    },
    {
     "name": "stderr",
     "output_type": "stream",
     "text": [
      "[   INFO   ] MusicExtractor: Replay gain\n",
      "[   INFO   ] MusicExtractor: Compute audio features\n",
      "[   INFO   ] MusicExtractor: Compute audio features\n",
      "[   INFO   ] MusicExtractor: Compute audio features\n",
      "[   INFO   ] MusicExtractor: Replay gain\n",
      "[   INFO   ] MusicExtractor: Compute audio features\n",
      "[   INFO   ] MusicExtractor: Compute aggregation\n",
      "[   INFO   ] All done\n"
     ]
    },
    {
     "name": "stdout",
     "output_type": "stream",
     "text": [
      "Extracting features from song_id: 300\n"
     ]
    },
    {
     "name": "stderr",
     "output_type": "stream",
     "text": [
      "[   INFO   ] MusicExtractor: Read metadata\n",
      "[   INFO   ] MusicExtractor: Compute md5 audio hash, codec, length, and EBU 128 loudness\n",
      "[   INFO   ] MusicExtractor: Compute aggregation\n",
      "[   INFO   ] All done\n",
      "[   INFO   ] MusicExtractor: Read metadata\n",
      "[   INFO   ] MusicExtractor: Compute md5 audio hash, codec, length, and EBU 128 loudness\n"
     ]
    },
    {
     "name": "stdout",
     "output_type": "stream",
     "text": [
      "Extracting features from song_id: 303\n"
     ]
    },
    {
     "name": "stderr",
     "output_type": "stream",
     "text": [
      "[   INFO   ] MusicExtractor: Compute aggregation\n",
      "[   INFO   ] MusicExtractor: Compute aggregation\n",
      "[   INFO   ] All done\n",
      "[   INFO   ] All done\n",
      "[   INFO   ] MusicExtractor: Read metadata\n",
      "[   INFO   ] MusicExtractor: Compute md5 audio hash, codec, length, and EBU 128 loudness\n",
      "[   INFO   ] MusicExtractor: Read metadata\n",
      "[   INFO   ] MusicExtractor: Compute md5 audio hash, codec, length, and EBU 128 loudness\n"
     ]
    },
    {
     "name": "stdout",
     "output_type": "stream",
     "text": [
      "Extracting features from song_id: 309\n",
      "Extracting features from song_id: 312\n"
     ]
    },
    {
     "name": "stderr",
     "output_type": "stream",
     "text": [
      "[   INFO   ] MusicExtractor: Replay gain\n",
      "[   INFO   ] MusicExtractor: Compute audio features\n",
      "[   INFO   ] MusicExtractor: Replay gain\n",
      "[   INFO   ] MusicExtractor: Replay gain\n",
      "[   INFO   ] MusicExtractor: Replay gain\n",
      "[   INFO   ] MusicExtractor: Compute audio features\n",
      "[   INFO   ] MusicExtractor: Compute audio features\n",
      "[   INFO   ] MusicExtractor: Compute audio features\n",
      "[   INFO   ] MusicExtractor: Compute aggregation\n",
      "[   INFO   ] All done\n",
      "[   INFO   ] MusicExtractor: Read metadata\n",
      "[   INFO   ] MusicExtractor: Compute md5 audio hash, codec, length, and EBU 128 loudness\n"
     ]
    },
    {
     "name": "stdout",
     "output_type": "stream",
     "text": [
      "Extracting features from song_id: 315\n"
     ]
    },
    {
     "name": "stderr",
     "output_type": "stream",
     "text": [
      "[   INFO   ] MusicExtractor: Compute aggregation\n",
      "[   INFO   ] All done\n"
     ]
    },
    {
     "name": "stdout",
     "output_type": "stream",
     "text": [
      "Extracting features from song_id: 319\n"
     ]
    },
    {
     "name": "stderr",
     "output_type": "stream",
     "text": [
      "[   INFO   ] MusicExtractor: Read metadata\n",
      "[   INFO   ] MusicExtractor: Compute md5 audio hash, codec, length, and EBU 128 loudness\n",
      "[   INFO   ] MusicExtractor: Compute aggregation\n",
      "[   INFO   ] All done\n",
      "[   INFO   ] MusicExtractor: Read metadata\n",
      "[   INFO   ] MusicExtractor: Compute md5 audio hash, codec, length, and EBU 128 loudness\n"
     ]
    },
    {
     "name": "stdout",
     "output_type": "stream",
     "text": [
      "Extracting features from song_id: 320\n"
     ]
    },
    {
     "name": "stderr",
     "output_type": "stream",
     "text": [
      "[   INFO   ] MusicExtractor: Compute aggregation\n",
      "[   INFO   ] All done\n"
     ]
    },
    {
     "name": "stdout",
     "output_type": "stream",
     "text": [
      "Extracting features from song_id: 325\n"
     ]
    },
    {
     "name": "stderr",
     "output_type": "stream",
     "text": [
      "[   INFO   ] MusicExtractor: Read metadata\n",
      "[   INFO   ] MusicExtractor: Compute md5 audio hash, codec, length, and EBU 128 loudness\n",
      "[   INFO   ] MusicExtractor: Replay gain\n",
      "[   INFO   ] MusicExtractor: Replay gain\n",
      "[   INFO   ] MusicExtractor: Compute audio features\n",
      "[   INFO   ] MusicExtractor: Compute audio features\n",
      "[   INFO   ] MusicExtractor: Replay gain\n",
      "[   INFO   ] MusicExtractor: Replay gain\n",
      "[   INFO   ] MusicExtractor: Compute audio features\n",
      "[   INFO   ] MusicExtractor: Compute audio features\n",
      "[   INFO   ] MusicExtractor: Compute aggregation\n",
      "[   INFO   ] All done\n"
     ]
    },
    {
     "name": "stdout",
     "output_type": "stream",
     "text": [
      "Extracting features from song_id: 327\n"
     ]
    },
    {
     "name": "stderr",
     "output_type": "stream",
     "text": [
      "[   INFO   ] MusicExtractor: Read metadata\n",
      "[   INFO   ] MusicExtractor: Compute md5 audio hash, codec, length, and EBU 128 loudness\n",
      "[   INFO   ] MusicExtractor: Compute aggregation\n",
      "[   INFO   ] All done\n",
      "[   INFO   ] MusicExtractor: Read metadata\n",
      "[   INFO   ] MusicExtractor: Compute md5 audio hash, codec, length, and EBU 128 loudness\n"
     ]
    },
    {
     "name": "stdout",
     "output_type": "stream",
     "text": [
      "Extracting features from song_id: 329\n"
     ]
    },
    {
     "name": "stderr",
     "output_type": "stream",
     "text": [
      "[   INFO   ] MusicExtractor: Replay gain\n",
      "[   INFO   ] MusicExtractor: Compute audio features\n",
      "[   INFO   ] MusicExtractor: Replay gain\n",
      "[   INFO   ] MusicExtractor: Compute aggregation\n",
      "[   INFO   ] All done\n",
      "[   INFO   ] MusicExtractor: Read metadata\n",
      "[   INFO   ] MusicExtractor: Compute md5 audio hash, codec, length, and EBU 128 loudness\n"
     ]
    },
    {
     "name": "stdout",
     "output_type": "stream",
     "text": [
      "Extracting features from song_id: 332\n"
     ]
    },
    {
     "name": "stderr",
     "output_type": "stream",
     "text": [
      "[   INFO   ] MusicExtractor: Compute audio features\n",
      "[   INFO   ] MusicExtractor: Compute aggregation\n",
      "[   INFO   ] All done\n",
      "/Library/Frameworks/Python.framework/Versions/3.11/lib/python3.11/site-packages/joblib/externals/loky/process_executor.py:752: UserWarning: A worker stopped while some jobs were given to the executor. This can be caused by a too short worker timeout or by a memory leak.\n",
      "  warnings.warn(\n"
     ]
    },
    {
     "name": "stdout",
     "output_type": "stream",
     "text": [
      "Extracting features from song_id: 333\n"
     ]
    },
    {
     "name": "stderr",
     "output_type": "stream",
     "text": [
      "[   INFO   ] MusicExtractor: Read metadata\n",
      "[   INFO   ] MusicExtractor: Compute md5 audio hash, codec, length, and EBU 128 loudness\n",
      "[   INFO   ] MusicExtractor: Replay gain\n",
      "[   INFO   ] MusicExtractor: Compute audio features\n",
      "[   INFO   ] MusicExtractor: Compute aggregation\n",
      "[   INFO   ] All done\n",
      "[   INFO   ] MusicExtractor: Read metadata\n",
      "[   INFO   ] MusicExtractor: Compute md5 audio hash, codec, length, and EBU 128 loudness\n"
     ]
    },
    {
     "name": "stdout",
     "output_type": "stream",
     "text": [
      "Extracting features from song_id: 341\n"
     ]
    },
    {
     "name": "stderr",
     "output_type": "stream",
     "text": [
      "[   INFO   ] MusicExtractor: Compute aggregation\n",
      "[   INFO   ] All done\n"
     ]
    },
    {
     "name": "stdout",
     "output_type": "stream",
     "text": [
      "Extracting features from song_id: 342\n"
     ]
    },
    {
     "name": "stderr",
     "output_type": "stream",
     "text": [
      "[   INFO   ] MusicExtractor: Read metadata\n",
      "[   INFO   ] MusicExtractor: Compute md5 audio hash, codec, length, and EBU 128 loudness\n",
      "[   INFO   ] MusicExtractor: Replay gain\n",
      "[   INFO   ] MusicExtractor: Compute audio features\n",
      "[   INFO   ] MusicExtractor: Replay gain\n",
      "[   INFO   ] MusicExtractor: Replay gain\n",
      "[   INFO   ] MusicExtractor: Compute audio features\n",
      "[   INFO   ] MusicExtractor: Compute audio features\n",
      "[   INFO   ] MusicExtractor: Compute aggregation\n",
      "[   INFO   ] All done\n",
      "[   INFO   ] MusicExtractor: Read metadata\n",
      "[   INFO   ] MusicExtractor: Compute md5 audio hash, codec, length, and EBU 128 loudness\n"
     ]
    },
    {
     "name": "stdout",
     "output_type": "stream",
     "text": [
      "Extracting features from song_id: 344\n"
     ]
    },
    {
     "name": "stderr",
     "output_type": "stream",
     "text": [
      "[   INFO   ] MusicExtractor: Replay gain\n",
      "[   INFO   ] MusicExtractor: Compute audio features\n",
      "[   INFO   ] MusicExtractor: Compute aggregation\n",
      "[   INFO   ] All done\n",
      "[   INFO   ] MusicExtractor: Read metadata\n",
      "[   INFO   ] MusicExtractor: Compute md5 audio hash, codec, length, and EBU 128 loudness\n"
     ]
    },
    {
     "name": "stdout",
     "output_type": "stream",
     "text": [
      "Extracting features from song_id: 349\n"
     ]
    },
    {
     "name": "stderr",
     "output_type": "stream",
     "text": [
      "[   INFO   ] MusicExtractor: Compute aggregation\n",
      "[   INFO   ] All done\n"
     ]
    },
    {
     "name": "stdout",
     "output_type": "stream",
     "text": [
      "Extracting features from song_id: 356\n"
     ]
    },
    {
     "name": "stderr",
     "output_type": "stream",
     "text": [
      "[   INFO   ] MusicExtractor: Read metadata\n",
      "[   INFO   ] MusicExtractor: Compute md5 audio hash, codec, length, and EBU 128 loudness\n",
      "[   INFO   ] MusicExtractor: Compute aggregation\n",
      "[   INFO   ] All done\n",
      "[   INFO   ] MusicExtractor: Read metadata\n",
      "[   INFO   ] MusicExtractor: Compute md5 audio hash, codec, length, and EBU 128 loudness\n"
     ]
    },
    {
     "name": "stdout",
     "output_type": "stream",
     "text": [
      "Extracting features from song_id: 360\n"
     ]
    },
    {
     "name": "stderr",
     "output_type": "stream",
     "text": [
      "[   INFO   ] MusicExtractor: Replay gain\n",
      "[   INFO   ] MusicExtractor: Compute audio features\n",
      "[   INFO   ] MusicExtractor: Replay gain\n",
      "[   INFO   ] MusicExtractor: Compute aggregation\n",
      "[   INFO   ] All done\n"
     ]
    },
    {
     "name": "stdout",
     "output_type": "stream",
     "text": [
      "Extracting features from song_id: 361\n"
     ]
    },
    {
     "name": "stderr",
     "output_type": "stream",
     "text": [
      "[   INFO   ] MusicExtractor: Read metadata\n",
      "[   INFO   ] MusicExtractor: Compute md5 audio hash, codec, length, and EBU 128 loudness\n",
      "[   INFO   ] MusicExtractor: Replay gain\n",
      "[   INFO   ] MusicExtractor: Compute audio features\n",
      "[   INFO   ] MusicExtractor: Compute audio features\n",
      "[   INFO   ] MusicExtractor: Compute aggregation\n",
      "[   INFO   ] MusicExtractor: Replay gain\n",
      "[   INFO   ] All done\n"
     ]
    },
    {
     "name": "stdout",
     "output_type": "stream",
     "text": [
      "Extracting features from song_id: 363\n"
     ]
    },
    {
     "name": "stderr",
     "output_type": "stream",
     "text": [
      "[   INFO   ] MusicExtractor: Read metadata\n",
      "[   INFO   ] MusicExtractor: Compute md5 audio hash, codec, length, and EBU 128 loudness\n",
      "[   INFO   ] MusicExtractor: Compute audio features\n",
      "[   INFO   ] MusicExtractor: Compute aggregation\n",
      "[   INFO   ] All done\n",
      "[   INFO   ] MusicExtractor: Read metadata\n",
      "[   INFO   ] MusicExtractor: Compute md5 audio hash, codec, length, and EBU 128 loudness\n"
     ]
    },
    {
     "name": "stdout",
     "output_type": "stream",
     "text": [
      "Extracting features from song_id: 364\n"
     ]
    },
    {
     "name": "stderr",
     "output_type": "stream",
     "text": [
      "[   INFO   ] MusicExtractor: Compute aggregation\n",
      "[   INFO   ] All done\n",
      "[   INFO   ] MusicExtractor: Read metadata\n",
      "[   INFO   ] MusicExtractor: Compute md5 audio hash, codec, length, and EBU 128 loudness\n"
     ]
    },
    {
     "name": "stdout",
     "output_type": "stream",
     "text": [
      "Extracting features from song_id: 367\n"
     ]
    },
    {
     "name": "stderr",
     "output_type": "stream",
     "text": [
      "[   INFO   ] MusicExtractor: Compute aggregation\n",
      "[   INFO   ] All done\n",
      "[   INFO   ] MusicExtractor: Read metadata\n",
      "[   INFO   ] MusicExtractor: Compute md5 audio hash, codec, length, and EBU 128 loudness\n",
      "[   INFO   ] MusicExtractor: Replay gain\n"
     ]
    },
    {
     "name": "stdout",
     "output_type": "stream",
     "text": [
      "Extracting features from song_id: 372\n"
     ]
    },
    {
     "name": "stderr",
     "output_type": "stream",
     "text": [
      "[   INFO   ] MusicExtractor: Replay gain\n",
      "[   INFO   ] MusicExtractor: Compute audio features\n",
      "[   INFO   ] MusicExtractor: Compute audio features\n",
      "[   INFO   ] MusicExtractor: Replay gain\n",
      "[   INFO   ] MusicExtractor: Compute audio features\n",
      "[   INFO   ] MusicExtractor: Compute aggregation\n",
      "[   INFO   ] All done\n",
      "[   INFO   ] MusicExtractor: Read metadata\n",
      "[   INFO   ] MusicExtractor: Compute md5 audio hash, codec, length, and EBU 128 loudness\n"
     ]
    },
    {
     "name": "stdout",
     "output_type": "stream",
     "text": [
      "Extracting features from song_id: 373\n"
     ]
    },
    {
     "name": "stderr",
     "output_type": "stream",
     "text": [
      "[   INFO   ] MusicExtractor: Replay gain\n",
      "[   INFO   ] MusicExtractor: Compute audio features\n",
      "[   INFO   ] MusicExtractor: Compute aggregation\n",
      "[   INFO   ] MusicExtractor: Compute aggregation\n",
      "[   INFO   ] All done\n",
      "/Library/Frameworks/Python.framework/Versions/3.11/lib/python3.11/site-packages/joblib/externals/loky/process_executor.py:752: UserWarning: A worker stopped while some jobs were given to the executor. This can be caused by a too short worker timeout or by a memory leak.\n",
      "  warnings.warn(\n",
      "[   INFO   ] All done\n",
      "[   INFO   ] MusicExtractor: Read metadata\n",
      "[   INFO   ] MusicExtractor: Compute md5 audio hash, codec, length, and EBU 128 loudness\n"
     ]
    },
    {
     "name": "stdout",
     "output_type": "stream",
     "text": [
      "Extracting features from song_id: 384\n",
      "Extracting features from song_id: 375\n"
     ]
    },
    {
     "name": "stderr",
     "output_type": "stream",
     "text": [
      "[   INFO   ] MusicExtractor: Read metadata\n",
      "[   INFO   ] MusicExtractor: Compute md5 audio hash, codec, length, and EBU 128 loudness\n",
      "[   INFO   ] MusicExtractor: Replay gain\n",
      "[   INFO   ] MusicExtractor: Replay gain\n",
      "[   INFO   ] MusicExtractor: Compute audio features\n",
      "[   INFO   ] MusicExtractor: Compute audio features\n",
      "[   INFO   ] MusicExtractor: Compute aggregation\n",
      "[   INFO   ] All done\n",
      "[   INFO   ] MusicExtractor: Read metadata\n",
      "[   INFO   ] MusicExtractor: Compute md5 audio hash, codec, length, and EBU 128 loudness\n"
     ]
    },
    {
     "name": "stdout",
     "output_type": "stream",
     "text": [
      "Extracting features from song_id: 388\n"
     ]
    },
    {
     "name": "stderr",
     "output_type": "stream",
     "text": [
      "[   INFO   ] MusicExtractor: Compute aggregation\n",
      "[   INFO   ] All done\n",
      "[   INFO   ] MusicExtractor: Read metadata\n",
      "[   INFO   ] MusicExtractor: Compute md5 audio hash, codec, length, and EBU 128 loudness\n"
     ]
    },
    {
     "name": "stdout",
     "output_type": "stream",
     "text": [
      "Extracting features from song_id: 390\n"
     ]
    },
    {
     "name": "stderr",
     "output_type": "stream",
     "text": [
      "[   INFO   ] MusicExtractor: Compute aggregation\n",
      "[   INFO   ] MusicExtractor: Replay gain\n",
      "[   INFO   ] All done\n"
     ]
    },
    {
     "name": "stdout",
     "output_type": "stream",
     "text": [
      "Extracting features from song_id: 395\n"
     ]
    },
    {
     "name": "stderr",
     "output_type": "stream",
     "text": [
      "[   INFO   ] MusicExtractor: Read metadata\n",
      "[   INFO   ] MusicExtractor: Compute md5 audio hash, codec, length, and EBU 128 loudness\n",
      "[   INFO   ] MusicExtractor: Compute audio features\n",
      "[   INFO   ] MusicExtractor: Replay gain\n",
      "[   INFO   ] MusicExtractor: Replay gain\n",
      "[   INFO   ] MusicExtractor: Compute audio features\n",
      "[   INFO   ] MusicExtractor: Compute audio features\n",
      "[   INFO   ] MusicExtractor: Compute aggregation\n",
      "[   INFO   ] All done\n"
     ]
    },
    {
     "name": "stdout",
     "output_type": "stream",
     "text": [
      "Extracting features from song_id: 397\n"
     ]
    },
    {
     "name": "stderr",
     "output_type": "stream",
     "text": [
      "[   INFO   ] MusicExtractor: Read metadata\n",
      "[   INFO   ] MusicExtractor: Compute md5 audio hash, codec, length, and EBU 128 loudness\n",
      "[   INFO   ] MusicExtractor: Replay gain\n",
      "[   INFO   ] MusicExtractor: Compute audio features\n",
      "[   INFO   ] MusicExtractor: Compute aggregation\n",
      "[   INFO   ] MusicExtractor: Compute aggregation\n",
      "[   INFO   ] All done\n",
      "[   INFO   ] All done\n",
      "[   INFO   ] MusicExtractor: Read metadata\n",
      "[   INFO   ] MusicExtractor: Compute md5 audio hash, codec, length, and EBU 128 loudness\n",
      "[   INFO   ] MusicExtractor: Read metadata\n",
      "[   INFO   ] MusicExtractor: Compute md5 audio hash, codec, length, and EBU 128 loudness\n"
     ]
    },
    {
     "name": "stdout",
     "output_type": "stream",
     "text": [
      "Extracting features from song_id: 409\n",
      "Extracting features from song_id: 411\n"
     ]
    },
    {
     "name": "stderr",
     "output_type": "stream",
     "text": [
      "[   INFO   ] MusicExtractor: Replay gain\n",
      "[   INFO   ] MusicExtractor: Compute aggregation\n",
      "[   INFO   ] MusicExtractor: Replay gain\n",
      "[   INFO   ] MusicExtractor: Compute audio features\n",
      "[   INFO   ] All done\n"
     ]
    },
    {
     "name": "stdout",
     "output_type": "stream",
     "text": [
      "Extracting features from song_id: 414\n"
     ]
    },
    {
     "name": "stderr",
     "output_type": "stream",
     "text": [
      "[   INFO   ] MusicExtractor: Read metadata\n",
      "[   INFO   ] MusicExtractor: Compute md5 audio hash, codec, length, and EBU 128 loudness\n",
      "[   INFO   ] MusicExtractor: Compute audio features\n",
      "[   INFO   ] MusicExtractor: Replay gain\n",
      "[   INFO   ] MusicExtractor: Compute aggregation\n",
      "[   INFO   ] All done\n",
      "[   INFO   ] MusicExtractor: Read metadata\n",
      "[   INFO   ] MusicExtractor: Compute md5 audio hash, codec, length, and EBU 128 loudness\n"
     ]
    },
    {
     "name": "stdout",
     "output_type": "stream",
     "text": [
      "Extracting features from song_id: 418\n"
     ]
    },
    {
     "name": "stderr",
     "output_type": "stream",
     "text": [
      "[   INFO   ] MusicExtractor: Compute audio features\n",
      "[   INFO   ] MusicExtractor: Replay gain\n",
      "[   INFO   ] MusicExtractor: Compute aggregation\n",
      "[   INFO   ] All done\n",
      "[   INFO   ] MusicExtractor: Read metadata\n",
      "[   INFO   ] MusicExtractor: Compute md5 audio hash, codec, length, and EBU 128 loudness\n"
     ]
    },
    {
     "name": "stdout",
     "output_type": "stream",
     "text": [
      "Extracting features from song_id: 422\n"
     ]
    },
    {
     "name": "stderr",
     "output_type": "stream",
     "text": [
      "[   INFO   ] MusicExtractor: Compute audio features\n",
      "[   INFO   ] MusicExtractor: Compute aggregation\n",
      "[   INFO   ] All done\n",
      "[   INFO   ] MusicExtractor: Read metadata\n",
      "[   INFO   ] MusicExtractor: Compute md5 audio hash, codec, length, and EBU 128 loudness\n"
     ]
    },
    {
     "name": "stdout",
     "output_type": "stream",
     "text": [
      "Extracting features from song_id: 427\n"
     ]
    },
    {
     "name": "stderr",
     "output_type": "stream",
     "text": [
      "[   INFO   ] MusicExtractor: Replay gain\n",
      "[   INFO   ] MusicExtractor: Compute audio features\n",
      "[   INFO   ] MusicExtractor: Compute aggregation\n",
      "[   INFO   ] All done\n"
     ]
    },
    {
     "name": "stdout",
     "output_type": "stream",
     "text": [
      "Extracting features from song_id: 428\n"
     ]
    },
    {
     "name": "stderr",
     "output_type": "stream",
     "text": [
      "[   INFO   ] MusicExtractor: Read metadata\n",
      "[   INFO   ] MusicExtractor: Compute md5 audio hash, codec, length, and EBU 128 loudness\n",
      "[   INFO   ] MusicExtractor: Replay gain\n",
      "[   INFO   ] MusicExtractor: Compute audio features\n",
      "[   INFO   ] MusicExtractor: Replay gain\n",
      "[   INFO   ] MusicExtractor: Compute audio features\n",
      "[   INFO   ] MusicExtractor: Replay gain\n",
      "[   INFO   ] MusicExtractor: Compute aggregation\n",
      "[   INFO   ] All done\n",
      "[   INFO   ] MusicExtractor: Read metadata\n",
      "[   INFO   ] MusicExtractor: Compute md5 audio hash, codec, length, and EBU 128 loudness\n",
      "[   INFO   ] MusicExtractor: Compute aggregation\n"
     ]
    },
    {
     "name": "stdout",
     "output_type": "stream",
     "text": [
      "Extracting features from song_id: 429\n"
     ]
    },
    {
     "name": "stderr",
     "output_type": "stream",
     "text": [
      "[   INFO   ] All done\n",
      "[   INFO   ] MusicExtractor: Read metadata\n",
      "[   INFO   ] MusicExtractor: Compute md5 audio hash, codec, length, and EBU 128 loudness\n"
     ]
    },
    {
     "name": "stdout",
     "output_type": "stream",
     "text": [
      "Extracting features from song_id: 434\n"
     ]
    },
    {
     "name": "stderr",
     "output_type": "stream",
     "text": [
      "[   INFO   ] MusicExtractor: Replay gain\n",
      "[   INFO   ] MusicExtractor: Compute audio features\n",
      "[   INFO   ] MusicExtractor: Compute aggregation\n",
      "[   INFO   ] All done\n",
      "[   INFO   ] MusicExtractor: Read metadata\n",
      "[   INFO   ] MusicExtractor: Compute md5 audio hash, codec, length, and EBU 128 loudness\n"
     ]
    },
    {
     "name": "stdout",
     "output_type": "stream",
     "text": [
      "Extracting features from song_id: 439\n"
     ]
    },
    {
     "name": "stderr",
     "output_type": "stream",
     "text": [
      "[   INFO   ] MusicExtractor: Replay gain\n",
      "[   INFO   ] MusicExtractor: Compute aggregation\n",
      "[   INFO   ] MusicExtractor: Replay gain\n",
      "[   INFO   ] All done\n",
      "[   INFO   ] MusicExtractor: Read metadata\n",
      "[   INFO   ] MusicExtractor: Compute md5 audio hash, codec, length, and EBU 128 loudness\n"
     ]
    },
    {
     "name": "stdout",
     "output_type": "stream",
     "text": [
      "Extracting features from song_id: 440\n"
     ]
    },
    {
     "name": "stderr",
     "output_type": "stream",
     "text": [
      "[   INFO   ] MusicExtractor: Compute audio features\n",
      "[   INFO   ] MusicExtractor: Compute audio features\n",
      "[   INFO   ] MusicExtractor: Replay gain\n",
      "[   INFO   ] MusicExtractor: Compute audio features\n",
      "[   INFO   ] MusicExtractor: Compute aggregation\n",
      "[   INFO   ] All done\n"
     ]
    },
    {
     "name": "stdout",
     "output_type": "stream",
     "text": [
      "Extracting features from song_id: 442\n"
     ]
    },
    {
     "name": "stderr",
     "output_type": "stream",
     "text": [
      "[   INFO   ] MusicExtractor: Read metadata\n",
      "[   INFO   ] MusicExtractor: Compute md5 audio hash, codec, length, and EBU 128 loudness\n",
      "[   INFO   ] MusicExtractor: Replay gain\n",
      "[   INFO   ] MusicExtractor: Compute audio features\n",
      "[   INFO   ] MusicExtractor: Compute aggregation\n",
      "[   INFO   ] All done\n"
     ]
    },
    {
     "name": "stdout",
     "output_type": "stream",
     "text": [
      "Extracting features from song_id: 451\n"
     ]
    },
    {
     "name": "stderr",
     "output_type": "stream",
     "text": [
      "[   INFO   ] MusicExtractor: Read metadata\n",
      "[   INFO   ] MusicExtractor: Compute md5 audio hash, codec, length, and EBU 128 loudness\n",
      "[   INFO   ] MusicExtractor: Compute aggregation\n",
      "[   INFO   ] All done\n",
      "[   INFO   ] MusicExtractor: Read metadata\n",
      "[   INFO   ] MusicExtractor: Compute md5 audio hash, codec, length, and EBU 128 loudness\n"
     ]
    },
    {
     "name": "stdout",
     "output_type": "stream",
     "text": [
      "Extracting features from song_id: 461\n"
     ]
    },
    {
     "name": "stderr",
     "output_type": "stream",
     "text": [
      "[   INFO   ] MusicExtractor: Compute aggregation\n",
      "[   INFO   ] All done\n",
      "[   INFO   ] MusicExtractor: Read metadata\n",
      "[   INFO   ] MusicExtractor: Compute md5 audio hash, codec, length, and EBU 128 loudness\n"
     ]
    },
    {
     "name": "stdout",
     "output_type": "stream",
     "text": [
      "Extracting features from song_id: 465\n"
     ]
    },
    {
     "name": "stderr",
     "output_type": "stream",
     "text": [
      "[   INFO   ] MusicExtractor: Replay gain\n",
      "[   INFO   ] MusicExtractor: Compute audio features\n",
      "[   INFO   ] MusicExtractor: Replay gain\n",
      "[   INFO   ] MusicExtractor: Compute audio features\n",
      "[   INFO   ] MusicExtractor: Replay gain\n",
      "[   INFO   ] MusicExtractor: Compute audio features\n",
      "[   INFO   ] MusicExtractor: Compute audio features\n",
      "[   INFO   ] MusicExtractor: Compute aggregation\n",
      "[   INFO   ] All done\n",
      "[   INFO   ] MusicExtractor: Read metadata\n",
      "[   INFO   ] MusicExtractor: Compute md5 audio hash, codec, length, and EBU 128 loudness\n"
     ]
    },
    {
     "name": "stdout",
     "output_type": "stream",
     "text": [
      "Extracting features from song_id: 468\n"
     ]
    },
    {
     "name": "stderr",
     "output_type": "stream",
     "text": [
      "[   INFO   ] MusicExtractor: Compute aggregation\n",
      "[   INFO   ] All done\n"
     ]
    },
    {
     "name": "stdout",
     "output_type": "stream",
     "text": [
      "Extracting features from song_id: 469\n"
     ]
    },
    {
     "name": "stderr",
     "output_type": "stream",
     "text": [
      "[   INFO   ] MusicExtractor: Read metadata\n",
      "[   INFO   ] MusicExtractor: Compute md5 audio hash, codec, length, and EBU 128 loudness\n",
      "[   INFO   ] MusicExtractor: Replay gain\n",
      "[   INFO   ] MusicExtractor: Compute audio features\n",
      "[   INFO   ] MusicExtractor: Replay gain\n",
      "[   INFO   ] MusicExtractor: Compute audio features\n",
      "[   INFO   ] MusicExtractor: Compute aggregation\n",
      "[   INFO   ] All done\n",
      "[   INFO   ] MusicExtractor: Read metadata\n",
      "[   INFO   ] MusicExtractor: Compute md5 audio hash, codec, length, and EBU 128 loudness\n"
     ]
    },
    {
     "name": "stdout",
     "output_type": "stream",
     "text": [
      "Extracting features from song_id: 471\n"
     ]
    },
    {
     "name": "stderr",
     "output_type": "stream",
     "text": [
      "[   INFO   ] MusicExtractor: Compute aggregation\n",
      "[   INFO   ] All done\n",
      "[   INFO   ] MusicExtractor: Read metadata\n",
      "[   INFO   ] MusicExtractor: Compute md5 audio hash, codec, length, and EBU 128 loudness\n"
     ]
    },
    {
     "name": "stdout",
     "output_type": "stream",
     "text": [
      "Extracting features from song_id: 480\n"
     ]
    },
    {
     "name": "stderr",
     "output_type": "stream",
     "text": [
      "[   INFO   ] MusicExtractor: Replay gain\n",
      "[   INFO   ] MusicExtractor: Compute aggregation\n",
      "[   INFO   ] MusicExtractor: Compute audio features\n",
      "[   INFO   ] All done\n",
      "[   INFO   ] MusicExtractor: Read metadata\n",
      "[   INFO   ] MusicExtractor: Compute md5 audio hash, codec, length, and EBU 128 loudness\n"
     ]
    },
    {
     "name": "stdout",
     "output_type": "stream",
     "text": [
      "Extracting features from song_id: 490\n"
     ]
    },
    {
     "name": "stderr",
     "output_type": "stream",
     "text": [
      "[   INFO   ] MusicExtractor: Replay gain\n",
      "[   INFO   ] MusicExtractor: Compute audio features\n",
      "[   INFO   ] MusicExtractor: Replay gain\n",
      "[   INFO   ] MusicExtractor: Compute audio features\n",
      "[   INFO   ] MusicExtractor: Compute aggregation\n",
      "[   INFO   ] All done\n",
      "[   INFO   ] MusicExtractor: Read metadata\n",
      "[   INFO   ] MusicExtractor: Compute md5 audio hash, codec, length, and EBU 128 loudness\n"
     ]
    },
    {
     "name": "stdout",
     "output_type": "stream",
     "text": [
      "Extracting features from song_id: 491\n"
     ]
    },
    {
     "name": "stderr",
     "output_type": "stream",
     "text": [
      "[   INFO   ] MusicExtractor: Compute aggregation\n",
      "[   INFO   ] All done\n"
     ]
    },
    {
     "name": "stdout",
     "output_type": "stream",
     "text": [
      "Extracting features from song_id: 493\n"
     ]
    },
    {
     "name": "stderr",
     "output_type": "stream",
     "text": [
      "[   INFO   ] MusicExtractor: Read metadata\n",
      "[   INFO   ] MusicExtractor: Compute md5 audio hash, codec, length, and EBU 128 loudness\n",
      "[   INFO   ] MusicExtractor: Replay gain\n",
      "[   INFO   ] MusicExtractor: Compute audio features\n",
      "[   INFO   ] MusicExtractor: Replay gain\n",
      "[   INFO   ] MusicExtractor: Compute aggregation\n",
      "[   INFO   ] MusicExtractor: Compute audio features\n",
      "[   INFO   ] All done\n",
      "[   INFO   ] MusicExtractor: Read metadata\n",
      "[   INFO   ] MusicExtractor: Compute md5 audio hash, codec, length, and EBU 128 loudness\n"
     ]
    },
    {
     "name": "stdout",
     "output_type": "stream",
     "text": [
      "Extracting features from song_id: 499\n"
     ]
    },
    {
     "name": "stderr",
     "output_type": "stream",
     "text": [
      "[   INFO   ] MusicExtractor: Replay gain\n",
      "[   INFO   ] MusicExtractor: Compute audio features\n",
      "[   INFO   ] MusicExtractor: Compute aggregation\n",
      "[   INFO   ] All done\n",
      "[   INFO   ] MusicExtractor: Read metadata\n",
      "[   INFO   ] MusicExtractor: Compute md5 audio hash, codec, length, and EBU 128 loudness\n"
     ]
    },
    {
     "name": "stdout",
     "output_type": "stream",
     "text": [
      "Extracting features from song_id: 504\n"
     ]
    },
    {
     "name": "stderr",
     "output_type": "stream",
     "text": [
      "[   INFO   ] MusicExtractor: Compute aggregation\n",
      "[   INFO   ] All done\n",
      "[   INFO   ] MusicExtractor: Read metadata\n",
      "[   INFO   ] MusicExtractor: Compute md5 audio hash, codec, length, and EBU 128 loudness\n"
     ]
    },
    {
     "name": "stdout",
     "output_type": "stream",
     "text": [
      "Extracting features from song_id: 506\n"
     ]
    },
    {
     "name": "stderr",
     "output_type": "stream",
     "text": [
      "[   INFO   ] MusicExtractor: Replay gain\n",
      "[   INFO   ] MusicExtractor: Compute aggregation\n",
      "[   INFO   ] All done\n",
      "[   INFO   ] MusicExtractor: Compute audio features\n",
      "[   INFO   ] MusicExtractor: Read metadata\n",
      "[   INFO   ] MusicExtractor: Compute md5 audio hash, codec, length, and EBU 128 loudness\n"
     ]
    },
    {
     "name": "stdout",
     "output_type": "stream",
     "text": [
      "Extracting features from song_id: 507\n"
     ]
    },
    {
     "name": "stderr",
     "output_type": "stream",
     "text": [
      "[   INFO   ] MusicExtractor: Replay gain\n",
      "[   INFO   ] MusicExtractor: Compute audio features\n",
      "[   INFO   ] MusicExtractor: Replay gain\n",
      "[   INFO   ] MusicExtractor: Compute audio features\n",
      "[   INFO   ] MusicExtractor: Compute aggregation\n",
      "[   INFO   ] MusicExtractor: Compute aggregation\n",
      "[   INFO   ] All done\n",
      "[   INFO   ] MusicExtractor: Read metadata\n",
      "[   INFO   ] MusicExtractor: Compute md5 audio hash, codec, length, and EBU 128 loudness\n",
      "[   INFO   ] All done\n",
      "[   INFO   ] MusicExtractor: Read metadata\n",
      "[   INFO   ] MusicExtractor: Compute md5 audio hash, codec, length, and EBU 128 loudness\n"
     ]
    },
    {
     "name": "stdout",
     "output_type": "stream",
     "text": [
      "Extracting features from song_id: 508\n",
      "Extracting features from song_id: 510\n"
     ]
    },
    {
     "name": "stderr",
     "output_type": "stream",
     "text": [
      "[   INFO   ] MusicExtractor: Compute aggregation\n",
      "[   INFO   ] All done\n",
      "[   INFO   ] MusicExtractor: Read metadata\n",
      "[   INFO   ] MusicExtractor: Compute md5 audio hash, codec, length, and EBU 128 loudness\n"
     ]
    },
    {
     "name": "stdout",
     "output_type": "stream",
     "text": [
      "Extracting features from song_id: 514\n"
     ]
    },
    {
     "name": "stderr",
     "output_type": "stream",
     "text": [
      "[   INFO   ] MusicExtractor: Replay gain\n",
      "[   INFO   ] MusicExtractor: Compute audio features\n",
      "[   INFO   ] MusicExtractor: Replay gain\n",
      "[   INFO   ] MusicExtractor: Compute audio features\n",
      "[   INFO   ] MusicExtractor: Replay gain\n",
      "[   INFO   ] MusicExtractor: Compute audio features\n",
      "[   INFO   ] MusicExtractor: Compute aggregation\n",
      "[   INFO   ] All done\n",
      "[   INFO   ] MusicExtractor: Read metadata\n",
      "[   INFO   ] MusicExtractor: Compute md5 audio hash, codec, length, and EBU 128 loudness\n"
     ]
    },
    {
     "name": "stdout",
     "output_type": "stream",
     "text": [
      "Extracting features from song_id: 516\n"
     ]
    },
    {
     "name": "stderr",
     "output_type": "stream",
     "text": [
      "[   INFO   ] MusicExtractor: Compute aggregation\n",
      "[   INFO   ] All done\n",
      "[   INFO   ] MusicExtractor: Read metadata\n",
      "[   INFO   ] MusicExtractor: Compute md5 audio hash, codec, length, and EBU 128 loudness\n"
     ]
    },
    {
     "name": "stdout",
     "output_type": "stream",
     "text": [
      "Extracting features from song_id: 517\n"
     ]
    },
    {
     "name": "stderr",
     "output_type": "stream",
     "text": [
      "[   INFO   ] MusicExtractor: Replay gain\n",
      "[   INFO   ] MusicExtractor: Replay gain\n",
      "[   INFO   ] MusicExtractor: Compute aggregation\n",
      "[   INFO   ] MusicExtractor: Compute audio features\n",
      "[   INFO   ] All done\n",
      "[   INFO   ] MusicExtractor: Read metadata\n",
      "[   INFO   ] MusicExtractor: Compute md5 audio hash, codec, length, and EBU 128 loudness\n"
     ]
    },
    {
     "name": "stdout",
     "output_type": "stream",
     "text": [
      "Extracting features from song_id: 518\n"
     ]
    },
    {
     "name": "stderr",
     "output_type": "stream",
     "text": [
      "[   INFO   ] MusicExtractor: Compute audio features\n",
      "[   INFO   ] MusicExtractor: Replay gain\n",
      "[   INFO   ] MusicExtractor: Compute audio features\n",
      "[   INFO   ] MusicExtractor: Compute aggregation\n",
      "[   INFO   ] All done\n",
      "[   INFO   ] MusicExtractor: Read metadata\n",
      "[   INFO   ] MusicExtractor: Compute md5 audio hash, codec, length, and EBU 128 loudness\n"
     ]
    },
    {
     "name": "stdout",
     "output_type": "stream",
     "text": [
      "Extracting features from song_id: 520\n"
     ]
    },
    {
     "name": "stderr",
     "output_type": "stream",
     "text": [
      "[   INFO   ] MusicExtractor: Compute aggregation\n",
      "[   INFO   ] All done\n",
      "[   INFO   ] MusicExtractor: Read metadata\n",
      "[   INFO   ] MusicExtractor: Compute md5 audio hash, codec, length, and EBU 128 loudness\n"
     ]
    },
    {
     "name": "stdout",
     "output_type": "stream",
     "text": [
      "Extracting features from song_id: 523\n"
     ]
    },
    {
     "name": "stderr",
     "output_type": "stream",
     "text": [
      "[   INFO   ] MusicExtractor: Replay gain\n",
      "[   INFO   ] MusicExtractor: Replay gain\n",
      "[   INFO   ] MusicExtractor: Compute audio features\n",
      "[   INFO   ] MusicExtractor: Compute aggregation\n",
      "[   INFO   ] All done\n",
      "[   INFO   ] MusicExtractor: Read metadata\n",
      "[   INFO   ] MusicExtractor: Compute md5 audio hash, codec, length, and EBU 128 loudness\n"
     ]
    },
    {
     "name": "stdout",
     "output_type": "stream",
     "text": [
      "Extracting features from song_id: 524\n"
     ]
    },
    {
     "name": "stderr",
     "output_type": "stream",
     "text": [
      "[   INFO   ] MusicExtractor: Compute audio features\n",
      "[   INFO   ] MusicExtractor: Replay gain\n",
      "[   INFO   ] MusicExtractor: Compute audio features\n",
      "[   INFO   ] MusicExtractor: Compute aggregation\n",
      "[   INFO   ] All done\n",
      "[   INFO   ] MusicExtractor: Read metadata\n",
      "[   INFO   ] MusicExtractor: Compute md5 audio hash, codec, length, and EBU 128 loudness\n"
     ]
    },
    {
     "name": "stdout",
     "output_type": "stream",
     "text": [
      "Extracting features from song_id: 529\n"
     ]
    },
    {
     "name": "stderr",
     "output_type": "stream",
     "text": [
      "[   INFO   ] MusicExtractor: Compute aggregation\n",
      "[   INFO   ] All done\n",
      "[   INFO   ] MusicExtractor: Read metadata\n",
      "[   INFO   ] MusicExtractor: Compute md5 audio hash, codec, length, and EBU 128 loudness\n"
     ]
    },
    {
     "name": "stdout",
     "output_type": "stream",
     "text": [
      "Extracting features from song_id: 532\n"
     ]
    },
    {
     "name": "stderr",
     "output_type": "stream",
     "text": [
      "[   INFO   ] MusicExtractor: Compute aggregation\n",
      "[   INFO   ] All done\n",
      "[   INFO   ] MusicExtractor: Read metadata\n",
      "[   INFO   ] MusicExtractor: Compute md5 audio hash, codec, length, and EBU 128 loudness\n"
     ]
    },
    {
     "name": "stdout",
     "output_type": "stream",
     "text": [
      "Extracting features from song_id: 541\n"
     ]
    },
    {
     "name": "stderr",
     "output_type": "stream",
     "text": [
      "[   INFO   ] MusicExtractor: Replay gain\n",
      "[   INFO   ] MusicExtractor: Replay gain\n",
      "[   INFO   ] MusicExtractor: Replay gain\n",
      "[   INFO   ] MusicExtractor: Compute audio features\n",
      "[   INFO   ] MusicExtractor: Compute audio features\n",
      "[   INFO   ] MusicExtractor: Compute audio features\n",
      "[   INFO   ] MusicExtractor: Compute aggregation\n",
      "[   INFO   ] All done\n"
     ]
    },
    {
     "name": "stdout",
     "output_type": "stream",
     "text": [
      "Extracting features from song_id: 544\n"
     ]
    },
    {
     "name": "stderr",
     "output_type": "stream",
     "text": [
      "[   INFO   ] MusicExtractor: Read metadata\n",
      "[   INFO   ] MusicExtractor: Compute md5 audio hash, codec, length, and EBU 128 loudness\n",
      "[   INFO   ] MusicExtractor: Compute aggregation\n",
      "[   INFO   ] All done\n",
      "[   INFO   ] MusicExtractor: Read metadata\n",
      "[   INFO   ] MusicExtractor: Compute md5 audio hash, codec, length, and EBU 128 loudness\n"
     ]
    },
    {
     "name": "stdout",
     "output_type": "stream",
     "text": [
      "Extracting features from song_id: 548\n"
     ]
    },
    {
     "name": "stderr",
     "output_type": "stream",
     "text": [
      "[   INFO   ] MusicExtractor: Replay gain\n",
      "[   INFO   ] MusicExtractor: Compute aggregation\n",
      "[   INFO   ] All done\n",
      "[   INFO   ] MusicExtractor: Read metadata\n",
      "[   INFO   ] MusicExtractor: Compute md5 audio hash, codec, length, and EBU 128 loudness\n"
     ]
    },
    {
     "name": "stdout",
     "output_type": "stream",
     "text": [
      "Extracting features from song_id: 550\n"
     ]
    },
    {
     "name": "stderr",
     "output_type": "stream",
     "text": [
      "[   INFO   ] MusicExtractor: Compute audio features\n",
      "[   INFO   ] MusicExtractor: Replay gain\n",
      "[   INFO   ] MusicExtractor: Compute aggregation\n",
      "[   INFO   ] All done\n",
      "[   INFO   ] MusicExtractor: Read metadata\n",
      "[   INFO   ] MusicExtractor: Compute md5 audio hash, codec, length, and EBU 128 loudness\n"
     ]
    },
    {
     "name": "stdout",
     "output_type": "stream",
     "text": [
      "Extracting features from song_id: 555\n"
     ]
    },
    {
     "name": "stderr",
     "output_type": "stream",
     "text": [
      "[   INFO   ] MusicExtractor: Compute audio features\n",
      "[   INFO   ] MusicExtractor: Replay gain\n",
      "[   INFO   ] MusicExtractor: Replay gain\n",
      "[   INFO   ] MusicExtractor: Compute audio features\n",
      "[   INFO   ] MusicExtractor: Compute audio features\n",
      "[   INFO   ] MusicExtractor: Compute aggregation\n",
      "[   INFO   ] All done\n",
      "/Library/Frameworks/Python.framework/Versions/3.11/lib/python3.11/site-packages/joblib/externals/loky/process_executor.py:752: UserWarning: A worker stopped while some jobs were given to the executor. This can be caused by a too short worker timeout or by a memory leak.\n",
      "  warnings.warn(\n"
     ]
    },
    {
     "name": "stdout",
     "output_type": "stream",
     "text": [
      "Extracting features from song_id: 558\n"
     ]
    },
    {
     "name": "stderr",
     "output_type": "stream",
     "text": [
      "[   INFO   ] MusicExtractor: Read metadata\n",
      "[   INFO   ] MusicExtractor: Compute md5 audio hash, codec, length, and EBU 128 loudness\n",
      "[   INFO   ] MusicExtractor: Compute aggregation\n",
      "[   INFO   ] All done\n",
      "[   INFO   ] MusicExtractor: Read metadata\n",
      "[   INFO   ] MusicExtractor: Compute md5 audio hash, codec, length, and EBU 128 loudness\n"
     ]
    },
    {
     "name": "stdout",
     "output_type": "stream",
     "text": [
      "Extracting features from song_id: 562\n"
     ]
    },
    {
     "name": "stderr",
     "output_type": "stream",
     "text": [
      "[   INFO   ] MusicExtractor: Replay gain\n",
      "[   INFO   ] MusicExtractor: Compute audio features\n",
      "[   INFO   ] MusicExtractor: Replay gain\n",
      "[   INFO   ] MusicExtractor: Compute audio features\n",
      "[   INFO   ] MusicExtractor: Compute aggregation\n",
      "[   INFO   ] All done\n",
      "[   INFO   ] MusicExtractor: Read metadata\n",
      "[   INFO   ] MusicExtractor: Compute md5 audio hash, codec, length, and EBU 128 loudness\n"
     ]
    },
    {
     "name": "stdout",
     "output_type": "stream",
     "text": [
      "Extracting features from song_id: 565\n"
     ]
    },
    {
     "name": "stderr",
     "output_type": "stream",
     "text": [
      "[   INFO   ] MusicExtractor: Compute aggregation\n",
      "[   INFO   ] All done\n",
      "[   INFO   ] MusicExtractor: Read metadata\n",
      "[   INFO   ] MusicExtractor: Compute md5 audio hash, codec, length, and EBU 128 loudness\n"
     ]
    },
    {
     "name": "stdout",
     "output_type": "stream",
     "text": [
      "Extracting features from song_id: 571\n"
     ]
    },
    {
     "name": "stderr",
     "output_type": "stream",
     "text": [
      "[   INFO   ] MusicExtractor: Compute aggregation\n",
      "[   INFO   ] All done\n",
      "[   INFO   ] MusicExtractor: Read metadata\n",
      "[   INFO   ] MusicExtractor: Compute md5 audio hash, codec, length, and EBU 128 loudness\n"
     ]
    },
    {
     "name": "stdout",
     "output_type": "stream",
     "text": [
      "Extracting features from song_id: 576\n"
     ]
    },
    {
     "name": "stderr",
     "output_type": "stream",
     "text": [
      "[   INFO   ] MusicExtractor: Compute aggregation\n",
      "[   INFO   ] MusicExtractor: Replay gain\n",
      "[   INFO   ] MusicExtractor: Replay gain\n",
      "[   INFO   ] MusicExtractor: Compute audio features\n",
      "[   INFO   ] MusicExtractor: Replay gain\n",
      "[   INFO   ] MusicExtractor: Compute audio features\n",
      "[   INFO   ] MusicExtractor: Compute audio features\n",
      "[   INFO   ] All done\n",
      "[   INFO   ] MusicExtractor: Compute aggregation\n",
      "[   INFO   ] MusicExtractor: Read metadata\n",
      "[   INFO   ] MusicExtractor: Compute md5 audio hash, codec, length, and EBU 128 loudness\n",
      "[   INFO   ] All done\n"
     ]
    },
    {
     "name": "stdout",
     "output_type": "stream",
     "text": [
      "Extracting features from song_id: 578\n",
      "Extracting features from song_id: 588\n"
     ]
    },
    {
     "name": "stderr",
     "output_type": "stream",
     "text": [
      "[   INFO   ] MusicExtractor: Read metadata\n",
      "[   INFO   ] MusicExtractor: Compute md5 audio hash, codec, length, and EBU 128 loudness\n",
      "[   INFO   ] MusicExtractor: Replay gain\n",
      "[   INFO   ] MusicExtractor: Compute audio features\n",
      "[   INFO   ] MusicExtractor: Compute aggregation\n",
      "[   INFO   ] MusicExtractor: Replay gain\n",
      "[   INFO   ] All done\n",
      "[   INFO   ] MusicExtractor: Read metadata\n",
      "[   INFO   ] MusicExtractor: Compute md5 audio hash, codec, length, and EBU 128 loudness\n"
     ]
    },
    {
     "name": "stdout",
     "output_type": "stream",
     "text": [
      "Extracting features from song_id: 591\n"
     ]
    },
    {
     "name": "stderr",
     "output_type": "stream",
     "text": [
      "[   INFO   ] MusicExtractor: Compute aggregation\n",
      "[   INFO   ] MusicExtractor: Compute audio features\n",
      "[   INFO   ] All done\n",
      "[   INFO   ] MusicExtractor: Read metadata\n",
      "[   INFO   ] MusicExtractor: Compute md5 audio hash, codec, length, and EBU 128 loudness\n"
     ]
    },
    {
     "name": "stdout",
     "output_type": "stream",
     "text": [
      "Extracting features from song_id: 594\n"
     ]
    },
    {
     "name": "stderr",
     "output_type": "stream",
     "text": [
      "[   INFO   ] MusicExtractor: Compute aggregation\n",
      "[   INFO   ] All done\n",
      "[   INFO   ] MusicExtractor: Read metadata\n",
      "[   INFO   ] MusicExtractor: Compute md5 audio hash, codec, length, and EBU 128 loudness\n"
     ]
    },
    {
     "name": "stdout",
     "output_type": "stream",
     "text": [
      "Extracting features from song_id: 597\n"
     ]
    },
    {
     "name": "stderr",
     "output_type": "stream",
     "text": [
      "[   INFO   ] MusicExtractor: Replay gain\n",
      "[   INFO   ] MusicExtractor: Compute audio features\n",
      "[   INFO   ] MusicExtractor: Replay gain\n",
      "[   INFO   ] MusicExtractor: Replay gain\n",
      "[   INFO   ] MusicExtractor: Compute audio features\n",
      "[   INFO   ] MusicExtractor: Compute audio features\n",
      "[   INFO   ] MusicExtractor: Compute aggregation\n",
      "[   INFO   ] All done\n"
     ]
    },
    {
     "name": "stdout",
     "output_type": "stream",
     "text": [
      "Extracting features from song_id: 598\n"
     ]
    },
    {
     "name": "stderr",
     "output_type": "stream",
     "text": [
      "[   INFO   ] MusicExtractor: Read metadata\n",
      "[   INFO   ] MusicExtractor: Compute md5 audio hash, codec, length, and EBU 128 loudness\n",
      "[   INFO   ] MusicExtractor: Compute aggregation\n",
      "[   INFO   ] All done\n",
      "[   INFO   ] MusicExtractor: Read metadata\n",
      "[   INFO   ] MusicExtractor: Compute md5 audio hash, codec, length, and EBU 128 loudness\n"
     ]
    },
    {
     "name": "stdout",
     "output_type": "stream",
     "text": [
      "Extracting features from song_id: 600\n"
     ]
    },
    {
     "name": "stderr",
     "output_type": "stream",
     "text": [
      "[   INFO   ] MusicExtractor: Compute aggregation\n",
      "[   INFO   ] All done\n",
      "[   INFO   ] MusicExtractor: Read metadata\n",
      "[   INFO   ] MusicExtractor: Compute md5 audio hash, codec, length, and EBU 128 loudness\n"
     ]
    },
    {
     "name": "stdout",
     "output_type": "stream",
     "text": [
      "Extracting features from song_id: 602\n"
     ]
    },
    {
     "name": "stderr",
     "output_type": "stream",
     "text": [
      "[   INFO   ] MusicExtractor: Replay gain\n",
      "[   INFO   ] MusicExtractor: Replay gain\n",
      "[   INFO   ] MusicExtractor: Compute aggregation\n",
      "[   INFO   ] All done\n",
      "[   INFO   ] MusicExtractor: Read metadata\n",
      "[   INFO   ] MusicExtractor: Compute md5 audio hash, codec, length, and EBU 128 loudness\n"
     ]
    },
    {
     "name": "stdout",
     "output_type": "stream",
     "text": [
      "Extracting features from song_id: 603\n"
     ]
    },
    {
     "name": "stderr",
     "output_type": "stream",
     "text": [
      "[   INFO   ] MusicExtractor: Compute audio features\n",
      "[   INFO   ] MusicExtractor: Compute audio features\n",
      "[   INFO   ] MusicExtractor: Replay gain\n",
      "[   INFO   ] MusicExtractor: Compute audio features\n",
      "[   INFO   ] MusicExtractor: Replay gain\n",
      "[   INFO   ] MusicExtractor: Compute audio features\n",
      "[   INFO   ] MusicExtractor: Compute aggregation\n",
      "[   INFO   ] All done\n"
     ]
    },
    {
     "name": "stdout",
     "output_type": "stream",
     "text": [
      "Extracting features from song_id: 604\n"
     ]
    },
    {
     "name": "stderr",
     "output_type": "stream",
     "text": [
      "[   INFO   ] MusicExtractor: Read metadata\n",
      "[   INFO   ] MusicExtractor: Compute md5 audio hash, codec, length, and EBU 128 loudness\n",
      "[   INFO   ] MusicExtractor: Compute aggregation\n",
      "[   INFO   ] All done\n",
      "[   INFO   ] MusicExtractor: Read metadata\n",
      "[   INFO   ] MusicExtractor: Compute md5 audio hash, codec, length, and EBU 128 loudness\n"
     ]
    },
    {
     "name": "stdout",
     "output_type": "stream",
     "text": [
      "Extracting features from song_id: 609\n"
     ]
    },
    {
     "name": "stderr",
     "output_type": "stream",
     "text": [
      "[   INFO   ] MusicExtractor: Replay gain\n",
      "[   INFO   ] MusicExtractor: Compute audio features\n",
      "[   INFO   ] MusicExtractor: Compute aggregation\n",
      "[   INFO   ] All done\n",
      "[   INFO   ] MusicExtractor: Read metadata\n",
      "[   INFO   ] MusicExtractor: Compute md5 audio hash, codec, length, and EBU 128 loudness\n"
     ]
    },
    {
     "name": "stdout",
     "output_type": "stream",
     "text": [
      "Extracting features from song_id: 613\n"
     ]
    },
    {
     "name": "stderr",
     "output_type": "stream",
     "text": [
      "[   INFO   ] MusicExtractor: Compute aggregation\n",
      "[   INFO   ] All done\n",
      "[   INFO   ] MusicExtractor: Read metadata\n",
      "[   INFO   ] MusicExtractor: Compute md5 audio hash, codec, length, and EBU 128 loudness\n"
     ]
    },
    {
     "name": "stdout",
     "output_type": "stream",
     "text": [
      "Extracting features from song_id: 619\n"
     ]
    },
    {
     "name": "stderr",
     "output_type": "stream",
     "text": [
      "[   INFO   ] MusicExtractor: Replay gain\n",
      "[   INFO   ] MusicExtractor: Replay gain\n",
      "[   INFO   ] MusicExtractor: Compute audio features\n",
      "[   INFO   ] MusicExtractor: Compute aggregation\n",
      "[   INFO   ] All done\n",
      "[   INFO   ] MusicExtractor: Read metadata\n",
      "[   INFO   ] MusicExtractor: Compute md5 audio hash, codec, length, and EBU 128 loudness\n"
     ]
    },
    {
     "name": "stdout",
     "output_type": "stream",
     "text": [
      "Extracting features from song_id: 621\n"
     ]
    },
    {
     "name": "stderr",
     "output_type": "stream",
     "text": [
      "[   INFO   ] MusicExtractor: Compute audio features\n",
      "[   INFO   ] MusicExtractor: Replay gain\n",
      "[   INFO   ] MusicExtractor: Replay gain\n",
      "[   INFO   ] MusicExtractor: Compute audio features\n",
      "[   INFO   ] MusicExtractor: Compute audio features\n",
      "[   INFO   ] MusicExtractor: Compute aggregation\n",
      "[   INFO   ] MusicExtractor: Compute aggregation\n",
      "[   INFO   ] All done\n",
      "[   INFO   ] MusicExtractor: Read metadata\n",
      "[   INFO   ] MusicExtractor: Compute md5 audio hash, codec, length, and EBU 128 loudness\n"
     ]
    },
    {
     "name": "stdout",
     "output_type": "stream",
     "text": [
      "Extracting features from song_id: 627\n",
      "Extracting features from song_id: 629\n"
     ]
    },
    {
     "name": "stderr",
     "output_type": "stream",
     "text": [
      "[   INFO   ] All done\n",
      "[   INFO   ] MusicExtractor: Read metadata\n",
      "[   INFO   ] MusicExtractor: Compute md5 audio hash, codec, length, and EBU 128 loudness\n",
      "[   INFO   ] MusicExtractor: Compute aggregation\n",
      "[   INFO   ] All done\n",
      "[   INFO   ] MusicExtractor: Read metadata\n",
      "[   INFO   ] MusicExtractor: Compute md5 audio hash, codec, length, and EBU 128 loudness\n"
     ]
    },
    {
     "name": "stdout",
     "output_type": "stream",
     "text": [
      "Extracting features from song_id: 634\n"
     ]
    },
    {
     "name": "stderr",
     "output_type": "stream",
     "text": [
      "[   INFO   ] MusicExtractor: Compute aggregation\n",
      "[   INFO   ] All done\n",
      "[   INFO   ] MusicExtractor: Replay gain\n",
      "[   INFO   ] MusicExtractor: Read metadata\n",
      "[   INFO   ] MusicExtractor: Compute md5 audio hash, codec, length, and EBU 128 loudness\n"
     ]
    },
    {
     "name": "stdout",
     "output_type": "stream",
     "text": [
      "Extracting features from song_id: 635\n"
     ]
    },
    {
     "name": "stderr",
     "output_type": "stream",
     "text": [
      "[   INFO   ] MusicExtractor: Compute audio features\n",
      "[   INFO   ] MusicExtractor: Replay gain\n",
      "[   INFO   ] MusicExtractor: Replay gain\n",
      "[   INFO   ] MusicExtractor: Compute audio features\n",
      "[   INFO   ] MusicExtractor: Compute audio features\n",
      "[   INFO   ] MusicExtractor: Replay gain\n",
      "[   INFO   ] MusicExtractor: Compute aggregation\n",
      "[   INFO   ] All done\n",
      "[   INFO   ] MusicExtractor: Read metadata\n"
     ]
    },
    {
     "name": "stdout",
     "output_type": "stream",
     "text": [
      "Extracting features from song_id: 638\n"
     ]
    },
    {
     "name": "stderr",
     "output_type": "stream",
     "text": [
      "[   INFO   ] MusicExtractor: Compute md5 audio hash, codec, length, and EBU 128 loudness\n",
      "[   INFO   ] MusicExtractor: Compute audio features\n",
      "[   INFO   ] MusicExtractor: Compute aggregation\n",
      "[   INFO   ] All done\n",
      "[   INFO   ] MusicExtractor: Read metadata\n",
      "[   INFO   ] MusicExtractor: Compute md5 audio hash, codec, length, and EBU 128 loudness\n"
     ]
    },
    {
     "name": "stdout",
     "output_type": "stream",
     "text": [
      "Extracting features from song_id: 639\n"
     ]
    },
    {
     "name": "stderr",
     "output_type": "stream",
     "text": [
      "[   INFO   ] MusicExtractor: Compute aggregation\n",
      "[   INFO   ] All done\n",
      "[   INFO   ] MusicExtractor: Read metadata\n",
      "[   INFO   ] MusicExtractor: Compute md5 audio hash, codec, length, and EBU 128 loudness\n"
     ]
    },
    {
     "name": "stdout",
     "output_type": "stream",
     "text": [
      "Extracting features from song_id: 649\n"
     ]
    },
    {
     "name": "stderr",
     "output_type": "stream",
     "text": [
      "[   INFO   ] MusicExtractor: Replay gain\n",
      "[   INFO   ] MusicExtractor: Replay gain\n",
      "[   INFO   ] MusicExtractor: Compute audio features\n",
      "[   INFO   ] MusicExtractor: Compute aggregation\n",
      "[   INFO   ] All done\n",
      "[   INFO   ] MusicExtractor: Read metadata\n",
      "[   INFO   ] MusicExtractor: Compute md5 audio hash, codec, length, and EBU 128 loudness\n",
      "[   INFO   ] MusicExtractor: Compute audio features\n"
     ]
    },
    {
     "name": "stdout",
     "output_type": "stream",
     "text": [
      "Extracting features from song_id: 652\n"
     ]
    },
    {
     "name": "stderr",
     "output_type": "stream",
     "text": [
      "[   INFO   ] MusicExtractor: Compute aggregation\n",
      "[   INFO   ] All done\n",
      "[   INFO   ] MusicExtractor: Read metadata\n",
      "[   INFO   ] MusicExtractor: Compute md5 audio hash, codec, length, and EBU 128 loudness\n"
     ]
    },
    {
     "name": "stdout",
     "output_type": "stream",
     "text": [
      "Extracting features from song_id: 659\n"
     ]
    },
    {
     "name": "stderr",
     "output_type": "stream",
     "text": [
      "[   INFO   ] MusicExtractor: Replay gain\n",
      "[   INFO   ] MusicExtractor: Compute aggregation\n",
      "[   INFO   ] All done\n",
      "[   INFO   ] MusicExtractor: Read metadata\n",
      "[   INFO   ] MusicExtractor: Compute md5 audio hash, codec, length, and EBU 128 loudness\n"
     ]
    },
    {
     "name": "stdout",
     "output_type": "stream",
     "text": [
      "Extracting features from song_id: 667\n"
     ]
    },
    {
     "name": "stderr",
     "output_type": "stream",
     "text": [
      "[   INFO   ] MusicExtractor: Replay gain\n",
      "[   INFO   ] MusicExtractor: Compute audio features\n",
      "[   INFO   ] MusicExtractor: Compute audio features\n",
      "[   INFO   ] MusicExtractor: Replay gain\n",
      "[   INFO   ] MusicExtractor: Compute audio features\n",
      "[   INFO   ] MusicExtractor: Compute aggregation\n",
      "[   INFO   ] All done\n"
     ]
    },
    {
     "name": "stdout",
     "output_type": "stream",
     "text": [
      "Extracting features from song_id: 672\n"
     ]
    },
    {
     "name": "stderr",
     "output_type": "stream",
     "text": [
      "[   INFO   ] MusicExtractor: Read metadata\n",
      "[   INFO   ] MusicExtractor: Compute md5 audio hash, codec, length, and EBU 128 loudness\n",
      "[   INFO   ] MusicExtractor: Replay gain\n",
      "[   INFO   ] MusicExtractor: Replay gain\n",
      "[   INFO   ] MusicExtractor: Compute aggregation\n",
      "[   INFO   ] All done\n",
      "/Library/Frameworks/Python.framework/Versions/3.11/lib/python3.11/site-packages/joblib/externals/loky/process_executor.py:752: UserWarning: A worker stopped while some jobs were given to the executor. This can be caused by a too short worker timeout or by a memory leak.\n",
      "  warnings.warn(\n",
      "[   INFO   ] MusicExtractor: Compute audio features\n",
      "[   INFO   ] MusicExtractor: Compute aggregation\n",
      "[   INFO   ] All done\n",
      "[   INFO   ] MusicExtractor: Read metadata\n",
      "[   INFO   ] MusicExtractor: Compute md5 audio hash, codec, length, and EBU 128 loudness\n",
      "[   INFO   ] MusicExtractor: Read metadata\n",
      "[   INFO   ] MusicExtractor: Compute md5 audio hash, codec, length, and EBU 128 loudness\n"
     ]
    },
    {
     "name": "stdout",
     "output_type": "stream",
     "text": [
      "Extracting features from song_id: 676\n",
      "Extracting features from song_id: 673\n"
     ]
    },
    {
     "name": "stderr",
     "output_type": "stream",
     "text": [
      "[   INFO   ] MusicExtractor: Replay gain\n",
      "[   INFO   ] MusicExtractor: Replay gain\n",
      "[   INFO   ] MusicExtractor: Compute aggregation\n",
      "[   INFO   ] MusicExtractor: Compute audio features\n",
      "[   INFO   ] All done\n",
      "[   INFO   ] MusicExtractor: Read metadata\n",
      "[   INFO   ] MusicExtractor: Compute md5 audio hash, codec, length, and EBU 128 loudness\n"
     ]
    },
    {
     "name": "stdout",
     "output_type": "stream",
     "text": [
      "Extracting features from song_id: 677\n"
     ]
    },
    {
     "name": "stderr",
     "output_type": "stream",
     "text": [
      "[   INFO   ] MusicExtractor: Compute audio features\n",
      "[   INFO   ] MusicExtractor: Replay gain\n",
      "[   INFO   ] MusicExtractor: Compute audio features\n",
      "[   INFO   ] MusicExtractor: Compute audio features\n",
      "[   INFO   ] MusicExtractor: Compute aggregation\n",
      "[   INFO   ] All done\n",
      "[   INFO   ] MusicExtractor: Read metadata\n",
      "[   INFO   ] MusicExtractor: Compute md5 audio hash, codec, length, and EBU 128 loudness\n"
     ]
    },
    {
     "name": "stdout",
     "output_type": "stream",
     "text": [
      "Extracting features from song_id: 680\n"
     ]
    },
    {
     "name": "stderr",
     "output_type": "stream",
     "text": [
      "[   INFO   ] MusicExtractor: Compute aggregation\n",
      "[   INFO   ] MusicExtractor: Compute aggregation\n",
      "[   INFO   ] All done\n",
      "[   INFO   ] MusicExtractor: Read metadata\n",
      "[   INFO   ] MusicExtractor: Compute md5 audio hash, codec, length, and EBU 128 loudness\n",
      "[   INFO   ] All done\n"
     ]
    },
    {
     "name": "stdout",
     "output_type": "stream",
     "text": [
      "Extracting features from song_id: 689\n",
      "Extracting features from song_id: 697\n"
     ]
    },
    {
     "name": "stderr",
     "output_type": "stream",
     "text": [
      "[   INFO   ] MusicExtractor: Read metadata\n",
      "[   INFO   ] MusicExtractor: Compute md5 audio hash, codec, length, and EBU 128 loudness\n",
      "[   INFO   ] MusicExtractor: Replay gain\n",
      "[   INFO   ] MusicExtractor: Replay gain\n",
      "[   INFO   ] MusicExtractor: Compute audio features\n",
      "[   INFO   ] MusicExtractor: Compute audio features\n",
      "[   INFO   ] MusicExtractor: Compute aggregation\n",
      "[   INFO   ] All done\n",
      "[   INFO   ] MusicExtractor: Read metadata\n",
      "[   INFO   ] MusicExtractor: Compute md5 audio hash, codec, length, and EBU 128 loudness\n"
     ]
    },
    {
     "name": "stdout",
     "output_type": "stream",
     "text": [
      "Extracting features from song_id: 699\n"
     ]
    },
    {
     "name": "stderr",
     "output_type": "stream",
     "text": [
      "[   INFO   ] MusicExtractor: Replay gain\n",
      "[   INFO   ] MusicExtractor: Replay gain\n",
      "[   INFO   ] MusicExtractor: Compute aggregation\n",
      "[   INFO   ] All done\n"
     ]
    },
    {
     "name": "stdout",
     "output_type": "stream",
     "text": [
      "Extracting features from song_id: 706\n"
     ]
    },
    {
     "name": "stderr",
     "output_type": "stream",
     "text": [
      "[   INFO   ] MusicExtractor: Read metadata\n",
      "[   INFO   ] MusicExtractor: Compute md5 audio hash, codec, length, and EBU 128 loudness\n",
      "[   INFO   ] MusicExtractor: Compute audio features\n",
      "[   INFO   ] MusicExtractor: Compute audio features\n",
      "[   INFO   ] MusicExtractor: Replay gain\n",
      "[   INFO   ] MusicExtractor: Compute audio features\n",
      "[   INFO   ] MusicExtractor: Compute aggregation\n",
      "[   INFO   ] All done\n",
      "[   INFO   ] MusicExtractor: Read metadata\n",
      "[   INFO   ] MusicExtractor: Compute md5 audio hash, codec, length, and EBU 128 loudness\n"
     ]
    },
    {
     "name": "stdout",
     "output_type": "stream",
     "text": [
      "Extracting features from song_id: 707\n"
     ]
    },
    {
     "name": "stderr",
     "output_type": "stream",
     "text": [
      "[   INFO   ] MusicExtractor: Replay gain\n",
      "[   INFO   ] MusicExtractor: Compute aggregation\n",
      "[   INFO   ] All done\n"
     ]
    },
    {
     "name": "stdout",
     "output_type": "stream",
     "text": [
      "Extracting features from song_id: 709\n"
     ]
    },
    {
     "name": "stderr",
     "output_type": "stream",
     "text": [
      "[   INFO   ] MusicExtractor: Read metadata\n",
      "[   INFO   ] MusicExtractor: Compute md5 audio hash, codec, length, and EBU 128 loudness\n",
      "[   INFO   ] MusicExtractor: Compute aggregation\n",
      "[   INFO   ] MusicExtractor: Compute audio features\n",
      "[   INFO   ] All done\n",
      "[   INFO   ] MusicExtractor: Read metadata\n",
      "[   INFO   ] MusicExtractor: Compute md5 audio hash, codec, length, and EBU 128 loudness\n"
     ]
    },
    {
     "name": "stdout",
     "output_type": "stream",
     "text": [
      "Extracting features from song_id: 712\n"
     ]
    },
    {
     "name": "stderr",
     "output_type": "stream",
     "text": [
      "[   INFO   ] MusicExtractor: Replay gain\n",
      "[   INFO   ] MusicExtractor: Compute audio features\n",
      "[   INFO   ] MusicExtractor: Replay gain\n",
      "[   INFO   ] MusicExtractor: Compute aggregation\n",
      "[   INFO   ] All done\n",
      "[   INFO   ] MusicExtractor: Read metadata\n",
      "[   INFO   ] MusicExtractor: Compute md5 audio hash, codec, length, and EBU 128 loudness\n"
     ]
    },
    {
     "name": "stdout",
     "output_type": "stream",
     "text": [
      "Extracting features from song_id: 716\n"
     ]
    },
    {
     "name": "stderr",
     "output_type": "stream",
     "text": [
      "[   INFO   ] MusicExtractor: Compute audio features\n",
      "[   INFO   ] MusicExtractor: Compute aggregation\n",
      "[   INFO   ] All done\n"
     ]
    },
    {
     "name": "stdout",
     "output_type": "stream",
     "text": [
      "Extracting features from song_id: 717\n"
     ]
    },
    {
     "name": "stderr",
     "output_type": "stream",
     "text": [
      "[   INFO   ] MusicExtractor: Read metadata\n",
      "[   INFO   ] MusicExtractor: Compute md5 audio hash, codec, length, and EBU 128 loudness\n",
      "[   INFO   ] MusicExtractor: Replay gain\n",
      "[   INFO   ] MusicExtractor: Replay gain\n",
      "[   INFO   ] MusicExtractor: Compute audio features\n",
      "[   INFO   ] MusicExtractor: Compute audio features\n",
      "[   INFO   ] MusicExtractor: Compute aggregation\n",
      "[   INFO   ] All done\n",
      "[   INFO   ] MusicExtractor: Read metadata\n",
      "[   INFO   ] MusicExtractor: Compute md5 audio hash, codec, length, and EBU 128 loudness\n"
     ]
    },
    {
     "name": "stdout",
     "output_type": "stream",
     "text": [
      "Extracting features from song_id: 719\n"
     ]
    },
    {
     "name": "stderr",
     "output_type": "stream",
     "text": [
      "[   INFO   ] MusicExtractor: Compute aggregation\n",
      "[   INFO   ] All done\n",
      "[   INFO   ] MusicExtractor: Read metadata\n",
      "[   INFO   ] MusicExtractor: Compute md5 audio hash, codec, length, and EBU 128 loudness\n"
     ]
    },
    {
     "name": "stdout",
     "output_type": "stream",
     "text": [
      "Extracting features from song_id: 720\n"
     ]
    },
    {
     "name": "stderr",
     "output_type": "stream",
     "text": [
      "[   INFO   ] MusicExtractor: Compute aggregation\n",
      "[   INFO   ] All done\n"
     ]
    },
    {
     "name": "stdout",
     "output_type": "stream",
     "text": [
      "Extracting features from song_id: 723\n"
     ]
    },
    {
     "name": "stderr",
     "output_type": "stream",
     "text": [
      "[   INFO   ] MusicExtractor: Read metadata\n",
      "[   INFO   ] MusicExtractor: Compute md5 audio hash, codec, length, and EBU 128 loudness\n",
      "[   INFO   ] MusicExtractor: Replay gain\n",
      "[   INFO   ] MusicExtractor: Replay gain\n",
      "[   INFO   ] MusicExtractor: Replay gain\n",
      "[   INFO   ] MusicExtractor: Compute audio features\n",
      "[   INFO   ] MusicExtractor: Compute audio features\n",
      "[   INFO   ] MusicExtractor: Compute audio features\n",
      "[   INFO   ] MusicExtractor: Compute aggregation\n",
      "[   INFO   ] MusicExtractor: Compute aggregation\n",
      "[   INFO   ] All done\n",
      "[   INFO   ] MusicExtractor: Read metadata\n",
      "[   INFO   ] MusicExtractor: Compute md5 audio hash, codec, length, and EBU 128 loudness\n"
     ]
    },
    {
     "name": "stdout",
     "output_type": "stream",
     "text": [
      "Extracting features from song_id: 726\n"
     ]
    },
    {
     "name": "stderr",
     "output_type": "stream",
     "text": [
      "[   INFO   ] All done\n",
      "[   INFO   ] MusicExtractor: Read metadata\n",
      "[   INFO   ] MusicExtractor: Compute md5 audio hash, codec, length, and EBU 128 loudness\n"
     ]
    },
    {
     "name": "stdout",
     "output_type": "stream",
     "text": [
      "Extracting features from song_id: 727\n"
     ]
    },
    {
     "name": "stderr",
     "output_type": "stream",
     "text": [
      "[   INFO   ] MusicExtractor: Replay gain\n",
      "[   INFO   ] MusicExtractor: Compute audio features\n",
      "[   INFO   ] MusicExtractor: Replay gain\n",
      "[   INFO   ] MusicExtractor: Compute aggregation\n",
      "[   INFO   ] All done\n"
     ]
    },
    {
     "name": "stdout",
     "output_type": "stream",
     "text": [
      "Extracting features from song_id: 731\n"
     ]
    },
    {
     "name": "stderr",
     "output_type": "stream",
     "text": [
      "[   INFO   ] MusicExtractor: Read metadata\n",
      "[   INFO   ] MusicExtractor: Compute md5 audio hash, codec, length, and EBU 128 loudness\n",
      "[   INFO   ] MusicExtractor: Compute aggregation\n",
      "[   INFO   ] All done\n",
      "[   INFO   ] MusicExtractor: Compute audio features\n",
      "[   INFO   ] MusicExtractor: Read metadata\n",
      "[   INFO   ] MusicExtractor: Compute md5 audio hash, codec, length, and EBU 128 loudness\n"
     ]
    },
    {
     "name": "stdout",
     "output_type": "stream",
     "text": [
      "Extracting features from song_id: 736\n"
     ]
    },
    {
     "name": "stderr",
     "output_type": "stream",
     "text": [
      "[   INFO   ] MusicExtractor: Compute aggregation\n",
      "[   INFO   ] All done\n",
      "/Library/Frameworks/Python.framework/Versions/3.11/lib/python3.11/site-packages/joblib/externals/loky/process_executor.py:752: UserWarning: A worker stopped while some jobs were given to the executor. This can be caused by a too short worker timeout or by a memory leak.\n",
      "  warnings.warn(\n",
      "[   INFO   ] MusicExtractor: Replay gain\n",
      "[   INFO   ] MusicExtractor: Replay gain\n"
     ]
    },
    {
     "name": "stdout",
     "output_type": "stream",
     "text": [
      "Extracting features from song_id: 739\n"
     ]
    },
    {
     "name": "stderr",
     "output_type": "stream",
     "text": [
      "[   INFO   ] MusicExtractor: Read metadata\n",
      "[   INFO   ] MusicExtractor: Compute md5 audio hash, codec, length, and EBU 128 loudness\n",
      "[   INFO   ] MusicExtractor: Compute audio features\n",
      "[   INFO   ] MusicExtractor: Compute audio features\n",
      "[   INFO   ] MusicExtractor: Compute aggregation\n",
      "[   INFO   ] All done\n",
      "[   INFO   ] MusicExtractor: Replay gain\n",
      "[   INFO   ] MusicExtractor: Read metadata\n",
      "[   INFO   ] MusicExtractor: Compute md5 audio hash, codec, length, and EBU 128 loudness\n"
     ]
    },
    {
     "name": "stdout",
     "output_type": "stream",
     "text": [
      "Extracting features from song_id: 741\n"
     ]
    },
    {
     "name": "stderr",
     "output_type": "stream",
     "text": [
      "[   INFO   ] MusicExtractor: Compute aggregation\n",
      "[   INFO   ] All done\n",
      "[   INFO   ] MusicExtractor: Compute audio features\n",
      "[   INFO   ] MusicExtractor: Read metadata\n",
      "[   INFO   ] MusicExtractor: Compute md5 audio hash, codec, length, and EBU 128 loudness\n"
     ]
    },
    {
     "name": "stdout",
     "output_type": "stream",
     "text": [
      "Extracting features from song_id: 742\n"
     ]
    },
    {
     "name": "stderr",
     "output_type": "stream",
     "text": [
      "[   INFO   ] MusicExtractor: Compute aggregation\n",
      "[   INFO   ] All done\n"
     ]
    },
    {
     "name": "stdout",
     "output_type": "stream",
     "text": [
      "Extracting features from song_id: 743\n"
     ]
    },
    {
     "name": "stderr",
     "output_type": "stream",
     "text": [
      "[   INFO   ] MusicExtractor: Read metadata\n",
      "[   INFO   ] MusicExtractor: Compute md5 audio hash, codec, length, and EBU 128 loudness\n",
      "[   INFO   ] MusicExtractor: Replay gain\n",
      "[   INFO   ] MusicExtractor: Compute audio features\n",
      "[   INFO   ] MusicExtractor: Replay gain\n",
      "[   INFO   ] MusicExtractor: Replay gain\n",
      "[   INFO   ] MusicExtractor: Compute audio features\n",
      "[   INFO   ] MusicExtractor: Compute audio features\n",
      "[   INFO   ] MusicExtractor: Compute aggregation\n",
      "[   INFO   ] All done\n",
      "[   INFO   ] MusicExtractor: Read metadata\n",
      "[   INFO   ] MusicExtractor: Compute md5 audio hash, codec, length, and EBU 128 loudness\n"
     ]
    },
    {
     "name": "stdout",
     "output_type": "stream",
     "text": [
      "Extracting features from song_id: 744\n"
     ]
    },
    {
     "name": "stderr",
     "output_type": "stream",
     "text": [
      "[   INFO   ] MusicExtractor: Compute aggregation\n",
      "[   INFO   ] All done\n"
     ]
    },
    {
     "name": "stdout",
     "output_type": "stream",
     "text": [
      "Extracting features from song_id: 752\n"
     ]
    },
    {
     "name": "stderr",
     "output_type": "stream",
     "text": [
      "[   INFO   ] MusicExtractor: Read metadata\n",
      "[   INFO   ] MusicExtractor: Compute md5 audio hash, codec, length, and EBU 128 loudness\n",
      "[   INFO   ] MusicExtractor: Compute aggregation\n",
      "[   INFO   ] All done\n"
     ]
    },
    {
     "name": "stdout",
     "output_type": "stream",
     "text": [
      "Extracting features from song_id: 754\n"
     ]
    },
    {
     "name": "stderr",
     "output_type": "stream",
     "text": [
      "[   INFO   ] MusicExtractor: Read metadata\n",
      "[   INFO   ] MusicExtractor: Compute md5 audio hash, codec, length, and EBU 128 loudness\n",
      "[   INFO   ] MusicExtractor: Replay gain\n",
      "[   INFO   ] MusicExtractor: Compute audio features\n",
      "[   INFO   ] MusicExtractor: Compute aggregation\n",
      "[   INFO   ] MusicExtractor: Replay gain\n",
      "[   INFO   ] All done\n",
      "[   INFO   ] MusicExtractor: Read metadata\n",
      "[   INFO   ] MusicExtractor: Compute md5 audio hash, codec, length, and EBU 128 loudness\n"
     ]
    },
    {
     "name": "stdout",
     "output_type": "stream",
     "text": [
      "Extracting features from song_id: 757\n"
     ]
    },
    {
     "name": "stderr",
     "output_type": "stream",
     "text": [
      "[   INFO   ] MusicExtractor: Compute audio features\n",
      "[   INFO   ] MusicExtractor: Compute aggregation\n",
      "[   INFO   ] All done\n",
      "[   INFO   ] MusicExtractor: Read metadata\n",
      "[   INFO   ] MusicExtractor: Compute md5 audio hash, codec, length, and EBU 128 loudness\n"
     ]
    },
    {
     "name": "stdout",
     "output_type": "stream",
     "text": [
      "Extracting features from song_id: 759\n"
     ]
    },
    {
     "name": "stderr",
     "output_type": "stream",
     "text": [
      "[   INFO   ] MusicExtractor: Replay gain\n",
      "[   INFO   ] MusicExtractor: Compute audio features\n",
      "[   INFO   ] MusicExtractor: Replay gain\n",
      "[   INFO   ] MusicExtractor: Compute aggregation\n",
      "[   INFO   ] MusicExtractor: Compute audio features\n",
      "[   INFO   ] All done\n",
      "[   INFO   ] MusicExtractor: Read metadata\n",
      "[   INFO   ] MusicExtractor: Compute md5 audio hash, codec, length, and EBU 128 loudness\n",
      "[   INFO   ] MusicExtractor: Replay gain\n"
     ]
    },
    {
     "name": "stdout",
     "output_type": "stream",
     "text": [
      "Extracting features from song_id: 761\n"
     ]
    },
    {
     "name": "stderr",
     "output_type": "stream",
     "text": [
      "[   INFO   ] MusicExtractor: Replay gain\n",
      "[   INFO   ] MusicExtractor: Compute audio features\n",
      "[   INFO   ] MusicExtractor: Compute aggregation\n",
      "[   INFO   ] All done\n",
      "[   INFO   ] MusicExtractor: Read metadata\n",
      "[   INFO   ] MusicExtractor: Compute md5 audio hash, codec, length, and EBU 128 loudness\n",
      "[   INFO   ] MusicExtractor: Compute audio features\n"
     ]
    },
    {
     "name": "stdout",
     "output_type": "stream",
     "text": [
      "Extracting features from song_id: 768\n"
     ]
    },
    {
     "name": "stderr",
     "output_type": "stream",
     "text": [
      "[   INFO   ] MusicExtractor: Compute aggregation\n",
      "[   INFO   ] All done\n",
      "[   INFO   ] MusicExtractor: Read metadata\n",
      "[   INFO   ] MusicExtractor: Compute md5 audio hash, codec, length, and EBU 128 loudness\n"
     ]
    },
    {
     "name": "stdout",
     "output_type": "stream",
     "text": [
      "Extracting features from song_id: 776\n"
     ]
    },
    {
     "name": "stderr",
     "output_type": "stream",
     "text": [
      "[   INFO   ] MusicExtractor: Compute aggregation\n",
      "[   INFO   ] All done\n"
     ]
    },
    {
     "name": "stdout",
     "output_type": "stream",
     "text": [
      "Extracting features from song_id: 780\n"
     ]
    },
    {
     "name": "stderr",
     "output_type": "stream",
     "text": [
      "[   INFO   ] MusicExtractor: Read metadata\n",
      "[   INFO   ] MusicExtractor: Compute md5 audio hash, codec, length, and EBU 128 loudness\n",
      "[   INFO   ] MusicExtractor: Replay gain\n",
      "[   INFO   ] MusicExtractor: Compute audio features\n",
      "[   INFO   ] MusicExtractor: Replay gain\n",
      "[   INFO   ] MusicExtractor: Replay gain\n",
      "[   INFO   ] MusicExtractor: Compute audio features\n",
      "[   INFO   ] MusicExtractor: Compute audio features\n",
      "[   INFO   ] MusicExtractor: Compute aggregation\n",
      "[   INFO   ] All done\n",
      "[   INFO   ] MusicExtractor: Read metadata\n",
      "[   INFO   ] MusicExtractor: Compute md5 audio hash, codec, length, and EBU 128 loudness\n"
     ]
    },
    {
     "name": "stdout",
     "output_type": "stream",
     "text": [
      "Extracting features from song_id: 784\n"
     ]
    },
    {
     "name": "stderr",
     "output_type": "stream",
     "text": [
      "[   INFO   ] MusicExtractor: Compute aggregation\n",
      "[   INFO   ] All done\n",
      "[   INFO   ] MusicExtractor: Read metadata\n",
      "[   INFO   ] MusicExtractor: Compute md5 audio hash, codec, length, and EBU 128 loudness\n"
     ]
    },
    {
     "name": "stdout",
     "output_type": "stream",
     "text": [
      "Extracting features from song_id: 786\n"
     ]
    },
    {
     "name": "stderr",
     "output_type": "stream",
     "text": [
      "[   INFO   ] MusicExtractor: Replay gain\n",
      "[   INFO   ] MusicExtractor: Replay gain\n",
      "[   INFO   ] MusicExtractor: Compute audio features\n",
      "[   INFO   ] MusicExtractor: Compute audio features\n",
      "[   INFO   ] MusicExtractor: Compute aggregation\n",
      "[   INFO   ] All done\n",
      "[   INFO   ] MusicExtractor: Read metadata\n",
      "[   INFO   ] MusicExtractor: Compute md5 audio hash, codec, length, and EBU 128 loudness\n"
     ]
    },
    {
     "name": "stdout",
     "output_type": "stream",
     "text": [
      "Extracting features from song_id: 789\n"
     ]
    },
    {
     "name": "stderr",
     "output_type": "stream",
     "text": [
      "[   INFO   ] MusicExtractor: Replay gain\n",
      "[   INFO   ] MusicExtractor: Compute aggregation\n",
      "[   INFO   ] All done\n",
      "[   INFO   ] MusicExtractor: Read metadata\n",
      "[   INFO   ] MusicExtractor: Compute md5 audio hash, codec, length, and EBU 128 loudness\n"
     ]
    },
    {
     "name": "stdout",
     "output_type": "stream",
     "text": [
      "Extracting features from song_id: 790\n"
     ]
    },
    {
     "name": "stderr",
     "output_type": "stream",
     "text": [
      "[   INFO   ] MusicExtractor: Compute aggregation\n",
      "[   INFO   ] All done\n"
     ]
    },
    {
     "name": "stdout",
     "output_type": "stream",
     "text": [
      "Extracting features from song_id: 791\n"
     ]
    },
    {
     "name": "stderr",
     "output_type": "stream",
     "text": [
      "[   INFO   ] MusicExtractor: Read metadata\n",
      "[   INFO   ] MusicExtractor: Compute md5 audio hash, codec, length, and EBU 128 loudness\n",
      "[   INFO   ] MusicExtractor: Compute audio features\n",
      "[   INFO   ] MusicExtractor: Compute aggregation\n",
      "[   INFO   ] All done\n",
      "[   INFO   ] MusicExtractor: Read metadata\n",
      "[   INFO   ] MusicExtractor: Compute md5 audio hash, codec, length, and EBU 128 loudness\n"
     ]
    },
    {
     "name": "stdout",
     "output_type": "stream",
     "text": [
      "Extracting features from song_id: 793\n"
     ]
    },
    {
     "name": "stderr",
     "output_type": "stream",
     "text": [
      "[   INFO   ] MusicExtractor: Replay gain\n",
      "[   INFO   ] MusicExtractor: Compute audio features\n",
      "[   INFO   ] MusicExtractor: Replay gain\n",
      "[   INFO   ] MusicExtractor: Compute audio features\n",
      "[   INFO   ] MusicExtractor: Compute aggregation\n",
      "[   INFO   ] All done\n",
      "[   INFO   ] MusicExtractor: Read metadata\n",
      "[   INFO   ] MusicExtractor: Compute md5 audio hash, codec, length, and EBU 128 loudness\n"
     ]
    },
    {
     "name": "stdout",
     "output_type": "stream",
     "text": [
      "Extracting features from song_id: 795\n"
     ]
    },
    {
     "name": "stderr",
     "output_type": "stream",
     "text": [
      "[   INFO   ] MusicExtractor: Replay gain\n",
      "[   INFO   ] MusicExtractor: Compute aggregation\n",
      "[   INFO   ] All done\n"
     ]
    },
    {
     "name": "stdout",
     "output_type": "stream",
     "text": [
      "Extracting features from song_id: 796\n"
     ]
    },
    {
     "name": "stderr",
     "output_type": "stream",
     "text": [
      "[   INFO   ] MusicExtractor: Read metadata\n",
      "[   INFO   ] MusicExtractor: Compute md5 audio hash, codec, length, and EBU 128 loudness\n",
      "[   INFO   ] MusicExtractor: Compute audio features\n",
      "[   INFO   ] MusicExtractor: Replay gain\n",
      "[   INFO   ] MusicExtractor: Replay gain\n",
      "[   INFO   ] MusicExtractor: Compute audio features\n",
      "[   INFO   ] MusicExtractor: Compute audio features\n",
      "[   INFO   ] MusicExtractor: Compute aggregation\n",
      "[   INFO   ] All done\n",
      "[   INFO   ] MusicExtractor: Read metadata\n",
      "[   INFO   ] MusicExtractor: Compute md5 audio hash, codec, length, and EBU 128 loudness\n"
     ]
    },
    {
     "name": "stdout",
     "output_type": "stream",
     "text": [
      "Extracting features from song_id: 807\n"
     ]
    },
    {
     "name": "stderr",
     "output_type": "stream",
     "text": [
      "[   INFO   ] MusicExtractor: Compute aggregation\n",
      "[   INFO   ] All done\n"
     ]
    },
    {
     "name": "stdout",
     "output_type": "stream",
     "text": [
      "Extracting features from song_id: 812\n"
     ]
    },
    {
     "name": "stderr",
     "output_type": "stream",
     "text": [
      "[   INFO   ] MusicExtractor: Read metadata\n",
      "[   INFO   ] MusicExtractor: Compute md5 audio hash, codec, length, and EBU 128 loudness\n",
      "[   INFO   ] MusicExtractor: Replay gain\n",
      "[   INFO   ] MusicExtractor: Compute aggregation\n",
      "[   INFO   ] All done\n",
      "[   INFO   ] MusicExtractor: Read metadata\n",
      "[   INFO   ] MusicExtractor: Compute md5 audio hash, codec, length, and EBU 128 loudness\n"
     ]
    },
    {
     "name": "stdout",
     "output_type": "stream",
     "text": [
      "Extracting features from song_id: 814\n"
     ]
    },
    {
     "name": "stderr",
     "output_type": "stream",
     "text": [
      "[   INFO   ] MusicExtractor: Compute audio features\n",
      "[   INFO   ] MusicExtractor: Replay gain\n",
      "[   INFO   ] MusicExtractor: Compute aggregation\n",
      "[   INFO   ] All done\n",
      "[   INFO   ] MusicExtractor: Read metadata\n",
      "[   INFO   ] MusicExtractor: Compute md5 audio hash, codec, length, and EBU 128 loudness\n"
     ]
    },
    {
     "name": "stdout",
     "output_type": "stream",
     "text": [
      "Extracting features from song_id: 816\n"
     ]
    },
    {
     "name": "stderr",
     "output_type": "stream",
     "text": [
      "[   INFO   ] MusicExtractor: Compute audio features\n",
      "[   INFO   ] MusicExtractor: Replay gain\n",
      "[   INFO   ] MusicExtractor: Compute audio features\n",
      "[   INFO   ] MusicExtractor: Compute aggregation\n",
      "[   INFO   ] All done\n",
      "[   INFO   ] MusicExtractor: Read metadata\n",
      "[   INFO   ] MusicExtractor: Compute md5 audio hash, codec, length, and EBU 128 loudness\n"
     ]
    },
    {
     "name": "stdout",
     "output_type": "stream",
     "text": [
      "Extracting features from song_id: 818\n"
     ]
    },
    {
     "name": "stderr",
     "output_type": "stream",
     "text": [
      "[   INFO   ] MusicExtractor: Compute aggregation\n",
      "[   INFO   ] All done\n"
     ]
    },
    {
     "name": "stdout",
     "output_type": "stream",
     "text": [
      "Extracting features from song_id: 820\n"
     ]
    },
    {
     "name": "stderr",
     "output_type": "stream",
     "text": [
      "[   INFO   ] MusicExtractor: Read metadata\n",
      "[   INFO   ] MusicExtractor: Compute md5 audio hash, codec, length, and EBU 128 loudness\n",
      "[   INFO   ] MusicExtractor: Replay gain\n",
      "[   INFO   ] MusicExtractor: Replay gain\n",
      "[   INFO   ] MusicExtractor: Compute audio features\n",
      "[   INFO   ] MusicExtractor: Replay gain\n",
      "[   INFO   ] MusicExtractor: Compute audio features\n",
      "[   INFO   ] MusicExtractor: Compute aggregation\n",
      "[   INFO   ] All done\n",
      "[   INFO   ] MusicExtractor: Read metadata\n",
      "[   INFO   ] MusicExtractor: Compute md5 audio hash, codec, length, and EBU 128 loudness\n"
     ]
    },
    {
     "name": "stdout",
     "output_type": "stream",
     "text": [
      "Extracting features from song_id: 822\n"
     ]
    },
    {
     "name": "stderr",
     "output_type": "stream",
     "text": [
      "[   INFO   ] MusicExtractor: Compute audio features\n",
      "[   INFO   ] MusicExtractor: Compute aggregation\n",
      "[   INFO   ] All done\n",
      "[   INFO   ] MusicExtractor: Read metadata\n",
      "[   INFO   ] MusicExtractor: Compute md5 audio hash, codec, length, and EBU 128 loudness\n"
     ]
    },
    {
     "name": "stdout",
     "output_type": "stream",
     "text": [
      "Extracting features from song_id: 826\n"
     ]
    },
    {
     "name": "stderr",
     "output_type": "stream",
     "text": [
      "[   INFO   ] MusicExtractor: Replay gain\n",
      "[   INFO   ] MusicExtractor: Replay gain\n",
      "[   INFO   ] MusicExtractor: Compute aggregation\n",
      "[   INFO   ] MusicExtractor: Compute audio features\n",
      "[   INFO   ] All done\n"
     ]
    },
    {
     "name": "stdout",
     "output_type": "stream",
     "text": [
      "Extracting features from song_id: 835\n"
     ]
    },
    {
     "name": "stderr",
     "output_type": "stream",
     "text": [
      "[   INFO   ] MusicExtractor: Read metadata\n",
      "[   INFO   ] MusicExtractor: Compute md5 audio hash, codec, length, and EBU 128 loudness\n",
      "[   INFO   ] MusicExtractor: Compute audio features\n",
      "[   INFO   ] MusicExtractor: Replay gain\n",
      "[   INFO   ] MusicExtractor: Compute audio features\n",
      "[   INFO   ] MusicExtractor: Compute aggregation\n",
      "[   INFO   ] All done\n"
     ]
    },
    {
     "name": "stdout",
     "output_type": "stream",
     "text": [
      "Extracting features from song_id: 839\n"
     ]
    },
    {
     "name": "stderr",
     "output_type": "stream",
     "text": [
      "[   INFO   ] MusicExtractor: Read metadata\n",
      "[   INFO   ] MusicExtractor: Compute md5 audio hash, codec, length, and EBU 128 loudness\n",
      "[   INFO   ] MusicExtractor: Compute aggregation\n",
      "[   INFO   ] All done\n",
      "[   INFO   ] MusicExtractor: Read metadata\n",
      "[   INFO   ] MusicExtractor: Compute md5 audio hash, codec, length, and EBU 128 loudness\n"
     ]
    },
    {
     "name": "stdout",
     "output_type": "stream",
     "text": [
      "Extracting features from song_id: 843\n"
     ]
    },
    {
     "name": "stderr",
     "output_type": "stream",
     "text": [
      "[   INFO   ] MusicExtractor: Compute aggregation\n",
      "[   INFO   ] All done\n"
     ]
    },
    {
     "name": "stdout",
     "output_type": "stream",
     "text": [
      "Extracting features from song_id: 848\n"
     ]
    },
    {
     "name": "stderr",
     "output_type": "stream",
     "text": [
      "[   INFO   ] MusicExtractor: Read metadata\n",
      "[   INFO   ] MusicExtractor: Compute md5 audio hash, codec, length, and EBU 128 loudness\n",
      "[   INFO   ] MusicExtractor: Replay gain\n",
      "[   INFO   ] MusicExtractor: Replay gain\n",
      "[   INFO   ] MusicExtractor: Compute audio features\n",
      "[   INFO   ] MusicExtractor: Compute audio features\n",
      "[   INFO   ] MusicExtractor: Replay gain\n",
      "[   INFO   ] MusicExtractor: Compute audio features\n",
      "[   INFO   ] MusicExtractor: Compute aggregation\n",
      "[   INFO   ] All done\n"
     ]
    },
    {
     "name": "stdout",
     "output_type": "stream",
     "text": [
      "Extracting features from song_id: 862\n"
     ]
    },
    {
     "name": "stderr",
     "output_type": "stream",
     "text": [
      "[   INFO   ] MusicExtractor: Read metadata\n",
      "[   INFO   ] MusicExtractor: Compute md5 audio hash, codec, length, and EBU 128 loudness\n",
      "[   INFO   ] MusicExtractor: Compute aggregation\n",
      "[   INFO   ] All done\n"
     ]
    },
    {
     "name": "stdout",
     "output_type": "stream",
     "text": [
      "Extracting features from song_id: 863\n"
     ]
    },
    {
     "name": "stderr",
     "output_type": "stream",
     "text": [
      "[   INFO   ] MusicExtractor: Read metadata\n",
      "[   INFO   ] MusicExtractor: Compute md5 audio hash, codec, length, and EBU 128 loudness\n",
      "[   INFO   ] MusicExtractor: Compute aggregation\n",
      "[   INFO   ] All done\n",
      "[   INFO   ] MusicExtractor: Replay gain\n",
      "/Library/Frameworks/Python.framework/Versions/3.11/lib/python3.11/site-packages/joblib/externals/loky/process_executor.py:752: UserWarning: A worker stopped while some jobs were given to the executor. This can be caused by a too short worker timeout or by a memory leak.\n",
      "  warnings.warn(\n",
      "[   INFO   ] MusicExtractor: Compute audio features\n",
      "[   INFO   ] MusicExtractor: Compute aggregation\n",
      "[   INFO   ] MusicExtractor: Read metadata\n",
      "[   INFO   ] MusicExtractor: Compute md5 audio hash, codec, length, and EBU 128 loudness\n"
     ]
    },
    {
     "name": "stdout",
     "output_type": "stream",
     "text": [
      "Extracting features from song_id: 868\n",
      "Extracting features from song_id: 872\n"
     ]
    },
    {
     "name": "stderr",
     "output_type": "stream",
     "text": [
      "[   INFO   ] All done\n",
      "[   INFO   ] MusicExtractor: Read metadata\n",
      "[   INFO   ] MusicExtractor: Compute md5 audio hash, codec, length, and EBU 128 loudness\n",
      "[   INFO   ] MusicExtractor: Replay gain\n",
      "[   INFO   ] MusicExtractor: Compute audio features\n",
      "[   INFO   ] MusicExtractor: Replay gain\n",
      "[   INFO   ] MusicExtractor: Replay gain\n",
      "[   INFO   ] MusicExtractor: Compute aggregation\n",
      "[   INFO   ] All done\n",
      "[   INFO   ] MusicExtractor: Read metadata\n",
      "[   INFO   ] MusicExtractor: Compute md5 audio hash, codec, length, and EBU 128 loudness\n"
     ]
    },
    {
     "name": "stdout",
     "output_type": "stream",
     "text": [
      "Extracting features from song_id: 873\n"
     ]
    },
    {
     "name": "stderr",
     "output_type": "stream",
     "text": [
      "[   INFO   ] MusicExtractor: Compute audio features\n",
      "[   INFO   ] MusicExtractor: Compute audio features\n",
      "[   INFO   ] MusicExtractor: Replay gain\n",
      "[   INFO   ] MusicExtractor: Compute audio features\n",
      "[   INFO   ] MusicExtractor: Compute aggregation\n",
      "[   INFO   ] MusicExtractor: Compute aggregation\n",
      "[   INFO   ] All done\n"
     ]
    },
    {
     "name": "stdout",
     "output_type": "stream",
     "text": [
      "Extracting features from song_id: 874\n",
      "Extracting features from song_id: 875\n"
     ]
    },
    {
     "name": "stderr",
     "output_type": "stream",
     "text": [
      "[   INFO   ] MusicExtractor: Read metadata\n",
      "[   INFO   ] MusicExtractor: Compute md5 audio hash, codec, length, and EBU 128 loudness\n",
      "[   INFO   ] All done\n",
      "[   INFO   ] MusicExtractor: Read metadata\n",
      "[   INFO   ] MusicExtractor: Compute md5 audio hash, codec, length, and EBU 128 loudness\n",
      "[   INFO   ] MusicExtractor: Compute aggregation\n",
      "[   INFO   ] All done\n",
      "[   INFO   ] MusicExtractor: Read metadata\n",
      "[   INFO   ] MusicExtractor: Compute md5 audio hash, codec, length, and EBU 128 loudness\n"
     ]
    },
    {
     "name": "stdout",
     "output_type": "stream",
     "text": [
      "Extracting features from song_id: 876\n"
     ]
    },
    {
     "name": "stderr",
     "output_type": "stream",
     "text": [
      "[   INFO   ] MusicExtractor: Compute aggregation\n",
      "[   INFO   ] All done\n"
     ]
    },
    {
     "name": "stdout",
     "output_type": "stream",
     "text": [
      "Extracting features from song_id: 878\n"
     ]
    },
    {
     "name": "stderr",
     "output_type": "stream",
     "text": [
      "[   INFO   ] MusicExtractor: Read metadata\n",
      "[   INFO   ] MusicExtractor: Compute md5 audio hash, codec, length, and EBU 128 loudness\n",
      "[   INFO   ] MusicExtractor: Replay gain\n",
      "[   INFO   ] MusicExtractor: Replay gain\n",
      "[   INFO   ] MusicExtractor: Replay gain\n",
      "[   INFO   ] MusicExtractor: Compute audio features\n",
      "[   INFO   ] MusicExtractor: Compute audio features\n",
      "[   INFO   ] MusicExtractor: Compute audio features\n",
      "[   INFO   ] MusicExtractor: Replay gain\n",
      "[   INFO   ] MusicExtractor: Compute audio features\n",
      "[   INFO   ] MusicExtractor: Compute aggregation\n",
      "[   INFO   ] All done\n",
      "[   INFO   ] MusicExtractor: Read metadata\n",
      "[   INFO   ] MusicExtractor: Compute md5 audio hash, codec, length, and EBU 128 loudness\n"
     ]
    },
    {
     "name": "stdout",
     "output_type": "stream",
     "text": [
      "Extracting features from song_id: 883\n"
     ]
    },
    {
     "name": "stderr",
     "output_type": "stream",
     "text": [
      "[   INFO   ] MusicExtractor: Compute aggregation\n",
      "[   INFO   ] All done\n"
     ]
    },
    {
     "name": "stdout",
     "output_type": "stream",
     "text": [
      "Extracting features from song_id: 886\n"
     ]
    },
    {
     "name": "stderr",
     "output_type": "stream",
     "text": [
      "[   INFO   ] MusicExtractor: Read metadata\n",
      "[   INFO   ] MusicExtractor: Compute md5 audio hash, codec, length, and EBU 128 loudness\n",
      "[   INFO   ] MusicExtractor: Compute aggregation\n",
      "[   INFO   ] MusicExtractor: Replay gain\n",
      "[   INFO   ] All done\n",
      "[   INFO   ] MusicExtractor: Compute aggregation\n",
      "[   INFO   ] MusicExtractor: Read metadata\n",
      "[   INFO   ] MusicExtractor: Compute md5 audio hash, codec, length, and EBU 128 loudness\n"
     ]
    },
    {
     "name": "stdout",
     "output_type": "stream",
     "text": [
      "Extracting features from song_id: 897\n"
     ]
    },
    {
     "name": "stderr",
     "output_type": "stream",
     "text": [
      "[   INFO   ] All done\n",
      "[   INFO   ] MusicExtractor: Read metadata\n",
      "[   INFO   ] MusicExtractor: Compute md5 audio hash, codec, length, and EBU 128 loudness\n"
     ]
    },
    {
     "name": "stdout",
     "output_type": "stream",
     "text": [
      "Extracting features from song_id: 898\n"
     ]
    },
    {
     "name": "stderr",
     "output_type": "stream",
     "text": [
      "[   INFO   ] MusicExtractor: Compute audio features\n",
      "[   INFO   ] MusicExtractor: Replay gain\n",
      "[   INFO   ] MusicExtractor: Compute audio features\n",
      "[   INFO   ] MusicExtractor: Replay gain\n",
      "[   INFO   ] MusicExtractor: Replay gain\n",
      "[   INFO   ] MusicExtractor: Compute audio features\n",
      "[   INFO   ] MusicExtractor: Compute audio features\n",
      "[   INFO   ] MusicExtractor: Compute aggregation\n",
      "[   INFO   ] All done\n",
      "[   INFO   ] MusicExtractor: Read metadata\n",
      "[   INFO   ] MusicExtractor: Compute md5 audio hash, codec, length, and EBU 128 loudness\n"
     ]
    },
    {
     "name": "stdout",
     "output_type": "stream",
     "text": [
      "Extracting features from song_id: 900\n"
     ]
    },
    {
     "name": "stderr",
     "output_type": "stream",
     "text": [
      "[   INFO   ] MusicExtractor: Compute aggregation\n",
      "[   INFO   ] All done\n",
      "[   INFO   ] MusicExtractor: Read metadata\n",
      "[   INFO   ] MusicExtractor: Compute md5 audio hash, codec, length, and EBU 128 loudness\n"
     ]
    },
    {
     "name": "stdout",
     "output_type": "stream",
     "text": [
      "Extracting features from song_id: 905\n"
     ]
    },
    {
     "name": "stderr",
     "output_type": "stream",
     "text": [
      "[   INFO   ] MusicExtractor: Replay gain\n",
      "[   INFO   ] MusicExtractor: Compute audio features\n",
      "[   INFO   ] MusicExtractor: Replay gain\n",
      "[   INFO   ] MusicExtractor: Compute aggregation\n",
      "[   INFO   ] All done\n",
      "[   INFO   ] MusicExtractor: Read metadata\n",
      "[   INFO   ] MusicExtractor: Compute md5 audio hash, codec, length, and EBU 128 loudness\n"
     ]
    },
    {
     "name": "stdout",
     "output_type": "stream",
     "text": [
      "Extracting features from song_id: 908\n"
     ]
    },
    {
     "name": "stderr",
     "output_type": "stream",
     "text": [
      "[   INFO   ] MusicExtractor: Compute aggregation\n",
      "[   INFO   ] MusicExtractor: Compute audio features\n",
      "[   INFO   ] All done\n",
      "[   INFO   ] MusicExtractor: Read metadata\n",
      "[   INFO   ] MusicExtractor: Compute md5 audio hash, codec, length, and EBU 128 loudness\n"
     ]
    },
    {
     "name": "stdout",
     "output_type": "stream",
     "text": [
      "Extracting features from song_id: 910\n"
     ]
    },
    {
     "name": "stderr",
     "output_type": "stream",
     "text": [
      "[   INFO   ] MusicExtractor: Compute aggregation\n",
      "[   INFO   ] All done\n"
     ]
    },
    {
     "name": "stdout",
     "output_type": "stream",
     "text": [
      "Extracting features from song_id: 911\n"
     ]
    },
    {
     "name": "stderr",
     "output_type": "stream",
     "text": [
      "[   INFO   ] MusicExtractor: Read metadata\n",
      "[   INFO   ] MusicExtractor: Compute md5 audio hash, codec, length, and EBU 128 loudness\n",
      "[   INFO   ] MusicExtractor: Replay gain\n",
      "[   INFO   ] MusicExtractor: Replay gain\n",
      "[   INFO   ] MusicExtractor: Compute audio features\n",
      "[   INFO   ] MusicExtractor: Compute audio features\n",
      "[   INFO   ] MusicExtractor: Replay gain\n",
      "[   INFO   ] MusicExtractor: Compute audio features\n",
      "[   INFO   ] MusicExtractor: Compute aggregation\n",
      "[   INFO   ] All done\n",
      "[   INFO   ] MusicExtractor: Read metadata\n",
      "[   INFO   ] MusicExtractor: Compute md5 audio hash, codec, length, and EBU 128 loudness\n"
     ]
    },
    {
     "name": "stdout",
     "output_type": "stream",
     "text": [
      "Extracting features from song_id: 912\n"
     ]
    },
    {
     "name": "stderr",
     "output_type": "stream",
     "text": [
      "[   INFO   ] MusicExtractor: Replay gain\n",
      "[   INFO   ] MusicExtractor: Compute audio features\n",
      "[   INFO   ] MusicExtractor: Compute aggregation\n",
      "[   INFO   ] All done\n",
      "[   INFO   ] MusicExtractor: Read metadata\n",
      "[   INFO   ] MusicExtractor: Compute md5 audio hash, codec, length, and EBU 128 loudness\n",
      "[   INFO   ] MusicExtractor: Compute aggregation\n"
     ]
    },
    {
     "name": "stdout",
     "output_type": "stream",
     "text": [
      "Extracting features from song_id: 914\n"
     ]
    },
    {
     "name": "stderr",
     "output_type": "stream",
     "text": [
      "[   INFO   ] All done\n",
      "[   INFO   ] MusicExtractor: Read metadata\n",
      "[   INFO   ] MusicExtractor: Compute md5 audio hash, codec, length, and EBU 128 loudness\n"
     ]
    },
    {
     "name": "stdout",
     "output_type": "stream",
     "text": [
      "Extracting features from song_id: 915\n"
     ]
    },
    {
     "name": "stderr",
     "output_type": "stream",
     "text": [
      "[   INFO   ] MusicExtractor: Compute aggregation\n",
      "[   INFO   ] All done\n",
      "[   INFO   ] MusicExtractor: Read metadata\n",
      "[   INFO   ] MusicExtractor: Compute md5 audio hash, codec, length, and EBU 128 loudness\n"
     ]
    },
    {
     "name": "stdout",
     "output_type": "stream",
     "text": [
      "Extracting features from song_id: 916\n"
     ]
    },
    {
     "name": "stderr",
     "output_type": "stream",
     "text": [
      "[   INFO   ] MusicExtractor: Compute aggregation\n",
      "[   INFO   ] All done\n",
      "[   INFO   ] MusicExtractor: Read metadata\n",
      "[   INFO   ] MusicExtractor: Compute md5 audio hash, codec, length, and EBU 128 loudness\n"
     ]
    },
    {
     "name": "stdout",
     "output_type": "stream",
     "text": [
      "Extracting features from song_id: 917\n"
     ]
    },
    {
     "name": "stderr",
     "output_type": "stream",
     "text": [
      "[   INFO   ] MusicExtractor: Replay gain\n",
      "[   INFO   ] MusicExtractor: Compute audio features\n",
      "[   INFO   ] MusicExtractor: Replay gain\n",
      "[   INFO   ] MusicExtractor: Replay gain\n",
      "[   INFO   ] MusicExtractor: Compute audio features\n",
      "[   INFO   ] MusicExtractor: Compute audio features\n",
      "[   INFO   ] MusicExtractor: Replay gain\n",
      "[   INFO   ] MusicExtractor: Compute audio features\n",
      "[   INFO   ] MusicExtractor: Compute aggregation\n",
      "[   INFO   ] All done\n"
     ]
    },
    {
     "name": "stdout",
     "output_type": "stream",
     "text": [
      "Extracting features from song_id: 920\n"
     ]
    },
    {
     "name": "stderr",
     "output_type": "stream",
     "text": [
      "[   INFO   ] MusicExtractor: Read metadata\n",
      "[   INFO   ] MusicExtractor: Compute md5 audio hash, codec, length, and EBU 128 loudness\n",
      "[   INFO   ] MusicExtractor: Compute aggregation\n",
      "[   INFO   ] All done\n",
      "[   INFO   ] MusicExtractor: Read metadata\n",
      "[   INFO   ] MusicExtractor: Compute md5 audio hash, codec, length, and EBU 128 loudness\n"
     ]
    },
    {
     "name": "stdout",
     "output_type": "stream",
     "text": [
      "Extracting features from song_id: 923\n"
     ]
    },
    {
     "name": "stderr",
     "output_type": "stream",
     "text": [
      "[   INFO   ] MusicExtractor: Replay gain\n",
      "[   INFO   ] MusicExtractor: Compute aggregation\n",
      "[   INFO   ] All done\n",
      "[   INFO   ] MusicExtractor: Read metadata\n",
      "[   INFO   ] MusicExtractor: Compute md5 audio hash, codec, length, and EBU 128 loudness\n",
      "[   INFO   ] MusicExtractor: Compute audio features\n"
     ]
    },
    {
     "name": "stdout",
     "output_type": "stream",
     "text": [
      "Extracting features from song_id: 924\n"
     ]
    },
    {
     "name": "stderr",
     "output_type": "stream",
     "text": [
      "[   INFO   ] MusicExtractor: Replay gain\n",
      "[   INFO   ] MusicExtractor: Replay gain\n",
      "[   INFO   ] MusicExtractor: Compute audio features\n",
      "[   INFO   ] MusicExtractor: Compute audio features\n",
      "[   INFO   ] MusicExtractor: Compute aggregation\n",
      "[   INFO   ] All done\n",
      "[   INFO   ] MusicExtractor: Read metadata\n",
      "[   INFO   ] MusicExtractor: Compute md5 audio hash, codec, length, and EBU 128 loudness\n"
     ]
    },
    {
     "name": "stdout",
     "output_type": "stream",
     "text": [
      "Extracting features from song_id: 925\n"
     ]
    },
    {
     "name": "stderr",
     "output_type": "stream",
     "text": [
      "[   INFO   ] MusicExtractor: Compute aggregation\n",
      "[   INFO   ] All done\n",
      "[   INFO   ] MusicExtractor: Read metadata\n",
      "[   INFO   ] MusicExtractor: Compute md5 audio hash, codec, length, and EBU 128 loudness\n"
     ]
    },
    {
     "name": "stdout",
     "output_type": "stream",
     "text": [
      "Extracting features from song_id: 934\n"
     ]
    },
    {
     "name": "stderr",
     "output_type": "stream",
     "text": [
      "[   INFO   ] MusicExtractor: Replay gain\n",
      "[   INFO   ] MusicExtractor: Replay gain\n",
      "[   INFO   ] MusicExtractor: Compute aggregation\n",
      "[   INFO   ] MusicExtractor: Compute audio features\n",
      "[   INFO   ] All done\n",
      "[   INFO   ] MusicExtractor: Compute audio features\n",
      "[   INFO   ] MusicExtractor: Read metadata\n",
      "[   INFO   ] MusicExtractor: Compute md5 audio hash, codec, length, and EBU 128 loudness\n"
     ]
    },
    {
     "name": "stdout",
     "output_type": "stream",
     "text": [
      "Extracting features from song_id: 936\n"
     ]
    },
    {
     "name": "stderr",
     "output_type": "stream",
     "text": [
      "[   INFO   ] MusicExtractor: Compute aggregation\n",
      "[   INFO   ] All done\n",
      "[   INFO   ] MusicExtractor: Read metadata\n",
      "[   INFO   ] MusicExtractor: Compute md5 audio hash, codec, length, and EBU 128 loudness\n"
     ]
    },
    {
     "name": "stdout",
     "output_type": "stream",
     "text": [
      "Extracting features from song_id: 937\n"
     ]
    },
    {
     "name": "stderr",
     "output_type": "stream",
     "text": [
      "[   INFO   ] MusicExtractor: Replay gain\n",
      "[   INFO   ] MusicExtractor: Compute audio features\n",
      "[   INFO   ] MusicExtractor: Compute aggregation\n",
      "[   INFO   ] All done\n"
     ]
    },
    {
     "name": "stdout",
     "output_type": "stream",
     "text": [
      "Extracting features from song_id: 941\n"
     ]
    },
    {
     "name": "stderr",
     "output_type": "stream",
     "text": [
      "[   INFO   ] MusicExtractor: Read metadata\n",
      "[   INFO   ] MusicExtractor: Compute md5 audio hash, codec, length, and EBU 128 loudness\n",
      "[   INFO   ] MusicExtractor: Replay gain\n",
      "[   INFO   ] MusicExtractor: Compute aggregation\n",
      "[   INFO   ] All done\n",
      "[   INFO   ] MusicExtractor: Read metadata\n",
      "[   INFO   ] MusicExtractor: Compute md5 audio hash, codec, length, and EBU 128 loudness\n"
     ]
    },
    {
     "name": "stdout",
     "output_type": "stream",
     "text": [
      "Extracting features from song_id: 945\n"
     ]
    },
    {
     "name": "stderr",
     "output_type": "stream",
     "text": [
      "[   INFO   ] MusicExtractor: Replay gain\n",
      "[   INFO   ] MusicExtractor: Compute audio features\n",
      "[   INFO   ] MusicExtractor: Compute audio features\n",
      "[   INFO   ] MusicExtractor: Compute aggregation\n",
      "[   INFO   ] All done\n"
     ]
    },
    {
     "name": "stdout",
     "output_type": "stream",
     "text": [
      "Extracting features from song_id: 946\n"
     ]
    },
    {
     "name": "stderr",
     "output_type": "stream",
     "text": [
      "[   INFO   ] MusicExtractor: Read metadata\n",
      "[   INFO   ] MusicExtractor: Compute md5 audio hash, codec, length, and EBU 128 loudness\n",
      "[   INFO   ] MusicExtractor: Replay gain\n",
      "[   INFO   ] MusicExtractor: Compute aggregation\n",
      "[   INFO   ] All done\n",
      "[   INFO   ] MusicExtractor: Read metadata\n",
      "[   INFO   ] MusicExtractor: Compute md5 audio hash, codec, length, and EBU 128 loudness\n"
     ]
    },
    {
     "name": "stdout",
     "output_type": "stream",
     "text": [
      "Extracting features from song_id: 947\n"
     ]
    },
    {
     "name": "stderr",
     "output_type": "stream",
     "text": [
      "[   INFO   ] MusicExtractor: Compute audio features\n",
      "[   INFO   ] MusicExtractor: Replay gain\n",
      "[   INFO   ] MusicExtractor: Compute aggregation\n",
      "[   INFO   ] All done\n",
      "[   INFO   ] MusicExtractor: Read metadata\n",
      "[   INFO   ] MusicExtractor: Compute md5 audio hash, codec, length, and EBU 128 loudness\n"
     ]
    },
    {
     "name": "stdout",
     "output_type": "stream",
     "text": [
      "Extracting features from song_id: 951\n"
     ]
    },
    {
     "name": "stderr",
     "output_type": "stream",
     "text": [
      "[   INFO   ] MusicExtractor: Compute audio features\n",
      "[   INFO   ] MusicExtractor: Replay gain\n",
      "[   INFO   ] MusicExtractor: Compute aggregation\n",
      "[   INFO   ] All done\n",
      "[   INFO   ] MusicExtractor: Read metadata\n",
      "[   INFO   ] MusicExtractor: Compute md5 audio hash, codec, length, and EBU 128 loudness\n"
     ]
    },
    {
     "name": "stdout",
     "output_type": "stream",
     "text": [
      "Extracting features from song_id: 954\n"
     ]
    },
    {
     "name": "stderr",
     "output_type": "stream",
     "text": [
      "[   INFO   ] MusicExtractor: Compute audio features\n",
      "[   INFO   ] MusicExtractor: Compute aggregation\n",
      "[   INFO   ] All done\n"
     ]
    },
    {
     "name": "stdout",
     "output_type": "stream",
     "text": [
      "Extracting features from song_id: 955\n"
     ]
    },
    {
     "name": "stderr",
     "output_type": "stream",
     "text": [
      "[   INFO   ] MusicExtractor: Read metadata\n",
      "[   INFO   ] MusicExtractor: Compute md5 audio hash, codec, length, and EBU 128 loudness\n",
      "[   INFO   ] MusicExtractor: Replay gain\n",
      "[   INFO   ] MusicExtractor: Compute aggregation\n",
      "[   INFO   ] MusicExtractor: Compute audio features\n",
      "[   INFO   ] All done\n",
      "[   INFO   ] MusicExtractor: Read metadata\n",
      "[   INFO   ] MusicExtractor: Compute md5 audio hash, codec, length, and EBU 128 loudness\n"
     ]
    },
    {
     "name": "stdout",
     "output_type": "stream",
     "text": [
      "Extracting features from song_id: 956\n"
     ]
    },
    {
     "name": "stderr",
     "output_type": "stream",
     "text": [
      "[   INFO   ] MusicExtractor: Replay gain\n",
      "[   INFO   ] MusicExtractor: Replay gain\n",
      "[   INFO   ] MusicExtractor: Compute audio features\n",
      "[   INFO   ] MusicExtractor: Compute audio features\n",
      "[   INFO   ] MusicExtractor: Compute aggregation\n",
      "[   INFO   ] All done\n",
      "[   INFO   ] MusicExtractor: Read metadata\n",
      "[   INFO   ] MusicExtractor: Compute md5 audio hash, codec, length, and EBU 128 loudness\n"
     ]
    },
    {
     "name": "stdout",
     "output_type": "stream",
     "text": [
      "Extracting features from song_id: 957\n"
     ]
    },
    {
     "name": "stderr",
     "output_type": "stream",
     "text": [
      "[   INFO   ] MusicExtractor: Replay gain\n",
      "[   INFO   ] MusicExtractor: Compute audio features\n",
      "[   INFO   ] MusicExtractor: Compute aggregation\n",
      "[   INFO   ] All done\n",
      "[   INFO   ] MusicExtractor: Read metadata\n",
      "[   INFO   ] MusicExtractor: Compute md5 audio hash, codec, length, and EBU 128 loudness\n"
     ]
    },
    {
     "name": "stdout",
     "output_type": "stream",
     "text": [
      "Extracting features from song_id: 962\n"
     ]
    },
    {
     "name": "stderr",
     "output_type": "stream",
     "text": [
      "[   INFO   ] MusicExtractor: Replay gain\n",
      "[   INFO   ] MusicExtractor: Compute audio features\n",
      "[   INFO   ] MusicExtractor: Compute aggregation\n",
      "[   INFO   ] All done\n",
      "[   INFO   ] MusicExtractor: Read metadata\n",
      "[   INFO   ] MusicExtractor: Compute md5 audio hash, codec, length, and EBU 128 loudness\n"
     ]
    },
    {
     "name": "stdout",
     "output_type": "stream",
     "text": [
      "Extracting features from song_id: 965\n"
     ]
    },
    {
     "name": "stderr",
     "output_type": "stream",
     "text": [
      "[   INFO   ] MusicExtractor: Replay gain\n",
      "[   INFO   ] MusicExtractor: Compute aggregation\n",
      "[   INFO   ] MusicExtractor: Compute audio features\n",
      "[   INFO   ] All done\n",
      "[   INFO   ] MusicExtractor: Read metadata\n",
      "[   INFO   ] MusicExtractor: Compute md5 audio hash, codec, length, and EBU 128 loudness\n"
     ]
    },
    {
     "name": "stdout",
     "output_type": "stream",
     "text": [
      "Extracting features from song_id: 972\n"
     ]
    },
    {
     "name": "stderr",
     "output_type": "stream",
     "text": [
      "[   INFO   ] MusicExtractor: Compute aggregation\n",
      "[   INFO   ] All done\n",
      "[   INFO   ] MusicExtractor: Read metadata\n",
      "[   INFO   ] MusicExtractor: Compute md5 audio hash, codec, length, and EBU 128 loudness\n"
     ]
    },
    {
     "name": "stdout",
     "output_type": "stream",
     "text": [
      "Extracting features from song_id: 974\n"
     ]
    },
    {
     "name": "stderr",
     "output_type": "stream",
     "text": [
      "[   INFO   ] MusicExtractor: Compute aggregation\n",
      "[   INFO   ] All done\n"
     ]
    },
    {
     "name": "stdout",
     "output_type": "stream",
     "text": [
      "Extracting features from song_id: 975\n"
     ]
    },
    {
     "name": "stderr",
     "output_type": "stream",
     "text": [
      "[   INFO   ] MusicExtractor: Read metadata\n",
      "[   INFO   ] MusicExtractor: Compute md5 audio hash, codec, length, and EBU 128 loudness\n",
      "[   INFO   ] MusicExtractor: Replay gain\n",
      "[   INFO   ] MusicExtractor: Compute audio features\n",
      "[   INFO   ] MusicExtractor: Replay gain\n",
      "[   INFO   ] MusicExtractor: Replay gain\n",
      "[   INFO   ] MusicExtractor: Replay gain\n",
      "[   INFO   ] MusicExtractor: Compute audio features\n",
      "[   INFO   ] MusicExtractor: Compute aggregation\n",
      "[   INFO   ] All done\n",
      "[   INFO   ] MusicExtractor: Read metadata\n",
      "[   INFO   ] MusicExtractor: Compute md5 audio hash, codec, length, and EBU 128 loudness\n"
     ]
    },
    {
     "name": "stdout",
     "output_type": "stream",
     "text": [
      "Extracting features from song_id: 977\n"
     ]
    },
    {
     "name": "stderr",
     "output_type": "stream",
     "text": [
      "[   INFO   ] MusicExtractor: Compute audio features\n",
      "[   INFO   ] MusicExtractor: Replay gain\n",
      "[   INFO   ] MusicExtractor: Compute audio features\n",
      "[   INFO   ] MusicExtractor: Compute aggregation\n",
      "[   INFO   ] All done\n",
      "[   INFO   ] MusicExtractor: Read metadata\n",
      "[   INFO   ] MusicExtractor: Compute md5 audio hash, codec, length, and EBU 128 loudness\n"
     ]
    },
    {
     "name": "stdout",
     "output_type": "stream",
     "text": [
      "Extracting features from song_id: 984\n"
     ]
    },
    {
     "name": "stderr",
     "output_type": "stream",
     "text": [
      "[   INFO   ] MusicExtractor: Replay gain\n",
      "[   INFO   ] MusicExtractor: Compute audio features\n",
      "[   INFO   ] MusicExtractor: Compute audio features\n",
      "[   INFO   ] MusicExtractor: Compute aggregation\n",
      "[   INFO   ] All done\n",
      "[   INFO   ] MusicExtractor: Read metadata\n",
      "[   INFO   ] MusicExtractor: Compute md5 audio hash, codec, length, and EBU 128 loudness\n"
     ]
    },
    {
     "name": "stdout",
     "output_type": "stream",
     "text": [
      "Extracting features from song_id: 987\n"
     ]
    },
    {
     "name": "stderr",
     "output_type": "stream",
     "text": [
      "[   INFO   ] MusicExtractor: Compute aggregation\n",
      "[   INFO   ] All done\n"
     ]
    },
    {
     "name": "stdout",
     "output_type": "stream",
     "text": [
      "Extracting features from song_id: 994\n"
     ]
    },
    {
     "name": "stderr",
     "output_type": "stream",
     "text": [
      "[   INFO   ] MusicExtractor: Read metadata\n",
      "[   INFO   ] MusicExtractor: Compute md5 audio hash, codec, length, and EBU 128 loudness\n",
      "[   INFO   ] MusicExtractor: Replay gain\n",
      "[   INFO   ] MusicExtractor: Compute aggregation\n",
      "[   INFO   ] All done\n",
      "/Library/Frameworks/Python.framework/Versions/3.11/lib/python3.11/site-packages/joblib/externals/loky/process_executor.py:752: UserWarning: A worker stopped while some jobs were given to the executor. This can be caused by a too short worker timeout or by a memory leak.\n",
      "  warnings.warn(\n",
      "[   INFO   ] MusicExtractor: Compute audio features\n",
      "[   INFO   ] MusicExtractor: Read metadata\n",
      "[   INFO   ] MusicExtractor: Compute md5 audio hash, codec, length, and EBU 128 loudness\n"
     ]
    },
    {
     "name": "stdout",
     "output_type": "stream",
     "text": [
      "Extracting features from song_id: 995\n"
     ]
    },
    {
     "name": "stderr",
     "output_type": "stream",
     "text": [
      "[   INFO   ] MusicExtractor: Replay gain\n",
      "[   INFO   ] MusicExtractor: Replay gain\n",
      "[   INFO   ] MusicExtractor: Compute audio features\n",
      "[   INFO   ] MusicExtractor: Compute aggregation\n",
      "[   INFO   ] All done\n",
      "[   INFO   ] MusicExtractor: Read metadata\n",
      "[   INFO   ] MusicExtractor: Compute md5 audio hash, codec, length, and EBU 128 loudness\n"
     ]
    },
    {
     "name": "stdout",
     "output_type": "stream",
     "text": [
      "Extracting features from song_id: 996\n"
     ]
    },
    {
     "name": "stderr",
     "output_type": "stream",
     "text": [
      "[   INFO   ] MusicExtractor: Replay gain\n",
      "[   INFO   ] MusicExtractor: Compute audio features\n",
      "[   INFO   ] MusicExtractor: Compute audio features\n",
      "[   INFO   ] MusicExtractor: Compute aggregation\n",
      "[   INFO   ] All done\n",
      "[   INFO   ] MusicExtractor: Compute aggregation\n",
      "[   INFO   ] All done\n",
      "[   INFO   ] MusicExtractor: Compute aggregation\n",
      "[   INFO   ] All done\n",
      "[   INFO   ] MusicExtractor: Compute aggregation\n",
      "[   INFO   ] All done\n"
     ]
    },
    {
     "data": {
      "text/html": [
       "<div>\n",
       "<style scoped>\n",
       "    .dataframe tbody tr th:only-of-type {\n",
       "        vertical-align: middle;\n",
       "    }\n",
       "\n",
       "    .dataframe tbody tr th {\n",
       "        vertical-align: top;\n",
       "    }\n",
       "\n",
       "    .dataframe thead th {\n",
       "        text-align: right;\n",
       "    }\n",
       "</style>\n",
       "<table border=\"1\" class=\"dataframe\">\n",
       "  <thead>\n",
       "    <tr style=\"text-align: right;\">\n",
       "      <th></th>\n",
       "      <th>song_id</th>\n",
       "      <th>lowlevel.average_loudness</th>\n",
       "      <th>lowlevel.barkbands_crest.dmean</th>\n",
       "      <th>lowlevel.barkbands_crest.dmean2</th>\n",
       "      <th>lowlevel.barkbands_crest.dvar</th>\n",
       "      <th>lowlevel.barkbands_crest.dvar2</th>\n",
       "      <th>lowlevel.barkbands_crest.max</th>\n",
       "      <th>lowlevel.barkbands_crest.mean</th>\n",
       "      <th>lowlevel.barkbands_crest.median</th>\n",
       "      <th>lowlevel.barkbands_crest.min</th>\n",
       "      <th>...</th>\n",
       "      <th>metadata.version.essentia_git_sha</th>\n",
       "      <th>metadata.version.extractor</th>\n",
       "      <th>tonal.chords_key</th>\n",
       "      <th>tonal.chords_scale</th>\n",
       "      <th>tonal.key_edma.key</th>\n",
       "      <th>tonal.key_edma.scale</th>\n",
       "      <th>tonal.key_krumhansl.key</th>\n",
       "      <th>tonal.key_krumhansl.scale</th>\n",
       "      <th>tonal.key_temperley.key</th>\n",
       "      <th>tonal.key_temperley.scale</th>\n",
       "    </tr>\n",
       "  </thead>\n",
       "  <tbody>\n",
       "    <tr>\n",
       "      <th>0</th>\n",
       "      <td>5</td>\n",
       "      <td>0.866742</td>\n",
       "      <td>2.047871</td>\n",
       "      <td>3.431988</td>\n",
       "      <td>3.737697</td>\n",
       "      <td>9.713431</td>\n",
       "      <td>24.862337</td>\n",
       "      <td>6.304687</td>\n",
       "      <td>5.533584</td>\n",
       "      <td>1.790100</td>\n",
       "      <td>...</td>\n",
       "      <td>v2.1_beta5-1110-g77a6a954-dirty</td>\n",
       "      <td>music 2.0</td>\n",
       "      <td>C</td>\n",
       "      <td>minor</td>\n",
       "      <td>C</td>\n",
       "      <td>minor</td>\n",
       "      <td>C</td>\n",
       "      <td>minor</td>\n",
       "      <td>C</td>\n",
       "      <td>minor</td>\n",
       "    </tr>\n",
       "    <tr>\n",
       "      <th>1</th>\n",
       "      <td>6</td>\n",
       "      <td>0.742814</td>\n",
       "      <td>2.151706</td>\n",
       "      <td>3.324830</td>\n",
       "      <td>4.523116</td>\n",
       "      <td>10.530580</td>\n",
       "      <td>25.786722</td>\n",
       "      <td>11.422237</td>\n",
       "      <td>10.706196</td>\n",
       "      <td>2.638440</td>\n",
       "      <td>...</td>\n",
       "      <td>v2.1_beta5-1110-g77a6a954-dirty</td>\n",
       "      <td>music 2.0</td>\n",
       "      <td>F</td>\n",
       "      <td>major</td>\n",
       "      <td>F</td>\n",
       "      <td>major</td>\n",
       "      <td>F</td>\n",
       "      <td>major</td>\n",
       "      <td>F</td>\n",
       "      <td>major</td>\n",
       "    </tr>\n",
       "    <tr>\n",
       "      <th>2</th>\n",
       "      <td>8</td>\n",
       "      <td>0.945075</td>\n",
       "      <td>3.690961</td>\n",
       "      <td>6.139451</td>\n",
       "      <td>10.870970</td>\n",
       "      <td>28.432821</td>\n",
       "      <td>26.040422</td>\n",
       "      <td>12.175276</td>\n",
       "      <td>11.428209</td>\n",
       "      <td>2.345371</td>\n",
       "      <td>...</td>\n",
       "      <td>v2.1_beta5-1110-g77a6a954-dirty</td>\n",
       "      <td>music 2.0</td>\n",
       "      <td>B</td>\n",
       "      <td>major</td>\n",
       "      <td>E</td>\n",
       "      <td>major</td>\n",
       "      <td>E</td>\n",
       "      <td>major</td>\n",
       "      <td>E</td>\n",
       "      <td>major</td>\n",
       "    </tr>\n",
       "    <tr>\n",
       "      <th>3</th>\n",
       "      <td>9</td>\n",
       "      <td>0.870921</td>\n",
       "      <td>2.588953</td>\n",
       "      <td>4.218352</td>\n",
       "      <td>5.130099</td>\n",
       "      <td>12.853377</td>\n",
       "      <td>25.112801</td>\n",
       "      <td>10.130250</td>\n",
       "      <td>9.337840</td>\n",
       "      <td>2.582426</td>\n",
       "      <td>...</td>\n",
       "      <td>v2.1_beta5-1110-g77a6a954-dirty</td>\n",
       "      <td>music 2.0</td>\n",
       "      <td>C#</td>\n",
       "      <td>minor</td>\n",
       "      <td>C#</td>\n",
       "      <td>minor</td>\n",
       "      <td>C#</td>\n",
       "      <td>minor</td>\n",
       "      <td>C#</td>\n",
       "      <td>minor</td>\n",
       "    </tr>\n",
       "    <tr>\n",
       "      <th>4</th>\n",
       "      <td>13</td>\n",
       "      <td>0.790801</td>\n",
       "      <td>3.304935</td>\n",
       "      <td>5.459727</td>\n",
       "      <td>8.502919</td>\n",
       "      <td>21.985130</td>\n",
       "      <td>26.193033</td>\n",
       "      <td>11.115984</td>\n",
       "      <td>10.625409</td>\n",
       "      <td>2.350422</td>\n",
       "      <td>...</td>\n",
       "      <td>v2.1_beta5-1110-g77a6a954-dirty</td>\n",
       "      <td>music 2.0</td>\n",
       "      <td>Bb</td>\n",
       "      <td>major</td>\n",
       "      <td>G</td>\n",
       "      <td>minor</td>\n",
       "      <td>D</td>\n",
       "      <td>minor</td>\n",
       "      <td>D</td>\n",
       "      <td>minor</td>\n",
       "    </tr>\n",
       "    <tr>\n",
       "      <th>...</th>\n",
       "      <td>...</td>\n",
       "      <td>...</td>\n",
       "      <td>...</td>\n",
       "      <td>...</td>\n",
       "      <td>...</td>\n",
       "      <td>...</td>\n",
       "      <td>...</td>\n",
       "      <td>...</td>\n",
       "      <td>...</td>\n",
       "      <td>...</td>\n",
       "      <td>...</td>\n",
       "      <td>...</td>\n",
       "      <td>...</td>\n",
       "      <td>...</td>\n",
       "      <td>...</td>\n",
       "      <td>...</td>\n",
       "      <td>...</td>\n",
       "      <td>...</td>\n",
       "      <td>...</td>\n",
       "      <td>...</td>\n",
       "      <td>...</td>\n",
       "    </tr>\n",
       "    <tr>\n",
       "      <th>291</th>\n",
       "      <td>984</td>\n",
       "      <td>0.902513</td>\n",
       "      <td>3.411162</td>\n",
       "      <td>5.342868</td>\n",
       "      <td>9.823985</td>\n",
       "      <td>21.329134</td>\n",
       "      <td>26.870605</td>\n",
       "      <td>11.863085</td>\n",
       "      <td>11.409890</td>\n",
       "      <td>2.426779</td>\n",
       "      <td>...</td>\n",
       "      <td>v2.1_beta5-1110-g77a6a954-dirty</td>\n",
       "      <td>music 2.0</td>\n",
       "      <td>F#</td>\n",
       "      <td>minor</td>\n",
       "      <td>A</td>\n",
       "      <td>major</td>\n",
       "      <td>E</td>\n",
       "      <td>major</td>\n",
       "      <td>E</td>\n",
       "      <td>major</td>\n",
       "    </tr>\n",
       "    <tr>\n",
       "      <th>292</th>\n",
       "      <td>987</td>\n",
       "      <td>0.821656</td>\n",
       "      <td>2.406164</td>\n",
       "      <td>3.982440</td>\n",
       "      <td>4.958932</td>\n",
       "      <td>13.188834</td>\n",
       "      <td>25.129997</td>\n",
       "      <td>8.791906</td>\n",
       "      <td>7.983839</td>\n",
       "      <td>2.127783</td>\n",
       "      <td>...</td>\n",
       "      <td>v2.1_beta5-1110-g77a6a954-dirty</td>\n",
       "      <td>music 2.0</td>\n",
       "      <td>F</td>\n",
       "      <td>minor</td>\n",
       "      <td>F</td>\n",
       "      <td>major</td>\n",
       "      <td>F</td>\n",
       "      <td>major</td>\n",
       "      <td>F</td>\n",
       "      <td>major</td>\n",
       "    </tr>\n",
       "    <tr>\n",
       "      <th>293</th>\n",
       "      <td>994</td>\n",
       "      <td>0.927615</td>\n",
       "      <td>2.210425</td>\n",
       "      <td>3.649146</td>\n",
       "      <td>4.289524</td>\n",
       "      <td>11.342979</td>\n",
       "      <td>24.721474</td>\n",
       "      <td>9.564983</td>\n",
       "      <td>9.040580</td>\n",
       "      <td>2.507910</td>\n",
       "      <td>...</td>\n",
       "      <td>v2.1_beta5-1110-g77a6a954-dirty</td>\n",
       "      <td>music 2.0</td>\n",
       "      <td>C</td>\n",
       "      <td>major</td>\n",
       "      <td>C</td>\n",
       "      <td>major</td>\n",
       "      <td>C</td>\n",
       "      <td>major</td>\n",
       "      <td>C</td>\n",
       "      <td>major</td>\n",
       "    </tr>\n",
       "    <tr>\n",
       "      <th>294</th>\n",
       "      <td>995</td>\n",
       "      <td>0.025761</td>\n",
       "      <td>2.793751</td>\n",
       "      <td>4.767518</td>\n",
       "      <td>6.234979</td>\n",
       "      <td>18.125031</td>\n",
       "      <td>26.393879</td>\n",
       "      <td>12.167347</td>\n",
       "      <td>11.693049</td>\n",
       "      <td>3.160116</td>\n",
       "      <td>...</td>\n",
       "      <td>v2.1_beta5-1110-g77a6a954-dirty</td>\n",
       "      <td>music 2.0</td>\n",
       "      <td>B</td>\n",
       "      <td>minor</td>\n",
       "      <td>E</td>\n",
       "      <td>minor</td>\n",
       "      <td>E</td>\n",
       "      <td>minor</td>\n",
       "      <td>E</td>\n",
       "      <td>minor</td>\n",
       "    </tr>\n",
       "    <tr>\n",
       "      <th>295</th>\n",
       "      <td>996</td>\n",
       "      <td>0.397415</td>\n",
       "      <td>2.739361</td>\n",
       "      <td>4.631409</td>\n",
       "      <td>5.844263</td>\n",
       "      <td>16.122713</td>\n",
       "      <td>26.510490</td>\n",
       "      <td>12.582366</td>\n",
       "      <td>12.024568</td>\n",
       "      <td>3.821863</td>\n",
       "      <td>...</td>\n",
       "      <td>v2.1_beta5-1110-g77a6a954-dirty</td>\n",
       "      <td>music 2.0</td>\n",
       "      <td>E</td>\n",
       "      <td>major</td>\n",
       "      <td>A</td>\n",
       "      <td>major</td>\n",
       "      <td>A</td>\n",
       "      <td>major</td>\n",
       "      <td>A</td>\n",
       "      <td>major</td>\n",
       "    </tr>\n",
       "  </tbody>\n",
       "</table>\n",
       "<p>296 rows × 578 columns</p>\n",
       "</div>"
      ],
      "text/plain": [
       "     song_id  lowlevel.average_loudness  lowlevel.barkbands_crest.dmean  \\\n",
       "0          5                   0.866742                        2.047871   \n",
       "1          6                   0.742814                        2.151706   \n",
       "2          8                   0.945075                        3.690961   \n",
       "3          9                   0.870921                        2.588953   \n",
       "4         13                   0.790801                        3.304935   \n",
       "..       ...                        ...                             ...   \n",
       "291      984                   0.902513                        3.411162   \n",
       "292      987                   0.821656                        2.406164   \n",
       "293      994                   0.927615                        2.210425   \n",
       "294      995                   0.025761                        2.793751   \n",
       "295      996                   0.397415                        2.739361   \n",
       "\n",
       "     lowlevel.barkbands_crest.dmean2  lowlevel.barkbands_crest.dvar  \\\n",
       "0                           3.431988                       3.737697   \n",
       "1                           3.324830                       4.523116   \n",
       "2                           6.139451                      10.870970   \n",
       "3                           4.218352                       5.130099   \n",
       "4                           5.459727                       8.502919   \n",
       "..                               ...                            ...   \n",
       "291                         5.342868                       9.823985   \n",
       "292                         3.982440                       4.958932   \n",
       "293                         3.649146                       4.289524   \n",
       "294                         4.767518                       6.234979   \n",
       "295                         4.631409                       5.844263   \n",
       "\n",
       "     lowlevel.barkbands_crest.dvar2  lowlevel.barkbands_crest.max  \\\n",
       "0                          9.713431                     24.862337   \n",
       "1                         10.530580                     25.786722   \n",
       "2                         28.432821                     26.040422   \n",
       "3                         12.853377                     25.112801   \n",
       "4                         21.985130                     26.193033   \n",
       "..                              ...                           ...   \n",
       "291                       21.329134                     26.870605   \n",
       "292                       13.188834                     25.129997   \n",
       "293                       11.342979                     24.721474   \n",
       "294                       18.125031                     26.393879   \n",
       "295                       16.122713                     26.510490   \n",
       "\n",
       "     lowlevel.barkbands_crest.mean  lowlevel.barkbands_crest.median  \\\n",
       "0                         6.304687                         5.533584   \n",
       "1                        11.422237                        10.706196   \n",
       "2                        12.175276                        11.428209   \n",
       "3                        10.130250                         9.337840   \n",
       "4                        11.115984                        10.625409   \n",
       "..                             ...                              ...   \n",
       "291                      11.863085                        11.409890   \n",
       "292                       8.791906                         7.983839   \n",
       "293                       9.564983                         9.040580   \n",
       "294                      12.167347                        11.693049   \n",
       "295                      12.582366                        12.024568   \n",
       "\n",
       "     lowlevel.barkbands_crest.min  ...  metadata.version.essentia_git_sha  \\\n",
       "0                        1.790100  ...    v2.1_beta5-1110-g77a6a954-dirty   \n",
       "1                        2.638440  ...    v2.1_beta5-1110-g77a6a954-dirty   \n",
       "2                        2.345371  ...    v2.1_beta5-1110-g77a6a954-dirty   \n",
       "3                        2.582426  ...    v2.1_beta5-1110-g77a6a954-dirty   \n",
       "4                        2.350422  ...    v2.1_beta5-1110-g77a6a954-dirty   \n",
       "..                            ...  ...                                ...   \n",
       "291                      2.426779  ...    v2.1_beta5-1110-g77a6a954-dirty   \n",
       "292                      2.127783  ...    v2.1_beta5-1110-g77a6a954-dirty   \n",
       "293                      2.507910  ...    v2.1_beta5-1110-g77a6a954-dirty   \n",
       "294                      3.160116  ...    v2.1_beta5-1110-g77a6a954-dirty   \n",
       "295                      3.821863  ...    v2.1_beta5-1110-g77a6a954-dirty   \n",
       "\n",
       "     metadata.version.extractor  tonal.chords_key  tonal.chords_scale  \\\n",
       "0                     music 2.0                 C               minor   \n",
       "1                     music 2.0                 F               major   \n",
       "2                     music 2.0                 B               major   \n",
       "3                     music 2.0                C#               minor   \n",
       "4                     music 2.0                Bb               major   \n",
       "..                          ...               ...                 ...   \n",
       "291                   music 2.0                F#               minor   \n",
       "292                   music 2.0                 F               minor   \n",
       "293                   music 2.0                 C               major   \n",
       "294                   music 2.0                 B               minor   \n",
       "295                   music 2.0                 E               major   \n",
       "\n",
       "     tonal.key_edma.key  tonal.key_edma.scale  tonal.key_krumhansl.key  \\\n",
       "0                     C                 minor                        C   \n",
       "1                     F                 major                        F   \n",
       "2                     E                 major                        E   \n",
       "3                    C#                 minor                       C#   \n",
       "4                     G                 minor                        D   \n",
       "..                  ...                   ...                      ...   \n",
       "291                   A                 major                        E   \n",
       "292                   F                 major                        F   \n",
       "293                   C                 major                        C   \n",
       "294                   E                 minor                        E   \n",
       "295                   A                 major                        A   \n",
       "\n",
       "     tonal.key_krumhansl.scale  tonal.key_temperley.key  \\\n",
       "0                        minor                        C   \n",
       "1                        major                        F   \n",
       "2                        major                        E   \n",
       "3                        minor                       C#   \n",
       "4                        minor                        D   \n",
       "..                         ...                      ...   \n",
       "291                      major                        E   \n",
       "292                      major                        F   \n",
       "293                      major                        C   \n",
       "294                      minor                        E   \n",
       "295                      major                        A   \n",
       "\n",
       "     tonal.key_temperley.scale  \n",
       "0                        minor  \n",
       "1                        major  \n",
       "2                        major  \n",
       "3                        minor  \n",
       "4                        minor  \n",
       "..                         ...  \n",
       "291                      major  \n",
       "292                      major  \n",
       "293                      major  \n",
       "294                      minor  \n",
       "295                      major  \n",
       "\n",
       "[296 rows x 578 columns]"
      ]
     },
     "execution_count": 22,
     "metadata": {},
     "output_type": "execute_result"
    }
   ],
   "source": [
    "# Parallelize feature extraction for all song IDs\n",
    "dfs = Parallel(n_jobs=4)(delayed(extract_features)(song_id) for song_id in song_ids)\n",
    "\n",
    "# Concatenate the extracted DataFrames\n",
    "df_essentia_all = pd.concat(dfs, ignore_index=True)\n",
    "\n",
    "# Add the 'song_id' column\n",
    "df_essentia_all.insert(0, 'song_id', song_ids)\n",
    "\n",
    "# Display the resulting DataFrame\n",
    "df_essentia_all"
   ]
  },
  {
   "cell_type": "markdown",
   "metadata": {},
   "source": [
    "Save the extracted features dataframe to .csv"
   ]
  },
  {
   "cell_type": "code",
   "execution_count": 23,
   "metadata": {},
   "outputs": [],
   "source": [
    "df_essentia_all.to_csv('../../data/SiTunes/processed/features/essentia_features.csv')"
   ]
  },
  {
   "cell_type": "markdown",
   "metadata": {},
   "source": [
    "### Import features .csv file"
   ]
  },
  {
   "cell_type": "code",
   "execution_count": 24,
   "metadata": {},
   "outputs": [
    {
     "data": {
      "text/html": [
       "<div>\n",
       "<style scoped>\n",
       "    .dataframe tbody tr th:only-of-type {\n",
       "        vertical-align: middle;\n",
       "    }\n",
       "\n",
       "    .dataframe tbody tr th {\n",
       "        vertical-align: top;\n",
       "    }\n",
       "\n",
       "    .dataframe thead th {\n",
       "        text-align: right;\n",
       "    }\n",
       "</style>\n",
       "<table border=\"1\" class=\"dataframe\">\n",
       "  <thead>\n",
       "    <tr style=\"text-align: right;\">\n",
       "      <th></th>\n",
       "      <th>song_id</th>\n",
       "      <th>lowlevel.average_loudness</th>\n",
       "      <th>lowlevel.barkbands_crest.dmean</th>\n",
       "      <th>lowlevel.barkbands_crest.dmean2</th>\n",
       "      <th>lowlevel.barkbands_crest.dvar</th>\n",
       "      <th>lowlevel.barkbands_crest.dvar2</th>\n",
       "      <th>lowlevel.barkbands_crest.max</th>\n",
       "      <th>lowlevel.barkbands_crest.mean</th>\n",
       "      <th>lowlevel.barkbands_crest.median</th>\n",
       "      <th>lowlevel.barkbands_crest.min</th>\n",
       "      <th>...</th>\n",
       "      <th>metadata.version.essentia_git_sha</th>\n",
       "      <th>metadata.version.extractor</th>\n",
       "      <th>tonal.chords_key</th>\n",
       "      <th>tonal.chords_scale</th>\n",
       "      <th>tonal.key_edma.key</th>\n",
       "      <th>tonal.key_edma.scale</th>\n",
       "      <th>tonal.key_krumhansl.key</th>\n",
       "      <th>tonal.key_krumhansl.scale</th>\n",
       "      <th>tonal.key_temperley.key</th>\n",
       "      <th>tonal.key_temperley.scale</th>\n",
       "    </tr>\n",
       "  </thead>\n",
       "  <tbody>\n",
       "    <tr>\n",
       "      <th>0</th>\n",
       "      <td>5</td>\n",
       "      <td>0.866742</td>\n",
       "      <td>2.047871</td>\n",
       "      <td>3.431988</td>\n",
       "      <td>3.737697</td>\n",
       "      <td>9.713431</td>\n",
       "      <td>24.862337</td>\n",
       "      <td>6.304687</td>\n",
       "      <td>5.533584</td>\n",
       "      <td>1.790100</td>\n",
       "      <td>...</td>\n",
       "      <td>v2.1_beta5-1110-g77a6a954-dirty</td>\n",
       "      <td>music 2.0</td>\n",
       "      <td>C</td>\n",
       "      <td>minor</td>\n",
       "      <td>C</td>\n",
       "      <td>minor</td>\n",
       "      <td>C</td>\n",
       "      <td>minor</td>\n",
       "      <td>C</td>\n",
       "      <td>minor</td>\n",
       "    </tr>\n",
       "    <tr>\n",
       "      <th>1</th>\n",
       "      <td>6</td>\n",
       "      <td>0.742814</td>\n",
       "      <td>2.151706</td>\n",
       "      <td>3.324830</td>\n",
       "      <td>4.523116</td>\n",
       "      <td>10.530580</td>\n",
       "      <td>25.786722</td>\n",
       "      <td>11.422237</td>\n",
       "      <td>10.706196</td>\n",
       "      <td>2.638440</td>\n",
       "      <td>...</td>\n",
       "      <td>v2.1_beta5-1110-g77a6a954-dirty</td>\n",
       "      <td>music 2.0</td>\n",
       "      <td>F</td>\n",
       "      <td>major</td>\n",
       "      <td>F</td>\n",
       "      <td>major</td>\n",
       "      <td>F</td>\n",
       "      <td>major</td>\n",
       "      <td>F</td>\n",
       "      <td>major</td>\n",
       "    </tr>\n",
       "    <tr>\n",
       "      <th>2</th>\n",
       "      <td>8</td>\n",
       "      <td>0.945075</td>\n",
       "      <td>3.690961</td>\n",
       "      <td>6.139451</td>\n",
       "      <td>10.870970</td>\n",
       "      <td>28.432821</td>\n",
       "      <td>26.040422</td>\n",
       "      <td>12.175276</td>\n",
       "      <td>11.428209</td>\n",
       "      <td>2.345371</td>\n",
       "      <td>...</td>\n",
       "      <td>v2.1_beta5-1110-g77a6a954-dirty</td>\n",
       "      <td>music 2.0</td>\n",
       "      <td>B</td>\n",
       "      <td>major</td>\n",
       "      <td>E</td>\n",
       "      <td>major</td>\n",
       "      <td>E</td>\n",
       "      <td>major</td>\n",
       "      <td>E</td>\n",
       "      <td>major</td>\n",
       "    </tr>\n",
       "    <tr>\n",
       "      <th>3</th>\n",
       "      <td>9</td>\n",
       "      <td>0.870921</td>\n",
       "      <td>2.588953</td>\n",
       "      <td>4.218352</td>\n",
       "      <td>5.130099</td>\n",
       "      <td>12.853377</td>\n",
       "      <td>25.112801</td>\n",
       "      <td>10.130250</td>\n",
       "      <td>9.337840</td>\n",
       "      <td>2.582426</td>\n",
       "      <td>...</td>\n",
       "      <td>v2.1_beta5-1110-g77a6a954-dirty</td>\n",
       "      <td>music 2.0</td>\n",
       "      <td>C#</td>\n",
       "      <td>minor</td>\n",
       "      <td>C#</td>\n",
       "      <td>minor</td>\n",
       "      <td>C#</td>\n",
       "      <td>minor</td>\n",
       "      <td>C#</td>\n",
       "      <td>minor</td>\n",
       "    </tr>\n",
       "    <tr>\n",
       "      <th>4</th>\n",
       "      <td>13</td>\n",
       "      <td>0.790801</td>\n",
       "      <td>3.304935</td>\n",
       "      <td>5.459727</td>\n",
       "      <td>8.502919</td>\n",
       "      <td>21.985130</td>\n",
       "      <td>26.193033</td>\n",
       "      <td>11.115984</td>\n",
       "      <td>10.625409</td>\n",
       "      <td>2.350422</td>\n",
       "      <td>...</td>\n",
       "      <td>v2.1_beta5-1110-g77a6a954-dirty</td>\n",
       "      <td>music 2.0</td>\n",
       "      <td>Bb</td>\n",
       "      <td>major</td>\n",
       "      <td>G</td>\n",
       "      <td>minor</td>\n",
       "      <td>D</td>\n",
       "      <td>minor</td>\n",
       "      <td>D</td>\n",
       "      <td>minor</td>\n",
       "    </tr>\n",
       "    <tr>\n",
       "      <th>...</th>\n",
       "      <td>...</td>\n",
       "      <td>...</td>\n",
       "      <td>...</td>\n",
       "      <td>...</td>\n",
       "      <td>...</td>\n",
       "      <td>...</td>\n",
       "      <td>...</td>\n",
       "      <td>...</td>\n",
       "      <td>...</td>\n",
       "      <td>...</td>\n",
       "      <td>...</td>\n",
       "      <td>...</td>\n",
       "      <td>...</td>\n",
       "      <td>...</td>\n",
       "      <td>...</td>\n",
       "      <td>...</td>\n",
       "      <td>...</td>\n",
       "      <td>...</td>\n",
       "      <td>...</td>\n",
       "      <td>...</td>\n",
       "      <td>...</td>\n",
       "    </tr>\n",
       "    <tr>\n",
       "      <th>291</th>\n",
       "      <td>984</td>\n",
       "      <td>0.902513</td>\n",
       "      <td>3.411162</td>\n",
       "      <td>5.342868</td>\n",
       "      <td>9.823985</td>\n",
       "      <td>21.329134</td>\n",
       "      <td>26.870605</td>\n",
       "      <td>11.863085</td>\n",
       "      <td>11.409890</td>\n",
       "      <td>2.426779</td>\n",
       "      <td>...</td>\n",
       "      <td>v2.1_beta5-1110-g77a6a954-dirty</td>\n",
       "      <td>music 2.0</td>\n",
       "      <td>F#</td>\n",
       "      <td>minor</td>\n",
       "      <td>A</td>\n",
       "      <td>major</td>\n",
       "      <td>E</td>\n",
       "      <td>major</td>\n",
       "      <td>E</td>\n",
       "      <td>major</td>\n",
       "    </tr>\n",
       "    <tr>\n",
       "      <th>292</th>\n",
       "      <td>987</td>\n",
       "      <td>0.821656</td>\n",
       "      <td>2.406164</td>\n",
       "      <td>3.982440</td>\n",
       "      <td>4.958932</td>\n",
       "      <td>13.188834</td>\n",
       "      <td>25.129997</td>\n",
       "      <td>8.791906</td>\n",
       "      <td>7.983839</td>\n",
       "      <td>2.127783</td>\n",
       "      <td>...</td>\n",
       "      <td>v2.1_beta5-1110-g77a6a954-dirty</td>\n",
       "      <td>music 2.0</td>\n",
       "      <td>F</td>\n",
       "      <td>minor</td>\n",
       "      <td>F</td>\n",
       "      <td>major</td>\n",
       "      <td>F</td>\n",
       "      <td>major</td>\n",
       "      <td>F</td>\n",
       "      <td>major</td>\n",
       "    </tr>\n",
       "    <tr>\n",
       "      <th>293</th>\n",
       "      <td>994</td>\n",
       "      <td>0.927615</td>\n",
       "      <td>2.210425</td>\n",
       "      <td>3.649146</td>\n",
       "      <td>4.289524</td>\n",
       "      <td>11.342979</td>\n",
       "      <td>24.721474</td>\n",
       "      <td>9.564983</td>\n",
       "      <td>9.040580</td>\n",
       "      <td>2.507910</td>\n",
       "      <td>...</td>\n",
       "      <td>v2.1_beta5-1110-g77a6a954-dirty</td>\n",
       "      <td>music 2.0</td>\n",
       "      <td>C</td>\n",
       "      <td>major</td>\n",
       "      <td>C</td>\n",
       "      <td>major</td>\n",
       "      <td>C</td>\n",
       "      <td>major</td>\n",
       "      <td>C</td>\n",
       "      <td>major</td>\n",
       "    </tr>\n",
       "    <tr>\n",
       "      <th>294</th>\n",
       "      <td>995</td>\n",
       "      <td>0.025761</td>\n",
       "      <td>2.793751</td>\n",
       "      <td>4.767518</td>\n",
       "      <td>6.234979</td>\n",
       "      <td>18.125031</td>\n",
       "      <td>26.393879</td>\n",
       "      <td>12.167347</td>\n",
       "      <td>11.693049</td>\n",
       "      <td>3.160116</td>\n",
       "      <td>...</td>\n",
       "      <td>v2.1_beta5-1110-g77a6a954-dirty</td>\n",
       "      <td>music 2.0</td>\n",
       "      <td>B</td>\n",
       "      <td>minor</td>\n",
       "      <td>E</td>\n",
       "      <td>minor</td>\n",
       "      <td>E</td>\n",
       "      <td>minor</td>\n",
       "      <td>E</td>\n",
       "      <td>minor</td>\n",
       "    </tr>\n",
       "    <tr>\n",
       "      <th>295</th>\n",
       "      <td>996</td>\n",
       "      <td>0.397415</td>\n",
       "      <td>2.739361</td>\n",
       "      <td>4.631409</td>\n",
       "      <td>5.844263</td>\n",
       "      <td>16.122713</td>\n",
       "      <td>26.510490</td>\n",
       "      <td>12.582366</td>\n",
       "      <td>12.024568</td>\n",
       "      <td>3.821863</td>\n",
       "      <td>...</td>\n",
       "      <td>v2.1_beta5-1110-g77a6a954-dirty</td>\n",
       "      <td>music 2.0</td>\n",
       "      <td>E</td>\n",
       "      <td>major</td>\n",
       "      <td>A</td>\n",
       "      <td>major</td>\n",
       "      <td>A</td>\n",
       "      <td>major</td>\n",
       "      <td>A</td>\n",
       "      <td>major</td>\n",
       "    </tr>\n",
       "  </tbody>\n",
       "</table>\n",
       "<p>296 rows × 578 columns</p>\n",
       "</div>"
      ],
      "text/plain": [
       "     song_id  lowlevel.average_loudness  lowlevel.barkbands_crest.dmean  \\\n",
       "0          5                   0.866742                        2.047871   \n",
       "1          6                   0.742814                        2.151706   \n",
       "2          8                   0.945075                        3.690961   \n",
       "3          9                   0.870921                        2.588953   \n",
       "4         13                   0.790801                        3.304935   \n",
       "..       ...                        ...                             ...   \n",
       "291      984                   0.902513                        3.411162   \n",
       "292      987                   0.821656                        2.406164   \n",
       "293      994                   0.927615                        2.210425   \n",
       "294      995                   0.025761                        2.793751   \n",
       "295      996                   0.397415                        2.739361   \n",
       "\n",
       "     lowlevel.barkbands_crest.dmean2  lowlevel.barkbands_crest.dvar  \\\n",
       "0                           3.431988                       3.737697   \n",
       "1                           3.324830                       4.523116   \n",
       "2                           6.139451                      10.870970   \n",
       "3                           4.218352                       5.130099   \n",
       "4                           5.459727                       8.502919   \n",
       "..                               ...                            ...   \n",
       "291                         5.342868                       9.823985   \n",
       "292                         3.982440                       4.958932   \n",
       "293                         3.649146                       4.289524   \n",
       "294                         4.767518                       6.234979   \n",
       "295                         4.631409                       5.844263   \n",
       "\n",
       "     lowlevel.barkbands_crest.dvar2  lowlevel.barkbands_crest.max  \\\n",
       "0                          9.713431                     24.862337   \n",
       "1                         10.530580                     25.786722   \n",
       "2                         28.432821                     26.040422   \n",
       "3                         12.853377                     25.112801   \n",
       "4                         21.985130                     26.193033   \n",
       "..                              ...                           ...   \n",
       "291                       21.329134                     26.870605   \n",
       "292                       13.188834                     25.129997   \n",
       "293                       11.342979                     24.721474   \n",
       "294                       18.125031                     26.393879   \n",
       "295                       16.122713                     26.510490   \n",
       "\n",
       "     lowlevel.barkbands_crest.mean  lowlevel.barkbands_crest.median  \\\n",
       "0                         6.304687                         5.533584   \n",
       "1                        11.422237                        10.706196   \n",
       "2                        12.175276                        11.428209   \n",
       "3                        10.130250                         9.337840   \n",
       "4                        11.115984                        10.625409   \n",
       "..                             ...                              ...   \n",
       "291                      11.863085                        11.409890   \n",
       "292                       8.791906                         7.983839   \n",
       "293                       9.564983                         9.040580   \n",
       "294                      12.167347                        11.693049   \n",
       "295                      12.582366                        12.024568   \n",
       "\n",
       "     lowlevel.barkbands_crest.min  ...  metadata.version.essentia_git_sha  \\\n",
       "0                        1.790100  ...    v2.1_beta5-1110-g77a6a954-dirty   \n",
       "1                        2.638440  ...    v2.1_beta5-1110-g77a6a954-dirty   \n",
       "2                        2.345371  ...    v2.1_beta5-1110-g77a6a954-dirty   \n",
       "3                        2.582426  ...    v2.1_beta5-1110-g77a6a954-dirty   \n",
       "4                        2.350422  ...    v2.1_beta5-1110-g77a6a954-dirty   \n",
       "..                            ...  ...                                ...   \n",
       "291                      2.426779  ...    v2.1_beta5-1110-g77a6a954-dirty   \n",
       "292                      2.127783  ...    v2.1_beta5-1110-g77a6a954-dirty   \n",
       "293                      2.507910  ...    v2.1_beta5-1110-g77a6a954-dirty   \n",
       "294                      3.160116  ...    v2.1_beta5-1110-g77a6a954-dirty   \n",
       "295                      3.821863  ...    v2.1_beta5-1110-g77a6a954-dirty   \n",
       "\n",
       "     metadata.version.extractor  tonal.chords_key  tonal.chords_scale  \\\n",
       "0                     music 2.0                 C               minor   \n",
       "1                     music 2.0                 F               major   \n",
       "2                     music 2.0                 B               major   \n",
       "3                     music 2.0                C#               minor   \n",
       "4                     music 2.0                Bb               major   \n",
       "..                          ...               ...                 ...   \n",
       "291                   music 2.0                F#               minor   \n",
       "292                   music 2.0                 F               minor   \n",
       "293                   music 2.0                 C               major   \n",
       "294                   music 2.0                 B               minor   \n",
       "295                   music 2.0                 E               major   \n",
       "\n",
       "     tonal.key_edma.key  tonal.key_edma.scale  tonal.key_krumhansl.key  \\\n",
       "0                     C                 minor                        C   \n",
       "1                     F                 major                        F   \n",
       "2                     E                 major                        E   \n",
       "3                    C#                 minor                       C#   \n",
       "4                     G                 minor                        D   \n",
       "..                  ...                   ...                      ...   \n",
       "291                   A                 major                        E   \n",
       "292                   F                 major                        F   \n",
       "293                   C                 major                        C   \n",
       "294                   E                 minor                        E   \n",
       "295                   A                 major                        A   \n",
       "\n",
       "     tonal.key_krumhansl.scale  tonal.key_temperley.key  \\\n",
       "0                        minor                        C   \n",
       "1                        major                        F   \n",
       "2                        major                        E   \n",
       "3                        minor                       C#   \n",
       "4                        minor                        D   \n",
       "..                         ...                      ...   \n",
       "291                      major                        E   \n",
       "292                      major                        F   \n",
       "293                      major                        C   \n",
       "294                      minor                        E   \n",
       "295                      major                        A   \n",
       "\n",
       "     tonal.key_temperley.scale  \n",
       "0                        minor  \n",
       "1                        major  \n",
       "2                        major  \n",
       "3                        minor  \n",
       "4                        minor  \n",
       "..                         ...  \n",
       "291                      major  \n",
       "292                      major  \n",
       "293                      major  \n",
       "294                      minor  \n",
       "295                      major  \n",
       "\n",
       "[296 rows x 578 columns]"
      ]
     },
     "metadata": {},
     "output_type": "display_data"
    },
    {
     "name": "stdout",
     "output_type": "stream",
     "text": [
      "(296, 578)\n"
     ]
    }
   ],
   "source": [
    "df_essentia_all = pd.read_csv('../../data/SiTunes/processed/features/essentia_features.csv')\n",
    "\n",
    "# drop Unnamed:0 column\n",
    "df_essentia_all = df_essentia_all[df_essentia_all.columns[1:]]\n",
    "\n",
    "display(df_essentia_all)\n",
    "print(df_essentia_all.shape)"
   ]
  },
  {
   "cell_type": "markdown",
   "metadata": {},
   "source": [
    "Extract features from clipped .wav (choruses)"
   ]
  },
  {
   "cell_type": "code",
   "execution_count": 8,
   "metadata": {},
   "outputs": [
    {
     "name": "stdout",
     "output_type": "stream",
     "text": [
      "['275', '507', '936', '739', '659', '117', '329', '315', '300', '499', '17', '843', '923', '937', '506', '289', '504', '510', '276', '706', '712', '699', '672', '114', '100', '465', '303', '471', '667', '673', '883', '897', '28', '868', '14', '707', '908', '934', '920', '273', '529', '924', '717', '878', '111', '677', '461', '312', '886', '104', '676', '689', '716', '925', '514', '266', '516', '264', '258', '13', '649', '517', '558', '216', '202', '955', '941', '996', '835', '148', '174', '411', '363', '439', '388', '613', '175', '149', '74', '820', '954', '565', '571', '598', '956', '759', '995', '76', '822', '62', '639', '89', '349', '375', '361', '360', '604', '638', '994', '957', '228', '204', '562', '576', '947', '984', '9', '67', '172', '600', '364', '629', '99', '826', '8', '761', '946', '239', '205', '588', '207', '987', '818', '58', '70', '603', '171', '367', '373', '429', '428', '414', '372', '158', '170', '602', '776', '945', '951', '789', '548', '206', '223', '974', '790', '784', '814', '6', '182', '97', '169', '627', '356', '342', '418', '395', '168', '752', '791', '975', '222', '544', '550', '578', '591', '208', '977', '793', '744', '5', '57', '43', '195', '156', '142', '397', '341', '427', '81', '619', '816', '786', '962', '209', '594', '796', '972', '741', '812', '52', '46', '635', '153', '621', '609', '85', '422', '344', '90', '634', '47', '807', '768', '754', '597', '795', '965', '742', '839', '144', '434', '409', '390', '384', '87', '192', '743', '757', '780', '541', '233', '555', '297', '283', '268', '532', '917', '863', '23', '37', '136', '491', '320', '309', '490', '876', '22', '862', '731', '719', '916', '269', '282', '243', '257', '900', '914', '727', '874', '20', '848', '109', '451', '493', '120', '652', '108', '875', '726', '915', '524', '518', '285', '520', '508', '905', '911', '736', '19', '332', '440', '468', '469', '327', '333', '24', '680', '723', '910', '245', '523', '279', '912', '709', '26', '872', '480', '325', '319', '442', '132', '126', '898', '873', '697', '720']\n"
     ]
    }
   ],
   "source": [
    "import os\n",
    "clipped_path = '../../data/SiTunes/wav_clipped'\n",
    "\n",
    "all_entries = os.listdir(clipped_path)\n",
    "song_ids_clipped = [f.replace('.wav', '') for f in all_entries if os.path.isfile(os.path.join(clipped_path, f))]\n",
    "\n",
    "\n",
    "print(song_ids_clipped)"
   ]
  },
  {
   "cell_type": "code",
   "execution_count": 9,
   "metadata": {},
   "outputs": [],
   "source": [
    "# Function to extract features for a song ID\n",
    "def extract_features(song_id):\n",
    "    print(f'Extracting features from song_id: {song_id}')\n",
    "    audio_file = f'{clipped_path}/{song_id}.wav'\n",
    "    features, _ = es.MusicExtractor()(audio_file)\n",
    "    feature_values = [features[name] for name in feature_names]\n",
    "    features_dict = {name: value for name, value in zip(feature_names, feature_values)}\n",
    "    return pd.json_normalize(features_dict)\n"
   ]
  },
  {
   "cell_type": "code",
   "execution_count": 12,
   "metadata": {},
   "outputs": [
    {
     "name": "stdout",
     "output_type": "stream",
     "text": [
      "Extracting features from song_id: 315\n",
      "Extracting features from song_id: 936\n",
      "Extracting features from song_id: 507\n",
      "Extracting features from song_id: 329\n",
      "Extracting features from song_id: 843\n",
      "Extracting features from song_id: 659\n",
      "Extracting features from song_id: 275\n",
      "Extracting features from song_id: 300\n",
      "Extracting features from song_id: 117\n",
      "Extracting features from song_id: 499\n",
      "Extracting features from song_id: 739\n",
      "Extracting features from song_id: 17\n"
     ]
    },
    {
     "name": "stderr",
     "output_type": "stream",
     "text": [
      "[   INFO   ] MusicExtractor: Read metadata\n",
      "[   INFO   ] MusicExtractor: Read metadata\n",
      "[   INFO   ] MusicExtractor: Compute md5 audio hash, codec, length, and EBU 128 loudness\n",
      "[   INFO   ] MusicExtractor: Read metadata\n",
      "[   INFO   ] MusicExtractor: Compute md5 audio hash, codec, length, and EBU 128 loudness\n",
      "[   INFO   ] MusicExtractor: Compute md5 audio hash, codec, length, and EBU 128 loudness\n",
      "[   INFO   ] MusicExtractor: Read metadata\n",
      "[   INFO   ] MusicExtractor: Compute md5 audio hash, codec, length, and EBU 128 loudness\n",
      "[   INFO   ] MusicExtractor: Read metadata\n",
      "[   INFO   ] MusicExtractor: Compute md5 audio hash, codec, length, and EBU 128 loudness\n",
      "[   INFO   ] MusicExtractor: Read metadata\n",
      "[   INFO   ] MusicExtractor: Compute md5 audio hash, codec, length, and EBU 128 loudness\n",
      "[   INFO   ] MusicExtractor: Read metadata\n",
      "[   INFO   ] MusicExtractor: Compute md5 audio hash, codec, length, and EBU 128 loudness\n",
      "[   INFO   ] MusicExtractor: Read metadata\n",
      "[   INFO   ] MusicExtractor: Compute md5 audio hash, codec, length, and EBU 128 loudness\n",
      "[   INFO   ] MusicExtractor: Read metadata\n",
      "[   INFO   ] MusicExtractor: Compute md5 audio hash, codec, length, and EBU 128 loudness\n",
      "[   INFO   ] MusicExtractor: Read metadata\n",
      "[   INFO   ] MusicExtractor: Compute md5 audio hash, codec, length, and EBU 128 loudness\n",
      "[   INFO   ] MusicExtractor: Read metadata\n",
      "[   INFO   ] MusicExtractor: Compute md5 audio hash, codec, length, and EBU 128 loudness\n",
      "[   INFO   ] MusicExtractor: Read metadata\n",
      "[   INFO   ] MusicExtractor: Compute md5 audio hash, codec, length, and EBU 128 loudness\n",
      "[   INFO   ] MusicExtractor: Replay gain\n",
      "[   INFO   ] MusicExtractor: Replay gain\n",
      "[   INFO   ] MusicExtractor: Replay gain\n",
      "[   INFO   ] MusicExtractor: Replay gain\n",
      "[   INFO   ] MusicExtractor: Replay gain\n",
      "[   INFO   ] MusicExtractor: Compute audio features\n",
      "[   INFO   ] MusicExtractor: Compute audio features\n",
      "[   INFO   ] MusicExtractor: Compute audio features\n",
      "[   INFO   ] MusicExtractor: Compute audio features\n",
      "[   INFO   ] MusicExtractor: Compute audio features\n",
      "[   INFO   ] MusicExtractor: Replay gain\n",
      "[   INFO   ] MusicExtractor: Replay gain\n",
      "[   INFO   ] MusicExtractor: Replay gain\n",
      "[   INFO   ] MusicExtractor: Replay gain\n",
      "[   INFO   ] MusicExtractor: Replay gain\n",
      "[   INFO   ] MusicExtractor: Replay gain\n",
      "[   INFO   ] MusicExtractor: Compute audio features\n",
      "[   INFO   ] MusicExtractor: Compute audio features\n",
      "[   INFO   ] MusicExtractor: Compute audio features\n",
      "[   INFO   ] MusicExtractor: Compute audio features\n",
      "[   INFO   ] MusicExtractor: Compute audio features\n",
      "[   INFO   ] MusicExtractor: Compute audio features\n",
      "[   INFO   ] MusicExtractor: Compute aggregation\n",
      "[   INFO   ] MusicExtractor: Compute aggregation\n",
      "[   INFO   ] MusicExtractor: Compute aggregation\n",
      "[   INFO   ] All done\n",
      "[   INFO   ] MusicExtractor: Compute aggregation\n",
      "[   INFO   ] All done\n",
      "[   INFO   ] All done\n",
      "[   INFO   ] MusicExtractor: Read metadata\n",
      "[   INFO   ] MusicExtractor: Compute md5 audio hash, codec, length, and EBU 128 loudness\n",
      "[   INFO   ] MusicExtractor: Read metadata\n",
      "[   INFO   ] MusicExtractor: Compute md5 audio hash, codec, length, and EBU 128 loudness\n"
     ]
    },
    {
     "name": "stdout",
     "output_type": "stream",
     "text": [
      "Extracting features from song_id: 923\n",
      "Extracting features from song_id: 937\n"
     ]
    },
    {
     "ename": "NameError",
     "evalue": "name 'feature_names' is not defined",
     "output_type": "error",
     "traceback": [
      "\u001b[0;31m---------------------------------------------------------------------------\u001b[0m",
      "\u001b[0;31m_RemoteTraceback\u001b[0m                          Traceback (most recent call last)",
      "\u001b[0;31m_RemoteTraceback\u001b[0m: \n\"\"\"\nTraceback (most recent call last):\n  File \"/Library/Frameworks/Python.framework/Versions/3.11/lib/python3.11/site-packages/joblib/externals/loky/process_executor.py\", line 463, in _process_worker\n    r = call_item()\n        ^^^^^^^^^^^\n  File \"/Library/Frameworks/Python.framework/Versions/3.11/lib/python3.11/site-packages/joblib/externals/loky/process_executor.py\", line 291, in __call__\n    return self.fn(*self.args, **self.kwargs)\n           ^^^^^^^^^^^^^^^^^^^^^^^^^^^^^^^^^^\n  File \"/Library/Frameworks/Python.framework/Versions/3.11/lib/python3.11/site-packages/joblib/parallel.py\", line 589, in __call__\n    return [func(*args, **kwargs)\n           ^^^^^^^^^^^^^^^^^^^^^^\n  File \"/Library/Frameworks/Python.framework/Versions/3.11/lib/python3.11/site-packages/joblib/parallel.py\", line 589, in <listcomp>\n    return [func(*args, **kwargs)\n            ^^^^^^^^^^^^^^^^^^^^^\n  File \"/var/folders/ft/gzvmkgdj727g157scc1xw9f80000gn/T/ipykernel_9550/44255932.py\", line 6, in extract_features\nNameError: name 'feature_names' is not defined\n\"\"\"",
      "\nThe above exception was the direct cause of the following exception:\n",
      "\u001b[0;31mNameError\u001b[0m                                 Traceback (most recent call last)",
      "Cell \u001b[0;32mIn[12], line 2\u001b[0m\n\u001b[1;32m      1\u001b[0m \u001b[38;5;66;03m# Parallelize feature extraction for all song IDs\u001b[39;00m\n\u001b[0;32m----> 2\u001b[0m dfs \u001b[38;5;241m=\u001b[39m \u001b[43mParallel\u001b[49m\u001b[43m(\u001b[49m\u001b[43mn_jobs\u001b[49m\u001b[38;5;241;43m=\u001b[39;49m\u001b[38;5;241;43m-\u001b[39;49m\u001b[38;5;241;43m1\u001b[39;49m\u001b[43m)\u001b[49m\u001b[43m(\u001b[49m\u001b[43mdelayed\u001b[49m\u001b[43m(\u001b[49m\u001b[43mextract_features\u001b[49m\u001b[43m)\u001b[49m\u001b[43m(\u001b[49m\u001b[43msong_id\u001b[49m\u001b[43m)\u001b[49m\u001b[43m \u001b[49m\u001b[38;5;28;43;01mfor\u001b[39;49;00m\u001b[43m \u001b[49m\u001b[43msong_id\u001b[49m\u001b[43m \u001b[49m\u001b[38;5;129;43;01min\u001b[39;49;00m\u001b[43m \u001b[49m\u001b[43msong_ids_clipped\u001b[49m\u001b[43m)\u001b[49m\n\u001b[1;32m      4\u001b[0m \u001b[38;5;66;03m# Concatenate the extracted DataFrames\u001b[39;00m\n\u001b[1;32m      5\u001b[0m df_essentia_all_clipped \u001b[38;5;241m=\u001b[39m pd\u001b[38;5;241m.\u001b[39mconcat(dfs, ignore_index\u001b[38;5;241m=\u001b[39m\u001b[38;5;28;01mTrue\u001b[39;00m)\n",
      "File \u001b[0;32m/Library/Frameworks/Python.framework/Versions/3.11/lib/python3.11/site-packages/joblib/parallel.py:1952\u001b[0m, in \u001b[0;36mParallel.__call__\u001b[0;34m(self, iterable)\u001b[0m\n\u001b[1;32m   1946\u001b[0m \u001b[38;5;66;03m# The first item from the output is blank, but it makes the interpreter\u001b[39;00m\n\u001b[1;32m   1947\u001b[0m \u001b[38;5;66;03m# progress until it enters the Try/Except block of the generator and\u001b[39;00m\n\u001b[1;32m   1948\u001b[0m \u001b[38;5;66;03m# reach the first `yield` statement. This starts the aynchronous\u001b[39;00m\n\u001b[1;32m   1949\u001b[0m \u001b[38;5;66;03m# dispatch of the tasks to the workers.\u001b[39;00m\n\u001b[1;32m   1950\u001b[0m \u001b[38;5;28mnext\u001b[39m(output)\n\u001b[0;32m-> 1952\u001b[0m \u001b[38;5;28;01mreturn\u001b[39;00m output \u001b[38;5;28;01mif\u001b[39;00m \u001b[38;5;28mself\u001b[39m\u001b[38;5;241m.\u001b[39mreturn_generator \u001b[38;5;28;01melse\u001b[39;00m \u001b[38;5;28;43mlist\u001b[39;49m\u001b[43m(\u001b[49m\u001b[43moutput\u001b[49m\u001b[43m)\u001b[49m\n",
      "File \u001b[0;32m/Library/Frameworks/Python.framework/Versions/3.11/lib/python3.11/site-packages/joblib/parallel.py:1595\u001b[0m, in \u001b[0;36mParallel._get_outputs\u001b[0;34m(self, iterator, pre_dispatch)\u001b[0m\n\u001b[1;32m   1592\u001b[0m     \u001b[38;5;28;01myield\u001b[39;00m\n\u001b[1;32m   1594\u001b[0m     \u001b[38;5;28;01mwith\u001b[39;00m \u001b[38;5;28mself\u001b[39m\u001b[38;5;241m.\u001b[39m_backend\u001b[38;5;241m.\u001b[39mretrieval_context():\n\u001b[0;32m-> 1595\u001b[0m         \u001b[38;5;28;01myield from\u001b[39;00m \u001b[38;5;28mself\u001b[39m\u001b[38;5;241m.\u001b[39m_retrieve()\n\u001b[1;32m   1597\u001b[0m \u001b[38;5;28;01mexcept\u001b[39;00m \u001b[38;5;167;01mGeneratorExit\u001b[39;00m:\n\u001b[1;32m   1598\u001b[0m     \u001b[38;5;66;03m# The generator has been garbage collected before being fully\u001b[39;00m\n\u001b[1;32m   1599\u001b[0m     \u001b[38;5;66;03m# consumed. This aborts the remaining tasks if possible and warn\u001b[39;00m\n\u001b[1;32m   1600\u001b[0m     \u001b[38;5;66;03m# the user if necessary.\u001b[39;00m\n\u001b[1;32m   1601\u001b[0m     \u001b[38;5;28mself\u001b[39m\u001b[38;5;241m.\u001b[39m_exception \u001b[38;5;241m=\u001b[39m \u001b[38;5;28;01mTrue\u001b[39;00m\n",
      "File \u001b[0;32m/Library/Frameworks/Python.framework/Versions/3.11/lib/python3.11/site-packages/joblib/parallel.py:1699\u001b[0m, in \u001b[0;36mParallel._retrieve\u001b[0;34m(self)\u001b[0m\n\u001b[1;32m   1692\u001b[0m \u001b[38;5;28;01mwhile\u001b[39;00m \u001b[38;5;28mself\u001b[39m\u001b[38;5;241m.\u001b[39m_wait_retrieval():\n\u001b[1;32m   1693\u001b[0m \n\u001b[1;32m   1694\u001b[0m     \u001b[38;5;66;03m# If the callback thread of a worker has signaled that its task\u001b[39;00m\n\u001b[1;32m   1695\u001b[0m     \u001b[38;5;66;03m# triggered an exception, or if the retrieval loop has raised an\u001b[39;00m\n\u001b[1;32m   1696\u001b[0m     \u001b[38;5;66;03m# exception (e.g. `GeneratorExit`), exit the loop and surface the\u001b[39;00m\n\u001b[1;32m   1697\u001b[0m     \u001b[38;5;66;03m# worker traceback.\u001b[39;00m\n\u001b[1;32m   1698\u001b[0m     \u001b[38;5;28;01mif\u001b[39;00m \u001b[38;5;28mself\u001b[39m\u001b[38;5;241m.\u001b[39m_aborting:\n\u001b[0;32m-> 1699\u001b[0m         \u001b[38;5;28;43mself\u001b[39;49m\u001b[38;5;241;43m.\u001b[39;49m\u001b[43m_raise_error_fast\u001b[49m\u001b[43m(\u001b[49m\u001b[43m)\u001b[49m\n\u001b[1;32m   1700\u001b[0m         \u001b[38;5;28;01mbreak\u001b[39;00m\n\u001b[1;32m   1702\u001b[0m     \u001b[38;5;66;03m# If the next job is not ready for retrieval yet, we just wait for\u001b[39;00m\n\u001b[1;32m   1703\u001b[0m     \u001b[38;5;66;03m# async callbacks to progress.\u001b[39;00m\n",
      "File \u001b[0;32m/Library/Frameworks/Python.framework/Versions/3.11/lib/python3.11/site-packages/joblib/parallel.py:1734\u001b[0m, in \u001b[0;36mParallel._raise_error_fast\u001b[0;34m(self)\u001b[0m\n\u001b[1;32m   1730\u001b[0m \u001b[38;5;66;03m# If this error job exists, immediatly raise the error by\u001b[39;00m\n\u001b[1;32m   1731\u001b[0m \u001b[38;5;66;03m# calling get_result. This job might not exists if abort has been\u001b[39;00m\n\u001b[1;32m   1732\u001b[0m \u001b[38;5;66;03m# called directly or if the generator is gc'ed.\u001b[39;00m\n\u001b[1;32m   1733\u001b[0m \u001b[38;5;28;01mif\u001b[39;00m error_job \u001b[38;5;129;01mis\u001b[39;00m \u001b[38;5;129;01mnot\u001b[39;00m \u001b[38;5;28;01mNone\u001b[39;00m:\n\u001b[0;32m-> 1734\u001b[0m     \u001b[43merror_job\u001b[49m\u001b[38;5;241;43m.\u001b[39;49m\u001b[43mget_result\u001b[49m\u001b[43m(\u001b[49m\u001b[38;5;28;43mself\u001b[39;49m\u001b[38;5;241;43m.\u001b[39;49m\u001b[43mtimeout\u001b[49m\u001b[43m)\u001b[49m\n",
      "File \u001b[0;32m/Library/Frameworks/Python.framework/Versions/3.11/lib/python3.11/site-packages/joblib/parallel.py:736\u001b[0m, in \u001b[0;36mBatchCompletionCallBack.get_result\u001b[0;34m(self, timeout)\u001b[0m\n\u001b[1;32m    730\u001b[0m backend \u001b[38;5;241m=\u001b[39m \u001b[38;5;28mself\u001b[39m\u001b[38;5;241m.\u001b[39mparallel\u001b[38;5;241m.\u001b[39m_backend\n\u001b[1;32m    732\u001b[0m \u001b[38;5;28;01mif\u001b[39;00m backend\u001b[38;5;241m.\u001b[39msupports_retrieve_callback:\n\u001b[1;32m    733\u001b[0m     \u001b[38;5;66;03m# We assume that the result has already been retrieved by the\u001b[39;00m\n\u001b[1;32m    734\u001b[0m     \u001b[38;5;66;03m# callback thread, and is stored internally. It's just waiting to\u001b[39;00m\n\u001b[1;32m    735\u001b[0m     \u001b[38;5;66;03m# be returned.\u001b[39;00m\n\u001b[0;32m--> 736\u001b[0m     \u001b[38;5;28;01mreturn\u001b[39;00m \u001b[38;5;28;43mself\u001b[39;49m\u001b[38;5;241;43m.\u001b[39;49m\u001b[43m_return_or_raise\u001b[49m\u001b[43m(\u001b[49m\u001b[43m)\u001b[49m\n\u001b[1;32m    738\u001b[0m \u001b[38;5;66;03m# For other backends, the main thread needs to run the retrieval step.\u001b[39;00m\n\u001b[1;32m    739\u001b[0m \u001b[38;5;28;01mtry\u001b[39;00m:\n",
      "File \u001b[0;32m/Library/Frameworks/Python.framework/Versions/3.11/lib/python3.11/site-packages/joblib/parallel.py:754\u001b[0m, in \u001b[0;36mBatchCompletionCallBack._return_or_raise\u001b[0;34m(self)\u001b[0m\n\u001b[1;32m    752\u001b[0m \u001b[38;5;28;01mtry\u001b[39;00m:\n\u001b[1;32m    753\u001b[0m     \u001b[38;5;28;01mif\u001b[39;00m \u001b[38;5;28mself\u001b[39m\u001b[38;5;241m.\u001b[39mstatus \u001b[38;5;241m==\u001b[39m TASK_ERROR:\n\u001b[0;32m--> 754\u001b[0m         \u001b[38;5;28;01mraise\u001b[39;00m \u001b[38;5;28mself\u001b[39m\u001b[38;5;241m.\u001b[39m_result\n\u001b[1;32m    755\u001b[0m     \u001b[38;5;28;01mreturn\u001b[39;00m \u001b[38;5;28mself\u001b[39m\u001b[38;5;241m.\u001b[39m_result\n\u001b[1;32m    756\u001b[0m \u001b[38;5;28;01mfinally\u001b[39;00m:\n",
      "\u001b[0;31mNameError\u001b[0m: name 'feature_names' is not defined"
     ]
    }
   ],
   "source": [
    "# Parallelize feature extraction for all song IDs\n",
    "dfs = Parallel(n_jobs=-1)(delayed(extract_features)(song_id) for song_id in song_ids_clipped)\n",
    "\n",
    "# Concatenate the extracted DataFrames\n",
    "df_essentia_all_clipped = pd.concat(dfs, ignore_index=True)\n",
    "\n",
    "# Add the 'song_id' column\n",
    "df_essentia_all_clipped.insert(0, 'song_id', song_ids_clipped)\n",
    "\n",
    "# Display the resulting DataFrame\n",
    "df_essentia_all_clipped"
   ]
  },
  {
   "cell_type": "code",
   "execution_count": null,
   "metadata": {},
   "outputs": [],
   "source": [
    "df_essentia_all_clipped.to_csv('../../data/SiTunes/processed/features/essentia_features_clipped.csv')"
   ]
  }
 ],
 "metadata": {
  "kernelspec": {
   "display_name": "Python 3",
   "language": "python",
   "name": "python3"
  },
  "language_info": {
   "codemirror_mode": {
    "name": "ipython",
    "version": 3
   },
   "file_extension": ".py",
   "mimetype": "text/x-python",
   "name": "python",
   "nbconvert_exporter": "python",
   "pygments_lexer": "ipython3",
   "version": "3.11.4"
  }
 },
 "nbformat": 4,
 "nbformat_minor": 2
}
